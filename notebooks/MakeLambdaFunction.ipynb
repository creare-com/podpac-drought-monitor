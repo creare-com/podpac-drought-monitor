{
 "cells": [
  {
   "cell_type": "code",
   "execution_count": 1,
   "metadata": {},
   "outputs": [],
   "source": [
    "import warnings\n",
    "warnings.filterwarnings('ignore')"
   ]
  },
  {
   "cell_type": "markdown",
   "metadata": {},
   "source": [
    "# Setting Up Lambda Function for Drought Monitor"
   ]
  },
  {
   "cell_type": "code",
   "execution_count": 2,
   "metadata": {},
   "outputs": [],
   "source": [
    "import podpac\n",
    "from podpac.managers import aws\n",
    "from podpac import settings\n",
    "# set logging to DEBUG to see build process\n",
    "import logging\n",
    "logger = logging.getLogger(\"podpac\")\n",
    "logger.setLevel(logging.DEBUG)"
   ]
  },
  {
   "cell_type": "markdown",
   "metadata": {},
   "source": [
    "Choose the function and bucket names"
   ]
  },
  {
   "cell_type": "code",
   "execution_count": 3,
   "metadata": {},
   "outputs": [],
   "source": [
    "settings[\"FUNCTION_NAME\"] = \"podpac-drought-monitor-lambda\"\n",
    "settings[\"S3_BUCKET_NAME\"] = \"podpac-drought-monitor-s3\"\n",
    "settings[\"FUNCTION_ROLE_NAME\"] = \"podpac-drought-monitor-role\""
   ]
  },
  {
   "cell_type": "markdown",
   "metadata": {},
   "source": [
    "Load the pipelines"
   ]
  },
  {
   "cell_type": "code",
   "execution_count": 4,
   "metadata": {},
   "outputs": [
    {
     "data": {
      "text/plain": [
       "'4dffa6ef249bc8f74d9c5abbf043987f'"
      ]
     },
     "execution_count": 4,
     "metadata": {},
     "output_type": "execute_result"
    }
   ],
   "source": [
    "d0 = podpac.Node.from_json(open('pipeline_d0.json').read())\n",
    "d1 = podpac.Node.from_json(open('pipeline_d1.json').read())\n",
    "d2 = podpac.Node.from_json(open('pipeline_d2.json').read())\n",
    "d3 = podpac.Node.from_json(open('pipeline_d3.json').read())\n",
    "d4 = podpac.Node.from_json(open('pipeline_d4.json').read())\n",
    "alg = podpac.Node.from_json(open('pipeline_category.json').read())\n",
    "smap = podpac.Node.from_json(open('pipeline_moisture.json').read())\n",
    "sin_coords_node = podpac.algorithm.SinCoords()\n",
    "smap.hash"
   ]
  },
  {
   "cell_type": "code",
   "execution_count": 5,
   "metadata": {},
   "outputs": [
    {
     "data": {
      "text/plain": [
       "['358f98a50ac7ef7616ecc3381317e00c',\n",
       " '79852ffdf269a6499a1a7fa33bc06669',\n",
       " 'c33218e76bc022d2db906f438491eca7',\n",
       " '414ef097cd8f7a0ee065f6c68704d109',\n",
       " '87e15d5ee882b7a0e9c73863ca2f9a06',\n",
       " '522f0c3724452665287b2871c6374643',\n",
       " '4dffa6ef249bc8f74d9c5abbf043987f',\n",
       " '1829589ba2c91ae529486b5b97f66e2f']"
      ]
     },
     "execution_count": 5,
     "metadata": {},
     "output_type": "execute_result"
    }
   ],
   "source": [
    "# Find hashes for functions to restrict capabilities on public Lambda function\n",
    "hashs = [d0.hash, d1.hash, d2.hash, d3.hash, d4.hash, alg.hash, smap.hash, sin_coords_node.hash]\n",
    "hashs"
   ]
  },
  {
   "cell_type": "markdown",
   "metadata": {},
   "source": [
    "Make the Lambda function"
   ]
  },
  {
   "cell_type": "code",
   "execution_count": 6,
   "metadata": {},
   "outputs": [
    {
     "name": "stdout",
     "output_type": "stream",
     "text": [
      "\n",
      "Lambda Node (staged)\n",
      "    Function\n",
      "        Name: podpac-drought-monitor-lambda\n",
      "        Description: PODPAC Lambda Function (https://podpac.org)\n",
      "        ARN: None\n",
      "        Triggers: ['eval', 'APIGateway']\n",
      "        Handler: handler.handler\n",
      "        Environment Variables: {'S3_BUCKET_NAME': 'podpac-drought-monitor-s3', 'PODPAC_VERSION': '1.2.0'}\n",
      "        Timeout: 600 seconds\n",
      "        Memory: 2048 MB\n",
      "        Tags: {'owner': 'mpu', 'acct': '1010115.01.003'}\n",
      "        Source Dist: s3://podpac-drought-monitor-s3/podpac_dist.zip\n",
      "        Source Dependencies: s3://podpac-drought-monitor-s3/dev/podpac_deps.zip\n",
      "        Last Modified: None\n",
      "        Version: None\n",
      "        Restrict Evaluation: ['358f98a50ac7ef7616ecc3381317e00c', '79852ffdf269a6499a1a7fa33bc06669', 'c33218e76bc022d2db906f438491eca7', '414ef097cd8f7a0ee065f6c68704d109', '87e15d5ee882b7a0e9c73863ca2f9a06', '522f0c3724452665287b2871c6374643', '4dffa6ef249bc8f74d9c5abbf043987f', '1829589ba2c91ae529486b5b97f66e2f']\n",
      "\n",
      "    S3\n",
      "        Bucket: podpac-drought-monitor-s3\n",
      "        Tags: {'owner': 'mpu', 'acct': '1010115.01.003'}\n",
      "        Input Folder: input/\n",
      "        Output Folder: output/\n",
      "\n",
      "    Role\n",
      "        Name: podpac-drought-monitor-role\n",
      "        Description: PODPAC Lambda Role\n",
      "        ARN: None\n",
      "        Policy Document: {'Version': '2012-10-17', 'Statement': [{'Effect': 'Allow', 'Action': ['s3:PutObject', 's3:GetObject', 's3:DeleteObject', 's3:ReplicateObject', 's3:ListBucket', 's3:ListMultipartUploadParts', 's3:ListBucketByTags', 's3:GetBucketTagging', 's3:ListBucketVersions', 's3:AbortMultipartUpload', 's3:GetObjectTagging', 's3:ListBucketMultipartUploads', 's3:GetBucketLocation', 's3:GetObjectVersion'], 'Resource': ['arn:aws:s3:::podpac-drought-monitor-s3/*']}]}\n",
      "        Policy ARNs: ['arn:aws:iam::aws:policy/service-role/AWSLambdaBasicExecutionRole']\n",
      "        Assume Policy Document: {'Version': '2012-10-17', 'Statement': [{'Effect': 'Allow', 'Principal': {'Service': 'lambda.amazonaws.com'}, 'Action': 'sts:AssumeRole'}]}\n",
      "        Tags: {'owner': 'mpu', 'acct': '1010115.01.003'}\n",
      "\n",
      "        \n",
      "        \n"
     ]
    }
   ],
   "source": [
    "# make lambda node that is restricted only to this node\n",
    "node = aws.Lambda(function_restrict_pipelines=hashs, \n",
    "                  function_allow_unsafe_eval=True, \n",
    "                  function_tags={'owner': 'mpu',\n",
    "                                 'acct': '1010115.01.003'}, \n",
    "                 function_source_bucket=settings[\"S3_BUCKET_NAME\"],\n",
    "                 function_source_dist_key='podpac_dist.zip',\n",
    "                 function_triggers=['eval', 'APIGateway'],\n",
    "                 function_env_variables={\"S3_BUCKET_NAME\": settings[\"S3_BUCKET_NAME\"],\n",
    "                                         \"PODPAC_VERSION\": podpac.version.semver()\n",
    "                                        }                  \n",
    "                 )\n",
    "node.describe()"
   ]
  },
  {
   "cell_type": "code",
   "execution_count": null,
   "metadata": {},
   "outputs": [],
   "source": [
    "node.build()"
   ]
  },
  {
   "cell_type": "code",
   "execution_count": 38,
   "metadata": {},
   "outputs": [
    {
     "name": "stderr",
     "output_type": "stream",
     "text": [
      "DEBUG:podpac.core.managers.aws:Getting lambda function podpac-drought-monitor-lambda\n",
      "DEBUG:podpac.core.managers.aws:Getting lambda function podpac-drought-monitor-lambda\n",
      "DEBUG:podpac.core.managers.aws:Removing lambda function 'podpac-drought-monitor-lambda'\n",
      "DEBUG:podpac.core.managers.aws:Removed lambda function 'podpac-drought-monitor-lambda'\n",
      "DEBUG:podpac.core.managers.aws:Getting API Gateway with name podpac-drought-monitor-lambda-api\n",
      "DEBUG:podpac.core.managers.aws:Getting API Gateway with name podpac-drought-monitor-lambda-api\n",
      "DEBUG:podpac.core.managers.aws:Removing API Gateway with ID nhp89bhtr4\n",
      "DEBUG:podpac.core.managers.aws:Successfully removed API Gateway with ID nhp89bhtr4\n",
      "DEBUG:podpac.core.managers.aws:Getting IAM role with name podpac-drought-monitor-role\n",
      "DEBUG:podpac.core.managers.aws:Getting lambda function podpac-drought-monitor-lambda\n",
      "DEBUG:podpac.core.managers.aws:Failed to get lambda function podpac-drought-monitor-lambda with exception: An error occurred (ResourceNotFoundException) when calling the GetFunction operation: Function not found: arn:aws:lambda:us-east-1:120507435541:function:podpac-drought-monitor-lambda\n",
      "DEBUG:podpac.core.managers.aws:Getting API Gateway with name podpac-drought-monitor-lambda-api\n",
      "DEBUG:podpac.core.managers.aws:Getting S3 bucket podpac-drought-monitor-s3\n",
      "ERROR:podpac.core.managers.aws:Failed to validate function\n",
      "INFO:podpac.core.managers.aws:Lambda function will allow unsafe evaluation of Nodes with the current settings\n",
      "INFO:podpac.core.managers.aws:Lambda function will only run for pipelines: ['c7802918e0fb54a61f06300d982d564d', 'd7030e916978c8b7275e5523367c376b', '2379cfe8db1e363988ef260b9b91f910', '8afb8e1f25f0c19542295d32c8a050eb', 'a17c9a9ca6ae06cb588b0f1d71e5f58f', 'bb058070e4d3a2c99058dc54835b8709', '4a2da9f5547151263c3b51a3dfcdc510', '1829589ba2c91ae529486b5b97f66e2f']\n",
      "DEBUG:podpac.core.managers.aws:Getting lambda function podpac-drought-monitor-lambda\n",
      "DEBUG:podpac.core.managers.aws:Failed to get lambda function podpac-drought-monitor-lambda with exception: An error occurred (ResourceNotFoundException) when calling the GetFunction operation: Function not found: arn:aws:lambda:us-east-1:120507435541:function:podpac-drought-monitor-lambda\n",
      "DEBUG:podpac.core.managers.aws:Creating lambda function podpac-drought-monitor-lambda\n",
      "DEBUG:podpac.core.managers.aws:Getting lambda function podpac-drought-monitor-lambda\n",
      "DEBUG:podpac.core.managers.aws:Successfully created lambda function 'podpac-drought-monitor-lambda'\n",
      "DEBUG:podpac.core.managers.aws:Getting API Gateway with name podpac-drought-monitor-lambda-api\n",
      "DEBUG:podpac.core.managers.aws:Creating API gateway with name podpac-drought-monitor-lambda-api\n",
      "DEBUG:podpac.core.managers.aws:Creating API endpoint eval for API ID ps1dfpoecf\n",
      "DEBUG:podpac.core.managers.aws:Deploying API Gateway with ID ps1dfpoecf and stage prod\n",
      "DEBUG:podpac.core.managers.aws:Deployed API Gateway with ID ps1dfpoecf and stage prod\n",
      "DEBUG:podpac.core.managers.aws:Getting S3 bucket podpac-drought-monitor-s3\n",
      "DEBUG:podpac.core.managers.aws:S3 bucket 'podpac-drought-monitor-s3' already exists. Using existing bucket.\n",
      "DEBUG:podpac.core.managers.aws:Skipping S3 trigger because 'S3' not in the function triggers\n",
      "DEBUG:podpac.core.managers.aws:Getting IAM role with name podpac-drought-monitor-role\n",
      "DEBUG:podpac.core.managers.aws:Getting lambda function podpac-drought-monitor-lambda\n",
      "DEBUG:podpac.core.managers.aws:Getting API Gateway with name podpac-drought-monitor-lambda-api\n",
      "DEBUG:podpac.core.managers.aws:Getting S3 bucket podpac-drought-monitor-s3\n",
      "INFO:podpac.core.managers.aws:Successfully built AWS resources to support function podpac-drought-monitor-lambda\n"
     ]
    },
    {
     "name": "stdout",
     "output_type": "stream",
     "text": [
      "\n",
      "Lambda Node (built)\n",
      "    Function\n",
      "        Name: podpac-drought-monitor-lambda\n",
      "        Description: PODPAC Lambda Function (https://podpac.org)\n",
      "        ARN: arn:aws:lambda:us-east-1:120507435541:function:podpac-drought-monitor-lambda\n",
      "        Triggers: ['eval', 'APIGateway']\n",
      "        Handler: handler.handler\n",
      "        Environment Variables: {'PODPAC_UNSAFE_EVAL': 'b754a7523c574ec0b88c9c831a4e5ffb', 'PODPAC_VERSION': '1.2.0', 'S3_BUCKET_NAME': 'podpac-drought-monitor-s3', 'PODPAC_RESTRICT_PIPELINES': '[\"c7802918e0fb54a61f06300d982d564d\", \"d7030e916978c8b7275e5523367c376b\", \"2379cfe8db1e363988ef260b9b91f910\", \"8afb8e1f25f0c19542295d32c8a050eb\", \"a17c9a9ca6ae06cb588b0f1d71e5f58f\", \"bb058070e4d3a2c99058dc54835b8709\", \"4a2da9f5547151263c3b51a3dfcdc510\", \"1829589ba2c91ae529486b5b97f66e2f\"]'}\n",
      "        Timeout: 600 seconds\n",
      "        Memory: 2048 MB\n",
      "        Tags: {'acct': '1010115.01.003', 'owner': 'mpu'}\n",
      "        Source Dist: ai8su7qhm0attCffMmAkZn7+6LcFOrnxh3ItxWpUkhQ=\n",
      "        Source Dependencies: s3://podpac-drought-monitor-s3/podpac_deps_1.2.0.zip\n",
      "        Last Modified: 2019-11-29T22:25:45.450+0000\n",
      "        Version: $LATEST\n",
      "        Restrict Evaluation: ['c7802918e0fb54a61f06300d982d564d', 'd7030e916978c8b7275e5523367c376b', '2379cfe8db1e363988ef260b9b91f910', '8afb8e1f25f0c19542295d32c8a050eb', 'a17c9a9ca6ae06cb588b0f1d71e5f58f', 'bb058070e4d3a2c99058dc54835b8709', '4a2da9f5547151263c3b51a3dfcdc510', '1829589ba2c91ae529486b5b97f66e2f']\n",
      "\n",
      "    S3\n",
      "        Bucket: podpac-drought-monitor-s3\n",
      "        Tags: {'owner': 'mpu', 'acct': '1010115.01.003'}\n",
      "        Input Folder: input/\n",
      "        Output Folder: output/\n",
      "\n",
      "    Role\n",
      "        Name: podpac-drought-monitor-role\n",
      "        Description: PODPAC Lambda Role\n",
      "        ARN: arn:aws:iam::120507435541:role/podpac-drought-monitor-role\n",
      "        Policy Document: {'Version': '2012-10-17', 'Statement': [{'Effect': 'Allow', 'Action': ['s3:PutObject', 's3:GetObject', 's3:DeleteObject', 's3:ReplicateObject', 's3:ListBucket', 's3:ListMultipartUploadParts', 's3:ListBucketByTags', 's3:GetBucketTagging', 's3:ListBucketVersions', 's3:AbortMultipartUpload', 's3:GetObjectTagging', 's3:ListBucketMultipartUploads', 's3:GetBucketLocation', 's3:GetObjectVersion'], 'Resource': ['arn:aws:s3:::podpac-drought-monitor-s3/*']}]}\n",
      "        Policy ARNs: ['arn:aws:iam::aws:policy/service-role/AWSLambdaBasicExecutionRole', 'arn:aws:iam::120507435541:policy/lambdaInvokeFunctionCognito']\n",
      "        Assume Policy Document: {'Version': '2012-10-17', 'Statement': [{'Effect': 'Allow', 'Principal': {'Service': 'lambda.amazonaws.com'}, 'Action': 'sts:AssumeRole'}]}\n",
      "        Tags: {'owner': 'mpu', 'acct': '1010115.01.003'}\n",
      "\n",
      "        \n",
      "    API\n",
      "        Name: podpac-drought-monitor-lambda-api\n",
      "        Description: PODPAC Lambda REST API for podpac-drought-monitor-lambda function\n",
      "        ID: ps1dfpoecf\n",
      "        Resource ID: 56n6mh\n",
      "        Version: 1.2.0\n",
      "        Tags: {'acct': '1010115.01.003', 'owner': 'mpu'}\n",
      "        Stage: prod\n",
      "        Endpoint: eval\n",
      "        URL: https://ps1dfpoecf.execute-api.us-east-1.amazonaws.com/prod/eval\n",
      "            \n",
      "        \n"
     ]
    }
   ],
   "source": [
    "node.delete_function()\n",
    "node.delete_api()\n",
    "node.build()\n",
    "node.describe()"
   ]
  },
  {
   "cell_type": "code",
   "execution_count": 15,
   "metadata": {},
   "outputs": [
    {
     "name": "stderr",
     "output_type": "stream",
     "text": [
      "DEBUG:podpac.core.managers.aws:Evaluating pipeline via invoke\n",
      "DEBUG:podpac.core.managers.aws:Received response from lambda function\n"
     ]
    },
    {
     "data": {
      "image/png": "[encoded data removed]",
      "text/plain": [
       "<Figure size 432x288 with 2 Axes>"
      ]
     },
     "metadata": {
      "needs_background": "light"
     },
     "output_type": "display_data"
    }
   ],
   "source": [
    "coordinates = podpac.Coordinates([podpac.clinspace(0, 90, 180), podpac.clinspace(-120,-50, 180), '2019-11-13'], ['lat', 'lon', 'time'])\n",
    "\n",
    "# this will work\n",
    "node = aws.Lambda(source=smap, eval_settings=eval_settings)\n",
    "output = node.eval(coordinates)\n",
    "output.plot()\n",
    "pass"
   ]
  },
  {
   "cell_type": "code",
   "execution_count": 44,
   "metadata": {},
   "outputs": [],
   "source": [
    "settings[\"FUNCTION_NAME\"] = \"podpac-drought-monitor-lambda-smap-updater\"\n",
    "settings[\"S3_BUCKET_NAME\"] = \"podpac-drought-monitor-s3\"\n",
    "settings[\"FUNCTION_ROLE_NAME\"] = \"podpac-drought-monitor-role\""
   ]
  },
  {
   "cell_type": "markdown",
   "metadata": {},
   "source": [
    "Load the pipelines"
   ]
  },
  {
   "cell_type": "markdown",
   "metadata": {},
   "source": [
    "Make the Lambda function"
   ]
  },
  {
   "cell_type": "code",
   "execution_count": 45,
   "metadata": {},
   "outputs": [
    {
     "name": "stdout",
     "output_type": "stream",
     "text": [
      "\n",
      "Lambda Node (staged)\n",
      "    Function\n",
      "        Name: podpac-drought-monitor-lambda-smap-updater\n",
      "        Description: PODPAC Lambda Function (https://podpac.org)\n",
      "        ARN: None\n",
      "        Triggers: ['eval']\n",
      "        Handler: handler.handler\n",
      "        Environment Variables: {'S3_BUCKET_NAME': 'podpac-drought-monitor-s3', 'PODPAC_VERSION': '1.2.0'}\n",
      "        Timeout: 600 seconds\n",
      "        Memory: 2048 MB\n",
      "        Tags: {'owner': 'mpu', 'acct': '1010115.01.003'}\n",
      "        Source Dist: s3://podpac-drought-monitor-s3/podpac-dm-smap-updater_dist.zip\n",
      "        Source Dependencies: s3://podpac-drought-monitor-s3/dev/podpac_deps.zip\n",
      "        Last Modified: None\n",
      "        Version: None\n",
      "        Restrict Evaluation: []\n",
      "\n",
      "    S3\n",
      "        Bucket: podpac-drought-monitor-s3\n",
      "        Tags: {'owner': 'mpu', 'acct': '1010115.01.003'}\n",
      "        Input Folder: input/\n",
      "        Output Folder: output/\n",
      "\n",
      "    Role\n",
      "        Name: podpac-drought-monitor-role\n",
      "        Description: PODPAC Lambda Role\n",
      "        ARN: None\n",
      "        Policy Document: {'Version': '2012-10-17', 'Statement': [{'Effect': 'Allow', 'Action': ['s3:PutObject', 's3:GetObject', 's3:DeleteObject', 's3:ReplicateObject', 's3:ListBucket', 's3:ListMultipartUploadParts', 's3:ListBucketByTags', 's3:GetBucketTagging', 's3:ListBucketVersions', 's3:AbortMultipartUpload', 's3:GetObjectTagging', 's3:ListBucketMultipartUploads', 's3:GetBucketLocation', 's3:GetObjectVersion'], 'Resource': ['arn:aws:s3:::podpac-drought-monitor-s3/*']}]}\n",
      "        Policy ARNs: ['arn:aws:iam::aws:policy/service-role/AWSLambdaBasicExecutionRole']\n",
      "        Assume Policy Document: {'Version': '2012-10-17', 'Statement': [{'Effect': 'Allow', 'Principal': {'Service': 'lambda.amazonaws.com'}, 'Action': 'sts:AssumeRole'}]}\n",
      "        Tags: {'owner': 'mpu', 'acct': '1010115.01.003'}\n",
      "\n",
      "        \n",
      "        \n"
     ]
    }
   ],
   "source": [
    "# make lambda node that is restricted only to this node\n",
    "updater_node = aws.Lambda(function_tags={'owner': 'mpu',\n",
    "                                 'acct': '1010115.01.003'}, \n",
    "                 function_source_bucket=settings[\"S3_BUCKET_NAME\"],\n",
    "                 function_source_dist_key='podpac-dm-smap-updater_dist.zip',\n",
    "                 function_env_variables={\"S3_BUCKET_NAME\": settings[\"S3_BUCKET_NAME\"],\n",
    "                                         \"PODPAC_VERSION\": podpac.version.semver()\n",
    "                                        }                  \n",
    "                 )\n",
    "updater_node.describe()"
   ]
  },
  {
   "cell_type": "code",
   "execution_count": 49,
   "metadata": {},
   "outputs": [
    {
     "name": "stderr",
     "output_type": "stream",
     "text": [
      "DEBUG:podpac.core.managers.aws:Getting lambda function podpac-drought-monitor-lambda-smap-updater\n",
      "DEBUG:podpac.core.managers.aws:Getting lambda function podpac-drought-monitor-lambda-smap-updater\n",
      "DEBUG:podpac.core.managers.aws:Removing lambda function 'podpac-drought-monitor-lambda-smap-updater'\n",
      "DEBUG:podpac.core.managers.aws:Removed lambda function 'podpac-drought-monitor-lambda-smap-updater'\n",
      "DEBUG:podpac.core.managers.aws:Getting IAM role with name podpac-drought-monitor-role\n",
      "DEBUG:podpac.core.managers.aws:Getting lambda function podpac-drought-monitor-lambda-smap-updater\n",
      "DEBUG:podpac.core.managers.aws:Failed to get lambda function podpac-drought-monitor-lambda-smap-updater with exception: An error occurred (ResourceNotFoundException) when calling the GetFunction operation: Function not found: arn:aws:lambda:us-east-1:120507435541:function:podpac-drought-monitor-lambda-smap-updater\n",
      "DEBUG:podpac.core.managers.aws:Skipping API get because 'APIGateway' not in the function triggers\n",
      "DEBUG:podpac.core.managers.aws:Getting S3 bucket podpac-drought-monitor-s3\n",
      "ERROR:podpac.core.managers.aws:Failed to validate function\n",
      "DEBUG:podpac.core.managers.aws:Getting lambda function podpac-drought-monitor-lambda-smap-updater\n",
      "DEBUG:podpac.core.managers.aws:Failed to get lambda function podpac-drought-monitor-lambda-smap-updater with exception: An error occurred (ResourceNotFoundException) when calling the GetFunction operation: Function not found: arn:aws:lambda:us-east-1:120507435541:function:podpac-drought-monitor-lambda-smap-updater\n",
      "DEBUG:podpac.core.managers.aws:Creating lambda function podpac-drought-monitor-lambda-smap-updater\n",
      "DEBUG:podpac.core.managers.aws:Getting lambda function podpac-drought-monitor-lambda-smap-updater\n",
      "DEBUG:podpac.core.managers.aws:Successfully created lambda function 'podpac-drought-monitor-lambda-smap-updater'\n",
      "DEBUG:podpac.core.managers.aws:Skipping API creation because 'APIGateway' not in the function triggers\n",
      "DEBUG:podpac.core.managers.aws:Getting S3 bucket podpac-drought-monitor-s3\n",
      "DEBUG:podpac.core.managers.aws:S3 bucket 'podpac-drought-monitor-s3' already exists. Using existing bucket.\n",
      "DEBUG:podpac.core.managers.aws:Skipping S3 trigger because 'S3' not in the function triggers\n",
      "DEBUG:podpac.core.managers.aws:Getting IAM role with name podpac-drought-monitor-role\n",
      "DEBUG:podpac.core.managers.aws:Getting lambda function podpac-drought-monitor-lambda-smap-updater\n",
      "DEBUG:podpac.core.managers.aws:Skipping API get because 'APIGateway' not in the function triggers\n",
      "DEBUG:podpac.core.managers.aws:Getting S3 bucket podpac-drought-monitor-s3\n",
      "DEBUG:podpac.core.managers.aws:Skipping API validation because 'APIGateway' not in the function triggers\n",
      "INFO:podpac.core.managers.aws:Successfully built AWS resources to support function podpac-drought-monitor-lambda-smap-updater\n"
     ]
    }
   ],
   "source": [
    "updater_node.delete_function()\n",
    "updater_node.build()"
   ]
  },
  {
   "cell_type": "code",
   "execution_count": 50,
   "metadata": {},
   "outputs": [
    {
     "data": {
      "text/plain": [
       "2"
      ]
     },
     "execution_count": 50,
     "metadata": {},
     "output_type": "execute_result"
    }
   ],
   "source": [
    "1+1"
   ]
  }
 ],
 "metadata": {
  "kernelspec": {
   "display_name": "Python [conda env:podpac] *",
   "language": "python",
   "name": "conda-env-podpac-py"
  },
  "language_info": {
   "codemirror_mode": {
    "name": "ipython",
    "version": 3
   },
   "file_extension": ".py",
   "mimetype": "text/x-python",
   "name": "python",
   "nbconvert_exporter": "python",
   "pygments_lexer": "ipython3",
   "version": "3.7.3"
  }
 },
 "nbformat": 4,
 "nbformat_minor": 4
}
