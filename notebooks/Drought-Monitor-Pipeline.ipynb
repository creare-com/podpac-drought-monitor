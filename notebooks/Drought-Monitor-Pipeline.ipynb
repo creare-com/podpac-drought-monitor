{
 "cells": [
  {
   "cell_type": "code",
   "execution_count": 1,
   "metadata": {},
   "outputs": [
    {
     "name": "stdout",
     "output_type": "stream",
     "text": [
      "Populating the interactive namespace from numpy and matplotlib\n"
     ]
    }
   ],
   "source": [
    "%pylab inline"
   ]
  },
  {
   "cell_type": "code",
   "execution_count": 2,
   "metadata": {},
   "outputs": [
    {
     "name": "stderr",
     "output_type": "stream",
     "text": [
      "INFO:botocore.credentials:Found credentials in shared credentials file: ~/.aws/credentials\n"
     ]
    }
   ],
   "source": [
    "import podpac\n",
    "from podpac.datalib.smap_egi import SMAP\n",
    "from podpac.datalib.drought_monitor import DroughtMonitorCategory\n",
    "from podpac.algorithm import YearSubstituteCoordinates, Arithmetic"
   ]
  },
  {
   "cell_type": "code",
   "execution_count": 3,
   "metadata": {},
   "outputs": [],
   "source": [
    "# Get the categories\n",
    "bucket = \"podpac-internal-test\"\n",
    "store = \"drought_parameters.zarr\"\n",
    "source = 's3://%s/%s' % (bucket, store)\n",
    "year = '2018'\n",
    "d0 = YearSubstituteCoordinates(source=DroughtMonitorCategory(datakey='d0', source=source), year=year, substitute_eval_coords=True)\n",
    "d1 = YearSubstituteCoordinates(source=DroughtMonitorCategory(datakey='d1', source=source), year=year, substitute_eval_coords=True)\n",
    "d2 = YearSubstituteCoordinates(source=DroughtMonitorCategory(datakey='d2', source=source), year=year, substitute_eval_coords=True)\n",
    "d3 = YearSubstituteCoordinates(source=DroughtMonitorCategory(datakey='d3', source=source), year=year, substitute_eval_coords=True)\n",
    "d4 = YearSubstituteCoordinates(source=DroughtMonitorCategory(datakey='d4', source=source), year=year, substitute_eval_coords=True)\n",
    "# print(d0.json_pretty)"
   ]
  },
  {
   "cell_type": "code",
   "execution_count": 4,
   "metadata": {},
   "outputs": [],
   "source": [
    "# Get the smap data, composited\n",
    "smap_e_am = SMAP(product='SPL3SMP_E_AM')\n",
    "smap_e_pm = SMAP(product='SPL3SMP_E_PM')\n",
    "smap_l4 = SMAP(product='SPL4SMAU')\n",
    "smap = podpac.compositor.OrderedCompositor(sources=[smap_e_am, smap_e_pm, smap_l4][::-1], source='SMAP L3 / L4')\n",
    "# print (smap.json_pretty)"
   ]
  },
  {
   "cell_type": "code",
   "execution_count": 5,
   "metadata": {},
   "outputs": [],
   "source": [
    "# Create the drought Categorization algorithm\n",
    "alg = Arithmetic(A=d0, B=d1, C=d2, D=d3, E=d4, F=smap, params={'dn': 0.5, 'd5': 0},\n",
    "                eqn=('(F > {d5}) * (F < E) * ((F - {d5}) / (E - {d5}) + 0) + '\n",
    "                     '(F > E) * (F < D) * ((F - E) / (D - E) + 1) + '\n",
    "                     '(F > D) * (F < C) * ((F - D) / (C - D) + 2) + '\n",
    "                     '(F > C) * (F < B) * ((F - C) / (B - C) + 3) + '\n",
    "                     '(F > B) * (F < A) * ((F - B) / (A - B) + 4) + '\n",
    "                     '(F > A) * (F < {dn}) * ((F - A) / ({dn} - A) + 5)'\n",
    "                    )\n",
    "                )\n",
    "# print(alg.json_pretty)  # This is what we send the webconsole"
   ]
  },
  {
   "cell_type": "code",
   "execution_count": 6,
   "metadata": {},
   "outputs": [
    {
     "name": "stderr",
     "output_type": "stream",
     "text": [
      "WARNING:podpac.datalib.egi:No data returned from file: 142675745/SMAP_L3_SM_P_E_20180501_R16020_001_HEGOUT.h5\n",
      "WARNING:podpac.datalib.egi:No data returned from file: 142676913/SMAP_L3_SM_P_E_20180504_R16020_001_HEGOUT.h5\n",
      "WARNING:podpac.datalib.egi:No data returned from file: 142676211/SMAP_L3_SM_P_E_20180506_R16020_001_HEGOUT.h5\n",
      "WARNING:podpac.datalib.egi:No data returned from file: 142682647/SMAP_L3_SM_P_E_20180507_R16020_001_HEGOUT.h5\n",
      "WARNING:podpac.datalib.egi:No data returned from file: 142682685/SMAP_L3_SM_P_E_20180509_R16020_001_HEGOUT.h5\n",
      "WARNING:podpac.datalib.egi:No data returned from file: 142676913/SMAP_L3_SM_P_E_20180504_R16020_001_HEGOUT.h5\n",
      "WARNING:podpac.datalib.egi:No data returned from file: 142675745/SMAP_L3_SM_P_E_20180501_R16020_001_HEGOUT.h5\n",
      "WARNING:podpac.datalib.egi:No data returned from file: 142676211/SMAP_L3_SM_P_E_20180506_R16020_001_HEGOUT.h5\n",
      "WARNING:podpac.datalib.egi:No data returned from file: 142682647/SMAP_L3_SM_P_E_20180507_R16020_001_HEGOUT.h5\n",
      "WARNING:podpac.datalib.egi:No data returned from file: 142682685/SMAP_L3_SM_P_E_20180509_R16020_001_HEGOUT.h5\n"
     ]
    }
   ],
   "source": [
    "# Test it for a set of coordinates\n",
    "coords = podpac.Coordinates([43, -72, podpac.crange('2018-05-01', '2018-07-01', '3,D')], ['lat', 'lon', 'time'])\n",
    "o = alg.eval(coords)"
   ]
  },
  {
   "cell_type": "code",
   "execution_count": 8,
   "metadata": {},
   "outputs": [
    {
     "data": {
      "text/plain": [
       "<xarray.UnitsDataArray (lat: 1, lon: 1, time: 21)>\n",
       "array([[[1.609822, 1.191819, 1.191819, 1.191819, 1.191819, 1.191819,\n",
       "         0.934769, 0.934769, 0.934769, 0.934769, 0.934769, 0.934769,\n",
       "         0.934769, 0.934769, 0.934769, 0.934769, 0.931374, 0.931374,\n",
       "         0.931374, 0.931374, 0.931374]]])\n",
       "Coordinates:\n",
       "  * lat      (lat) float64 43.0\n",
       "  * lon      (lon) float64 -72.0\n",
       "  * time     (time) datetime64[ns] 2018-05-01 2018-05-04 ... 2018-06-30\n",
       "Attributes:\n",
       "    layer_style:  <podpac.core.style.Style object at 0x000001FF1ACDBC88>\n",
       "    crs:          EPSG:4326"
      ]
     },
     "execution_count": 8,
     "metadata": {},
     "output_type": "execute_result"
    }
   ],
   "source": [
    "o"
   ]
  },
  {
   "cell_type": "code",
   "execution_count": 9,
   "metadata": {},
   "outputs": [
    {
     "name": "stderr",
     "output_type": "stream",
     "text": [
      "C:\\Anaconda3\\envs\\podpac\\lib\\site-packages\\pandas\\plotting\\_converter.py:129: FutureWarning: Using an implicitly registered datetime converter for a matplotlib plotting method. The converter was registered by pandas on import. Future versions of pandas will require you to explicitly register matplotlib converters.\n",
      "\n",
      "To register the converters:\n",
      "\t>>> from pandas.plotting import register_matplotlib_converters\n",
      "\t>>> register_matplotlib_converters()\n",
      "  warnings.warn(msg, FutureWarning)\n"
     ]
    },
    {
     "data": {
      "text/plain": [
       "[<matplotlib.lines.Line2D at 0x1ff1adffc88>]"
      ]
     },
     "execution_count": 9,
     "metadata": {},
     "output_type": "execute_result"
    },
    {
     "data": {
      "image/png": "[encoded data removed]",
      "text/plain": [
       "<Figure size 432x288 with 1 Axes>"
      ]
     },
     "metadata": {
      "needs_background": "light"
     },
     "output_type": "display_data"
    }
   ],
   "source": [
    "o.plot()"
   ]
  },
  {
   "cell_type": "code",
   "execution_count": 10,
   "metadata": {},
   "outputs": [
    {
     "data": {
      "text/plain": [
       "[<matplotlib.lines.Line2D at 0x1ff1af58f60>]"
      ]
     },
     "execution_count": 10,
     "metadata": {},
     "output_type": "execute_result"
    },
    {
     "data": {
      "image/png": "[encoded data removed]",
      "text/plain": [
       "<Figure size 432x288 with 1 Axes>"
      ]
     },
     "metadata": {
      "needs_background": "light"
     },
     "output_type": "display_data"
    }
   ],
   "source": [
    "alg.A._output.plot()\n",
    "alg.B._output.plot()\n",
    "alg.C._output.plot()\n",
    "alg.D._output.plot()\n",
    "alg.E._output.plot()\n",
    "alg.F._output.plot()"
   ]
  },
  {
   "cell_type": "code",
   "execution_count": 73,
   "metadata": {},
   "outputs": [
    {
     "data": {
      "text/plain": [
       "Coordinates (EPSG:4326)\n",
       "\tlat: ArrayCoordinates1d(lat): Bounds[43.0, 43.0], N[1], ctype['point']\n",
       "\tlon: ArrayCoordinates1d(lon): Bounds[-72.0, -72.0], N[1], ctype['point']\n",
       "\ttime: UniformCoordinates1d(time): Bounds[2018-05-01, 2018-06-30], N[21], ctype['midpoint']"
      ]
     },
     "execution_count": 73,
     "metadata": {},
     "output_type": "execute_result"
    }
   ],
   "source": [
    "coords"
   ]
  },
  {
   "cell_type": "code",
   "execution_count": 13,
   "metadata": {},
   "outputs": [
    {
     "data": {
      "text/plain": [
       "<xarray.DataArray 'time' (time: 10)>\n",
       "array(['2018-04-30T13:00:00.000000000', '2018-04-30T16:00:00.000000000',\n",
       "       '2018-04-30T19:00:00.000000000', '2018-04-30T22:00:00.000000000',\n",
       "       '2018-05-01T01:00:00.000000000', '2018-05-01T04:00:00.000000000',\n",
       "       '2018-05-01T07:00:00.000000000', '2018-05-01T10:00:00.000000000',\n",
       "       '2018-05-01T13:00:00.000000000', '2018-05-01T16:00:00.000000000'],\n",
       "      dtype='datetime64[ns]')\n",
       "Coordinates:\n",
       "  * time     (time) datetime64[ns] 2018-04-30T13:00:00 ... 2018-05-01T16:00:00"
      ]
     },
     "execution_count": 13,
     "metadata": {},
     "output_type": "execute_result"
    }
   ],
   "source": [
    "alg.F.sources[0].data.time"
   ]
  },
  {
   "cell_type": "code",
   "execution_count": 25,
   "metadata": {},
   "outputs": [
    {
     "name": "stderr",
     "output_type": "stream",
     "text": [
      "c:\\repositories\\pipeline\\podpac\\podpac\\core\\coordinates\\dependent_coordinates.py:491: UserWarning: transformation of coordinate segment lengths not yet implemented\n",
      "  warnings.warn(\"transformation of coordinate segment lengths not yet implemented\")\n",
      "c:\\repositories\\pipeline\\podpac\\podpac\\core\\coordinates\\dependent_coordinates.py:493: UserWarning: transformation of coordinate segment lengths not yet implemented\n",
      "  warnings.warn(\"transformation of coordinate segment lengths not yet implemented\")\n"
     ]
    },
    {
     "data": {
      "text/plain": [
       "Coordinates (EPSG:4326)\n",
       "\ttime: ArrayCoordinates1d(time): Bounds[2018-04-30T13:00:00.000000000, 2018-05-01T16:00:00.000000000], N[10], ctype['point']\n",
       "\tlat,lon[lat]: DependentCoordinates(i,j->lat): Bounds[-71.477134, -71.042828], shape(3, 4), ctype[midpoint]\n",
       "\tlat,lon[lon]: DependentCoordinates(i,j->lon): Bounds[51.675314, 51.955397], shape(3, 4), ctype[midpoint]"
      ]
     },
     "execution_count": 25,
     "metadata": {},
     "output_type": "execute_result"
    }
   ],
   "source": [
    "alg.F.sources[0].native_coordinates.transform(coords.crs)"
   ]
  },
  {
   "cell_type": "code",
   "execution_count": 16,
   "metadata": {},
   "outputs": [
    {
     "data": {
      "text/plain": [
       "<xarray.DataArray (time: 5)>\n",
       "array([0.487714, 0.585689, 0.551034, 0.511558, 0.519669])\n",
       "Coordinates:\n",
       "  * time     (time) datetime64[ns] 2018-05-02T11:59:59.999000 ... 2018-05-10T11:59:59.999000\n",
       "    lat      float64 43.0\n",
       "    lon      float64 -72.03\n",
       "Attributes:\n",
       "    crs:      EPSG:4326"
      ]
     },
     "execution_count": 16,
     "metadata": {},
     "output_type": "execute_result"
    }
   ],
   "source": [
    "alg.F.sources[1].data[:, 2, 1]"
   ]
  },
  {
   "cell_type": "code",
   "execution_count": 17,
   "metadata": {},
   "outputs": [
    {
     "data": {
      "text/plain": [
       "<xarray.UnitsDataArray (lat: 1, lon: 1, time: 21)>\n",
       "array([[[0.487714, 0.585689, 0.511558, 0.519669, 0.519669, 0.519669,\n",
       "         0.519669, 0.519669, 0.519669, 0.519669, 0.519669, 0.519669,\n",
       "         0.519669, 0.519669, 0.519669, 0.519669, 0.519669, 0.519669,\n",
       "         0.519669, 0.519669, 0.519669]]])\n",
       "Coordinates:\n",
       "  * lat      (lat) float64 43.0\n",
       "  * lon      (lon) float64 -72.0\n",
       "  * time     (time) datetime64[ns] 2018-05-01 2018-05-04 ... 2018-06-30\n",
       "Attributes:\n",
       "    layer_style:  <podpac.core.style.Style object at 0x000001FFDF28D940>\n",
       "    crs:          EPSG:4326"
      ]
     },
     "execution_count": 17,
     "metadata": {},
     "output_type": "execute_result"
    }
   ],
   "source": [
    "alg.F._output"
   ]
  },
  {
   "cell_type": "code",
   "execution_count": 18,
   "metadata": {},
   "outputs": [
    {
     "data": {
      "text/plain": [
       "<xarray.UnitsDataArray 'time' (time: 21)>\n",
       "array(['2018-05-01T00:00:00.000000000', '2018-05-04T00:00:00.000000000',\n",
       "       '2018-05-07T00:00:00.000000000', '2018-05-10T00:00:00.000000000',\n",
       "       '2018-05-13T00:00:00.000000000', '2018-05-16T00:00:00.000000000',\n",
       "       '2018-05-19T00:00:00.000000000', '2018-05-22T00:00:00.000000000',\n",
       "       '2018-05-25T00:00:00.000000000', '2018-05-28T00:00:00.000000000',\n",
       "       '2018-05-31T00:00:00.000000000', '2018-06-03T00:00:00.000000000',\n",
       "       '2018-06-06T00:00:00.000000000', '2018-06-09T00:00:00.000000000',\n",
       "       '2018-06-12T00:00:00.000000000', '2018-06-15T00:00:00.000000000',\n",
       "       '2018-06-18T00:00:00.000000000', '2018-06-21T00:00:00.000000000',\n",
       "       '2018-06-24T00:00:00.000000000', '2018-06-27T00:00:00.000000000',\n",
       "       '2018-06-30T00:00:00.000000000'], dtype='datetime64[ns]')\n",
       "Coordinates:\n",
       "  * time     (time) datetime64[ns] 2018-05-01 2018-05-04 ... 2018-06-30"
      ]
     },
     "execution_count": 18,
     "metadata": {},
     "output_type": "execute_result"
    }
   ],
   "source": [
    "alg.F.sources[2]._output.time"
   ]
  }
 ],
 "metadata": {
  "kernelspec": {
   "display_name": "Python 3",
   "language": "python",
   "name": "python3"
  },
  "language_info": {
   "codemirror_mode": {
    "name": "ipython",
    "version": 3
   },
   "file_extension": ".py",
   "mimetype": "text/x-python",
   "name": "python",
   "nbconvert_exporter": "python",
   "pygments_lexer": "ipython3",
   "version": "3.6.6"
  }
 },
 "nbformat": 4,
 "nbformat_minor": 2
}
