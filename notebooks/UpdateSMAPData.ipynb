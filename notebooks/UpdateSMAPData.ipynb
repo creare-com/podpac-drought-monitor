{
 "cells": [
  {
   "cell_type": "code",
   "execution_count": 1,
   "metadata": {},
   "outputs": [
    {
     "name": "stderr",
     "output_type": "stream",
     "text": [
      "C:\\Anaconda3\\envs\\podpac\\lib\\site-packages\\xarray\\core\\merge.py:17: FutureWarning: The Panel class is removed from pandas. Accessing it from the top-level namespace will also be removed in the next version\n",
      "  PANDAS_TYPES = (pd.Series, pd.DataFrame, pd.Panel)\n"
     ]
    }
   ],
   "source": [
    "import datetime\n",
    "import podpac\n",
    "from podpac.datalib import smap_egi\n",
    "import xarray as xr\n",
    "import zarr\n",
    "import numpy as np"
   ]
  },
  {
   "cell_type": "code",
   "execution_count": 2,
   "metadata": {},
   "outputs": [],
   "source": [
    "bucket = \"podpac-internal-test\"\n",
    "source = 's3://%s/%s' % (bucket, 'SPL3SMP_E.002_9km_aid0001.zarr')\n",
    "source2 = 's3://%s/%s' % (bucket, 'SPL4SMGP.004_9km_aid0001.zarr')\n",
    "\n",
    "kwargs = {'dims': ['time', 'lat', 'lon'], 'latkey': 'fakedim0', 'lonkey': 'fakedim1',\n",
    "          'cf_time': True, 'cf_calendar': 'proleptic_gregorian', 'cf_units': 'days since 2000-01-01',\n",
    "         'crs': 'epsg:6933', 'nan_vals': [-9999]}\n",
    "smap_zarr = podpac.data.Zarr(source=source, datakey='Soil_Moisture_Retrieval_Data_AM_soil_moisture', file_mode='a', **kwargs)\n",
    "smap_ds = smap_zarr.dataset\n",
    "\n",
    "smap_zarr_L4 = podpac.data.Zarr(source=source2, datakey='Geophysical_Data_sm_surface', file_mode='a', **kwargs)\n",
    "smap_ds_L4 = smap_zarr_L4.dataset"
   ]
  },
  {
   "cell_type": "code",
   "execution_count": 53,
   "metadata": {},
   "outputs": [
    {
     "data": {
      "text/plain": [
       "Coordinates (epsg:6933)\n",
       "\ttime: UniformCoordinates1d(time): Bounds[2019-06-20T00:00:00.000000000, 2019-11-25T00:00:00.000000000], N[159], ctype['midpoint']\n",
       "\tlat: ArrayCoordinates1d(lat): Bounds[2878072.923230057, 5589497.541484003], N[302], ctype['midpoint']\n",
       "\tlon: ArrayCoordinates1d(lon): Bounds[-12174386.616512204, -6436255.447649201], N[638], ctype['midpoint']"
      ]
     },
     "execution_count": 53,
     "metadata": {},
     "output_type": "execute_result"
    }
   ],
   "source": [
    "coords = smap_zarr.native_coordinates.drop('time')\n",
    "time = podpac.crange(smap_zarr.native_coordinates['time'].bounds[-1], str(datetime.date.today()), '1,D', 'time')\n",
    "coords = podpac.coordinates.merge_dims([podpac.Coordinates([time], crs=coords.crs), coords])\n",
    "coords"
   ]
  },
  {
   "cell_type": "code",
   "execution_count": 4,
   "metadata": {},
   "outputs": [
    {
     "data": {
      "text/plain": [
       "Coordinates (epsg:6933)\n",
       "\ttime: UniformCoordinates1d(time): Bounds[2019-11-22T00:00:00.000000000, 2019-11-25T00:00:00.000000000], N[4], ctype['midpoint']\n",
       "\tlat: ArrayCoordinates1d(lat): Bounds[2878072.923230057, 5589497.541484003], N[302], ctype['midpoint']\n",
       "\tlon: ArrayCoordinates1d(lon): Bounds[-12174386.616512204, -6436255.447649201], N[638], ctype['midpoint']"
      ]
     },
     "execution_count": 4,
     "metadata": {},
     "output_type": "execute_result"
    }
   ],
   "source": [
    "coords_l4 = smap_zarr_L4.native_coordinates.drop('time')\n",
    "time = podpac.crange(smap_zarr_L4.native_coordinates['time'].bounds[-1], str(datetime.date.today()), '1,D', 'time')\n",
    "coords_l4 = podpac.coordinates.merge_dims([podpac.Coordinates([time],  crs=coords_l4.crs), coords_l4])\n",
    "coords_l4"
   ]
  },
  {
   "cell_type": "code",
   "execution_count": null,
   "metadata": {},
   "outputs": [],
   "source": [
    "# Iterate through each date to get and set all the data\n",
    "# L4 data\n",
    "smap = smap_egi.SMAP(product='SPL4SMAU')\n",
    "time_base = xr.coding.times.decode_cf_datetime(0, smap_ds_L4['time'].attrs['units'])\n",
    "\n",
    "for c in coords_l4.iterchunks((2, ) + coords_l4.shape[1:]): \n",
    "    print(\"Download L4 Data for:\", str(c['time']), '...', end='')\n",
    "    try: \n",
    "        l4 = smap.eval(c)\n",
    "    except ValueError as e:\n",
    "        print(\"No Granules available:\", e)\n",
    "        continue\n",
    "    l4.set(-9999, np.isnan(l4))\n",
    "    print(\" ... Done.\")\n",
    "    new_times = (c.coords['time'].data - time_base).astype('timedelta64[D]')\n",
    "    for i, nt in enumerate(new_times):\n",
    "        if np.any((smap_ds_L4['time'][:] - nt).astype(int) >= 0) or np.all(np.isnan(l4[i])):\n",
    "            print('Time already exists, or is all nan -- skipping.')\n",
    "            continue\n",
    "        print(\"Updating S3 Zarr file for L4 Data.\")\n",
    "        old_time_shape = smap_ds_L4['time'].shape\n",
    "        old_data_shape = smap_ds_L4['Geophysical_Data_sm_surface'].shape\n",
    "        try: \n",
    "            smap_ds_L4['time'].append(np.atleast_1d(nt))\n",
    "            smap_ds_L4['Geophysical_Data_sm_surface'].append(l4[i:i+1], axis=0)\n",
    "        except Exception as e:\n",
    "            print ('Updating L4 data failed:', e)\n",
    "            smap_ds_L4['time'].resize(*old_time_shape)\n",
    "            smap_ds_L4['Geophysical_Data_sm_surface'].resize(*old_data_shape)\n",
    "    "
   ]
  },
  {
   "cell_type": "code",
   "execution_count": 40,
   "metadata": {},
   "outputs": [
    {
     "data": {
      "text/plain": [
       "array([7262, 7263, 7264, 7265, 7266])"
      ]
     },
     "execution_count": 40,
     "metadata": {},
     "output_type": "execute_result"
    }
   ],
   "source": [
    "smap_ds_L4['time'][-5:]"
   ]
  },
  {
   "cell_type": "code",
   "execution_count": 41,
   "metadata": {},
   "outputs": [
    {
     "data": {
      "text/plain": [
       "((263,), (263, 302, 638))"
      ]
     },
     "execution_count": 41,
     "metadata": {},
     "output_type": "execute_result"
    }
   ],
   "source": [
    "smap_ds_L4['time'].shape, smap_ds_L4['Geophysical_Data_sm_surface'].shape"
   ]
  },
  {
   "cell_type": "code",
   "execution_count": 10,
   "metadata": {},
   "outputs": [],
   "source": [
    "# smap_ds_L4['time'].resize(*old_time_shape)\n",
    "# smap_ds_L4['Geophysical_Data_sm_surface'].resize(*old_data_shape)"
   ]
  },
  {
   "cell_type": "code",
   "execution_count": 54,
   "metadata": {},
   "outputs": [
    {
     "data": {
      "text/plain": [
       "((112, 302, 638), (112,))"
      ]
     },
     "execution_count": 54,
     "metadata": {},
     "output_type": "execute_result"
    }
   ],
   "source": [
    "old_data_shape, old_time_shape"
   ]
  },
  {
   "cell_type": "code",
   "execution_count": 78,
   "metadata": {
    "scrolled": true
   },
   "outputs": [
    {
     "name": "stdout",
     "output_type": "stream",
     "text": [
      "Download L3 Data for: UniformCoordinates1d(time): Bounds[2019-06-20T00:00:00.000000000, 2019-06-21T00:00:00.000000000], N[2], ctype['midpoint'] ...AM No Granules available: Failed to download data from EGI Interface. EGI Reponse: <?xml version=\"1.0\" encoding=\"UTF-8\" standalone=\"yes\"?>\n",
      "<eesi:Exception xsi:schemaLocation=\"http://eosdis.nasa.gov/esi/rsp/e https://newsroom.gsfc.nasa.gov/esi/8.1/schemas/ESIAgentResponseExternal.xsd\" xmlns=\"\" xmlns:iesi=\"http://eosdis.nasa.gov/esi/rsp/i\" xmlns:ssw=\"http://newsroom.gsfc.nasa.gov/esi/rsp/ssw\" xmlns:eesi=\"http://eosdis.nasa.gov/esi/rsp/e\" xmlns:esi=\"http://eosdis.nasa.gov/esi/rsp\" xmlns:xsi=\"http://www.w3.org/2001/XMLSchema-instance\">\n",
      "    <Code>InternalError</Code>\n",
      "    <Message>No granules returned by CMR: https://cmr.earthdata.nasa.gov/search/granules?provider=NSIDC_ECS&amp;page_num=1&amp;short_name=SPL3SMP_E&amp;version=003&amp;temporal=2019-06-20T00:00:00,2019-06-21T00:00:00&amp;token=C068ED4B-9C70-B9FA-9CF7-64E4A35346B0&amp;page_size=20</Message>\n",
      "</eesi:Exception>\n",
      "\n",
      "Download L3 Data for: UniformCoordinates1d(time): Bounds[2019-06-22T00:00:00.000000000, 2019-06-23T00:00:00.000000000], N[2], ctype['midpoint'] ...AM No Granules available: Failed to download data from EGI Interface. EGI Reponse: <?xml version=\"1.0\" encoding=\"UTF-8\" standalone=\"yes\"?>\n",
      "<eesi:Exception xsi:schemaLocation=\"http://eosdis.nasa.gov/esi/rsp/e https://newsroom.gsfc.nasa.gov/esi/8.1/schemas/ESIAgentResponseExternal.xsd\" xmlns=\"\" xmlns:iesi=\"http://eosdis.nasa.gov/esi/rsp/i\" xmlns:ssw=\"http://newsroom.gsfc.nasa.gov/esi/rsp/ssw\" xmlns:eesi=\"http://eosdis.nasa.gov/esi/rsp/e\" xmlns:esi=\"http://eosdis.nasa.gov/esi/rsp\" xmlns:xsi=\"http://www.w3.org/2001/XMLSchema-instance\">\n",
      "    <Code>InternalError</Code>\n",
      "    <Message>No granules returned by CMR: https://cmr.earthdata.nasa.gov/search/granules?provider=NSIDC_ECS&amp;page_num=1&amp;short_name=SPL3SMP_E&amp;version=003&amp;temporal=2019-06-22T00:00:00,2019-06-23T00:00:00&amp;token=C068ED4B-9C70-B9FA-9CF7-64E4A35346B0&amp;page_size=20</Message>\n",
      "</eesi:Exception>\n",
      "\n",
      "Download L3 Data for: UniformCoordinates1d(time): Bounds[2019-06-24T00:00:00.000000000, 2019-06-25T00:00:00.000000000], N[2], ctype['midpoint'] ...AM No Granules available: Failed to download data from EGI Interface. EGI Reponse: <?xml version=\"1.0\" encoding=\"UTF-8\" standalone=\"yes\"?>\n",
      "<eesi:Exception xsi:schemaLocation=\"http://eosdis.nasa.gov/esi/rsp/e https://newsroom.gsfc.nasa.gov/esi/8.1/schemas/ESIAgentResponseExternal.xsd\" xmlns=\"\" xmlns:iesi=\"http://eosdis.nasa.gov/esi/rsp/i\" xmlns:ssw=\"http://newsroom.gsfc.nasa.gov/esi/rsp/ssw\" xmlns:eesi=\"http://eosdis.nasa.gov/esi/rsp/e\" xmlns:esi=\"http://eosdis.nasa.gov/esi/rsp\" xmlns:xsi=\"http://www.w3.org/2001/XMLSchema-instance\">\n",
      "    <Code>InternalError</Code>\n",
      "    <Message>No granules returned by CMR: https://cmr.earthdata.nasa.gov/search/granules?provider=NSIDC_ECS&amp;page_num=1&amp;short_name=SPL3SMP_E&amp;version=003&amp;temporal=2019-06-24T00:00:00,2019-06-25T00:00:00&amp;token=C068ED4B-9C70-B9FA-9CF7-64E4A35346B0&amp;page_size=20</Message>\n",
      "</eesi:Exception>\n",
      "\n",
      "Download L3 Data for: UniformCoordinates1d(time): Bounds[2019-06-26T00:00:00.000000000, 2019-06-27T00:00:00.000000000], N[2], ctype['midpoint'] ...AM No Granules available: Failed to download data from EGI Interface. EGI Reponse: <?xml version=\"1.0\" encoding=\"UTF-8\" standalone=\"yes\"?>\n",
      "<eesi:Exception xsi:schemaLocation=\"http://eosdis.nasa.gov/esi/rsp/e https://newsroom.gsfc.nasa.gov/esi/8.1/schemas/ESIAgentResponseExternal.xsd\" xmlns=\"\" xmlns:iesi=\"http://eosdis.nasa.gov/esi/rsp/i\" xmlns:ssw=\"http://newsroom.gsfc.nasa.gov/esi/rsp/ssw\" xmlns:eesi=\"http://eosdis.nasa.gov/esi/rsp/e\" xmlns:esi=\"http://eosdis.nasa.gov/esi/rsp\" xmlns:xsi=\"http://www.w3.org/2001/XMLSchema-instance\">\n",
      "    <Code>InternalError</Code>\n",
      "    <Message>No granules returned by CMR: https://cmr.earthdata.nasa.gov/search/granules?provider=NSIDC_ECS&amp;page_num=1&amp;short_name=SPL3SMP_E&amp;version=003&amp;temporal=2019-06-26T00:00:00,2019-06-27T00:00:00&amp;token=C068ED4B-9C70-B9FA-9CF7-64E4A35346B0&amp;page_size=20</Message>\n",
      "</eesi:Exception>\n",
      "\n",
      "Download L3 Data for: UniformCoordinates1d(time): Bounds[2019-06-28T00:00:00.000000000, 2019-06-29T00:00:00.000000000], N[2], ctype['midpoint'] ...AM No Granules available: Failed to download data from EGI Interface. EGI Reponse: <?xml version=\"1.0\" encoding=\"UTF-8\" standalone=\"yes\"?>\n",
      "<eesi:Exception xsi:schemaLocation=\"http://eosdis.nasa.gov/esi/rsp/e https://newsroom.gsfc.nasa.gov/esi/8.1/schemas/ESIAgentResponseExternal.xsd\" xmlns=\"\" xmlns:iesi=\"http://eosdis.nasa.gov/esi/rsp/i\" xmlns:ssw=\"http://newsroom.gsfc.nasa.gov/esi/rsp/ssw\" xmlns:eesi=\"http://eosdis.nasa.gov/esi/rsp/e\" xmlns:esi=\"http://eosdis.nasa.gov/esi/rsp\" xmlns:xsi=\"http://www.w3.org/2001/XMLSchema-instance\">\n",
      "    <Code>InternalError</Code>\n",
      "    <Message>No granules returned by CMR: https://cmr.earthdata.nasa.gov/search/granules?provider=NSIDC_ECS&amp;page_num=1&amp;short_name=SPL3SMP_E&amp;version=003&amp;temporal=2019-06-28T00:00:00,2019-06-29T00:00:00&amp;token=C068ED4B-9C70-B9FA-9CF7-64E4A35346B0&amp;page_size=20</Message>\n",
      "</eesi:Exception>\n",
      "\n",
      "Download L3 Data for: UniformCoordinates1d(time): Bounds[2019-06-30T00:00:00.000000000, 2019-07-01T00:00:00.000000000], N[2], ctype['midpoint'] ...AM No Granules available: Failed to download data from EGI Interface. EGI Reponse: <?xml version=\"1.0\" encoding=\"UTF-8\" standalone=\"yes\"?>\n",
      "<eesi:Exception xsi:schemaLocation=\"http://eosdis.nasa.gov/esi/rsp/e https://newsroom.gsfc.nasa.gov/esi/8.1/schemas/ESIAgentResponseExternal.xsd\" xmlns=\"\" xmlns:iesi=\"http://eosdis.nasa.gov/esi/rsp/i\" xmlns:ssw=\"http://newsroom.gsfc.nasa.gov/esi/rsp/ssw\" xmlns:eesi=\"http://eosdis.nasa.gov/esi/rsp/e\" xmlns:esi=\"http://eosdis.nasa.gov/esi/rsp\" xmlns:xsi=\"http://www.w3.org/2001/XMLSchema-instance\">\n",
      "    <Code>InternalError</Code>\n",
      "    <Message>No granules returned by CMR: https://cmr.earthdata.nasa.gov/search/granules?provider=NSIDC_ECS&amp;page_num=1&amp;short_name=SPL3SMP_E&amp;version=003&amp;temporal=2019-06-30T00:00:00,2019-07-01T00:00:00&amp;token=C068ED4B-9C70-B9FA-9CF7-64E4A35346B0&amp;page_size=20</Message>\n",
      "</eesi:Exception>\n",
      "\n",
      "Download L3 Data for: UniformCoordinates1d(time): Bounds[2019-07-02T00:00:00.000000000, 2019-07-03T00:00:00.000000000], N[2], ctype['midpoint'] ...AM No Granules available: Failed to download data from EGI Interface. EGI Reponse: <?xml version=\"1.0\" encoding=\"UTF-8\" standalone=\"yes\"?>\n",
      "<eesi:Exception xsi:schemaLocation=\"http://eosdis.nasa.gov/esi/rsp/e https://newsroom.gsfc.nasa.gov/esi/8.1/schemas/ESIAgentResponseExternal.xsd\" xmlns=\"\" xmlns:iesi=\"http://eosdis.nasa.gov/esi/rsp/i\" xmlns:ssw=\"http://newsroom.gsfc.nasa.gov/esi/rsp/ssw\" xmlns:eesi=\"http://eosdis.nasa.gov/esi/rsp/e\" xmlns:esi=\"http://eosdis.nasa.gov/esi/rsp\" xmlns:xsi=\"http://www.w3.org/2001/XMLSchema-instance\">\n",
      "    <Code>InternalError</Code>\n",
      "    <Message>No granules returned by CMR: https://cmr.earthdata.nasa.gov/search/granules?provider=NSIDC_ECS&amp;page_num=1&amp;short_name=SPL3SMP_E&amp;version=003&amp;temporal=2019-07-02T00:00:00,2019-07-03T00:00:00&amp;token=C068ED4B-9C70-B9FA-9CF7-64E4A35346B0&amp;page_size=20</Message>\n",
      "</eesi:Exception>\n",
      "\n",
      "Download L3 Data for: UniformCoordinates1d(time): Bounds[2019-07-04T00:00:00.000000000, 2019-07-05T00:00:00.000000000], N[2], ctype['midpoint'] ...AM No Granules available: Failed to download data from EGI Interface. EGI Reponse: <?xml version=\"1.0\" encoding=\"UTF-8\" standalone=\"yes\"?>\n",
      "<eesi:Exception xsi:schemaLocation=\"http://eosdis.nasa.gov/esi/rsp/e https://newsroom.gsfc.nasa.gov/esi/8.1/schemas/ESIAgentResponseExternal.xsd\" xmlns=\"\" xmlns:iesi=\"http://eosdis.nasa.gov/esi/rsp/i\" xmlns:ssw=\"http://newsroom.gsfc.nasa.gov/esi/rsp/ssw\" xmlns:eesi=\"http://eosdis.nasa.gov/esi/rsp/e\" xmlns:esi=\"http://eosdis.nasa.gov/esi/rsp\" xmlns:xsi=\"http://www.w3.org/2001/XMLSchema-instance\">\n",
      "    <Code>InternalError</Code>\n",
      "    <Message>No granules returned by CMR: https://cmr.earthdata.nasa.gov/search/granules?provider=NSIDC_ECS&amp;page_num=1&amp;short_name=SPL3SMP_E&amp;version=003&amp;temporal=2019-07-04T00:00:00,2019-07-05T00:00:00&amp;token=C068ED4B-9C70-B9FA-9CF7-64E4A35346B0&amp;page_size=20</Message>\n",
      "</eesi:Exception>\n",
      "\n",
      "Download L3 Data for: UniformCoordinates1d(time): Bounds[2019-07-06T00:00:00.000000000, 2019-07-07T00:00:00.000000000], N[2], ctype['midpoint'] ...AM No Granules available: Failed to download data from EGI Interface. EGI Reponse: <?xml version=\"1.0\" encoding=\"UTF-8\" standalone=\"yes\"?>\n",
      "<eesi:Exception xsi:schemaLocation=\"http://eosdis.nasa.gov/esi/rsp/e https://newsroom.gsfc.nasa.gov/esi/8.1/schemas/ESIAgentResponseExternal.xsd\" xmlns=\"\" xmlns:iesi=\"http://eosdis.nasa.gov/esi/rsp/i\" xmlns:ssw=\"http://newsroom.gsfc.nasa.gov/esi/rsp/ssw\" xmlns:eesi=\"http://eosdis.nasa.gov/esi/rsp/e\" xmlns:esi=\"http://eosdis.nasa.gov/esi/rsp\" xmlns:xsi=\"http://www.w3.org/2001/XMLSchema-instance\">\n",
      "    <Code>InternalError</Code>\n",
      "    <Message>No granules returned by CMR: https://cmr.earthdata.nasa.gov/search/granules?provider=NSIDC_ECS&amp;page_num=1&amp;short_name=SPL3SMP_E&amp;version=003&amp;temporal=2019-07-06T00:00:00,2019-07-07T00:00:00&amp;token=C068ED4B-9C70-B9FA-9CF7-64E4A35346B0&amp;page_size=20</Message>\n",
      "</eesi:Exception>\n",
      "\n",
      "Download L3 Data for: UniformCoordinates1d(time): Bounds[2019-07-08T00:00:00.000000000, 2019-07-09T00:00:00.000000000], N[2], ctype['midpoint'] ...AM No Granules available: Failed to download data from EGI Interface. EGI Reponse: <?xml version=\"1.0\" encoding=\"UTF-8\" standalone=\"yes\"?>\n",
      "<eesi:Exception xsi:schemaLocation=\"http://eosdis.nasa.gov/esi/rsp/e https://newsroom.gsfc.nasa.gov/esi/8.1/schemas/ESIAgentResponseExternal.xsd\" xmlns=\"\" xmlns:iesi=\"http://eosdis.nasa.gov/esi/rsp/i\" xmlns:ssw=\"http://newsroom.gsfc.nasa.gov/esi/rsp/ssw\" xmlns:eesi=\"http://eosdis.nasa.gov/esi/rsp/e\" xmlns:esi=\"http://eosdis.nasa.gov/esi/rsp\" xmlns:xsi=\"http://www.w3.org/2001/XMLSchema-instance\">\n",
      "    <Code>InternalError</Code>\n",
      "    <Message>No granules returned by CMR: https://cmr.earthdata.nasa.gov/search/granules?provider=NSIDC_ECS&amp;page_num=1&amp;short_name=SPL3SMP_E&amp;version=003&amp;temporal=2019-07-08T00:00:00,2019-07-09T00:00:00&amp;token=C068ED4B-9C70-B9FA-9CF7-64E4A35346B0&amp;page_size=20</Message>\n",
      "</eesi:Exception>\n",
      "\n",
      "Download L3 Data for: UniformCoordinates1d(time): Bounds[2019-07-10T00:00:00.000000000, 2019-07-11T00:00:00.000000000], N[2], ctype['midpoint'] ...AM No Granules available: Failed to download data from EGI Interface. EGI Reponse: <?xml version=\"1.0\" encoding=\"UTF-8\" standalone=\"yes\"?>\n",
      "<eesi:Exception xsi:schemaLocation=\"http://eosdis.nasa.gov/esi/rsp/e https://newsroom.gsfc.nasa.gov/esi/8.1/schemas/ESIAgentResponseExternal.xsd\" xmlns=\"\" xmlns:iesi=\"http://eosdis.nasa.gov/esi/rsp/i\" xmlns:ssw=\"http://newsroom.gsfc.nasa.gov/esi/rsp/ssw\" xmlns:eesi=\"http://eosdis.nasa.gov/esi/rsp/e\" xmlns:esi=\"http://eosdis.nasa.gov/esi/rsp\" xmlns:xsi=\"http://www.w3.org/2001/XMLSchema-instance\">\n",
      "    <Code>InternalError</Code>\n",
      "    <Message>No granules returned by CMR: https://cmr.earthdata.nasa.gov/search/granules?provider=NSIDC_ECS&amp;page_num=1&amp;short_name=SPL3SMP_E&amp;version=003&amp;temporal=2019-07-10T00:00:00,2019-07-11T00:00:00&amp;token=C068ED4B-9C70-B9FA-9CF7-64E4A35346B0&amp;page_size=20</Message>\n",
      "</eesi:Exception>\n",
      "\n",
      "Download L3 Data for: UniformCoordinates1d(time): Bounds[2019-07-12T00:00:00.000000000, 2019-07-13T00:00:00.000000000], N[2], ctype['midpoint'] ...AM No Granules available: Failed to download data from EGI Interface. EGI Reponse: <?xml version=\"1.0\" encoding=\"UTF-8\" standalone=\"yes\"?>\n",
      "<eesi:Exception xsi:schemaLocation=\"http://eosdis.nasa.gov/esi/rsp/e https://newsroom.gsfc.nasa.gov/esi/8.1/schemas/ESIAgentResponseExternal.xsd\" xmlns=\"\" xmlns:iesi=\"http://eosdis.nasa.gov/esi/rsp/i\" xmlns:ssw=\"http://newsroom.gsfc.nasa.gov/esi/rsp/ssw\" xmlns:eesi=\"http://eosdis.nasa.gov/esi/rsp/e\" xmlns:esi=\"http://eosdis.nasa.gov/esi/rsp\" xmlns:xsi=\"http://www.w3.org/2001/XMLSchema-instance\">\n",
      "    <Code>InternalError</Code>\n",
      "    <Message>No granules returned by CMR: https://cmr.earthdata.nasa.gov/search/granules?provider=NSIDC_ECS&amp;page_num=1&amp;short_name=SPL3SMP_E&amp;version=003&amp;temporal=2019-07-12T00:00:00,2019-07-13T00:00:00&amp;token=C068ED4B-9C70-B9FA-9CF7-64E4A35346B0&amp;page_size=20</Message>\n",
      "</eesi:Exception>\n",
      "\n",
      "Download L3 Data for: UniformCoordinates1d(time): Bounds[2019-07-14T00:00:00.000000000, 2019-07-15T00:00:00.000000000], N[2], ctype['midpoint'] ...AM No Granules available: Failed to download data from EGI Interface. EGI Reponse: <?xml version=\"1.0\" encoding=\"UTF-8\" standalone=\"yes\"?>\n",
      "<eesi:Exception xsi:schemaLocation=\"http://eosdis.nasa.gov/esi/rsp/e https://newsroom.gsfc.nasa.gov/esi/8.1/schemas/ESIAgentResponseExternal.xsd\" xmlns=\"\" xmlns:iesi=\"http://eosdis.nasa.gov/esi/rsp/i\" xmlns:ssw=\"http://newsroom.gsfc.nasa.gov/esi/rsp/ssw\" xmlns:eesi=\"http://eosdis.nasa.gov/esi/rsp/e\" xmlns:esi=\"http://eosdis.nasa.gov/esi/rsp\" xmlns:xsi=\"http://www.w3.org/2001/XMLSchema-instance\">\n",
      "    <Code>InternalError</Code>\n",
      "    <Message>No granules returned by CMR: https://cmr.earthdata.nasa.gov/search/granules?provider=NSIDC_ECS&amp;page_num=1&amp;short_name=SPL3SMP_E&amp;version=003&amp;temporal=2019-07-14T00:00:00,2019-07-15T00:00:00&amp;token=C068ED4B-9C70-B9FA-9CF7-64E4A35346B0&amp;page_size=20</Message>\n",
      "</eesi:Exception>\n",
      "\n",
      "Download L3 Data for: UniformCoordinates1d(time): Bounds[2019-07-16T00:00:00.000000000, 2019-07-17T00:00:00.000000000], N[2], ctype['midpoint'] ...AM No Granules available: Failed to download data from EGI Interface. EGI Reponse: <?xml version=\"1.0\" encoding=\"UTF-8\" standalone=\"yes\"?>\n",
      "<eesi:Exception xsi:schemaLocation=\"http://eosdis.nasa.gov/esi/rsp/e https://newsroom.gsfc.nasa.gov/esi/8.1/schemas/ESIAgentResponseExternal.xsd\" xmlns=\"\" xmlns:iesi=\"http://eosdis.nasa.gov/esi/rsp/i\" xmlns:ssw=\"http://newsroom.gsfc.nasa.gov/esi/rsp/ssw\" xmlns:eesi=\"http://eosdis.nasa.gov/esi/rsp/e\" xmlns:esi=\"http://eosdis.nasa.gov/esi/rsp\" xmlns:xsi=\"http://www.w3.org/2001/XMLSchema-instance\">\n",
      "    <Code>InternalError</Code>\n",
      "    <Message>No granules returned by CMR: https://cmr.earthdata.nasa.gov/search/granules?provider=NSIDC_ECS&amp;page_num=1&amp;short_name=SPL3SMP_E&amp;version=003&amp;temporal=2019-07-16T00:00:00,2019-07-17T00:00:00&amp;token=C068ED4B-9C70-B9FA-9CF7-64E4A35346B0&amp;page_size=20</Message>\n",
      "</eesi:Exception>\n",
      "\n",
      "Download L3 Data for: UniformCoordinates1d(time): Bounds[2019-07-18T00:00:00.000000000, 2019-07-19T00:00:00.000000000], N[2], ctype['midpoint'] ...AM No Granules available: Failed to download data from EGI Interface. EGI Reponse: <?xml version=\"1.0\" encoding=\"UTF-8\" standalone=\"yes\"?>\n",
      "<eesi:Exception xsi:schemaLocation=\"http://eosdis.nasa.gov/esi/rsp/e https://newsroom.gsfc.nasa.gov/esi/8.1/schemas/ESIAgentResponseExternal.xsd\" xmlns=\"\" xmlns:iesi=\"http://eosdis.nasa.gov/esi/rsp/i\" xmlns:ssw=\"http://newsroom.gsfc.nasa.gov/esi/rsp/ssw\" xmlns:eesi=\"http://eosdis.nasa.gov/esi/rsp/e\" xmlns:esi=\"http://eosdis.nasa.gov/esi/rsp\" xmlns:xsi=\"http://www.w3.org/2001/XMLSchema-instance\">\n",
      "    <Code>InternalError</Code>\n",
      "    <Message>No granules returned by CMR: https://cmr.earthdata.nasa.gov/search/granules?provider=NSIDC_ECS&amp;page_num=1&amp;short_name=SPL3SMP_E&amp;version=003&amp;temporal=2019-07-18T00:00:00,2019-07-19T00:00:00&amp;token=C068ED4B-9C70-B9FA-9CF7-64E4A35346B0&amp;page_size=20</Message>\n",
      "</eesi:Exception>\n",
      "\n",
      "Download L3 Data for: UniformCoordinates1d(time): Bounds[2019-07-20T00:00:00.000000000, 2019-07-21T00:00:00.000000000], N[2], ctype['midpoint'] ...AM No Granules available: Failed to download data from EGI Interface. EGI Reponse: <?xml version=\"1.0\" encoding=\"UTF-8\" standalone=\"yes\"?>\n",
      "<eesi:Exception xsi:schemaLocation=\"http://eosdis.nasa.gov/esi/rsp/e https://newsroom.gsfc.nasa.gov/esi/8.1/schemas/ESIAgentResponseExternal.xsd\" xmlns=\"\" xmlns:iesi=\"http://eosdis.nasa.gov/esi/rsp/i\" xmlns:ssw=\"http://newsroom.gsfc.nasa.gov/esi/rsp/ssw\" xmlns:eesi=\"http://eosdis.nasa.gov/esi/rsp/e\" xmlns:esi=\"http://eosdis.nasa.gov/esi/rsp\" xmlns:xsi=\"http://www.w3.org/2001/XMLSchema-instance\">\n",
      "    <Code>InternalError</Code>\n",
      "    <Message>No granules returned by CMR: https://cmr.earthdata.nasa.gov/search/granules?provider=NSIDC_ECS&amp;page_num=1&amp;short_name=SPL3SMP_E&amp;version=003&amp;temporal=2019-07-20T00:00:00,2019-07-21T00:00:00&amp;token=C068ED4B-9C70-B9FA-9CF7-64E4A35346B0&amp;page_size=20</Message>\n",
      "</eesi:Exception>\n",
      "\n",
      "Download L3 Data for: UniformCoordinates1d(time): Bounds[2019-07-22T00:00:00.000000000, 2019-07-23T00:00:00.000000000], N[2], ctype['midpoint'] ...AM "
     ]
    },
    {
     "name": "stderr",
     "output_type": "stream",
     "text": [
      "WARNING:podpac.datalib.egi:No data returned from file: SMAP_L3_SM_P_E_20190723_R16510_001_HEGOUT.h5\n",
      "WARNING:podpac.datalib.egi:No coordinates found in EGI source\n"
     ]
    },
    {
     "name": "stdout",
     "output_type": "stream",
     "text": [
      "AM_QF "
     ]
    },
    {
     "name": "stderr",
     "output_type": "stream",
     "text": [
      "WARNING:podpac.datalib.egi:No data returned from file: SMAP_L3_SM_P_E_20190723_R16510_001_HEGOUT.h5\n",
      "WARNING:podpac.datalib.egi:No coordinates found in EGI source\n"
     ]
    },
    {
     "name": "stdout",
     "output_type": "stream",
     "text": [
      "PM PM_QF  ... Done.\n",
      "Time already exists, or is all nan -- skipping.\n",
      "Time already exists, or is all nan -- skipping.\n",
      "Download L3 Data for: UniformCoordinates1d(time): Bounds[2019-07-24T00:00:00.000000000, 2019-07-25T00:00:00.000000000], N[2], ctype['midpoint'] ...AM "
     ]
    },
    {
     "name": "stderr",
     "output_type": "stream",
     "text": [
      "c:\\repositories\\pipeline\\podpac\\podpac\\core\\coordinates\\dependent_coordinates.py:496: UserWarning: transformation of coordinate segment lengths not yet implemented\n",
      "  warnings.warn(\"transformation of coordinate segment lengths not yet implemented\")\n",
      "c:\\repositories\\pipeline\\podpac\\podpac\\core\\coordinates\\dependent_coordinates.py:498: UserWarning: transformation of coordinate segment lengths not yet implemented\n",
      "  warnings.warn(\"transformation of coordinate segment lengths not yet implemented\")\n"
     ]
    },
    {
     "name": "stdout",
     "output_type": "stream",
     "text": [
      "AM_QF "
     ]
    },
    {
     "name": "stderr",
     "output_type": "stream",
     "text": [
      "c:\\repositories\\pipeline\\podpac\\podpac\\datalib\\smap_egi.py:204: RuntimeWarning: Mean of empty slice\n",
      "  lon = np.nanmean(lons, axis=0)\n",
      "c:\\repositories\\pipeline\\podpac\\podpac\\core\\coordinates\\array_coordinates1d.py:83: RuntimeWarning: invalid value encountered in less_equal\n",
      "  if np.any(deltas <= 0):\n",
      "c:\\repositories\\pipeline\\podpac\\podpac\\core\\coordinates\\dependent_coordinates.py:496: UserWarning: transformation of coordinate segment lengths not yet implemented\n",
      "  warnings.warn(\"transformation of coordinate segment lengths not yet implemented\")\n",
      "c:\\repositories\\pipeline\\podpac\\podpac\\core\\coordinates\\dependent_coordinates.py:498: UserWarning: transformation of coordinate segment lengths not yet implemented\n",
      "  warnings.warn(\"transformation of coordinate segment lengths not yet implemented\")\n"
     ]
    },
    {
     "name": "stdout",
     "output_type": "stream",
     "text": [
      "PM "
     ]
    },
    {
     "name": "stderr",
     "output_type": "stream",
     "text": [
      "c:\\repositories\\pipeline\\podpac\\podpac\\core\\coordinates\\dependent_coordinates.py:496: UserWarning: transformation of coordinate segment lengths not yet implemented\n",
      "  warnings.warn(\"transformation of coordinate segment lengths not yet implemented\")\n",
      "c:\\repositories\\pipeline\\podpac\\podpac\\core\\coordinates\\dependent_coordinates.py:498: UserWarning: transformation of coordinate segment lengths not yet implemented\n",
      "  warnings.warn(\"transformation of coordinate segment lengths not yet implemented\")\n",
      "c:\\repositories\\pipeline\\podpac\\podpac\\datalib\\smap_egi.py:204: RuntimeWarning: Mean of empty slice\n",
      "  lon = np.nanmean(lons, axis=0)\n",
      "c:\\repositories\\pipeline\\podpac\\podpac\\core\\coordinates\\array_coordinates1d.py:83: RuntimeWarning: invalid value encountered in less_equal\n",
      "  if np.any(deltas <= 0):\n",
      "c:\\repositories\\pipeline\\podpac\\podpac\\core\\coordinates\\dependent_coordinates.py:496: UserWarning: transformation of coordinate segment lengths not yet implemented\n",
      "  warnings.warn(\"transformation of coordinate segment lengths not yet implemented\")\n",
      "c:\\repositories\\pipeline\\podpac\\podpac\\core\\coordinates\\dependent_coordinates.py:498: UserWarning: transformation of coordinate segment lengths not yet implemented\n",
      "  warnings.warn(\"transformation of coordinate segment lengths not yet implemented\")\n"
     ]
    },
    {
     "name": "stdout",
     "output_type": "stream",
     "text": [
      "PM_QF "
     ]
    },
    {
     "name": "stderr",
     "output_type": "stream",
     "text": [
      "c:\\repositories\\pipeline\\podpac\\podpac\\datalib\\smap_egi.py:204: RuntimeWarning: Mean of empty slice\n",
      "  lon = np.nanmean(lons, axis=0)\n",
      "c:\\repositories\\pipeline\\podpac\\podpac\\core\\coordinates\\array_coordinates1d.py:83: RuntimeWarning: invalid value encountered in less_equal\n",
      "  if np.any(deltas <= 0):\n",
      "c:\\repositories\\pipeline\\podpac\\podpac\\core\\coordinates\\dependent_coordinates.py:496: UserWarning: transformation of coordinate segment lengths not yet implemented\n",
      "  warnings.warn(\"transformation of coordinate segment lengths not yet implemented\")\n",
      "c:\\repositories\\pipeline\\podpac\\podpac\\core\\coordinates\\dependent_coordinates.py:498: UserWarning: transformation of coordinate segment lengths not yet implemented\n",
      "  warnings.warn(\"transformation of coordinate segment lengths not yet implemented\")\n"
     ]
    },
    {
     "name": "stdout",
     "output_type": "stream",
     "text": [
      " ... Done.\n",
      "Updating S3 Zarr file for L3 Data.\n",
      "Updating S3 Zarr file for L3 Data.\n",
      "Download L3 Data for: UniformCoordinates1d(time): Bounds[2019-07-26T00:00:00.000000000, 2019-07-27T00:00:00.000000000], N[2], ctype['midpoint'] ...AM "
     ]
    },
    {
     "name": "stderr",
     "output_type": "stream",
     "text": [
      "c:\\repositories\\pipeline\\podpac\\podpac\\core\\coordinates\\dependent_coordinates.py:496: UserWarning: transformation of coordinate segment lengths not yet implemented\n",
      "  warnings.warn(\"transformation of coordinate segment lengths not yet implemented\")\n",
      "c:\\repositories\\pipeline\\podpac\\podpac\\core\\coordinates\\dependent_coordinates.py:498: UserWarning: transformation of coordinate segment lengths not yet implemented\n",
      "  warnings.warn(\"transformation of coordinate segment lengths not yet implemented\")\n",
      "c:\\repositories\\pipeline\\podpac\\podpac\\datalib\\smap_egi.py:204: RuntimeWarning: Mean of empty slice\n",
      "  lon = np.nanmean(lons, axis=0)\n",
      "c:\\repositories\\pipeline\\podpac\\podpac\\core\\coordinates\\array_coordinates1d.py:83: RuntimeWarning: invalid value encountered in less_equal\n",
      "  if np.any(deltas <= 0):\n",
      "c:\\repositories\\pipeline\\podpac\\podpac\\core\\coordinates\\dependent_coordinates.py:496: UserWarning: transformation of coordinate segment lengths not yet implemented\n",
      "  warnings.warn(\"transformation of coordinate segment lengths not yet implemented\")\n",
      "c:\\repositories\\pipeline\\podpac\\podpac\\core\\coordinates\\dependent_coordinates.py:498: UserWarning: transformation of coordinate segment lengths not yet implemented\n",
      "  warnings.warn(\"transformation of coordinate segment lengths not yet implemented\")\n"
     ]
    },
    {
     "name": "stdout",
     "output_type": "stream",
     "text": [
      "AM_QF "
     ]
    },
    {
     "name": "stderr",
     "output_type": "stream",
     "text": [
      "c:\\repositories\\pipeline\\podpac\\podpac\\datalib\\smap_egi.py:204: RuntimeWarning: Mean of empty slice\n",
      "  lon = np.nanmean(lons, axis=0)\n",
      "c:\\repositories\\pipeline\\podpac\\podpac\\core\\coordinates\\array_coordinates1d.py:83: RuntimeWarning: invalid value encountered in less_equal\n",
      "  if np.any(deltas <= 0):\n",
      "c:\\repositories\\pipeline\\podpac\\podpac\\core\\coordinates\\dependent_coordinates.py:496: UserWarning: transformation of coordinate segment lengths not yet implemented\n",
      "  warnings.warn(\"transformation of coordinate segment lengths not yet implemented\")\n",
      "c:\\repositories\\pipeline\\podpac\\podpac\\core\\coordinates\\dependent_coordinates.py:498: UserWarning: transformation of coordinate segment lengths not yet implemented\n",
      "  warnings.warn(\"transformation of coordinate segment lengths not yet implemented\")\n"
     ]
    },
    {
     "name": "stdout",
     "output_type": "stream",
     "text": [
      "PM "
     ]
    },
    {
     "name": "stderr",
     "output_type": "stream",
     "text": [
      "c:\\repositories\\pipeline\\podpac\\podpac\\core\\coordinates\\dependent_coordinates.py:496: UserWarning: transformation of coordinate segment lengths not yet implemented\n",
      "  warnings.warn(\"transformation of coordinate segment lengths not yet implemented\")\n",
      "c:\\repositories\\pipeline\\podpac\\podpac\\core\\coordinates\\dependent_coordinates.py:498: UserWarning: transformation of coordinate segment lengths not yet implemented\n",
      "  warnings.warn(\"transformation of coordinate segment lengths not yet implemented\")\n",
      "c:\\repositories\\pipeline\\podpac\\podpac\\datalib\\smap_egi.py:204: RuntimeWarning: Mean of empty slice\n",
      "  lon = np.nanmean(lons, axis=0)\n",
      "c:\\repositories\\pipeline\\podpac\\podpac\\core\\coordinates\\array_coordinates1d.py:83: RuntimeWarning: invalid value encountered in less_equal\n",
      "  if np.any(deltas <= 0):\n",
      "c:\\repositories\\pipeline\\podpac\\podpac\\core\\coordinates\\dependent_coordinates.py:496: UserWarning: transformation of coordinate segment lengths not yet implemented\n",
      "  warnings.warn(\"transformation of coordinate segment lengths not yet implemented\")\n",
      "c:\\repositories\\pipeline\\podpac\\podpac\\core\\coordinates\\dependent_coordinates.py:498: UserWarning: transformation of coordinate segment lengths not yet implemented\n",
      "  warnings.warn(\"transformation of coordinate segment lengths not yet implemented\")\n"
     ]
    },
    {
     "name": "stdout",
     "output_type": "stream",
     "text": [
      "PM_QF "
     ]
    },
    {
     "name": "stderr",
     "output_type": "stream",
     "text": [
      "c:\\repositories\\pipeline\\podpac\\podpac\\datalib\\smap_egi.py:204: RuntimeWarning: Mean of empty slice\n",
      "  lon = np.nanmean(lons, axis=0)\n",
      "c:\\repositories\\pipeline\\podpac\\podpac\\core\\coordinates\\array_coordinates1d.py:83: RuntimeWarning: invalid value encountered in less_equal\n",
      "  if np.any(deltas <= 0):\n",
      "c:\\repositories\\pipeline\\podpac\\podpac\\core\\coordinates\\dependent_coordinates.py:496: UserWarning: transformation of coordinate segment lengths not yet implemented\n",
      "  warnings.warn(\"transformation of coordinate segment lengths not yet implemented\")\n",
      "c:\\repositories\\pipeline\\podpac\\podpac\\core\\coordinates\\dependent_coordinates.py:498: UserWarning: transformation of coordinate segment lengths not yet implemented\n",
      "  warnings.warn(\"transformation of coordinate segment lengths not yet implemented\")\n"
     ]
    },
    {
     "name": "stdout",
     "output_type": "stream",
     "text": [
      " ... Done.\n",
      "Updating S3 Zarr file for L3 Data.\n",
      "Updating S3 Zarr file for L3 Data.\n",
      "Download L3 Data for: UniformCoordinates1d(time): Bounds[2019-07-28T00:00:00.000000000, 2019-07-29T00:00:00.000000000], N[2], ctype['midpoint'] ...AM "
     ]
    },
    {
     "name": "stderr",
     "output_type": "stream",
     "text": [
      "c:\\repositories\\pipeline\\podpac\\podpac\\core\\coordinates\\dependent_coordinates.py:496: UserWarning: transformation of coordinate segment lengths not yet implemented\n",
      "  warnings.warn(\"transformation of coordinate segment lengths not yet implemented\")\n",
      "c:\\repositories\\pipeline\\podpac\\podpac\\core\\coordinates\\dependent_coordinates.py:498: UserWarning: transformation of coordinate segment lengths not yet implemented\n",
      "  warnings.warn(\"transformation of coordinate segment lengths not yet implemented\")\n",
      "c:\\repositories\\pipeline\\podpac\\podpac\\datalib\\smap_egi.py:204: RuntimeWarning: Mean of empty slice\n",
      "  lon = np.nanmean(lons, axis=0)\n",
      "c:\\repositories\\pipeline\\podpac\\podpac\\core\\coordinates\\array_coordinates1d.py:83: RuntimeWarning: invalid value encountered in less_equal\n",
      "  if np.any(deltas <= 0):\n",
      "c:\\repositories\\pipeline\\podpac\\podpac\\core\\coordinates\\dependent_coordinates.py:496: UserWarning: transformation of coordinate segment lengths not yet implemented\n",
      "  warnings.warn(\"transformation of coordinate segment lengths not yet implemented\")\n",
      "c:\\repositories\\pipeline\\podpac\\podpac\\core\\coordinates\\dependent_coordinates.py:498: UserWarning: transformation of coordinate segment lengths not yet implemented\n",
      "  warnings.warn(\"transformation of coordinate segment lengths not yet implemented\")\n"
     ]
    },
    {
     "name": "stdout",
     "output_type": "stream",
     "text": [
      "AM_QF "
     ]
    },
    {
     "name": "stderr",
     "output_type": "stream",
     "text": [
      "c:\\repositories\\pipeline\\podpac\\podpac\\datalib\\smap_egi.py:204: RuntimeWarning: Mean of empty slice\n",
      "  lon = np.nanmean(lons, axis=0)\n",
      "c:\\repositories\\pipeline\\podpac\\podpac\\core\\coordinates\\array_coordinates1d.py:83: RuntimeWarning: invalid value encountered in less_equal\n",
      "  if np.any(deltas <= 0):\n",
      "c:\\repositories\\pipeline\\podpac\\podpac\\core\\coordinates\\dependent_coordinates.py:496: UserWarning: transformation of coordinate segment lengths not yet implemented\n",
      "  warnings.warn(\"transformation of coordinate segment lengths not yet implemented\")\n",
      "c:\\repositories\\pipeline\\podpac\\podpac\\core\\coordinates\\dependent_coordinates.py:498: UserWarning: transformation of coordinate segment lengths not yet implemented\n",
      "  warnings.warn(\"transformation of coordinate segment lengths not yet implemented\")\n"
     ]
    },
    {
     "name": "stdout",
     "output_type": "stream",
     "text": [
      "PM "
     ]
    },
    {
     "name": "stderr",
     "output_type": "stream",
     "text": [
      "c:\\repositories\\pipeline\\podpac\\podpac\\core\\coordinates\\dependent_coordinates.py:496: UserWarning: transformation of coordinate segment lengths not yet implemented\n",
      "  warnings.warn(\"transformation of coordinate segment lengths not yet implemented\")\n",
      "c:\\repositories\\pipeline\\podpac\\podpac\\core\\coordinates\\dependent_coordinates.py:498: UserWarning: transformation of coordinate segment lengths not yet implemented\n",
      "  warnings.warn(\"transformation of coordinate segment lengths not yet implemented\")\n",
      "c:\\repositories\\pipeline\\podpac\\podpac\\datalib\\smap_egi.py:204: RuntimeWarning: Mean of empty slice\n",
      "  lon = np.nanmean(lons, axis=0)\n",
      "c:\\repositories\\pipeline\\podpac\\podpac\\core\\coordinates\\array_coordinates1d.py:83: RuntimeWarning: invalid value encountered in less_equal\n",
      "  if np.any(deltas <= 0):\n",
      "c:\\repositories\\pipeline\\podpac\\podpac\\core\\coordinates\\dependent_coordinates.py:496: UserWarning: transformation of coordinate segment lengths not yet implemented\n",
      "  warnings.warn(\"transformation of coordinate segment lengths not yet implemented\")\n",
      "c:\\repositories\\pipeline\\podpac\\podpac\\core\\coordinates\\dependent_coordinates.py:498: UserWarning: transformation of coordinate segment lengths not yet implemented\n",
      "  warnings.warn(\"transformation of coordinate segment lengths not yet implemented\")\n"
     ]
    },
    {
     "name": "stdout",
     "output_type": "stream",
     "text": [
      "PM_QF "
     ]
    },
    {
     "name": "stderr",
     "output_type": "stream",
     "text": [
      "c:\\repositories\\pipeline\\podpac\\podpac\\datalib\\smap_egi.py:204: RuntimeWarning: Mean of empty slice\n",
      "  lon = np.nanmean(lons, axis=0)\n",
      "c:\\repositories\\pipeline\\podpac\\podpac\\core\\coordinates\\array_coordinates1d.py:83: RuntimeWarning: invalid value encountered in less_equal\n",
      "  if np.any(deltas <= 0):\n",
      "c:\\repositories\\pipeline\\podpac\\podpac\\core\\coordinates\\dependent_coordinates.py:496: UserWarning: transformation of coordinate segment lengths not yet implemented\n",
      "  warnings.warn(\"transformation of coordinate segment lengths not yet implemented\")\n",
      "c:\\repositories\\pipeline\\podpac\\podpac\\core\\coordinates\\dependent_coordinates.py:498: UserWarning: transformation of coordinate segment lengths not yet implemented\n",
      "  warnings.warn(\"transformation of coordinate segment lengths not yet implemented\")\n"
     ]
    },
    {
     "name": "stdout",
     "output_type": "stream",
     "text": [
      " ... Done.\n",
      "Updating S3 Zarr file for L3 Data.\n",
      "Updating S3 Zarr file for L3 Data.\n",
      "Download L3 Data for: UniformCoordinates1d(time): Bounds[2019-07-30T00:00:00.000000000, 2019-07-31T00:00:00.000000000], N[2], ctype['midpoint'] ...AM "
     ]
    },
    {
     "name": "stderr",
     "output_type": "stream",
     "text": [
      "c:\\repositories\\pipeline\\podpac\\podpac\\core\\coordinates\\dependent_coordinates.py:496: UserWarning: transformation of coordinate segment lengths not yet implemented\n",
      "  warnings.warn(\"transformation of coordinate segment lengths not yet implemented\")\n",
      "c:\\repositories\\pipeline\\podpac\\podpac\\core\\coordinates\\dependent_coordinates.py:498: UserWarning: transformation of coordinate segment lengths not yet implemented\n",
      "  warnings.warn(\"transformation of coordinate segment lengths not yet implemented\")\n",
      "c:\\repositories\\pipeline\\podpac\\podpac\\datalib\\smap_egi.py:204: RuntimeWarning: Mean of empty slice\n",
      "  lon = np.nanmean(lons, axis=0)\n",
      "c:\\repositories\\pipeline\\podpac\\podpac\\core\\coordinates\\array_coordinates1d.py:83: RuntimeWarning: invalid value encountered in less_equal\n",
      "  if np.any(deltas <= 0):\n",
      "c:\\repositories\\pipeline\\podpac\\podpac\\core\\coordinates\\dependent_coordinates.py:496: UserWarning: transformation of coordinate segment lengths not yet implemented\n",
      "  warnings.warn(\"transformation of coordinate segment lengths not yet implemented\")\n",
      "c:\\repositories\\pipeline\\podpac\\podpac\\core\\coordinates\\dependent_coordinates.py:498: UserWarning: transformation of coordinate segment lengths not yet implemented\n",
      "  warnings.warn(\"transformation of coordinate segment lengths not yet implemented\")\n"
     ]
    },
    {
     "name": "stdout",
     "output_type": "stream",
     "text": [
      "AM_QF "
     ]
    },
    {
     "name": "stderr",
     "output_type": "stream",
     "text": [
      "c:\\repositories\\pipeline\\podpac\\podpac\\datalib\\smap_egi.py:204: RuntimeWarning: Mean of empty slice\n",
      "  lon = np.nanmean(lons, axis=0)\n",
      "c:\\repositories\\pipeline\\podpac\\podpac\\core\\coordinates\\array_coordinates1d.py:83: RuntimeWarning: invalid value encountered in less_equal\n",
      "  if np.any(deltas <= 0):\n",
      "c:\\repositories\\pipeline\\podpac\\podpac\\core\\coordinates\\dependent_coordinates.py:496: UserWarning: transformation of coordinate segment lengths not yet implemented\n",
      "  warnings.warn(\"transformation of coordinate segment lengths not yet implemented\")\n",
      "c:\\repositories\\pipeline\\podpac\\podpac\\core\\coordinates\\dependent_coordinates.py:498: UserWarning: transformation of coordinate segment lengths not yet implemented\n",
      "  warnings.warn(\"transformation of coordinate segment lengths not yet implemented\")\n"
     ]
    },
    {
     "name": "stdout",
     "output_type": "stream",
     "text": [
      "PM "
     ]
    },
    {
     "name": "stderr",
     "output_type": "stream",
     "text": [
      "c:\\repositories\\pipeline\\podpac\\podpac\\core\\coordinates\\dependent_coordinates.py:496: UserWarning: transformation of coordinate segment lengths not yet implemented\n",
      "  warnings.warn(\"transformation of coordinate segment lengths not yet implemented\")\n",
      "c:\\repositories\\pipeline\\podpac\\podpac\\core\\coordinates\\dependent_coordinates.py:498: UserWarning: transformation of coordinate segment lengths not yet implemented\n",
      "  warnings.warn(\"transformation of coordinate segment lengths not yet implemented\")\n",
      "c:\\repositories\\pipeline\\podpac\\podpac\\datalib\\smap_egi.py:204: RuntimeWarning: Mean of empty slice\n",
      "  lon = np.nanmean(lons, axis=0)\n",
      "c:\\repositories\\pipeline\\podpac\\podpac\\core\\coordinates\\array_coordinates1d.py:83: RuntimeWarning: invalid value encountered in less_equal\n",
      "  if np.any(deltas <= 0):\n",
      "c:\\repositories\\pipeline\\podpac\\podpac\\core\\coordinates\\dependent_coordinates.py:496: UserWarning: transformation of coordinate segment lengths not yet implemented\n",
      "  warnings.warn(\"transformation of coordinate segment lengths not yet implemented\")\n",
      "c:\\repositories\\pipeline\\podpac\\podpac\\core\\coordinates\\dependent_coordinates.py:498: UserWarning: transformation of coordinate segment lengths not yet implemented\n",
      "  warnings.warn(\"transformation of coordinate segment lengths not yet implemented\")\n"
     ]
    },
    {
     "name": "stdout",
     "output_type": "stream",
     "text": [
      "PM_QF "
     ]
    },
    {
     "name": "stderr",
     "output_type": "stream",
     "text": [
      "c:\\repositories\\pipeline\\podpac\\podpac\\datalib\\smap_egi.py:204: RuntimeWarning: Mean of empty slice\n",
      "  lon = np.nanmean(lons, axis=0)\n",
      "c:\\repositories\\pipeline\\podpac\\podpac\\core\\coordinates\\array_coordinates1d.py:83: RuntimeWarning: invalid value encountered in less_equal\n",
      "  if np.any(deltas <= 0):\n",
      "c:\\repositories\\pipeline\\podpac\\podpac\\core\\coordinates\\dependent_coordinates.py:496: UserWarning: transformation of coordinate segment lengths not yet implemented\n",
      "  warnings.warn(\"transformation of coordinate segment lengths not yet implemented\")\n",
      "c:\\repositories\\pipeline\\podpac\\podpac\\core\\coordinates\\dependent_coordinates.py:498: UserWarning: transformation of coordinate segment lengths not yet implemented\n",
      "  warnings.warn(\"transformation of coordinate segment lengths not yet implemented\")\n"
     ]
    },
    {
     "name": "stdout",
     "output_type": "stream",
     "text": [
      " ... Done.\n",
      "Updating S3 Zarr file for L3 Data.\n",
      "Updating S3 Zarr file for L3 Data.\n",
      "Download L3 Data for: UniformCoordinates1d(time): Bounds[2019-08-01T00:00:00.000000000, 2019-08-02T00:00:00.000000000], N[2], ctype['midpoint'] ...AM "
     ]
    },
    {
     "name": "stderr",
     "output_type": "stream",
     "text": [
      "c:\\repositories\\pipeline\\podpac\\podpac\\core\\coordinates\\dependent_coordinates.py:496: UserWarning: transformation of coordinate segment lengths not yet implemented\n",
      "  warnings.warn(\"transformation of coordinate segment lengths not yet implemented\")\n",
      "c:\\repositories\\pipeline\\podpac\\podpac\\core\\coordinates\\dependent_coordinates.py:498: UserWarning: transformation of coordinate segment lengths not yet implemented\n",
      "  warnings.warn(\"transformation of coordinate segment lengths not yet implemented\")\n",
      "c:\\repositories\\pipeline\\podpac\\podpac\\datalib\\smap_egi.py:204: RuntimeWarning: Mean of empty slice\n",
      "  lon = np.nanmean(lons, axis=0)\n",
      "c:\\repositories\\pipeline\\podpac\\podpac\\core\\coordinates\\array_coordinates1d.py:83: RuntimeWarning: invalid value encountered in less_equal\n",
      "  if np.any(deltas <= 0):\n",
      "c:\\repositories\\pipeline\\podpac\\podpac\\core\\coordinates\\dependent_coordinates.py:496: UserWarning: transformation of coordinate segment lengths not yet implemented\n",
      "  warnings.warn(\"transformation of coordinate segment lengths not yet implemented\")\n",
      "c:\\repositories\\pipeline\\podpac\\podpac\\core\\coordinates\\dependent_coordinates.py:498: UserWarning: transformation of coordinate segment lengths not yet implemented\n",
      "  warnings.warn(\"transformation of coordinate segment lengths not yet implemented\")\n"
     ]
    },
    {
     "name": "stdout",
     "output_type": "stream",
     "text": [
      "AM_QF "
     ]
    },
    {
     "name": "stderr",
     "output_type": "stream",
     "text": [
      "c:\\repositories\\pipeline\\podpac\\podpac\\datalib\\smap_egi.py:204: RuntimeWarning: Mean of empty slice\n",
      "  lon = np.nanmean(lons, axis=0)\n",
      "c:\\repositories\\pipeline\\podpac\\podpac\\core\\coordinates\\array_coordinates1d.py:83: RuntimeWarning: invalid value encountered in less_equal\n",
      "  if np.any(deltas <= 0):\n",
      "c:\\repositories\\pipeline\\podpac\\podpac\\core\\coordinates\\dependent_coordinates.py:496: UserWarning: transformation of coordinate segment lengths not yet implemented\n",
      "  warnings.warn(\"transformation of coordinate segment lengths not yet implemented\")\n",
      "c:\\repositories\\pipeline\\podpac\\podpac\\core\\coordinates\\dependent_coordinates.py:498: UserWarning: transformation of coordinate segment lengths not yet implemented\n",
      "  warnings.warn(\"transformation of coordinate segment lengths not yet implemented\")\n"
     ]
    },
    {
     "name": "stdout",
     "output_type": "stream",
     "text": [
      "PM "
     ]
    },
    {
     "name": "stderr",
     "output_type": "stream",
     "text": [
      "c:\\repositories\\pipeline\\podpac\\podpac\\core\\coordinates\\dependent_coordinates.py:496: UserWarning: transformation of coordinate segment lengths not yet implemented\n",
      "  warnings.warn(\"transformation of coordinate segment lengths not yet implemented\")\n",
      "c:\\repositories\\pipeline\\podpac\\podpac\\core\\coordinates\\dependent_coordinates.py:498: UserWarning: transformation of coordinate segment lengths not yet implemented\n",
      "  warnings.warn(\"transformation of coordinate segment lengths not yet implemented\")\n",
      "c:\\repositories\\pipeline\\podpac\\podpac\\datalib\\smap_egi.py:204: RuntimeWarning: Mean of empty slice\n",
      "  lon = np.nanmean(lons, axis=0)\n",
      "c:\\repositories\\pipeline\\podpac\\podpac\\core\\coordinates\\array_coordinates1d.py:83: RuntimeWarning: invalid value encountered in less_equal\n",
      "  if np.any(deltas <= 0):\n",
      "c:\\repositories\\pipeline\\podpac\\podpac\\core\\coordinates\\dependent_coordinates.py:496: UserWarning: transformation of coordinate segment lengths not yet implemented\n",
      "  warnings.warn(\"transformation of coordinate segment lengths not yet implemented\")\n",
      "c:\\repositories\\pipeline\\podpac\\podpac\\core\\coordinates\\dependent_coordinates.py:498: UserWarning: transformation of coordinate segment lengths not yet implemented\n",
      "  warnings.warn(\"transformation of coordinate segment lengths not yet implemented\")\n"
     ]
    },
    {
     "name": "stdout",
     "output_type": "stream",
     "text": [
      "PM_QF "
     ]
    },
    {
     "name": "stderr",
     "output_type": "stream",
     "text": [
      "c:\\repositories\\pipeline\\podpac\\podpac\\datalib\\smap_egi.py:204: RuntimeWarning: Mean of empty slice\n",
      "  lon = np.nanmean(lons, axis=0)\n",
      "c:\\repositories\\pipeline\\podpac\\podpac\\core\\coordinates\\array_coordinates1d.py:83: RuntimeWarning: invalid value encountered in less_equal\n",
      "  if np.any(deltas <= 0):\n",
      "c:\\repositories\\pipeline\\podpac\\podpac\\core\\coordinates\\dependent_coordinates.py:496: UserWarning: transformation of coordinate segment lengths not yet implemented\n",
      "  warnings.warn(\"transformation of coordinate segment lengths not yet implemented\")\n",
      "c:\\repositories\\pipeline\\podpac\\podpac\\core\\coordinates\\dependent_coordinates.py:498: UserWarning: transformation of coordinate segment lengths not yet implemented\n",
      "  warnings.warn(\"transformation of coordinate segment lengths not yet implemented\")\n"
     ]
    },
    {
     "name": "stdout",
     "output_type": "stream",
     "text": [
      " ... Done.\n",
      "Updating S3 Zarr file for L3 Data.\n",
      "Updating S3 Zarr file for L3 Data.\n",
      "Download L3 Data for: UniformCoordinates1d(time): Bounds[2019-08-03T00:00:00.000000000, 2019-08-04T00:00:00.000000000], N[2], ctype['midpoint'] ...AM "
     ]
    },
    {
     "name": "stderr",
     "output_type": "stream",
     "text": [
      "c:\\repositories\\pipeline\\podpac\\podpac\\core\\coordinates\\dependent_coordinates.py:496: UserWarning: transformation of coordinate segment lengths not yet implemented\n",
      "  warnings.warn(\"transformation of coordinate segment lengths not yet implemented\")\n",
      "c:\\repositories\\pipeline\\podpac\\podpac\\core\\coordinates\\dependent_coordinates.py:498: UserWarning: transformation of coordinate segment lengths not yet implemented\n",
      "  warnings.warn(\"transformation of coordinate segment lengths not yet implemented\")\n",
      "c:\\repositories\\pipeline\\podpac\\podpac\\datalib\\smap_egi.py:204: RuntimeWarning: Mean of empty slice\n",
      "  lon = np.nanmean(lons, axis=0)\n",
      "c:\\repositories\\pipeline\\podpac\\podpac\\core\\coordinates\\array_coordinates1d.py:83: RuntimeWarning: invalid value encountered in less_equal\n",
      "  if np.any(deltas <= 0):\n",
      "c:\\repositories\\pipeline\\podpac\\podpac\\core\\coordinates\\dependent_coordinates.py:496: UserWarning: transformation of coordinate segment lengths not yet implemented\n",
      "  warnings.warn(\"transformation of coordinate segment lengths not yet implemented\")\n",
      "c:\\repositories\\pipeline\\podpac\\podpac\\core\\coordinates\\dependent_coordinates.py:498: UserWarning: transformation of coordinate segment lengths not yet implemented\n",
      "  warnings.warn(\"transformation of coordinate segment lengths not yet implemented\")\n"
     ]
    },
    {
     "name": "stdout",
     "output_type": "stream",
     "text": [
      "AM_QF "
     ]
    },
    {
     "name": "stderr",
     "output_type": "stream",
     "text": [
      "c:\\repositories\\pipeline\\podpac\\podpac\\datalib\\smap_egi.py:204: RuntimeWarning: Mean of empty slice\n",
      "  lon = np.nanmean(lons, axis=0)\n",
      "c:\\repositories\\pipeline\\podpac\\podpac\\core\\coordinates\\array_coordinates1d.py:83: RuntimeWarning: invalid value encountered in less_equal\n",
      "  if np.any(deltas <= 0):\n",
      "c:\\repositories\\pipeline\\podpac\\podpac\\core\\coordinates\\dependent_coordinates.py:496: UserWarning: transformation of coordinate segment lengths not yet implemented\n",
      "  warnings.warn(\"transformation of coordinate segment lengths not yet implemented\")\n",
      "c:\\repositories\\pipeline\\podpac\\podpac\\core\\coordinates\\dependent_coordinates.py:498: UserWarning: transformation of coordinate segment lengths not yet implemented\n",
      "  warnings.warn(\"transformation of coordinate segment lengths not yet implemented\")\n"
     ]
    },
    {
     "name": "stdout",
     "output_type": "stream",
     "text": [
      "PM "
     ]
    },
    {
     "name": "stderr",
     "output_type": "stream",
     "text": [
      "c:\\repositories\\pipeline\\podpac\\podpac\\core\\coordinates\\dependent_coordinates.py:496: UserWarning: transformation of coordinate segment lengths not yet implemented\n",
      "  warnings.warn(\"transformation of coordinate segment lengths not yet implemented\")\n",
      "c:\\repositories\\pipeline\\podpac\\podpac\\core\\coordinates\\dependent_coordinates.py:498: UserWarning: transformation of coordinate segment lengths not yet implemented\n",
      "  warnings.warn(\"transformation of coordinate segment lengths not yet implemented\")\n",
      "c:\\repositories\\pipeline\\podpac\\podpac\\datalib\\smap_egi.py:204: RuntimeWarning: Mean of empty slice\n",
      "  lon = np.nanmean(lons, axis=0)\n",
      "c:\\repositories\\pipeline\\podpac\\podpac\\core\\coordinates\\array_coordinates1d.py:83: RuntimeWarning: invalid value encountered in less_equal\n",
      "  if np.any(deltas <= 0):\n",
      "c:\\repositories\\pipeline\\podpac\\podpac\\core\\coordinates\\dependent_coordinates.py:496: UserWarning: transformation of coordinate segment lengths not yet implemented\n",
      "  warnings.warn(\"transformation of coordinate segment lengths not yet implemented\")\n",
      "c:\\repositories\\pipeline\\podpac\\podpac\\core\\coordinates\\dependent_coordinates.py:498: UserWarning: transformation of coordinate segment lengths not yet implemented\n",
      "  warnings.warn(\"transformation of coordinate segment lengths not yet implemented\")\n"
     ]
    },
    {
     "name": "stdout",
     "output_type": "stream",
     "text": [
      "PM_QF "
     ]
    },
    {
     "name": "stderr",
     "output_type": "stream",
     "text": [
      "c:\\repositories\\pipeline\\podpac\\podpac\\datalib\\smap_egi.py:204: RuntimeWarning: Mean of empty slice\n",
      "  lon = np.nanmean(lons, axis=0)\n",
      "c:\\repositories\\pipeline\\podpac\\podpac\\core\\coordinates\\array_coordinates1d.py:83: RuntimeWarning: invalid value encountered in less_equal\n",
      "  if np.any(deltas <= 0):\n",
      "c:\\repositories\\pipeline\\podpac\\podpac\\core\\coordinates\\dependent_coordinates.py:496: UserWarning: transformation of coordinate segment lengths not yet implemented\n",
      "  warnings.warn(\"transformation of coordinate segment lengths not yet implemented\")\n",
      "c:\\repositories\\pipeline\\podpac\\podpac\\core\\coordinates\\dependent_coordinates.py:498: UserWarning: transformation of coordinate segment lengths not yet implemented\n",
      "  warnings.warn(\"transformation of coordinate segment lengths not yet implemented\")\n"
     ]
    },
    {
     "name": "stdout",
     "output_type": "stream",
     "text": [
      " ... Done.\n",
      "Updating S3 Zarr file for L3 Data.\n",
      "Updating S3 Zarr file for L3 Data.\n",
      "Download L3 Data for: UniformCoordinates1d(time): Bounds[2019-08-05T00:00:00.000000000, 2019-08-06T00:00:00.000000000], N[2], ctype['midpoint'] ...AM "
     ]
    },
    {
     "name": "stderr",
     "output_type": "stream",
     "text": [
      "c:\\repositories\\pipeline\\podpac\\podpac\\core\\coordinates\\dependent_coordinates.py:496: UserWarning: transformation of coordinate segment lengths not yet implemented\n",
      "  warnings.warn(\"transformation of coordinate segment lengths not yet implemented\")\n",
      "c:\\repositories\\pipeline\\podpac\\podpac\\core\\coordinates\\dependent_coordinates.py:498: UserWarning: transformation of coordinate segment lengths not yet implemented\n",
      "  warnings.warn(\"transformation of coordinate segment lengths not yet implemented\")\n",
      "c:\\repositories\\pipeline\\podpac\\podpac\\datalib\\smap_egi.py:204: RuntimeWarning: Mean of empty slice\n",
      "  lon = np.nanmean(lons, axis=0)\n",
      "c:\\repositories\\pipeline\\podpac\\podpac\\core\\coordinates\\array_coordinates1d.py:83: RuntimeWarning: invalid value encountered in less_equal\n",
      "  if np.any(deltas <= 0):\n",
      "c:\\repositories\\pipeline\\podpac\\podpac\\core\\coordinates\\dependent_coordinates.py:496: UserWarning: transformation of coordinate segment lengths not yet implemented\n",
      "  warnings.warn(\"transformation of coordinate segment lengths not yet implemented\")\n",
      "c:\\repositories\\pipeline\\podpac\\podpac\\core\\coordinates\\dependent_coordinates.py:498: UserWarning: transformation of coordinate segment lengths not yet implemented\n",
      "  warnings.warn(\"transformation of coordinate segment lengths not yet implemented\")\n"
     ]
    },
    {
     "name": "stdout",
     "output_type": "stream",
     "text": [
      "AM_QF "
     ]
    },
    {
     "name": "stderr",
     "output_type": "stream",
     "text": [
      "c:\\repositories\\pipeline\\podpac\\podpac\\datalib\\smap_egi.py:204: RuntimeWarning: Mean of empty slice\n",
      "  lon = np.nanmean(lons, axis=0)\n",
      "c:\\repositories\\pipeline\\podpac\\podpac\\core\\coordinates\\array_coordinates1d.py:83: RuntimeWarning: invalid value encountered in less_equal\n",
      "  if np.any(deltas <= 0):\n",
      "c:\\repositories\\pipeline\\podpac\\podpac\\core\\coordinates\\dependent_coordinates.py:496: UserWarning: transformation of coordinate segment lengths not yet implemented\n",
      "  warnings.warn(\"transformation of coordinate segment lengths not yet implemented\")\n",
      "c:\\repositories\\pipeline\\podpac\\podpac\\core\\coordinates\\dependent_coordinates.py:498: UserWarning: transformation of coordinate segment lengths not yet implemented\n",
      "  warnings.warn(\"transformation of coordinate segment lengths not yet implemented\")\n"
     ]
    },
    {
     "name": "stdout",
     "output_type": "stream",
     "text": [
      "PM "
     ]
    },
    {
     "name": "stderr",
     "output_type": "stream",
     "text": [
      "c:\\repositories\\pipeline\\podpac\\podpac\\core\\coordinates\\dependent_coordinates.py:496: UserWarning: transformation of coordinate segment lengths not yet implemented\n",
      "  warnings.warn(\"transformation of coordinate segment lengths not yet implemented\")\n",
      "c:\\repositories\\pipeline\\podpac\\podpac\\core\\coordinates\\dependent_coordinates.py:498: UserWarning: transformation of coordinate segment lengths not yet implemented\n",
      "  warnings.warn(\"transformation of coordinate segment lengths not yet implemented\")\n",
      "c:\\repositories\\pipeline\\podpac\\podpac\\datalib\\smap_egi.py:204: RuntimeWarning: Mean of empty slice\n",
      "  lon = np.nanmean(lons, axis=0)\n",
      "c:\\repositories\\pipeline\\podpac\\podpac\\core\\coordinates\\array_coordinates1d.py:83: RuntimeWarning: invalid value encountered in less_equal\n",
      "  if np.any(deltas <= 0):\n",
      "c:\\repositories\\pipeline\\podpac\\podpac\\core\\coordinates\\dependent_coordinates.py:496: UserWarning: transformation of coordinate segment lengths not yet implemented\n",
      "  warnings.warn(\"transformation of coordinate segment lengths not yet implemented\")\n",
      "c:\\repositories\\pipeline\\podpac\\podpac\\core\\coordinates\\dependent_coordinates.py:498: UserWarning: transformation of coordinate segment lengths not yet implemented\n",
      "  warnings.warn(\"transformation of coordinate segment lengths not yet implemented\")\n"
     ]
    },
    {
     "name": "stdout",
     "output_type": "stream",
     "text": [
      "PM_QF "
     ]
    },
    {
     "name": "stderr",
     "output_type": "stream",
     "text": [
      "c:\\repositories\\pipeline\\podpac\\podpac\\datalib\\smap_egi.py:204: RuntimeWarning: Mean of empty slice\n",
      "  lon = np.nanmean(lons, axis=0)\n",
      "c:\\repositories\\pipeline\\podpac\\podpac\\core\\coordinates\\array_coordinates1d.py:83: RuntimeWarning: invalid value encountered in less_equal\n",
      "  if np.any(deltas <= 0):\n",
      "c:\\repositories\\pipeline\\podpac\\podpac\\core\\coordinates\\dependent_coordinates.py:496: UserWarning: transformation of coordinate segment lengths not yet implemented\n",
      "  warnings.warn(\"transformation of coordinate segment lengths not yet implemented\")\n",
      "c:\\repositories\\pipeline\\podpac\\podpac\\core\\coordinates\\dependent_coordinates.py:498: UserWarning: transformation of coordinate segment lengths not yet implemented\n",
      "  warnings.warn(\"transformation of coordinate segment lengths not yet implemented\")\n"
     ]
    },
    {
     "name": "stdout",
     "output_type": "stream",
     "text": [
      " ... Done.\n",
      "Updating S3 Zarr file for L3 Data.\n",
      "Updating S3 Zarr file for L3 Data.\n",
      "Download L3 Data for: UniformCoordinates1d(time): Bounds[2019-08-07T00:00:00.000000000, 2019-08-08T00:00:00.000000000], N[2], ctype['midpoint'] ...AM "
     ]
    },
    {
     "name": "stderr",
     "output_type": "stream",
     "text": [
      "c:\\repositories\\pipeline\\podpac\\podpac\\core\\coordinates\\dependent_coordinates.py:496: UserWarning: transformation of coordinate segment lengths not yet implemented\n",
      "  warnings.warn(\"transformation of coordinate segment lengths not yet implemented\")\n",
      "c:\\repositories\\pipeline\\podpac\\podpac\\core\\coordinates\\dependent_coordinates.py:498: UserWarning: transformation of coordinate segment lengths not yet implemented\n",
      "  warnings.warn(\"transformation of coordinate segment lengths not yet implemented\")\n",
      "c:\\repositories\\pipeline\\podpac\\podpac\\datalib\\smap_egi.py:204: RuntimeWarning: Mean of empty slice\n",
      "  lon = np.nanmean(lons, axis=0)\n",
      "c:\\repositories\\pipeline\\podpac\\podpac\\core\\coordinates\\array_coordinates1d.py:83: RuntimeWarning: invalid value encountered in less_equal\n",
      "  if np.any(deltas <= 0):\n",
      "c:\\repositories\\pipeline\\podpac\\podpac\\core\\coordinates\\dependent_coordinates.py:496: UserWarning: transformation of coordinate segment lengths not yet implemented\n",
      "  warnings.warn(\"transformation of coordinate segment lengths not yet implemented\")\n",
      "c:\\repositories\\pipeline\\podpac\\podpac\\core\\coordinates\\dependent_coordinates.py:498: UserWarning: transformation of coordinate segment lengths not yet implemented\n",
      "  warnings.warn(\"transformation of coordinate segment lengths not yet implemented\")\n"
     ]
    },
    {
     "name": "stdout",
     "output_type": "stream",
     "text": [
      "AM_QF "
     ]
    },
    {
     "name": "stderr",
     "output_type": "stream",
     "text": [
      "c:\\repositories\\pipeline\\podpac\\podpac\\datalib\\smap_egi.py:204: RuntimeWarning: Mean of empty slice\n",
      "  lon = np.nanmean(lons, axis=0)\n",
      "c:\\repositories\\pipeline\\podpac\\podpac\\core\\coordinates\\array_coordinates1d.py:83: RuntimeWarning: invalid value encountered in less_equal\n",
      "  if np.any(deltas <= 0):\n",
      "c:\\repositories\\pipeline\\podpac\\podpac\\core\\coordinates\\dependent_coordinates.py:496: UserWarning: transformation of coordinate segment lengths not yet implemented\n",
      "  warnings.warn(\"transformation of coordinate segment lengths not yet implemented\")\n",
      "c:\\repositories\\pipeline\\podpac\\podpac\\core\\coordinates\\dependent_coordinates.py:498: UserWarning: transformation of coordinate segment lengths not yet implemented\n",
      "  warnings.warn(\"transformation of coordinate segment lengths not yet implemented\")\n"
     ]
    },
    {
     "name": "stdout",
     "output_type": "stream",
     "text": [
      "PM "
     ]
    },
    {
     "name": "stderr",
     "output_type": "stream",
     "text": [
      "c:\\repositories\\pipeline\\podpac\\podpac\\core\\coordinates\\dependent_coordinates.py:496: UserWarning: transformation of coordinate segment lengths not yet implemented\n",
      "  warnings.warn(\"transformation of coordinate segment lengths not yet implemented\")\n",
      "c:\\repositories\\pipeline\\podpac\\podpac\\core\\coordinates\\dependent_coordinates.py:498: UserWarning: transformation of coordinate segment lengths not yet implemented\n",
      "  warnings.warn(\"transformation of coordinate segment lengths not yet implemented\")\n",
      "c:\\repositories\\pipeline\\podpac\\podpac\\datalib\\smap_egi.py:204: RuntimeWarning: Mean of empty slice\n",
      "  lon = np.nanmean(lons, axis=0)\n",
      "c:\\repositories\\pipeline\\podpac\\podpac\\core\\coordinates\\array_coordinates1d.py:83: RuntimeWarning: invalid value encountered in less_equal\n",
      "  if np.any(deltas <= 0):\n",
      "c:\\repositories\\pipeline\\podpac\\podpac\\core\\coordinates\\dependent_coordinates.py:496: UserWarning: transformation of coordinate segment lengths not yet implemented\n",
      "  warnings.warn(\"transformation of coordinate segment lengths not yet implemented\")\n",
      "c:\\repositories\\pipeline\\podpac\\podpac\\core\\coordinates\\dependent_coordinates.py:498: UserWarning: transformation of coordinate segment lengths not yet implemented\n",
      "  warnings.warn(\"transformation of coordinate segment lengths not yet implemented\")\n"
     ]
    },
    {
     "name": "stdout",
     "output_type": "stream",
     "text": [
      "PM_QF "
     ]
    },
    {
     "name": "stderr",
     "output_type": "stream",
     "text": [
      "c:\\repositories\\pipeline\\podpac\\podpac\\datalib\\smap_egi.py:204: RuntimeWarning: Mean of empty slice\n",
      "  lon = np.nanmean(lons, axis=0)\n",
      "c:\\repositories\\pipeline\\podpac\\podpac\\core\\coordinates\\array_coordinates1d.py:83: RuntimeWarning: invalid value encountered in less_equal\n",
      "  if np.any(deltas <= 0):\n",
      "c:\\repositories\\pipeline\\podpac\\podpac\\core\\coordinates\\dependent_coordinates.py:496: UserWarning: transformation of coordinate segment lengths not yet implemented\n",
      "  warnings.warn(\"transformation of coordinate segment lengths not yet implemented\")\n",
      "c:\\repositories\\pipeline\\podpac\\podpac\\core\\coordinates\\dependent_coordinates.py:498: UserWarning: transformation of coordinate segment lengths not yet implemented\n",
      "  warnings.warn(\"transformation of coordinate segment lengths not yet implemented\")\n"
     ]
    },
    {
     "name": "stdout",
     "output_type": "stream",
     "text": [
      " ... Done.\n",
      "Updating S3 Zarr file for L3 Data.\n",
      "Updating S3 Zarr file for L3 Data.\n",
      "Download L3 Data for: UniformCoordinates1d(time): Bounds[2019-08-09T00:00:00.000000000, 2019-08-10T00:00:00.000000000], N[2], ctype['midpoint'] ...AM "
     ]
    },
    {
     "name": "stderr",
     "output_type": "stream",
     "text": [
      "c:\\repositories\\pipeline\\podpac\\podpac\\core\\coordinates\\dependent_coordinates.py:496: UserWarning: transformation of coordinate segment lengths not yet implemented\n",
      "  warnings.warn(\"transformation of coordinate segment lengths not yet implemented\")\n",
      "c:\\repositories\\pipeline\\podpac\\podpac\\core\\coordinates\\dependent_coordinates.py:498: UserWarning: transformation of coordinate segment lengths not yet implemented\n",
      "  warnings.warn(\"transformation of coordinate segment lengths not yet implemented\")\n",
      "c:\\repositories\\pipeline\\podpac\\podpac\\datalib\\smap_egi.py:204: RuntimeWarning: Mean of empty slice\n",
      "  lon = np.nanmean(lons, axis=0)\n",
      "c:\\repositories\\pipeline\\podpac\\podpac\\core\\coordinates\\array_coordinates1d.py:83: RuntimeWarning: invalid value encountered in less_equal\n",
      "  if np.any(deltas <= 0):\n",
      "c:\\repositories\\pipeline\\podpac\\podpac\\core\\coordinates\\dependent_coordinates.py:496: UserWarning: transformation of coordinate segment lengths not yet implemented\n",
      "  warnings.warn(\"transformation of coordinate segment lengths not yet implemented\")\n",
      "c:\\repositories\\pipeline\\podpac\\podpac\\core\\coordinates\\dependent_coordinates.py:498: UserWarning: transformation of coordinate segment lengths not yet implemented\n",
      "  warnings.warn(\"transformation of coordinate segment lengths not yet implemented\")\n"
     ]
    },
    {
     "name": "stdout",
     "output_type": "stream",
     "text": [
      "AM_QF "
     ]
    },
    {
     "name": "stderr",
     "output_type": "stream",
     "text": [
      "c:\\repositories\\pipeline\\podpac\\podpac\\datalib\\smap_egi.py:204: RuntimeWarning: Mean of empty slice\n",
      "  lon = np.nanmean(lons, axis=0)\n",
      "c:\\repositories\\pipeline\\podpac\\podpac\\core\\coordinates\\array_coordinates1d.py:83: RuntimeWarning: invalid value encountered in less_equal\n",
      "  if np.any(deltas <= 0):\n",
      "c:\\repositories\\pipeline\\podpac\\podpac\\core\\coordinates\\dependent_coordinates.py:496: UserWarning: transformation of coordinate segment lengths not yet implemented\n",
      "  warnings.warn(\"transformation of coordinate segment lengths not yet implemented\")\n",
      "c:\\repositories\\pipeline\\podpac\\podpac\\core\\coordinates\\dependent_coordinates.py:498: UserWarning: transformation of coordinate segment lengths not yet implemented\n",
      "  warnings.warn(\"transformation of coordinate segment lengths not yet implemented\")\n"
     ]
    },
    {
     "name": "stdout",
     "output_type": "stream",
     "text": [
      "PM "
     ]
    },
    {
     "name": "stderr",
     "output_type": "stream",
     "text": [
      "c:\\repositories\\pipeline\\podpac\\podpac\\core\\coordinates\\dependent_coordinates.py:496: UserWarning: transformation of coordinate segment lengths not yet implemented\n",
      "  warnings.warn(\"transformation of coordinate segment lengths not yet implemented\")\n",
      "c:\\repositories\\pipeline\\podpac\\podpac\\core\\coordinates\\dependent_coordinates.py:498: UserWarning: transformation of coordinate segment lengths not yet implemented\n",
      "  warnings.warn(\"transformation of coordinate segment lengths not yet implemented\")\n",
      "c:\\repositories\\pipeline\\podpac\\podpac\\datalib\\smap_egi.py:204: RuntimeWarning: Mean of empty slice\n",
      "  lon = np.nanmean(lons, axis=0)\n",
      "c:\\repositories\\pipeline\\podpac\\podpac\\core\\coordinates\\array_coordinates1d.py:83: RuntimeWarning: invalid value encountered in less_equal\n",
      "  if np.any(deltas <= 0):\n",
      "c:\\repositories\\pipeline\\podpac\\podpac\\core\\coordinates\\dependent_coordinates.py:496: UserWarning: transformation of coordinate segment lengths not yet implemented\n",
      "  warnings.warn(\"transformation of coordinate segment lengths not yet implemented\")\n",
      "c:\\repositories\\pipeline\\podpac\\podpac\\core\\coordinates\\dependent_coordinates.py:498: UserWarning: transformation of coordinate segment lengths not yet implemented\n",
      "  warnings.warn(\"transformation of coordinate segment lengths not yet implemented\")\n"
     ]
    },
    {
     "name": "stdout",
     "output_type": "stream",
     "text": [
      "PM_QF "
     ]
    },
    {
     "name": "stderr",
     "output_type": "stream",
     "text": [
      "c:\\repositories\\pipeline\\podpac\\podpac\\datalib\\smap_egi.py:204: RuntimeWarning: Mean of empty slice\n",
      "  lon = np.nanmean(lons, axis=0)\n",
      "c:\\repositories\\pipeline\\podpac\\podpac\\core\\coordinates\\array_coordinates1d.py:83: RuntimeWarning: invalid value encountered in less_equal\n",
      "  if np.any(deltas <= 0):\n",
      "c:\\repositories\\pipeline\\podpac\\podpac\\core\\coordinates\\dependent_coordinates.py:496: UserWarning: transformation of coordinate segment lengths not yet implemented\n",
      "  warnings.warn(\"transformation of coordinate segment lengths not yet implemented\")\n",
      "c:\\repositories\\pipeline\\podpac\\podpac\\core\\coordinates\\dependent_coordinates.py:498: UserWarning: transformation of coordinate segment lengths not yet implemented\n",
      "  warnings.warn(\"transformation of coordinate segment lengths not yet implemented\")\n"
     ]
    },
    {
     "name": "stdout",
     "output_type": "stream",
     "text": [
      " ... Done.\n",
      "Updating S3 Zarr file for L3 Data.\n",
      "Updating S3 Zarr file for L3 Data.\n",
      "Download L3 Data for: UniformCoordinates1d(time): Bounds[2019-08-11T00:00:00.000000000, 2019-08-12T00:00:00.000000000], N[2], ctype['midpoint'] ...AM "
     ]
    },
    {
     "name": "stderr",
     "output_type": "stream",
     "text": [
      "c:\\repositories\\pipeline\\podpac\\podpac\\core\\coordinates\\dependent_coordinates.py:496: UserWarning: transformation of coordinate segment lengths not yet implemented\n",
      "  warnings.warn(\"transformation of coordinate segment lengths not yet implemented\")\n",
      "c:\\repositories\\pipeline\\podpac\\podpac\\core\\coordinates\\dependent_coordinates.py:498: UserWarning: transformation of coordinate segment lengths not yet implemented\n",
      "  warnings.warn(\"transformation of coordinate segment lengths not yet implemented\")\n",
      "c:\\repositories\\pipeline\\podpac\\podpac\\datalib\\smap_egi.py:204: RuntimeWarning: Mean of empty slice\n",
      "  lon = np.nanmean(lons, axis=0)\n",
      "c:\\repositories\\pipeline\\podpac\\podpac\\core\\coordinates\\array_coordinates1d.py:83: RuntimeWarning: invalid value encountered in less_equal\n",
      "  if np.any(deltas <= 0):\n",
      "c:\\repositories\\pipeline\\podpac\\podpac\\core\\coordinates\\dependent_coordinates.py:496: UserWarning: transformation of coordinate segment lengths not yet implemented\n",
      "  warnings.warn(\"transformation of coordinate segment lengths not yet implemented\")\n",
      "c:\\repositories\\pipeline\\podpac\\podpac\\core\\coordinates\\dependent_coordinates.py:498: UserWarning: transformation of coordinate segment lengths not yet implemented\n",
      "  warnings.warn(\"transformation of coordinate segment lengths not yet implemented\")\n"
     ]
    },
    {
     "name": "stdout",
     "output_type": "stream",
     "text": [
      "AM_QF "
     ]
    },
    {
     "name": "stderr",
     "output_type": "stream",
     "text": [
      "c:\\repositories\\pipeline\\podpac\\podpac\\datalib\\smap_egi.py:204: RuntimeWarning: Mean of empty slice\n",
      "  lon = np.nanmean(lons, axis=0)\n",
      "c:\\repositories\\pipeline\\podpac\\podpac\\core\\coordinates\\array_coordinates1d.py:83: RuntimeWarning: invalid value encountered in less_equal\n",
      "  if np.any(deltas <= 0):\n",
      "c:\\repositories\\pipeline\\podpac\\podpac\\core\\coordinates\\dependent_coordinates.py:496: UserWarning: transformation of coordinate segment lengths not yet implemented\n",
      "  warnings.warn(\"transformation of coordinate segment lengths not yet implemented\")\n",
      "c:\\repositories\\pipeline\\podpac\\podpac\\core\\coordinates\\dependent_coordinates.py:498: UserWarning: transformation of coordinate segment lengths not yet implemented\n",
      "  warnings.warn(\"transformation of coordinate segment lengths not yet implemented\")\n"
     ]
    },
    {
     "name": "stdout",
     "output_type": "stream",
     "text": [
      "PM "
     ]
    },
    {
     "name": "stderr",
     "output_type": "stream",
     "text": [
      "c:\\repositories\\pipeline\\podpac\\podpac\\core\\coordinates\\dependent_coordinates.py:496: UserWarning: transformation of coordinate segment lengths not yet implemented\n",
      "  warnings.warn(\"transformation of coordinate segment lengths not yet implemented\")\n",
      "c:\\repositories\\pipeline\\podpac\\podpac\\core\\coordinates\\dependent_coordinates.py:498: UserWarning: transformation of coordinate segment lengths not yet implemented\n",
      "  warnings.warn(\"transformation of coordinate segment lengths not yet implemented\")\n",
      "c:\\repositories\\pipeline\\podpac\\podpac\\datalib\\smap_egi.py:204: RuntimeWarning: Mean of empty slice\n",
      "  lon = np.nanmean(lons, axis=0)\n",
      "c:\\repositories\\pipeline\\podpac\\podpac\\core\\coordinates\\array_coordinates1d.py:83: RuntimeWarning: invalid value encountered in less_equal\n",
      "  if np.any(deltas <= 0):\n",
      "c:\\repositories\\pipeline\\podpac\\podpac\\core\\coordinates\\dependent_coordinates.py:496: UserWarning: transformation of coordinate segment lengths not yet implemented\n",
      "  warnings.warn(\"transformation of coordinate segment lengths not yet implemented\")\n",
      "c:\\repositories\\pipeline\\podpac\\podpac\\core\\coordinates\\dependent_coordinates.py:498: UserWarning: transformation of coordinate segment lengths not yet implemented\n",
      "  warnings.warn(\"transformation of coordinate segment lengths not yet implemented\")\n"
     ]
    },
    {
     "name": "stdout",
     "output_type": "stream",
     "text": [
      "PM_QF "
     ]
    },
    {
     "name": "stderr",
     "output_type": "stream",
     "text": [
      "c:\\repositories\\pipeline\\podpac\\podpac\\datalib\\smap_egi.py:204: RuntimeWarning: Mean of empty slice\n",
      "  lon = np.nanmean(lons, axis=0)\n",
      "c:\\repositories\\pipeline\\podpac\\podpac\\core\\coordinates\\array_coordinates1d.py:83: RuntimeWarning: invalid value encountered in less_equal\n",
      "  if np.any(deltas <= 0):\n",
      "c:\\repositories\\pipeline\\podpac\\podpac\\core\\coordinates\\dependent_coordinates.py:496: UserWarning: transformation of coordinate segment lengths not yet implemented\n",
      "  warnings.warn(\"transformation of coordinate segment lengths not yet implemented\")\n",
      "c:\\repositories\\pipeline\\podpac\\podpac\\core\\coordinates\\dependent_coordinates.py:498: UserWarning: transformation of coordinate segment lengths not yet implemented\n",
      "  warnings.warn(\"transformation of coordinate segment lengths not yet implemented\")\n"
     ]
    },
    {
     "name": "stdout",
     "output_type": "stream",
     "text": [
      " ... Done.\n",
      "Updating S3 Zarr file for L3 Data.\n",
      "Updating S3 Zarr file for L3 Data.\n",
      "Download L3 Data for: UniformCoordinates1d(time): Bounds[2019-08-13T00:00:00.000000000, 2019-08-14T00:00:00.000000000], N[2], ctype['midpoint'] ...AM "
     ]
    },
    {
     "name": "stderr",
     "output_type": "stream",
     "text": [
      "c:\\repositories\\pipeline\\podpac\\podpac\\core\\coordinates\\dependent_coordinates.py:496: UserWarning: transformation of coordinate segment lengths not yet implemented\n",
      "  warnings.warn(\"transformation of coordinate segment lengths not yet implemented\")\n",
      "c:\\repositories\\pipeline\\podpac\\podpac\\core\\coordinates\\dependent_coordinates.py:498: UserWarning: transformation of coordinate segment lengths not yet implemented\n",
      "  warnings.warn(\"transformation of coordinate segment lengths not yet implemented\")\n",
      "c:\\repositories\\pipeline\\podpac\\podpac\\datalib\\smap_egi.py:204: RuntimeWarning: Mean of empty slice\n",
      "  lon = np.nanmean(lons, axis=0)\n",
      "c:\\repositories\\pipeline\\podpac\\podpac\\core\\coordinates\\array_coordinates1d.py:83: RuntimeWarning: invalid value encountered in less_equal\n",
      "  if np.any(deltas <= 0):\n",
      "c:\\repositories\\pipeline\\podpac\\podpac\\core\\coordinates\\dependent_coordinates.py:496: UserWarning: transformation of coordinate segment lengths not yet implemented\n",
      "  warnings.warn(\"transformation of coordinate segment lengths not yet implemented\")\n",
      "c:\\repositories\\pipeline\\podpac\\podpac\\core\\coordinates\\dependent_coordinates.py:498: UserWarning: transformation of coordinate segment lengths not yet implemented\n",
      "  warnings.warn(\"transformation of coordinate segment lengths not yet implemented\")\n"
     ]
    },
    {
     "name": "stdout",
     "output_type": "stream",
     "text": [
      "AM_QF "
     ]
    },
    {
     "name": "stderr",
     "output_type": "stream",
     "text": [
      "c:\\repositories\\pipeline\\podpac\\podpac\\datalib\\smap_egi.py:204: RuntimeWarning: Mean of empty slice\n",
      "  lon = np.nanmean(lons, axis=0)\n",
      "c:\\repositories\\pipeline\\podpac\\podpac\\core\\coordinates\\array_coordinates1d.py:83: RuntimeWarning: invalid value encountered in less_equal\n",
      "  if np.any(deltas <= 0):\n",
      "c:\\repositories\\pipeline\\podpac\\podpac\\core\\coordinates\\dependent_coordinates.py:496: UserWarning: transformation of coordinate segment lengths not yet implemented\n",
      "  warnings.warn(\"transformation of coordinate segment lengths not yet implemented\")\n",
      "c:\\repositories\\pipeline\\podpac\\podpac\\core\\coordinates\\dependent_coordinates.py:498: UserWarning: transformation of coordinate segment lengths not yet implemented\n",
      "  warnings.warn(\"transformation of coordinate segment lengths not yet implemented\")\n"
     ]
    },
    {
     "name": "stdout",
     "output_type": "stream",
     "text": [
      "PM "
     ]
    },
    {
     "name": "stderr",
     "output_type": "stream",
     "text": [
      "c:\\repositories\\pipeline\\podpac\\podpac\\core\\coordinates\\dependent_coordinates.py:496: UserWarning: transformation of coordinate segment lengths not yet implemented\n",
      "  warnings.warn(\"transformation of coordinate segment lengths not yet implemented\")\n",
      "c:\\repositories\\pipeline\\podpac\\podpac\\core\\coordinates\\dependent_coordinates.py:498: UserWarning: transformation of coordinate segment lengths not yet implemented\n",
      "  warnings.warn(\"transformation of coordinate segment lengths not yet implemented\")\n",
      "c:\\repositories\\pipeline\\podpac\\podpac\\datalib\\smap_egi.py:204: RuntimeWarning: Mean of empty slice\n",
      "  lon = np.nanmean(lons, axis=0)\n",
      "c:\\repositories\\pipeline\\podpac\\podpac\\core\\coordinates\\array_coordinates1d.py:83: RuntimeWarning: invalid value encountered in less_equal\n",
      "  if np.any(deltas <= 0):\n",
      "c:\\repositories\\pipeline\\podpac\\podpac\\core\\coordinates\\dependent_coordinates.py:496: UserWarning: transformation of coordinate segment lengths not yet implemented\n",
      "  warnings.warn(\"transformation of coordinate segment lengths not yet implemented\")\n",
      "c:\\repositories\\pipeline\\podpac\\podpac\\core\\coordinates\\dependent_coordinates.py:498: UserWarning: transformation of coordinate segment lengths not yet implemented\n",
      "  warnings.warn(\"transformation of coordinate segment lengths not yet implemented\")\n"
     ]
    },
    {
     "name": "stdout",
     "output_type": "stream",
     "text": [
      "PM_QF "
     ]
    },
    {
     "name": "stderr",
     "output_type": "stream",
     "text": [
      "c:\\repositories\\pipeline\\podpac\\podpac\\datalib\\smap_egi.py:204: RuntimeWarning: Mean of empty slice\n",
      "  lon = np.nanmean(lons, axis=0)\n",
      "c:\\repositories\\pipeline\\podpac\\podpac\\core\\coordinates\\array_coordinates1d.py:83: RuntimeWarning: invalid value encountered in less_equal\n",
      "  if np.any(deltas <= 0):\n",
      "c:\\repositories\\pipeline\\podpac\\podpac\\core\\coordinates\\dependent_coordinates.py:496: UserWarning: transformation of coordinate segment lengths not yet implemented\n",
      "  warnings.warn(\"transformation of coordinate segment lengths not yet implemented\")\n",
      "c:\\repositories\\pipeline\\podpac\\podpac\\core\\coordinates\\dependent_coordinates.py:498: UserWarning: transformation of coordinate segment lengths not yet implemented\n",
      "  warnings.warn(\"transformation of coordinate segment lengths not yet implemented\")\n"
     ]
    },
    {
     "name": "stdout",
     "output_type": "stream",
     "text": [
      " ... Done.\n",
      "Updating S3 Zarr file for L3 Data.\n",
      "Updating S3 Zarr file for L3 Data.\n",
      "Download L3 Data for: UniformCoordinates1d(time): Bounds[2019-08-15T00:00:00.000000000, 2019-08-16T00:00:00.000000000], N[2], ctype['midpoint'] ...AM "
     ]
    },
    {
     "name": "stderr",
     "output_type": "stream",
     "text": [
      "c:\\repositories\\pipeline\\podpac\\podpac\\core\\coordinates\\dependent_coordinates.py:496: UserWarning: transformation of coordinate segment lengths not yet implemented\n",
      "  warnings.warn(\"transformation of coordinate segment lengths not yet implemented\")\n",
      "c:\\repositories\\pipeline\\podpac\\podpac\\core\\coordinates\\dependent_coordinates.py:498: UserWarning: transformation of coordinate segment lengths not yet implemented\n",
      "  warnings.warn(\"transformation of coordinate segment lengths not yet implemented\")\n",
      "c:\\repositories\\pipeline\\podpac\\podpac\\datalib\\smap_egi.py:204: RuntimeWarning: Mean of empty slice\n",
      "  lon = np.nanmean(lons, axis=0)\n",
      "c:\\repositories\\pipeline\\podpac\\podpac\\core\\coordinates\\array_coordinates1d.py:83: RuntimeWarning: invalid value encountered in less_equal\n",
      "  if np.any(deltas <= 0):\n",
      "c:\\repositories\\pipeline\\podpac\\podpac\\core\\coordinates\\dependent_coordinates.py:496: UserWarning: transformation of coordinate segment lengths not yet implemented\n",
      "  warnings.warn(\"transformation of coordinate segment lengths not yet implemented\")\n",
      "c:\\repositories\\pipeline\\podpac\\podpac\\core\\coordinates\\dependent_coordinates.py:498: UserWarning: transformation of coordinate segment lengths not yet implemented\n",
      "  warnings.warn(\"transformation of coordinate segment lengths not yet implemented\")\n"
     ]
    },
    {
     "name": "stdout",
     "output_type": "stream",
     "text": [
      "AM_QF "
     ]
    },
    {
     "name": "stderr",
     "output_type": "stream",
     "text": [
      "c:\\repositories\\pipeline\\podpac\\podpac\\datalib\\smap_egi.py:204: RuntimeWarning: Mean of empty slice\n",
      "  lon = np.nanmean(lons, axis=0)\n",
      "c:\\repositories\\pipeline\\podpac\\podpac\\core\\coordinates\\array_coordinates1d.py:83: RuntimeWarning: invalid value encountered in less_equal\n",
      "  if np.any(deltas <= 0):\n",
      "c:\\repositories\\pipeline\\podpac\\podpac\\core\\coordinates\\dependent_coordinates.py:496: UserWarning: transformation of coordinate segment lengths not yet implemented\n",
      "  warnings.warn(\"transformation of coordinate segment lengths not yet implemented\")\n",
      "c:\\repositories\\pipeline\\podpac\\podpac\\core\\coordinates\\dependent_coordinates.py:498: UserWarning: transformation of coordinate segment lengths not yet implemented\n",
      "  warnings.warn(\"transformation of coordinate segment lengths not yet implemented\")\n"
     ]
    },
    {
     "name": "stdout",
     "output_type": "stream",
     "text": [
      "PM "
     ]
    },
    {
     "name": "stderr",
     "output_type": "stream",
     "text": [
      "c:\\repositories\\pipeline\\podpac\\podpac\\core\\coordinates\\dependent_coordinates.py:496: UserWarning: transformation of coordinate segment lengths not yet implemented\n",
      "  warnings.warn(\"transformation of coordinate segment lengths not yet implemented\")\n",
      "c:\\repositories\\pipeline\\podpac\\podpac\\core\\coordinates\\dependent_coordinates.py:498: UserWarning: transformation of coordinate segment lengths not yet implemented\n",
      "  warnings.warn(\"transformation of coordinate segment lengths not yet implemented\")\n",
      "c:\\repositories\\pipeline\\podpac\\podpac\\datalib\\smap_egi.py:204: RuntimeWarning: Mean of empty slice\n",
      "  lon = np.nanmean(lons, axis=0)\n",
      "c:\\repositories\\pipeline\\podpac\\podpac\\core\\coordinates\\array_coordinates1d.py:83: RuntimeWarning: invalid value encountered in less_equal\n",
      "  if np.any(deltas <= 0):\n",
      "c:\\repositories\\pipeline\\podpac\\podpac\\core\\coordinates\\dependent_coordinates.py:496: UserWarning: transformation of coordinate segment lengths not yet implemented\n",
      "  warnings.warn(\"transformation of coordinate segment lengths not yet implemented\")\n",
      "c:\\repositories\\pipeline\\podpac\\podpac\\core\\coordinates\\dependent_coordinates.py:498: UserWarning: transformation of coordinate segment lengths not yet implemented\n",
      "  warnings.warn(\"transformation of coordinate segment lengths not yet implemented\")\n"
     ]
    },
    {
     "name": "stdout",
     "output_type": "stream",
     "text": [
      "PM_QF "
     ]
    },
    {
     "name": "stderr",
     "output_type": "stream",
     "text": [
      "c:\\repositories\\pipeline\\podpac\\podpac\\datalib\\smap_egi.py:204: RuntimeWarning: Mean of empty slice\n",
      "  lon = np.nanmean(lons, axis=0)\n",
      "c:\\repositories\\pipeline\\podpac\\podpac\\core\\coordinates\\array_coordinates1d.py:83: RuntimeWarning: invalid value encountered in less_equal\n",
      "  if np.any(deltas <= 0):\n",
      "c:\\repositories\\pipeline\\podpac\\podpac\\core\\coordinates\\dependent_coordinates.py:496: UserWarning: transformation of coordinate segment lengths not yet implemented\n",
      "  warnings.warn(\"transformation of coordinate segment lengths not yet implemented\")\n",
      "c:\\repositories\\pipeline\\podpac\\podpac\\core\\coordinates\\dependent_coordinates.py:498: UserWarning: transformation of coordinate segment lengths not yet implemented\n",
      "  warnings.warn(\"transformation of coordinate segment lengths not yet implemented\")\n"
     ]
    },
    {
     "name": "stdout",
     "output_type": "stream",
     "text": [
      " ... Done.\n",
      "Updating S3 Zarr file for L3 Data.\n",
      "Updating S3 Zarr file for L3 Data.\n",
      "Download L3 Data for: UniformCoordinates1d(time): Bounds[2019-08-17T00:00:00.000000000, 2019-08-18T00:00:00.000000000], N[2], ctype['midpoint'] ...AM "
     ]
    },
    {
     "name": "stderr",
     "output_type": "stream",
     "text": [
      "c:\\repositories\\pipeline\\podpac\\podpac\\core\\coordinates\\dependent_coordinates.py:496: UserWarning: transformation of coordinate segment lengths not yet implemented\n",
      "  warnings.warn(\"transformation of coordinate segment lengths not yet implemented\")\n",
      "c:\\repositories\\pipeline\\podpac\\podpac\\core\\coordinates\\dependent_coordinates.py:498: UserWarning: transformation of coordinate segment lengths not yet implemented\n",
      "  warnings.warn(\"transformation of coordinate segment lengths not yet implemented\")\n",
      "c:\\repositories\\pipeline\\podpac\\podpac\\datalib\\smap_egi.py:204: RuntimeWarning: Mean of empty slice\n",
      "  lon = np.nanmean(lons, axis=0)\n",
      "c:\\repositories\\pipeline\\podpac\\podpac\\core\\coordinates\\array_coordinates1d.py:83: RuntimeWarning: invalid value encountered in less_equal\n",
      "  if np.any(deltas <= 0):\n",
      "c:\\repositories\\pipeline\\podpac\\podpac\\core\\coordinates\\dependent_coordinates.py:496: UserWarning: transformation of coordinate segment lengths not yet implemented\n",
      "  warnings.warn(\"transformation of coordinate segment lengths not yet implemented\")\n",
      "c:\\repositories\\pipeline\\podpac\\podpac\\core\\coordinates\\dependent_coordinates.py:498: UserWarning: transformation of coordinate segment lengths not yet implemented\n",
      "  warnings.warn(\"transformation of coordinate segment lengths not yet implemented\")\n"
     ]
    },
    {
     "name": "stdout",
     "output_type": "stream",
     "text": [
      "AM_QF "
     ]
    },
    {
     "name": "stderr",
     "output_type": "stream",
     "text": [
      "c:\\repositories\\pipeline\\podpac\\podpac\\datalib\\smap_egi.py:204: RuntimeWarning: Mean of empty slice\n",
      "  lon = np.nanmean(lons, axis=0)\n",
      "c:\\repositories\\pipeline\\podpac\\podpac\\core\\coordinates\\array_coordinates1d.py:83: RuntimeWarning: invalid value encountered in less_equal\n",
      "  if np.any(deltas <= 0):\n",
      "c:\\repositories\\pipeline\\podpac\\podpac\\core\\coordinates\\dependent_coordinates.py:496: UserWarning: transformation of coordinate segment lengths not yet implemented\n",
      "  warnings.warn(\"transformation of coordinate segment lengths not yet implemented\")\n",
      "c:\\repositories\\pipeline\\podpac\\podpac\\core\\coordinates\\dependent_coordinates.py:498: UserWarning: transformation of coordinate segment lengths not yet implemented\n",
      "  warnings.warn(\"transformation of coordinate segment lengths not yet implemented\")\n"
     ]
    },
    {
     "name": "stdout",
     "output_type": "stream",
     "text": [
      "PM "
     ]
    },
    {
     "name": "stderr",
     "output_type": "stream",
     "text": [
      "c:\\repositories\\pipeline\\podpac\\podpac\\core\\coordinates\\dependent_coordinates.py:496: UserWarning: transformation of coordinate segment lengths not yet implemented\n",
      "  warnings.warn(\"transformation of coordinate segment lengths not yet implemented\")\n",
      "c:\\repositories\\pipeline\\podpac\\podpac\\core\\coordinates\\dependent_coordinates.py:498: UserWarning: transformation of coordinate segment lengths not yet implemented\n",
      "  warnings.warn(\"transformation of coordinate segment lengths not yet implemented\")\n",
      "c:\\repositories\\pipeline\\podpac\\podpac\\datalib\\smap_egi.py:204: RuntimeWarning: Mean of empty slice\n",
      "  lon = np.nanmean(lons, axis=0)\n",
      "c:\\repositories\\pipeline\\podpac\\podpac\\core\\coordinates\\array_coordinates1d.py:83: RuntimeWarning: invalid value encountered in less_equal\n",
      "  if np.any(deltas <= 0):\n",
      "c:\\repositories\\pipeline\\podpac\\podpac\\core\\coordinates\\dependent_coordinates.py:496: UserWarning: transformation of coordinate segment lengths not yet implemented\n",
      "  warnings.warn(\"transformation of coordinate segment lengths not yet implemented\")\n",
      "c:\\repositories\\pipeline\\podpac\\podpac\\core\\coordinates\\dependent_coordinates.py:498: UserWarning: transformation of coordinate segment lengths not yet implemented\n",
      "  warnings.warn(\"transformation of coordinate segment lengths not yet implemented\")\n"
     ]
    },
    {
     "name": "stdout",
     "output_type": "stream",
     "text": [
      "PM_QF "
     ]
    },
    {
     "name": "stderr",
     "output_type": "stream",
     "text": [
      "c:\\repositories\\pipeline\\podpac\\podpac\\datalib\\smap_egi.py:204: RuntimeWarning: Mean of empty slice\n",
      "  lon = np.nanmean(lons, axis=0)\n",
      "c:\\repositories\\pipeline\\podpac\\podpac\\core\\coordinates\\array_coordinates1d.py:83: RuntimeWarning: invalid value encountered in less_equal\n",
      "  if np.any(deltas <= 0):\n",
      "c:\\repositories\\pipeline\\podpac\\podpac\\core\\coordinates\\dependent_coordinates.py:496: UserWarning: transformation of coordinate segment lengths not yet implemented\n",
      "  warnings.warn(\"transformation of coordinate segment lengths not yet implemented\")\n",
      "c:\\repositories\\pipeline\\podpac\\podpac\\core\\coordinates\\dependent_coordinates.py:498: UserWarning: transformation of coordinate segment lengths not yet implemented\n",
      "  warnings.warn(\"transformation of coordinate segment lengths not yet implemented\")\n"
     ]
    },
    {
     "name": "stdout",
     "output_type": "stream",
     "text": [
      " ... Done.\n",
      "Updating S3 Zarr file for L3 Data.\n",
      "Updating S3 Zarr file for L3 Data.\n",
      "Download L3 Data for: UniformCoordinates1d(time): Bounds[2019-08-19T00:00:00.000000000, 2019-08-20T00:00:00.000000000], N[2], ctype['midpoint'] ...AM "
     ]
    },
    {
     "name": "stderr",
     "output_type": "stream",
     "text": [
      "c:\\repositories\\pipeline\\podpac\\podpac\\core\\coordinates\\dependent_coordinates.py:496: UserWarning: transformation of coordinate segment lengths not yet implemented\n",
      "  warnings.warn(\"transformation of coordinate segment lengths not yet implemented\")\n",
      "c:\\repositories\\pipeline\\podpac\\podpac\\core\\coordinates\\dependent_coordinates.py:498: UserWarning: transformation of coordinate segment lengths not yet implemented\n",
      "  warnings.warn(\"transformation of coordinate segment lengths not yet implemented\")\n",
      "c:\\repositories\\pipeline\\podpac\\podpac\\datalib\\smap_egi.py:204: RuntimeWarning: Mean of empty slice\n",
      "  lon = np.nanmean(lons, axis=0)\n",
      "c:\\repositories\\pipeline\\podpac\\podpac\\core\\coordinates\\array_coordinates1d.py:83: RuntimeWarning: invalid value encountered in less_equal\n",
      "  if np.any(deltas <= 0):\n",
      "c:\\repositories\\pipeline\\podpac\\podpac\\core\\coordinates\\dependent_coordinates.py:496: UserWarning: transformation of coordinate segment lengths not yet implemented\n",
      "  warnings.warn(\"transformation of coordinate segment lengths not yet implemented\")\n",
      "c:\\repositories\\pipeline\\podpac\\podpac\\core\\coordinates\\dependent_coordinates.py:498: UserWarning: transformation of coordinate segment lengths not yet implemented\n",
      "  warnings.warn(\"transformation of coordinate segment lengths not yet implemented\")\n"
     ]
    },
    {
     "name": "stdout",
     "output_type": "stream",
     "text": [
      "AM_QF "
     ]
    },
    {
     "name": "stderr",
     "output_type": "stream",
     "text": [
      "c:\\repositories\\pipeline\\podpac\\podpac\\datalib\\smap_egi.py:204: RuntimeWarning: Mean of empty slice\n",
      "  lon = np.nanmean(lons, axis=0)\n",
      "c:\\repositories\\pipeline\\podpac\\podpac\\core\\coordinates\\array_coordinates1d.py:83: RuntimeWarning: invalid value encountered in less_equal\n",
      "  if np.any(deltas <= 0):\n",
      "c:\\repositories\\pipeline\\podpac\\podpac\\core\\coordinates\\dependent_coordinates.py:496: UserWarning: transformation of coordinate segment lengths not yet implemented\n",
      "  warnings.warn(\"transformation of coordinate segment lengths not yet implemented\")\n",
      "c:\\repositories\\pipeline\\podpac\\podpac\\core\\coordinates\\dependent_coordinates.py:498: UserWarning: transformation of coordinate segment lengths not yet implemented\n",
      "  warnings.warn(\"transformation of coordinate segment lengths not yet implemented\")\n"
     ]
    },
    {
     "name": "stdout",
     "output_type": "stream",
     "text": [
      "PM "
     ]
    },
    {
     "name": "stderr",
     "output_type": "stream",
     "text": [
      "c:\\repositories\\pipeline\\podpac\\podpac\\core\\coordinates\\dependent_coordinates.py:496: UserWarning: transformation of coordinate segment lengths not yet implemented\n",
      "  warnings.warn(\"transformation of coordinate segment lengths not yet implemented\")\n",
      "c:\\repositories\\pipeline\\podpac\\podpac\\core\\coordinates\\dependent_coordinates.py:498: UserWarning: transformation of coordinate segment lengths not yet implemented\n",
      "  warnings.warn(\"transformation of coordinate segment lengths not yet implemented\")\n",
      "c:\\repositories\\pipeline\\podpac\\podpac\\datalib\\smap_egi.py:204: RuntimeWarning: Mean of empty slice\n",
      "  lon = np.nanmean(lons, axis=0)\n",
      "c:\\repositories\\pipeline\\podpac\\podpac\\core\\coordinates\\array_coordinates1d.py:83: RuntimeWarning: invalid value encountered in less_equal\n",
      "  if np.any(deltas <= 0):\n",
      "c:\\repositories\\pipeline\\podpac\\podpac\\core\\coordinates\\dependent_coordinates.py:496: UserWarning: transformation of coordinate segment lengths not yet implemented\n",
      "  warnings.warn(\"transformation of coordinate segment lengths not yet implemented\")\n",
      "c:\\repositories\\pipeline\\podpac\\podpac\\core\\coordinates\\dependent_coordinates.py:498: UserWarning: transformation of coordinate segment lengths not yet implemented\n",
      "  warnings.warn(\"transformation of coordinate segment lengths not yet implemented\")\n"
     ]
    },
    {
     "name": "stdout",
     "output_type": "stream",
     "text": [
      "PM_QF "
     ]
    },
    {
     "name": "stderr",
     "output_type": "stream",
     "text": [
      "c:\\repositories\\pipeline\\podpac\\podpac\\datalib\\smap_egi.py:204: RuntimeWarning: Mean of empty slice\n",
      "  lon = np.nanmean(lons, axis=0)\n",
      "c:\\repositories\\pipeline\\podpac\\podpac\\core\\coordinates\\array_coordinates1d.py:83: RuntimeWarning: invalid value encountered in less_equal\n",
      "  if np.any(deltas <= 0):\n",
      "c:\\repositories\\pipeline\\podpac\\podpac\\core\\coordinates\\dependent_coordinates.py:496: UserWarning: transformation of coordinate segment lengths not yet implemented\n",
      "  warnings.warn(\"transformation of coordinate segment lengths not yet implemented\")\n",
      "c:\\repositories\\pipeline\\podpac\\podpac\\core\\coordinates\\dependent_coordinates.py:498: UserWarning: transformation of coordinate segment lengths not yet implemented\n",
      "  warnings.warn(\"transformation of coordinate segment lengths not yet implemented\")\n"
     ]
    },
    {
     "name": "stdout",
     "output_type": "stream",
     "text": [
      " ... Done.\n",
      "Updating S3 Zarr file for L3 Data.\n",
      "Updating S3 Zarr file for L3 Data.\n",
      "Download L3 Data for: UniformCoordinates1d(time): Bounds[2019-08-21T00:00:00.000000000, 2019-08-22T00:00:00.000000000], N[2], ctype['midpoint'] ...AM "
     ]
    },
    {
     "name": "stderr",
     "output_type": "stream",
     "text": [
      "c:\\repositories\\pipeline\\podpac\\podpac\\core\\coordinates\\dependent_coordinates.py:496: UserWarning: transformation of coordinate segment lengths not yet implemented\n",
      "  warnings.warn(\"transformation of coordinate segment lengths not yet implemented\")\n",
      "c:\\repositories\\pipeline\\podpac\\podpac\\core\\coordinates\\dependent_coordinates.py:498: UserWarning: transformation of coordinate segment lengths not yet implemented\n",
      "  warnings.warn(\"transformation of coordinate segment lengths not yet implemented\")\n",
      "c:\\repositories\\pipeline\\podpac\\podpac\\datalib\\smap_egi.py:204: RuntimeWarning: Mean of empty slice\n",
      "  lon = np.nanmean(lons, axis=0)\n",
      "c:\\repositories\\pipeline\\podpac\\podpac\\core\\coordinates\\array_coordinates1d.py:83: RuntimeWarning: invalid value encountered in less_equal\n",
      "  if np.any(deltas <= 0):\n",
      "c:\\repositories\\pipeline\\podpac\\podpac\\core\\coordinates\\dependent_coordinates.py:496: UserWarning: transformation of coordinate segment lengths not yet implemented\n",
      "  warnings.warn(\"transformation of coordinate segment lengths not yet implemented\")\n",
      "c:\\repositories\\pipeline\\podpac\\podpac\\core\\coordinates\\dependent_coordinates.py:498: UserWarning: transformation of coordinate segment lengths not yet implemented\n",
      "  warnings.warn(\"transformation of coordinate segment lengths not yet implemented\")\n"
     ]
    },
    {
     "name": "stdout",
     "output_type": "stream",
     "text": [
      "AM_QF "
     ]
    },
    {
     "name": "stderr",
     "output_type": "stream",
     "text": [
      "c:\\repositories\\pipeline\\podpac\\podpac\\datalib\\smap_egi.py:204: RuntimeWarning: Mean of empty slice\n",
      "  lon = np.nanmean(lons, axis=0)\n",
      "c:\\repositories\\pipeline\\podpac\\podpac\\core\\coordinates\\array_coordinates1d.py:83: RuntimeWarning: invalid value encountered in less_equal\n",
      "  if np.any(deltas <= 0):\n",
      "c:\\repositories\\pipeline\\podpac\\podpac\\core\\coordinates\\dependent_coordinates.py:496: UserWarning: transformation of coordinate segment lengths not yet implemented\n",
      "  warnings.warn(\"transformation of coordinate segment lengths not yet implemented\")\n",
      "c:\\repositories\\pipeline\\podpac\\podpac\\core\\coordinates\\dependent_coordinates.py:498: UserWarning: transformation of coordinate segment lengths not yet implemented\n",
      "  warnings.warn(\"transformation of coordinate segment lengths not yet implemented\")\n"
     ]
    },
    {
     "name": "stdout",
     "output_type": "stream",
     "text": [
      "PM "
     ]
    },
    {
     "name": "stderr",
     "output_type": "stream",
     "text": [
      "c:\\repositories\\pipeline\\podpac\\podpac\\core\\coordinates\\dependent_coordinates.py:496: UserWarning: transformation of coordinate segment lengths not yet implemented\n",
      "  warnings.warn(\"transformation of coordinate segment lengths not yet implemented\")\n",
      "c:\\repositories\\pipeline\\podpac\\podpac\\core\\coordinates\\dependent_coordinates.py:498: UserWarning: transformation of coordinate segment lengths not yet implemented\n",
      "  warnings.warn(\"transformation of coordinate segment lengths not yet implemented\")\n",
      "c:\\repositories\\pipeline\\podpac\\podpac\\datalib\\smap_egi.py:204: RuntimeWarning: Mean of empty slice\n",
      "  lon = np.nanmean(lons, axis=0)\n",
      "c:\\repositories\\pipeline\\podpac\\podpac\\core\\coordinates\\array_coordinates1d.py:83: RuntimeWarning: invalid value encountered in less_equal\n",
      "  if np.any(deltas <= 0):\n",
      "c:\\repositories\\pipeline\\podpac\\podpac\\core\\coordinates\\dependent_coordinates.py:496: UserWarning: transformation of coordinate segment lengths not yet implemented\n",
      "  warnings.warn(\"transformation of coordinate segment lengths not yet implemented\")\n",
      "c:\\repositories\\pipeline\\podpac\\podpac\\core\\coordinates\\dependent_coordinates.py:498: UserWarning: transformation of coordinate segment lengths not yet implemented\n",
      "  warnings.warn(\"transformation of coordinate segment lengths not yet implemented\")\n"
     ]
    },
    {
     "name": "stdout",
     "output_type": "stream",
     "text": [
      "PM_QF "
     ]
    },
    {
     "name": "stderr",
     "output_type": "stream",
     "text": [
      "c:\\repositories\\pipeline\\podpac\\podpac\\datalib\\smap_egi.py:204: RuntimeWarning: Mean of empty slice\n",
      "  lon = np.nanmean(lons, axis=0)\n",
      "c:\\repositories\\pipeline\\podpac\\podpac\\core\\coordinates\\array_coordinates1d.py:83: RuntimeWarning: invalid value encountered in less_equal\n",
      "  if np.any(deltas <= 0):\n",
      "c:\\repositories\\pipeline\\podpac\\podpac\\core\\coordinates\\dependent_coordinates.py:496: UserWarning: transformation of coordinate segment lengths not yet implemented\n",
      "  warnings.warn(\"transformation of coordinate segment lengths not yet implemented\")\n",
      "c:\\repositories\\pipeline\\podpac\\podpac\\core\\coordinates\\dependent_coordinates.py:498: UserWarning: transformation of coordinate segment lengths not yet implemented\n",
      "  warnings.warn(\"transformation of coordinate segment lengths not yet implemented\")\n"
     ]
    },
    {
     "name": "stdout",
     "output_type": "stream",
     "text": [
      " ... Done.\n",
      "Updating S3 Zarr file for L3 Data.\n",
      "Updating S3 Zarr file for L3 Data.\n",
      "Download L3 Data for: UniformCoordinates1d(time): Bounds[2019-08-23T00:00:00.000000000, 2019-08-24T00:00:00.000000000], N[2], ctype['midpoint'] ...AM "
     ]
    },
    {
     "name": "stderr",
     "output_type": "stream",
     "text": [
      "c:\\repositories\\pipeline\\podpac\\podpac\\core\\coordinates\\dependent_coordinates.py:496: UserWarning: transformation of coordinate segment lengths not yet implemented\n",
      "  warnings.warn(\"transformation of coordinate segment lengths not yet implemented\")\n",
      "c:\\repositories\\pipeline\\podpac\\podpac\\core\\coordinates\\dependent_coordinates.py:498: UserWarning: transformation of coordinate segment lengths not yet implemented\n",
      "  warnings.warn(\"transformation of coordinate segment lengths not yet implemented\")\n",
      "c:\\repositories\\pipeline\\podpac\\podpac\\datalib\\smap_egi.py:204: RuntimeWarning: Mean of empty slice\n",
      "  lon = np.nanmean(lons, axis=0)\n",
      "c:\\repositories\\pipeline\\podpac\\podpac\\core\\coordinates\\array_coordinates1d.py:83: RuntimeWarning: invalid value encountered in less_equal\n",
      "  if np.any(deltas <= 0):\n",
      "c:\\repositories\\pipeline\\podpac\\podpac\\core\\coordinates\\dependent_coordinates.py:496: UserWarning: transformation of coordinate segment lengths not yet implemented\n",
      "  warnings.warn(\"transformation of coordinate segment lengths not yet implemented\")\n",
      "c:\\repositories\\pipeline\\podpac\\podpac\\core\\coordinates\\dependent_coordinates.py:498: UserWarning: transformation of coordinate segment lengths not yet implemented\n",
      "  warnings.warn(\"transformation of coordinate segment lengths not yet implemented\")\n"
     ]
    },
    {
     "name": "stdout",
     "output_type": "stream",
     "text": [
      "AM_QF "
     ]
    },
    {
     "name": "stderr",
     "output_type": "stream",
     "text": [
      "c:\\repositories\\pipeline\\podpac\\podpac\\datalib\\smap_egi.py:204: RuntimeWarning: Mean of empty slice\n",
      "  lon = np.nanmean(lons, axis=0)\n",
      "c:\\repositories\\pipeline\\podpac\\podpac\\core\\coordinates\\array_coordinates1d.py:83: RuntimeWarning: invalid value encountered in less_equal\n",
      "  if np.any(deltas <= 0):\n",
      "c:\\repositories\\pipeline\\podpac\\podpac\\core\\coordinates\\dependent_coordinates.py:496: UserWarning: transformation of coordinate segment lengths not yet implemented\n",
      "  warnings.warn(\"transformation of coordinate segment lengths not yet implemented\")\n",
      "c:\\repositories\\pipeline\\podpac\\podpac\\core\\coordinates\\dependent_coordinates.py:498: UserWarning: transformation of coordinate segment lengths not yet implemented\n",
      "  warnings.warn(\"transformation of coordinate segment lengths not yet implemented\")\n"
     ]
    },
    {
     "name": "stdout",
     "output_type": "stream",
     "text": [
      "PM "
     ]
    },
    {
     "name": "stderr",
     "output_type": "stream",
     "text": [
      "c:\\repositories\\pipeline\\podpac\\podpac\\core\\coordinates\\dependent_coordinates.py:496: UserWarning: transformation of coordinate segment lengths not yet implemented\n",
      "  warnings.warn(\"transformation of coordinate segment lengths not yet implemented\")\n",
      "c:\\repositories\\pipeline\\podpac\\podpac\\core\\coordinates\\dependent_coordinates.py:498: UserWarning: transformation of coordinate segment lengths not yet implemented\n",
      "  warnings.warn(\"transformation of coordinate segment lengths not yet implemented\")\n",
      "c:\\repositories\\pipeline\\podpac\\podpac\\datalib\\smap_egi.py:204: RuntimeWarning: Mean of empty slice\n",
      "  lon = np.nanmean(lons, axis=0)\n",
      "c:\\repositories\\pipeline\\podpac\\podpac\\core\\coordinates\\array_coordinates1d.py:83: RuntimeWarning: invalid value encountered in less_equal\n",
      "  if np.any(deltas <= 0):\n",
      "c:\\repositories\\pipeline\\podpac\\podpac\\core\\coordinates\\dependent_coordinates.py:496: UserWarning: transformation of coordinate segment lengths not yet implemented\n",
      "  warnings.warn(\"transformation of coordinate segment lengths not yet implemented\")\n",
      "c:\\repositories\\pipeline\\podpac\\podpac\\core\\coordinates\\dependent_coordinates.py:498: UserWarning: transformation of coordinate segment lengths not yet implemented\n",
      "  warnings.warn(\"transformation of coordinate segment lengths not yet implemented\")\n"
     ]
    },
    {
     "name": "stdout",
     "output_type": "stream",
     "text": [
      "PM_QF "
     ]
    },
    {
     "name": "stderr",
     "output_type": "stream",
     "text": [
      "c:\\repositories\\pipeline\\podpac\\podpac\\datalib\\smap_egi.py:204: RuntimeWarning: Mean of empty slice\n",
      "  lon = np.nanmean(lons, axis=0)\n",
      "c:\\repositories\\pipeline\\podpac\\podpac\\core\\coordinates\\array_coordinates1d.py:83: RuntimeWarning: invalid value encountered in less_equal\n",
      "  if np.any(deltas <= 0):\n",
      "c:\\repositories\\pipeline\\podpac\\podpac\\core\\coordinates\\dependent_coordinates.py:496: UserWarning: transformation of coordinate segment lengths not yet implemented\n",
      "  warnings.warn(\"transformation of coordinate segment lengths not yet implemented\")\n",
      "c:\\repositories\\pipeline\\podpac\\podpac\\core\\coordinates\\dependent_coordinates.py:498: UserWarning: transformation of coordinate segment lengths not yet implemented\n",
      "  warnings.warn(\"transformation of coordinate segment lengths not yet implemented\")\n"
     ]
    },
    {
     "name": "stdout",
     "output_type": "stream",
     "text": [
      " ... Done.\n",
      "Updating S3 Zarr file for L3 Data.\n",
      "Updating S3 Zarr file for L3 Data.\n",
      "Download L3 Data for: UniformCoordinates1d(time): Bounds[2019-08-25T00:00:00.000000000, 2019-08-26T00:00:00.000000000], N[2], ctype['midpoint'] ...AM "
     ]
    },
    {
     "name": "stderr",
     "output_type": "stream",
     "text": [
      "c:\\repositories\\pipeline\\podpac\\podpac\\core\\coordinates\\dependent_coordinates.py:496: UserWarning: transformation of coordinate segment lengths not yet implemented\n",
      "  warnings.warn(\"transformation of coordinate segment lengths not yet implemented\")\n",
      "c:\\repositories\\pipeline\\podpac\\podpac\\core\\coordinates\\dependent_coordinates.py:498: UserWarning: transformation of coordinate segment lengths not yet implemented\n",
      "  warnings.warn(\"transformation of coordinate segment lengths not yet implemented\")\n",
      "c:\\repositories\\pipeline\\podpac\\podpac\\datalib\\smap_egi.py:204: RuntimeWarning: Mean of empty slice\n",
      "  lon = np.nanmean(lons, axis=0)\n",
      "c:\\repositories\\pipeline\\podpac\\podpac\\core\\coordinates\\array_coordinates1d.py:83: RuntimeWarning: invalid value encountered in less_equal\n",
      "  if np.any(deltas <= 0):\n",
      "c:\\repositories\\pipeline\\podpac\\podpac\\core\\coordinates\\dependent_coordinates.py:496: UserWarning: transformation of coordinate segment lengths not yet implemented\n",
      "  warnings.warn(\"transformation of coordinate segment lengths not yet implemented\")\n",
      "c:\\repositories\\pipeline\\podpac\\podpac\\core\\coordinates\\dependent_coordinates.py:498: UserWarning: transformation of coordinate segment lengths not yet implemented\n",
      "  warnings.warn(\"transformation of coordinate segment lengths not yet implemented\")\n"
     ]
    },
    {
     "name": "stdout",
     "output_type": "stream",
     "text": [
      "AM_QF "
     ]
    },
    {
     "name": "stderr",
     "output_type": "stream",
     "text": [
      "c:\\repositories\\pipeline\\podpac\\podpac\\datalib\\smap_egi.py:204: RuntimeWarning: Mean of empty slice\n",
      "  lon = np.nanmean(lons, axis=0)\n",
      "c:\\repositories\\pipeline\\podpac\\podpac\\core\\coordinates\\array_coordinates1d.py:83: RuntimeWarning: invalid value encountered in less_equal\n",
      "  if np.any(deltas <= 0):\n",
      "c:\\repositories\\pipeline\\podpac\\podpac\\core\\coordinates\\dependent_coordinates.py:496: UserWarning: transformation of coordinate segment lengths not yet implemented\n",
      "  warnings.warn(\"transformation of coordinate segment lengths not yet implemented\")\n",
      "c:\\repositories\\pipeline\\podpac\\podpac\\core\\coordinates\\dependent_coordinates.py:498: UserWarning: transformation of coordinate segment lengths not yet implemented\n",
      "  warnings.warn(\"transformation of coordinate segment lengths not yet implemented\")\n"
     ]
    },
    {
     "name": "stdout",
     "output_type": "stream",
     "text": [
      "PM "
     ]
    },
    {
     "name": "stderr",
     "output_type": "stream",
     "text": [
      "c:\\repositories\\pipeline\\podpac\\podpac\\core\\coordinates\\dependent_coordinates.py:496: UserWarning: transformation of coordinate segment lengths not yet implemented\n",
      "  warnings.warn(\"transformation of coordinate segment lengths not yet implemented\")\n",
      "c:\\repositories\\pipeline\\podpac\\podpac\\core\\coordinates\\dependent_coordinates.py:498: UserWarning: transformation of coordinate segment lengths not yet implemented\n",
      "  warnings.warn(\"transformation of coordinate segment lengths not yet implemented\")\n",
      "c:\\repositories\\pipeline\\podpac\\podpac\\datalib\\smap_egi.py:204: RuntimeWarning: Mean of empty slice\n",
      "  lon = np.nanmean(lons, axis=0)\n",
      "c:\\repositories\\pipeline\\podpac\\podpac\\core\\coordinates\\array_coordinates1d.py:83: RuntimeWarning: invalid value encountered in less_equal\n",
      "  if np.any(deltas <= 0):\n",
      "c:\\repositories\\pipeline\\podpac\\podpac\\core\\coordinates\\dependent_coordinates.py:496: UserWarning: transformation of coordinate segment lengths not yet implemented\n",
      "  warnings.warn(\"transformation of coordinate segment lengths not yet implemented\")\n",
      "c:\\repositories\\pipeline\\podpac\\podpac\\core\\coordinates\\dependent_coordinates.py:498: UserWarning: transformation of coordinate segment lengths not yet implemented\n",
      "  warnings.warn(\"transformation of coordinate segment lengths not yet implemented\")\n"
     ]
    },
    {
     "name": "stdout",
     "output_type": "stream",
     "text": [
      "PM_QF "
     ]
    },
    {
     "name": "stderr",
     "output_type": "stream",
     "text": [
      "c:\\repositories\\pipeline\\podpac\\podpac\\datalib\\smap_egi.py:204: RuntimeWarning: Mean of empty slice\n",
      "  lon = np.nanmean(lons, axis=0)\n",
      "c:\\repositories\\pipeline\\podpac\\podpac\\core\\coordinates\\array_coordinates1d.py:83: RuntimeWarning: invalid value encountered in less_equal\n",
      "  if np.any(deltas <= 0):\n",
      "c:\\repositories\\pipeline\\podpac\\podpac\\core\\coordinates\\dependent_coordinates.py:496: UserWarning: transformation of coordinate segment lengths not yet implemented\n",
      "  warnings.warn(\"transformation of coordinate segment lengths not yet implemented\")\n",
      "c:\\repositories\\pipeline\\podpac\\podpac\\core\\coordinates\\dependent_coordinates.py:498: UserWarning: transformation of coordinate segment lengths not yet implemented\n",
      "  warnings.warn(\"transformation of coordinate segment lengths not yet implemented\")\n"
     ]
    },
    {
     "name": "stdout",
     "output_type": "stream",
     "text": [
      " ... Done.\n",
      "Updating S3 Zarr file for L3 Data.\n",
      "Updating S3 Zarr file for L3 Data.\n",
      "Download L3 Data for: UniformCoordinates1d(time): Bounds[2019-08-27T00:00:00.000000000, 2019-08-28T00:00:00.000000000], N[2], ctype['midpoint'] ...AM "
     ]
    },
    {
     "name": "stderr",
     "output_type": "stream",
     "text": [
      "c:\\repositories\\pipeline\\podpac\\podpac\\core\\coordinates\\dependent_coordinates.py:496: UserWarning: transformation of coordinate segment lengths not yet implemented\n",
      "  warnings.warn(\"transformation of coordinate segment lengths not yet implemented\")\n",
      "c:\\repositories\\pipeline\\podpac\\podpac\\core\\coordinates\\dependent_coordinates.py:498: UserWarning: transformation of coordinate segment lengths not yet implemented\n",
      "  warnings.warn(\"transformation of coordinate segment lengths not yet implemented\")\n",
      "c:\\repositories\\pipeline\\podpac\\podpac\\datalib\\smap_egi.py:204: RuntimeWarning: Mean of empty slice\n",
      "  lon = np.nanmean(lons, axis=0)\n",
      "c:\\repositories\\pipeline\\podpac\\podpac\\core\\coordinates\\array_coordinates1d.py:83: RuntimeWarning: invalid value encountered in less_equal\n",
      "  if np.any(deltas <= 0):\n",
      "c:\\repositories\\pipeline\\podpac\\podpac\\core\\coordinates\\dependent_coordinates.py:496: UserWarning: transformation of coordinate segment lengths not yet implemented\n",
      "  warnings.warn(\"transformation of coordinate segment lengths not yet implemented\")\n",
      "c:\\repositories\\pipeline\\podpac\\podpac\\core\\coordinates\\dependent_coordinates.py:498: UserWarning: transformation of coordinate segment lengths not yet implemented\n",
      "  warnings.warn(\"transformation of coordinate segment lengths not yet implemented\")\n"
     ]
    },
    {
     "name": "stdout",
     "output_type": "stream",
     "text": [
      "AM_QF "
     ]
    },
    {
     "name": "stderr",
     "output_type": "stream",
     "text": [
      "c:\\repositories\\pipeline\\podpac\\podpac\\datalib\\smap_egi.py:204: RuntimeWarning: Mean of empty slice\n",
      "  lon = np.nanmean(lons, axis=0)\n",
      "c:\\repositories\\pipeline\\podpac\\podpac\\core\\coordinates\\array_coordinates1d.py:83: RuntimeWarning: invalid value encountered in less_equal\n",
      "  if np.any(deltas <= 0):\n",
      "c:\\repositories\\pipeline\\podpac\\podpac\\core\\coordinates\\dependent_coordinates.py:496: UserWarning: transformation of coordinate segment lengths not yet implemented\n",
      "  warnings.warn(\"transformation of coordinate segment lengths not yet implemented\")\n",
      "c:\\repositories\\pipeline\\podpac\\podpac\\core\\coordinates\\dependent_coordinates.py:498: UserWarning: transformation of coordinate segment lengths not yet implemented\n",
      "  warnings.warn(\"transformation of coordinate segment lengths not yet implemented\")\n"
     ]
    },
    {
     "name": "stdout",
     "output_type": "stream",
     "text": [
      "PM "
     ]
    },
    {
     "name": "stderr",
     "output_type": "stream",
     "text": [
      "c:\\repositories\\pipeline\\podpac\\podpac\\core\\coordinates\\dependent_coordinates.py:496: UserWarning: transformation of coordinate segment lengths not yet implemented\n",
      "  warnings.warn(\"transformation of coordinate segment lengths not yet implemented\")\n",
      "c:\\repositories\\pipeline\\podpac\\podpac\\core\\coordinates\\dependent_coordinates.py:498: UserWarning: transformation of coordinate segment lengths not yet implemented\n",
      "  warnings.warn(\"transformation of coordinate segment lengths not yet implemented\")\n",
      "c:\\repositories\\pipeline\\podpac\\podpac\\datalib\\smap_egi.py:204: RuntimeWarning: Mean of empty slice\n",
      "  lon = np.nanmean(lons, axis=0)\n",
      "c:\\repositories\\pipeline\\podpac\\podpac\\core\\coordinates\\array_coordinates1d.py:83: RuntimeWarning: invalid value encountered in less_equal\n",
      "  if np.any(deltas <= 0):\n",
      "c:\\repositories\\pipeline\\podpac\\podpac\\core\\coordinates\\dependent_coordinates.py:496: UserWarning: transformation of coordinate segment lengths not yet implemented\n",
      "  warnings.warn(\"transformation of coordinate segment lengths not yet implemented\")\n",
      "c:\\repositories\\pipeline\\podpac\\podpac\\core\\coordinates\\dependent_coordinates.py:498: UserWarning: transformation of coordinate segment lengths not yet implemented\n",
      "  warnings.warn(\"transformation of coordinate segment lengths not yet implemented\")\n"
     ]
    },
    {
     "name": "stdout",
     "output_type": "stream",
     "text": [
      "PM_QF "
     ]
    },
    {
     "name": "stderr",
     "output_type": "stream",
     "text": [
      "c:\\repositories\\pipeline\\podpac\\podpac\\datalib\\smap_egi.py:204: RuntimeWarning: Mean of empty slice\n",
      "  lon = np.nanmean(lons, axis=0)\n",
      "c:\\repositories\\pipeline\\podpac\\podpac\\core\\coordinates\\array_coordinates1d.py:83: RuntimeWarning: invalid value encountered in less_equal\n",
      "  if np.any(deltas <= 0):\n",
      "c:\\repositories\\pipeline\\podpac\\podpac\\core\\coordinates\\dependent_coordinates.py:496: UserWarning: transformation of coordinate segment lengths not yet implemented\n",
      "  warnings.warn(\"transformation of coordinate segment lengths not yet implemented\")\n",
      "c:\\repositories\\pipeline\\podpac\\podpac\\core\\coordinates\\dependent_coordinates.py:498: UserWarning: transformation of coordinate segment lengths not yet implemented\n",
      "  warnings.warn(\"transformation of coordinate segment lengths not yet implemented\")\n"
     ]
    },
    {
     "name": "stdout",
     "output_type": "stream",
     "text": [
      " ... Done.\n",
      "Updating S3 Zarr file for L3 Data.\n",
      "Updating S3 Zarr file for L3 Data.\n",
      "Download L3 Data for: UniformCoordinates1d(time): Bounds[2019-08-29T00:00:00.000000000, 2019-08-30T00:00:00.000000000], N[2], ctype['midpoint'] ...AM "
     ]
    },
    {
     "name": "stderr",
     "output_type": "stream",
     "text": [
      "c:\\repositories\\pipeline\\podpac\\podpac\\core\\coordinates\\dependent_coordinates.py:496: UserWarning: transformation of coordinate segment lengths not yet implemented\n",
      "  warnings.warn(\"transformation of coordinate segment lengths not yet implemented\")\n",
      "c:\\repositories\\pipeline\\podpac\\podpac\\core\\coordinates\\dependent_coordinates.py:498: UserWarning: transformation of coordinate segment lengths not yet implemented\n",
      "  warnings.warn(\"transformation of coordinate segment lengths not yet implemented\")\n",
      "c:\\repositories\\pipeline\\podpac\\podpac\\datalib\\smap_egi.py:204: RuntimeWarning: Mean of empty slice\n",
      "  lon = np.nanmean(lons, axis=0)\n",
      "c:\\repositories\\pipeline\\podpac\\podpac\\core\\coordinates\\array_coordinates1d.py:83: RuntimeWarning: invalid value encountered in less_equal\n",
      "  if np.any(deltas <= 0):\n",
      "c:\\repositories\\pipeline\\podpac\\podpac\\core\\coordinates\\dependent_coordinates.py:496: UserWarning: transformation of coordinate segment lengths not yet implemented\n",
      "  warnings.warn(\"transformation of coordinate segment lengths not yet implemented\")\n",
      "c:\\repositories\\pipeline\\podpac\\podpac\\core\\coordinates\\dependent_coordinates.py:498: UserWarning: transformation of coordinate segment lengths not yet implemented\n",
      "  warnings.warn(\"transformation of coordinate segment lengths not yet implemented\")\n"
     ]
    },
    {
     "name": "stdout",
     "output_type": "stream",
     "text": [
      "AM_QF "
     ]
    },
    {
     "name": "stderr",
     "output_type": "stream",
     "text": [
      "c:\\repositories\\pipeline\\podpac\\podpac\\datalib\\smap_egi.py:204: RuntimeWarning: Mean of empty slice\n",
      "  lon = np.nanmean(lons, axis=0)\n",
      "c:\\repositories\\pipeline\\podpac\\podpac\\core\\coordinates\\array_coordinates1d.py:83: RuntimeWarning: invalid value encountered in less_equal\n",
      "  if np.any(deltas <= 0):\n",
      "c:\\repositories\\pipeline\\podpac\\podpac\\core\\coordinates\\dependent_coordinates.py:496: UserWarning: transformation of coordinate segment lengths not yet implemented\n",
      "  warnings.warn(\"transformation of coordinate segment lengths not yet implemented\")\n",
      "c:\\repositories\\pipeline\\podpac\\podpac\\core\\coordinates\\dependent_coordinates.py:498: UserWarning: transformation of coordinate segment lengths not yet implemented\n",
      "  warnings.warn(\"transformation of coordinate segment lengths not yet implemented\")\n"
     ]
    },
    {
     "name": "stdout",
     "output_type": "stream",
     "text": [
      "PM "
     ]
    },
    {
     "name": "stderr",
     "output_type": "stream",
     "text": [
      "c:\\repositories\\pipeline\\podpac\\podpac\\core\\coordinates\\dependent_coordinates.py:496: UserWarning: transformation of coordinate segment lengths not yet implemented\n",
      "  warnings.warn(\"transformation of coordinate segment lengths not yet implemented\")\n",
      "c:\\repositories\\pipeline\\podpac\\podpac\\core\\coordinates\\dependent_coordinates.py:498: UserWarning: transformation of coordinate segment lengths not yet implemented\n",
      "  warnings.warn(\"transformation of coordinate segment lengths not yet implemented\")\n",
      "c:\\repositories\\pipeline\\podpac\\podpac\\datalib\\smap_egi.py:204: RuntimeWarning: Mean of empty slice\n",
      "  lon = np.nanmean(lons, axis=0)\n",
      "c:\\repositories\\pipeline\\podpac\\podpac\\core\\coordinates\\array_coordinates1d.py:83: RuntimeWarning: invalid value encountered in less_equal\n",
      "  if np.any(deltas <= 0):\n",
      "c:\\repositories\\pipeline\\podpac\\podpac\\core\\coordinates\\dependent_coordinates.py:496: UserWarning: transformation of coordinate segment lengths not yet implemented\n",
      "  warnings.warn(\"transformation of coordinate segment lengths not yet implemented\")\n",
      "c:\\repositories\\pipeline\\podpac\\podpac\\core\\coordinates\\dependent_coordinates.py:498: UserWarning: transformation of coordinate segment lengths not yet implemented\n",
      "  warnings.warn(\"transformation of coordinate segment lengths not yet implemented\")\n"
     ]
    },
    {
     "name": "stdout",
     "output_type": "stream",
     "text": [
      "PM_QF "
     ]
    },
    {
     "name": "stderr",
     "output_type": "stream",
     "text": [
      "c:\\repositories\\pipeline\\podpac\\podpac\\datalib\\smap_egi.py:204: RuntimeWarning: Mean of empty slice\n",
      "  lon = np.nanmean(lons, axis=0)\n",
      "c:\\repositories\\pipeline\\podpac\\podpac\\core\\coordinates\\array_coordinates1d.py:83: RuntimeWarning: invalid value encountered in less_equal\n",
      "  if np.any(deltas <= 0):\n",
      "c:\\repositories\\pipeline\\podpac\\podpac\\core\\coordinates\\dependent_coordinates.py:496: UserWarning: transformation of coordinate segment lengths not yet implemented\n",
      "  warnings.warn(\"transformation of coordinate segment lengths not yet implemented\")\n",
      "c:\\repositories\\pipeline\\podpac\\podpac\\core\\coordinates\\dependent_coordinates.py:498: UserWarning: transformation of coordinate segment lengths not yet implemented\n",
      "  warnings.warn(\"transformation of coordinate segment lengths not yet implemented\")\n"
     ]
    },
    {
     "name": "stdout",
     "output_type": "stream",
     "text": [
      " ... Done.\n",
      "Updating S3 Zarr file for L3 Data.\n",
      "Updating S3 Zarr file for L3 Data.\n",
      "Download L3 Data for: UniformCoordinates1d(time): Bounds[2019-08-31T00:00:00.000000000, 2019-09-01T00:00:00.000000000], N[2], ctype['midpoint'] ...AM "
     ]
    },
    {
     "name": "stderr",
     "output_type": "stream",
     "text": [
      "c:\\repositories\\pipeline\\podpac\\podpac\\core\\coordinates\\dependent_coordinates.py:496: UserWarning: transformation of coordinate segment lengths not yet implemented\n",
      "  warnings.warn(\"transformation of coordinate segment lengths not yet implemented\")\n",
      "c:\\repositories\\pipeline\\podpac\\podpac\\core\\coordinates\\dependent_coordinates.py:498: UserWarning: transformation of coordinate segment lengths not yet implemented\n",
      "  warnings.warn(\"transformation of coordinate segment lengths not yet implemented\")\n",
      "c:\\repositories\\pipeline\\podpac\\podpac\\datalib\\smap_egi.py:204: RuntimeWarning: Mean of empty slice\n",
      "  lon = np.nanmean(lons, axis=0)\n",
      "c:\\repositories\\pipeline\\podpac\\podpac\\core\\coordinates\\array_coordinates1d.py:83: RuntimeWarning: invalid value encountered in less_equal\n",
      "  if np.any(deltas <= 0):\n",
      "c:\\repositories\\pipeline\\podpac\\podpac\\core\\coordinates\\dependent_coordinates.py:496: UserWarning: transformation of coordinate segment lengths not yet implemented\n",
      "  warnings.warn(\"transformation of coordinate segment lengths not yet implemented\")\n",
      "c:\\repositories\\pipeline\\podpac\\podpac\\core\\coordinates\\dependent_coordinates.py:498: UserWarning: transformation of coordinate segment lengths not yet implemented\n",
      "  warnings.warn(\"transformation of coordinate segment lengths not yet implemented\")\n"
     ]
    },
    {
     "name": "stdout",
     "output_type": "stream",
     "text": [
      "AM_QF "
     ]
    },
    {
     "name": "stderr",
     "output_type": "stream",
     "text": [
      "c:\\repositories\\pipeline\\podpac\\podpac\\datalib\\smap_egi.py:204: RuntimeWarning: Mean of empty slice\n",
      "  lon = np.nanmean(lons, axis=0)\n",
      "c:\\repositories\\pipeline\\podpac\\podpac\\core\\coordinates\\array_coordinates1d.py:83: RuntimeWarning: invalid value encountered in less_equal\n",
      "  if np.any(deltas <= 0):\n",
      "c:\\repositories\\pipeline\\podpac\\podpac\\core\\coordinates\\dependent_coordinates.py:496: UserWarning: transformation of coordinate segment lengths not yet implemented\n",
      "  warnings.warn(\"transformation of coordinate segment lengths not yet implemented\")\n",
      "c:\\repositories\\pipeline\\podpac\\podpac\\core\\coordinates\\dependent_coordinates.py:498: UserWarning: transformation of coordinate segment lengths not yet implemented\n",
      "  warnings.warn(\"transformation of coordinate segment lengths not yet implemented\")\n"
     ]
    },
    {
     "name": "stdout",
     "output_type": "stream",
     "text": [
      "PM "
     ]
    },
    {
     "name": "stderr",
     "output_type": "stream",
     "text": [
      "c:\\repositories\\pipeline\\podpac\\podpac\\core\\coordinates\\dependent_coordinates.py:496: UserWarning: transformation of coordinate segment lengths not yet implemented\n",
      "  warnings.warn(\"transformation of coordinate segment lengths not yet implemented\")\n",
      "c:\\repositories\\pipeline\\podpac\\podpac\\core\\coordinates\\dependent_coordinates.py:498: UserWarning: transformation of coordinate segment lengths not yet implemented\n",
      "  warnings.warn(\"transformation of coordinate segment lengths not yet implemented\")\n",
      "c:\\repositories\\pipeline\\podpac\\podpac\\datalib\\smap_egi.py:204: RuntimeWarning: Mean of empty slice\n",
      "  lon = np.nanmean(lons, axis=0)\n",
      "c:\\repositories\\pipeline\\podpac\\podpac\\core\\coordinates\\array_coordinates1d.py:83: RuntimeWarning: invalid value encountered in less_equal\n",
      "  if np.any(deltas <= 0):\n",
      "c:\\repositories\\pipeline\\podpac\\podpac\\core\\coordinates\\dependent_coordinates.py:496: UserWarning: transformation of coordinate segment lengths not yet implemented\n",
      "  warnings.warn(\"transformation of coordinate segment lengths not yet implemented\")\n",
      "c:\\repositories\\pipeline\\podpac\\podpac\\core\\coordinates\\dependent_coordinates.py:498: UserWarning: transformation of coordinate segment lengths not yet implemented\n",
      "  warnings.warn(\"transformation of coordinate segment lengths not yet implemented\")\n"
     ]
    },
    {
     "name": "stdout",
     "output_type": "stream",
     "text": [
      "PM_QF "
     ]
    },
    {
     "name": "stderr",
     "output_type": "stream",
     "text": [
      "c:\\repositories\\pipeline\\podpac\\podpac\\datalib\\smap_egi.py:204: RuntimeWarning: Mean of empty slice\n",
      "  lon = np.nanmean(lons, axis=0)\n",
      "c:\\repositories\\pipeline\\podpac\\podpac\\core\\coordinates\\array_coordinates1d.py:83: RuntimeWarning: invalid value encountered in less_equal\n",
      "  if np.any(deltas <= 0):\n",
      "c:\\repositories\\pipeline\\podpac\\podpac\\core\\coordinates\\dependent_coordinates.py:496: UserWarning: transformation of coordinate segment lengths not yet implemented\n",
      "  warnings.warn(\"transformation of coordinate segment lengths not yet implemented\")\n",
      "c:\\repositories\\pipeline\\podpac\\podpac\\core\\coordinates\\dependent_coordinates.py:498: UserWarning: transformation of coordinate segment lengths not yet implemented\n",
      "  warnings.warn(\"transformation of coordinate segment lengths not yet implemented\")\n"
     ]
    },
    {
     "name": "stdout",
     "output_type": "stream",
     "text": [
      " ... Done.\n",
      "Updating S3 Zarr file for L3 Data.\n",
      "Updating S3 Zarr file for L3 Data.\n",
      "Download L3 Data for: UniformCoordinates1d(time): Bounds[2019-09-02T00:00:00.000000000, 2019-09-03T00:00:00.000000000], N[2], ctype['midpoint'] ...AM "
     ]
    },
    {
     "name": "stderr",
     "output_type": "stream",
     "text": [
      "c:\\repositories\\pipeline\\podpac\\podpac\\core\\coordinates\\dependent_coordinates.py:496: UserWarning: transformation of coordinate segment lengths not yet implemented\n",
      "  warnings.warn(\"transformation of coordinate segment lengths not yet implemented\")\n",
      "c:\\repositories\\pipeline\\podpac\\podpac\\core\\coordinates\\dependent_coordinates.py:498: UserWarning: transformation of coordinate segment lengths not yet implemented\n",
      "  warnings.warn(\"transformation of coordinate segment lengths not yet implemented\")\n",
      "c:\\repositories\\pipeline\\podpac\\podpac\\datalib\\smap_egi.py:204: RuntimeWarning: Mean of empty slice\n",
      "  lon = np.nanmean(lons, axis=0)\n",
      "c:\\repositories\\pipeline\\podpac\\podpac\\core\\coordinates\\array_coordinates1d.py:83: RuntimeWarning: invalid value encountered in less_equal\n",
      "  if np.any(deltas <= 0):\n",
      "c:\\repositories\\pipeline\\podpac\\podpac\\core\\coordinates\\dependent_coordinates.py:496: UserWarning: transformation of coordinate segment lengths not yet implemented\n",
      "  warnings.warn(\"transformation of coordinate segment lengths not yet implemented\")\n",
      "c:\\repositories\\pipeline\\podpac\\podpac\\core\\coordinates\\dependent_coordinates.py:498: UserWarning: transformation of coordinate segment lengths not yet implemented\n",
      "  warnings.warn(\"transformation of coordinate segment lengths not yet implemented\")\n"
     ]
    },
    {
     "name": "stdout",
     "output_type": "stream",
     "text": [
      "AM_QF "
     ]
    },
    {
     "name": "stderr",
     "output_type": "stream",
     "text": [
      "c:\\repositories\\pipeline\\podpac\\podpac\\datalib\\smap_egi.py:204: RuntimeWarning: Mean of empty slice\n",
      "  lon = np.nanmean(lons, axis=0)\n",
      "c:\\repositories\\pipeline\\podpac\\podpac\\core\\coordinates\\array_coordinates1d.py:83: RuntimeWarning: invalid value encountered in less_equal\n",
      "  if np.any(deltas <= 0):\n",
      "c:\\repositories\\pipeline\\podpac\\podpac\\core\\coordinates\\dependent_coordinates.py:496: UserWarning: transformation of coordinate segment lengths not yet implemented\n",
      "  warnings.warn(\"transformation of coordinate segment lengths not yet implemented\")\n",
      "c:\\repositories\\pipeline\\podpac\\podpac\\core\\coordinates\\dependent_coordinates.py:498: UserWarning: transformation of coordinate segment lengths not yet implemented\n",
      "  warnings.warn(\"transformation of coordinate segment lengths not yet implemented\")\n"
     ]
    },
    {
     "name": "stdout",
     "output_type": "stream",
     "text": [
      "PM "
     ]
    },
    {
     "name": "stderr",
     "output_type": "stream",
     "text": [
      "c:\\repositories\\pipeline\\podpac\\podpac\\core\\coordinates\\dependent_coordinates.py:496: UserWarning: transformation of coordinate segment lengths not yet implemented\n",
      "  warnings.warn(\"transformation of coordinate segment lengths not yet implemented\")\n",
      "c:\\repositories\\pipeline\\podpac\\podpac\\core\\coordinates\\dependent_coordinates.py:498: UserWarning: transformation of coordinate segment lengths not yet implemented\n",
      "  warnings.warn(\"transformation of coordinate segment lengths not yet implemented\")\n",
      "c:\\repositories\\pipeline\\podpac\\podpac\\datalib\\smap_egi.py:204: RuntimeWarning: Mean of empty slice\n",
      "  lon = np.nanmean(lons, axis=0)\n",
      "c:\\repositories\\pipeline\\podpac\\podpac\\core\\coordinates\\array_coordinates1d.py:83: RuntimeWarning: invalid value encountered in less_equal\n",
      "  if np.any(deltas <= 0):\n",
      "c:\\repositories\\pipeline\\podpac\\podpac\\core\\coordinates\\dependent_coordinates.py:496: UserWarning: transformation of coordinate segment lengths not yet implemented\n",
      "  warnings.warn(\"transformation of coordinate segment lengths not yet implemented\")\n",
      "c:\\repositories\\pipeline\\podpac\\podpac\\core\\coordinates\\dependent_coordinates.py:498: UserWarning: transformation of coordinate segment lengths not yet implemented\n",
      "  warnings.warn(\"transformation of coordinate segment lengths not yet implemented\")\n"
     ]
    },
    {
     "name": "stdout",
     "output_type": "stream",
     "text": [
      "PM_QF "
     ]
    },
    {
     "name": "stderr",
     "output_type": "stream",
     "text": [
      "c:\\repositories\\pipeline\\podpac\\podpac\\datalib\\smap_egi.py:204: RuntimeWarning: Mean of empty slice\n",
      "  lon = np.nanmean(lons, axis=0)\n",
      "c:\\repositories\\pipeline\\podpac\\podpac\\core\\coordinates\\array_coordinates1d.py:83: RuntimeWarning: invalid value encountered in less_equal\n",
      "  if np.any(deltas <= 0):\n",
      "c:\\repositories\\pipeline\\podpac\\podpac\\core\\coordinates\\dependent_coordinates.py:496: UserWarning: transformation of coordinate segment lengths not yet implemented\n",
      "  warnings.warn(\"transformation of coordinate segment lengths not yet implemented\")\n",
      "c:\\repositories\\pipeline\\podpac\\podpac\\core\\coordinates\\dependent_coordinates.py:498: UserWarning: transformation of coordinate segment lengths not yet implemented\n",
      "  warnings.warn(\"transformation of coordinate segment lengths not yet implemented\")\n"
     ]
    },
    {
     "name": "stdout",
     "output_type": "stream",
     "text": [
      " ... Done.\n",
      "Updating S3 Zarr file for L3 Data.\n",
      "Updating S3 Zarr file for L3 Data.\n",
      "Download L3 Data for: UniformCoordinates1d(time): Bounds[2019-09-04T00:00:00.000000000, 2019-09-05T00:00:00.000000000], N[2], ctype['midpoint'] ...AM "
     ]
    },
    {
     "name": "stderr",
     "output_type": "stream",
     "text": [
      "c:\\repositories\\pipeline\\podpac\\podpac\\core\\coordinates\\dependent_coordinates.py:496: UserWarning: transformation of coordinate segment lengths not yet implemented\n",
      "  warnings.warn(\"transformation of coordinate segment lengths not yet implemented\")\n",
      "c:\\repositories\\pipeline\\podpac\\podpac\\core\\coordinates\\dependent_coordinates.py:498: UserWarning: transformation of coordinate segment lengths not yet implemented\n",
      "  warnings.warn(\"transformation of coordinate segment lengths not yet implemented\")\n",
      "c:\\repositories\\pipeline\\podpac\\podpac\\datalib\\smap_egi.py:204: RuntimeWarning: Mean of empty slice\n",
      "  lon = np.nanmean(lons, axis=0)\n",
      "c:\\repositories\\pipeline\\podpac\\podpac\\core\\coordinates\\array_coordinates1d.py:83: RuntimeWarning: invalid value encountered in less_equal\n",
      "  if np.any(deltas <= 0):\n",
      "c:\\repositories\\pipeline\\podpac\\podpac\\core\\coordinates\\dependent_coordinates.py:496: UserWarning: transformation of coordinate segment lengths not yet implemented\n",
      "  warnings.warn(\"transformation of coordinate segment lengths not yet implemented\")\n",
      "c:\\repositories\\pipeline\\podpac\\podpac\\core\\coordinates\\dependent_coordinates.py:498: UserWarning: transformation of coordinate segment lengths not yet implemented\n",
      "  warnings.warn(\"transformation of coordinate segment lengths not yet implemented\")\n"
     ]
    },
    {
     "name": "stdout",
     "output_type": "stream",
     "text": [
      "AM_QF "
     ]
    },
    {
     "name": "stderr",
     "output_type": "stream",
     "text": [
      "c:\\repositories\\pipeline\\podpac\\podpac\\datalib\\smap_egi.py:204: RuntimeWarning: Mean of empty slice\n",
      "  lon = np.nanmean(lons, axis=0)\n",
      "c:\\repositories\\pipeline\\podpac\\podpac\\core\\coordinates\\array_coordinates1d.py:83: RuntimeWarning: invalid value encountered in less_equal\n",
      "  if np.any(deltas <= 0):\n",
      "c:\\repositories\\pipeline\\podpac\\podpac\\core\\coordinates\\dependent_coordinates.py:496: UserWarning: transformation of coordinate segment lengths not yet implemented\n",
      "  warnings.warn(\"transformation of coordinate segment lengths not yet implemented\")\n",
      "c:\\repositories\\pipeline\\podpac\\podpac\\core\\coordinates\\dependent_coordinates.py:498: UserWarning: transformation of coordinate segment lengths not yet implemented\n",
      "  warnings.warn(\"transformation of coordinate segment lengths not yet implemented\")\n"
     ]
    },
    {
     "name": "stdout",
     "output_type": "stream",
     "text": [
      "PM "
     ]
    },
    {
     "name": "stderr",
     "output_type": "stream",
     "text": [
      "c:\\repositories\\pipeline\\podpac\\podpac\\core\\coordinates\\dependent_coordinates.py:496: UserWarning: transformation of coordinate segment lengths not yet implemented\n",
      "  warnings.warn(\"transformation of coordinate segment lengths not yet implemented\")\n",
      "c:\\repositories\\pipeline\\podpac\\podpac\\core\\coordinates\\dependent_coordinates.py:498: UserWarning: transformation of coordinate segment lengths not yet implemented\n",
      "  warnings.warn(\"transformation of coordinate segment lengths not yet implemented\")\n",
      "c:\\repositories\\pipeline\\podpac\\podpac\\datalib\\smap_egi.py:204: RuntimeWarning: Mean of empty slice\n",
      "  lon = np.nanmean(lons, axis=0)\n",
      "c:\\repositories\\pipeline\\podpac\\podpac\\core\\coordinates\\array_coordinates1d.py:83: RuntimeWarning: invalid value encountered in less_equal\n",
      "  if np.any(deltas <= 0):\n",
      "c:\\repositories\\pipeline\\podpac\\podpac\\core\\coordinates\\dependent_coordinates.py:496: UserWarning: transformation of coordinate segment lengths not yet implemented\n",
      "  warnings.warn(\"transformation of coordinate segment lengths not yet implemented\")\n",
      "c:\\repositories\\pipeline\\podpac\\podpac\\core\\coordinates\\dependent_coordinates.py:498: UserWarning: transformation of coordinate segment lengths not yet implemented\n",
      "  warnings.warn(\"transformation of coordinate segment lengths not yet implemented\")\n"
     ]
    },
    {
     "name": "stdout",
     "output_type": "stream",
     "text": [
      "PM_QF "
     ]
    },
    {
     "name": "stderr",
     "output_type": "stream",
     "text": [
      "c:\\repositories\\pipeline\\podpac\\podpac\\datalib\\smap_egi.py:204: RuntimeWarning: Mean of empty slice\n",
      "  lon = np.nanmean(lons, axis=0)\n",
      "c:\\repositories\\pipeline\\podpac\\podpac\\core\\coordinates\\array_coordinates1d.py:83: RuntimeWarning: invalid value encountered in less_equal\n",
      "  if np.any(deltas <= 0):\n",
      "c:\\repositories\\pipeline\\podpac\\podpac\\core\\coordinates\\dependent_coordinates.py:496: UserWarning: transformation of coordinate segment lengths not yet implemented\n",
      "  warnings.warn(\"transformation of coordinate segment lengths not yet implemented\")\n",
      "c:\\repositories\\pipeline\\podpac\\podpac\\core\\coordinates\\dependent_coordinates.py:498: UserWarning: transformation of coordinate segment lengths not yet implemented\n",
      "  warnings.warn(\"transformation of coordinate segment lengths not yet implemented\")\n"
     ]
    },
    {
     "name": "stdout",
     "output_type": "stream",
     "text": [
      " ... Done.\n",
      "Updating S3 Zarr file for L3 Data.\n",
      "Updating S3 Zarr file for L3 Data.\n",
      "Download L3 Data for: UniformCoordinates1d(time): Bounds[2019-09-06T00:00:00.000000000, 2019-09-07T00:00:00.000000000], N[2], ctype['midpoint'] ...AM "
     ]
    },
    {
     "name": "stderr",
     "output_type": "stream",
     "text": [
      "c:\\repositories\\pipeline\\podpac\\podpac\\core\\coordinates\\dependent_coordinates.py:496: UserWarning: transformation of coordinate segment lengths not yet implemented\n",
      "  warnings.warn(\"transformation of coordinate segment lengths not yet implemented\")\n",
      "c:\\repositories\\pipeline\\podpac\\podpac\\core\\coordinates\\dependent_coordinates.py:498: UserWarning: transformation of coordinate segment lengths not yet implemented\n",
      "  warnings.warn(\"transformation of coordinate segment lengths not yet implemented\")\n",
      "c:\\repositories\\pipeline\\podpac\\podpac\\datalib\\smap_egi.py:204: RuntimeWarning: Mean of empty slice\n",
      "  lon = np.nanmean(lons, axis=0)\n",
      "c:\\repositories\\pipeline\\podpac\\podpac\\core\\coordinates\\array_coordinates1d.py:83: RuntimeWarning: invalid value encountered in less_equal\n",
      "  if np.any(deltas <= 0):\n",
      "c:\\repositories\\pipeline\\podpac\\podpac\\core\\coordinates\\dependent_coordinates.py:496: UserWarning: transformation of coordinate segment lengths not yet implemented\n",
      "  warnings.warn(\"transformation of coordinate segment lengths not yet implemented\")\n",
      "c:\\repositories\\pipeline\\podpac\\podpac\\core\\coordinates\\dependent_coordinates.py:498: UserWarning: transformation of coordinate segment lengths not yet implemented\n",
      "  warnings.warn(\"transformation of coordinate segment lengths not yet implemented\")\n"
     ]
    },
    {
     "name": "stdout",
     "output_type": "stream",
     "text": [
      "AM_QF "
     ]
    },
    {
     "name": "stderr",
     "output_type": "stream",
     "text": [
      "c:\\repositories\\pipeline\\podpac\\podpac\\datalib\\smap_egi.py:204: RuntimeWarning: Mean of empty slice\n",
      "  lon = np.nanmean(lons, axis=0)\n",
      "c:\\repositories\\pipeline\\podpac\\podpac\\core\\coordinates\\array_coordinates1d.py:83: RuntimeWarning: invalid value encountered in less_equal\n",
      "  if np.any(deltas <= 0):\n",
      "c:\\repositories\\pipeline\\podpac\\podpac\\core\\coordinates\\dependent_coordinates.py:496: UserWarning: transformation of coordinate segment lengths not yet implemented\n",
      "  warnings.warn(\"transformation of coordinate segment lengths not yet implemented\")\n",
      "c:\\repositories\\pipeline\\podpac\\podpac\\core\\coordinates\\dependent_coordinates.py:498: UserWarning: transformation of coordinate segment lengths not yet implemented\n",
      "  warnings.warn(\"transformation of coordinate segment lengths not yet implemented\")\n"
     ]
    },
    {
     "name": "stdout",
     "output_type": "stream",
     "text": [
      "PM "
     ]
    },
    {
     "name": "stderr",
     "output_type": "stream",
     "text": [
      "c:\\repositories\\pipeline\\podpac\\podpac\\core\\coordinates\\dependent_coordinates.py:496: UserWarning: transformation of coordinate segment lengths not yet implemented\n",
      "  warnings.warn(\"transformation of coordinate segment lengths not yet implemented\")\n",
      "c:\\repositories\\pipeline\\podpac\\podpac\\core\\coordinates\\dependent_coordinates.py:498: UserWarning: transformation of coordinate segment lengths not yet implemented\n",
      "  warnings.warn(\"transformation of coordinate segment lengths not yet implemented\")\n",
      "c:\\repositories\\pipeline\\podpac\\podpac\\datalib\\smap_egi.py:204: RuntimeWarning: Mean of empty slice\n",
      "  lon = np.nanmean(lons, axis=0)\n",
      "c:\\repositories\\pipeline\\podpac\\podpac\\core\\coordinates\\array_coordinates1d.py:83: RuntimeWarning: invalid value encountered in less_equal\n",
      "  if np.any(deltas <= 0):\n",
      "c:\\repositories\\pipeline\\podpac\\podpac\\core\\coordinates\\dependent_coordinates.py:496: UserWarning: transformation of coordinate segment lengths not yet implemented\n",
      "  warnings.warn(\"transformation of coordinate segment lengths not yet implemented\")\n",
      "c:\\repositories\\pipeline\\podpac\\podpac\\core\\coordinates\\dependent_coordinates.py:498: UserWarning: transformation of coordinate segment lengths not yet implemented\n",
      "  warnings.warn(\"transformation of coordinate segment lengths not yet implemented\")\n"
     ]
    },
    {
     "name": "stdout",
     "output_type": "stream",
     "text": [
      "PM_QF "
     ]
    },
    {
     "name": "stderr",
     "output_type": "stream",
     "text": [
      "c:\\repositories\\pipeline\\podpac\\podpac\\datalib\\smap_egi.py:204: RuntimeWarning: Mean of empty slice\n",
      "  lon = np.nanmean(lons, axis=0)\n",
      "c:\\repositories\\pipeline\\podpac\\podpac\\core\\coordinates\\array_coordinates1d.py:83: RuntimeWarning: invalid value encountered in less_equal\n",
      "  if np.any(deltas <= 0):\n",
      "c:\\repositories\\pipeline\\podpac\\podpac\\core\\coordinates\\dependent_coordinates.py:496: UserWarning: transformation of coordinate segment lengths not yet implemented\n",
      "  warnings.warn(\"transformation of coordinate segment lengths not yet implemented\")\n",
      "c:\\repositories\\pipeline\\podpac\\podpac\\core\\coordinates\\dependent_coordinates.py:498: UserWarning: transformation of coordinate segment lengths not yet implemented\n",
      "  warnings.warn(\"transformation of coordinate segment lengths not yet implemented\")\n"
     ]
    },
    {
     "name": "stdout",
     "output_type": "stream",
     "text": [
      " ... Done.\n",
      "Updating S3 Zarr file for L3 Data.\n",
      "Updating S3 Zarr file for L3 Data.\n",
      "Download L3 Data for: UniformCoordinates1d(time): Bounds[2019-09-08T00:00:00.000000000, 2019-09-09T00:00:00.000000000], N[2], ctype['midpoint'] ...AM "
     ]
    },
    {
     "name": "stderr",
     "output_type": "stream",
     "text": [
      "c:\\repositories\\pipeline\\podpac\\podpac\\core\\coordinates\\dependent_coordinates.py:496: UserWarning: transformation of coordinate segment lengths not yet implemented\n",
      "  warnings.warn(\"transformation of coordinate segment lengths not yet implemented\")\n",
      "c:\\repositories\\pipeline\\podpac\\podpac\\core\\coordinates\\dependent_coordinates.py:498: UserWarning: transformation of coordinate segment lengths not yet implemented\n",
      "  warnings.warn(\"transformation of coordinate segment lengths not yet implemented\")\n",
      "c:\\repositories\\pipeline\\podpac\\podpac\\datalib\\smap_egi.py:204: RuntimeWarning: Mean of empty slice\n",
      "  lon = np.nanmean(lons, axis=0)\n",
      "c:\\repositories\\pipeline\\podpac\\podpac\\core\\coordinates\\array_coordinates1d.py:83: RuntimeWarning: invalid value encountered in less_equal\n",
      "  if np.any(deltas <= 0):\n",
      "c:\\repositories\\pipeline\\podpac\\podpac\\core\\coordinates\\dependent_coordinates.py:496: UserWarning: transformation of coordinate segment lengths not yet implemented\n",
      "  warnings.warn(\"transformation of coordinate segment lengths not yet implemented\")\n",
      "c:\\repositories\\pipeline\\podpac\\podpac\\core\\coordinates\\dependent_coordinates.py:498: UserWarning: transformation of coordinate segment lengths not yet implemented\n",
      "  warnings.warn(\"transformation of coordinate segment lengths not yet implemented\")\n"
     ]
    },
    {
     "name": "stdout",
     "output_type": "stream",
     "text": [
      "AM_QF "
     ]
    },
    {
     "name": "stderr",
     "output_type": "stream",
     "text": [
      "c:\\repositories\\pipeline\\podpac\\podpac\\datalib\\smap_egi.py:204: RuntimeWarning: Mean of empty slice\n",
      "  lon = np.nanmean(lons, axis=0)\n",
      "c:\\repositories\\pipeline\\podpac\\podpac\\core\\coordinates\\array_coordinates1d.py:83: RuntimeWarning: invalid value encountered in less_equal\n",
      "  if np.any(deltas <= 0):\n",
      "c:\\repositories\\pipeline\\podpac\\podpac\\core\\coordinates\\dependent_coordinates.py:496: UserWarning: transformation of coordinate segment lengths not yet implemented\n",
      "  warnings.warn(\"transformation of coordinate segment lengths not yet implemented\")\n",
      "c:\\repositories\\pipeline\\podpac\\podpac\\core\\coordinates\\dependent_coordinates.py:498: UserWarning: transformation of coordinate segment lengths not yet implemented\n",
      "  warnings.warn(\"transformation of coordinate segment lengths not yet implemented\")\n"
     ]
    },
    {
     "name": "stdout",
     "output_type": "stream",
     "text": [
      "PM "
     ]
    },
    {
     "name": "stderr",
     "output_type": "stream",
     "text": [
      "c:\\repositories\\pipeline\\podpac\\podpac\\core\\coordinates\\dependent_coordinates.py:496: UserWarning: transformation of coordinate segment lengths not yet implemented\n",
      "  warnings.warn(\"transformation of coordinate segment lengths not yet implemented\")\n",
      "c:\\repositories\\pipeline\\podpac\\podpac\\core\\coordinates\\dependent_coordinates.py:498: UserWarning: transformation of coordinate segment lengths not yet implemented\n",
      "  warnings.warn(\"transformation of coordinate segment lengths not yet implemented\")\n",
      "c:\\repositories\\pipeline\\podpac\\podpac\\datalib\\smap_egi.py:204: RuntimeWarning: Mean of empty slice\n",
      "  lon = np.nanmean(lons, axis=0)\n",
      "c:\\repositories\\pipeline\\podpac\\podpac\\core\\coordinates\\array_coordinates1d.py:83: RuntimeWarning: invalid value encountered in less_equal\n",
      "  if np.any(deltas <= 0):\n",
      "c:\\repositories\\pipeline\\podpac\\podpac\\core\\coordinates\\dependent_coordinates.py:496: UserWarning: transformation of coordinate segment lengths not yet implemented\n",
      "  warnings.warn(\"transformation of coordinate segment lengths not yet implemented\")\n",
      "c:\\repositories\\pipeline\\podpac\\podpac\\core\\coordinates\\dependent_coordinates.py:498: UserWarning: transformation of coordinate segment lengths not yet implemented\n",
      "  warnings.warn(\"transformation of coordinate segment lengths not yet implemented\")\n"
     ]
    },
    {
     "name": "stdout",
     "output_type": "stream",
     "text": [
      "PM_QF "
     ]
    },
    {
     "name": "stderr",
     "output_type": "stream",
     "text": [
      "c:\\repositories\\pipeline\\podpac\\podpac\\datalib\\smap_egi.py:204: RuntimeWarning: Mean of empty slice\n",
      "  lon = np.nanmean(lons, axis=0)\n",
      "c:\\repositories\\pipeline\\podpac\\podpac\\core\\coordinates\\array_coordinates1d.py:83: RuntimeWarning: invalid value encountered in less_equal\n",
      "  if np.any(deltas <= 0):\n",
      "c:\\repositories\\pipeline\\podpac\\podpac\\core\\coordinates\\dependent_coordinates.py:496: UserWarning: transformation of coordinate segment lengths not yet implemented\n",
      "  warnings.warn(\"transformation of coordinate segment lengths not yet implemented\")\n",
      "c:\\repositories\\pipeline\\podpac\\podpac\\core\\coordinates\\dependent_coordinates.py:498: UserWarning: transformation of coordinate segment lengths not yet implemented\n",
      "  warnings.warn(\"transformation of coordinate segment lengths not yet implemented\")\n"
     ]
    },
    {
     "name": "stdout",
     "output_type": "stream",
     "text": [
      " ... Done.\n",
      "Updating S3 Zarr file for L3 Data.\n",
      "Updating S3 Zarr file for L3 Data.\n",
      "Download L3 Data for: UniformCoordinates1d(time): Bounds[2019-09-10T00:00:00.000000000, 2019-09-11T00:00:00.000000000], N[2], ctype['midpoint'] ...AM "
     ]
    },
    {
     "name": "stderr",
     "output_type": "stream",
     "text": [
      "c:\\repositories\\pipeline\\podpac\\podpac\\core\\coordinates\\dependent_coordinates.py:496: UserWarning: transformation of coordinate segment lengths not yet implemented\n",
      "  warnings.warn(\"transformation of coordinate segment lengths not yet implemented\")\n",
      "c:\\repositories\\pipeline\\podpac\\podpac\\core\\coordinates\\dependent_coordinates.py:498: UserWarning: transformation of coordinate segment lengths not yet implemented\n",
      "  warnings.warn(\"transformation of coordinate segment lengths not yet implemented\")\n",
      "c:\\repositories\\pipeline\\podpac\\podpac\\datalib\\smap_egi.py:204: RuntimeWarning: Mean of empty slice\n",
      "  lon = np.nanmean(lons, axis=0)\n",
      "c:\\repositories\\pipeline\\podpac\\podpac\\core\\coordinates\\array_coordinates1d.py:83: RuntimeWarning: invalid value encountered in less_equal\n",
      "  if np.any(deltas <= 0):\n",
      "c:\\repositories\\pipeline\\podpac\\podpac\\core\\coordinates\\dependent_coordinates.py:496: UserWarning: transformation of coordinate segment lengths not yet implemented\n",
      "  warnings.warn(\"transformation of coordinate segment lengths not yet implemented\")\n",
      "c:\\repositories\\pipeline\\podpac\\podpac\\core\\coordinates\\dependent_coordinates.py:498: UserWarning: transformation of coordinate segment lengths not yet implemented\n",
      "  warnings.warn(\"transformation of coordinate segment lengths not yet implemented\")\n"
     ]
    },
    {
     "name": "stdout",
     "output_type": "stream",
     "text": [
      "AM_QF "
     ]
    },
    {
     "name": "stderr",
     "output_type": "stream",
     "text": [
      "c:\\repositories\\pipeline\\podpac\\podpac\\datalib\\smap_egi.py:204: RuntimeWarning: Mean of empty slice\n",
      "  lon = np.nanmean(lons, axis=0)\n",
      "c:\\repositories\\pipeline\\podpac\\podpac\\core\\coordinates\\array_coordinates1d.py:83: RuntimeWarning: invalid value encountered in less_equal\n",
      "  if np.any(deltas <= 0):\n",
      "c:\\repositories\\pipeline\\podpac\\podpac\\core\\coordinates\\dependent_coordinates.py:496: UserWarning: transformation of coordinate segment lengths not yet implemented\n",
      "  warnings.warn(\"transformation of coordinate segment lengths not yet implemented\")\n",
      "c:\\repositories\\pipeline\\podpac\\podpac\\core\\coordinates\\dependent_coordinates.py:498: UserWarning: transformation of coordinate segment lengths not yet implemented\n",
      "  warnings.warn(\"transformation of coordinate segment lengths not yet implemented\")\n"
     ]
    },
    {
     "name": "stdout",
     "output_type": "stream",
     "text": [
      "PM "
     ]
    },
    {
     "name": "stderr",
     "output_type": "stream",
     "text": [
      "c:\\repositories\\pipeline\\podpac\\podpac\\core\\coordinates\\dependent_coordinates.py:496: UserWarning: transformation of coordinate segment lengths not yet implemented\n",
      "  warnings.warn(\"transformation of coordinate segment lengths not yet implemented\")\n",
      "c:\\repositories\\pipeline\\podpac\\podpac\\core\\coordinates\\dependent_coordinates.py:498: UserWarning: transformation of coordinate segment lengths not yet implemented\n",
      "  warnings.warn(\"transformation of coordinate segment lengths not yet implemented\")\n",
      "c:\\repositories\\pipeline\\podpac\\podpac\\datalib\\smap_egi.py:204: RuntimeWarning: Mean of empty slice\n",
      "  lon = np.nanmean(lons, axis=0)\n",
      "c:\\repositories\\pipeline\\podpac\\podpac\\core\\coordinates\\array_coordinates1d.py:83: RuntimeWarning: invalid value encountered in less_equal\n",
      "  if np.any(deltas <= 0):\n",
      "c:\\repositories\\pipeline\\podpac\\podpac\\core\\coordinates\\dependent_coordinates.py:496: UserWarning: transformation of coordinate segment lengths not yet implemented\n",
      "  warnings.warn(\"transformation of coordinate segment lengths not yet implemented\")\n",
      "c:\\repositories\\pipeline\\podpac\\podpac\\core\\coordinates\\dependent_coordinates.py:498: UserWarning: transformation of coordinate segment lengths not yet implemented\n",
      "  warnings.warn(\"transformation of coordinate segment lengths not yet implemented\")\n"
     ]
    },
    {
     "name": "stdout",
     "output_type": "stream",
     "text": [
      "PM_QF "
     ]
    },
    {
     "name": "stderr",
     "output_type": "stream",
     "text": [
      "c:\\repositories\\pipeline\\podpac\\podpac\\datalib\\smap_egi.py:204: RuntimeWarning: Mean of empty slice\n",
      "  lon = np.nanmean(lons, axis=0)\n",
      "c:\\repositories\\pipeline\\podpac\\podpac\\core\\coordinates\\array_coordinates1d.py:83: RuntimeWarning: invalid value encountered in less_equal\n",
      "  if np.any(deltas <= 0):\n",
      "c:\\repositories\\pipeline\\podpac\\podpac\\core\\coordinates\\dependent_coordinates.py:496: UserWarning: transformation of coordinate segment lengths not yet implemented\n",
      "  warnings.warn(\"transformation of coordinate segment lengths not yet implemented\")\n",
      "c:\\repositories\\pipeline\\podpac\\podpac\\core\\coordinates\\dependent_coordinates.py:498: UserWarning: transformation of coordinate segment lengths not yet implemented\n",
      "  warnings.warn(\"transformation of coordinate segment lengths not yet implemented\")\n"
     ]
    },
    {
     "name": "stdout",
     "output_type": "stream",
     "text": [
      " ... Done.\n",
      "Updating S3 Zarr file for L3 Data.\n",
      "Updating S3 Zarr file for L3 Data.\n",
      "Download L3 Data for: UniformCoordinates1d(time): Bounds[2019-09-12T00:00:00.000000000, 2019-09-13T00:00:00.000000000], N[2], ctype['midpoint'] ...AM "
     ]
    },
    {
     "name": "stderr",
     "output_type": "stream",
     "text": [
      "c:\\repositories\\pipeline\\podpac\\podpac\\core\\coordinates\\dependent_coordinates.py:496: UserWarning: transformation of coordinate segment lengths not yet implemented\n",
      "  warnings.warn(\"transformation of coordinate segment lengths not yet implemented\")\n",
      "c:\\repositories\\pipeline\\podpac\\podpac\\core\\coordinates\\dependent_coordinates.py:498: UserWarning: transformation of coordinate segment lengths not yet implemented\n",
      "  warnings.warn(\"transformation of coordinate segment lengths not yet implemented\")\n",
      "c:\\repositories\\pipeline\\podpac\\podpac\\datalib\\smap_egi.py:204: RuntimeWarning: Mean of empty slice\n",
      "  lon = np.nanmean(lons, axis=0)\n",
      "c:\\repositories\\pipeline\\podpac\\podpac\\core\\coordinates\\array_coordinates1d.py:83: RuntimeWarning: invalid value encountered in less_equal\n",
      "  if np.any(deltas <= 0):\n",
      "c:\\repositories\\pipeline\\podpac\\podpac\\core\\coordinates\\dependent_coordinates.py:496: UserWarning: transformation of coordinate segment lengths not yet implemented\n",
      "  warnings.warn(\"transformation of coordinate segment lengths not yet implemented\")\n",
      "c:\\repositories\\pipeline\\podpac\\podpac\\core\\coordinates\\dependent_coordinates.py:498: UserWarning: transformation of coordinate segment lengths not yet implemented\n",
      "  warnings.warn(\"transformation of coordinate segment lengths not yet implemented\")\n"
     ]
    },
    {
     "name": "stdout",
     "output_type": "stream",
     "text": [
      "AM_QF "
     ]
    },
    {
     "name": "stderr",
     "output_type": "stream",
     "text": [
      "c:\\repositories\\pipeline\\podpac\\podpac\\datalib\\smap_egi.py:204: RuntimeWarning: Mean of empty slice\n",
      "  lon = np.nanmean(lons, axis=0)\n",
      "c:\\repositories\\pipeline\\podpac\\podpac\\core\\coordinates\\array_coordinates1d.py:83: RuntimeWarning: invalid value encountered in less_equal\n",
      "  if np.any(deltas <= 0):\n",
      "c:\\repositories\\pipeline\\podpac\\podpac\\core\\coordinates\\dependent_coordinates.py:496: UserWarning: transformation of coordinate segment lengths not yet implemented\n",
      "  warnings.warn(\"transformation of coordinate segment lengths not yet implemented\")\n",
      "c:\\repositories\\pipeline\\podpac\\podpac\\core\\coordinates\\dependent_coordinates.py:498: UserWarning: transformation of coordinate segment lengths not yet implemented\n",
      "  warnings.warn(\"transformation of coordinate segment lengths not yet implemented\")\n"
     ]
    },
    {
     "name": "stdout",
     "output_type": "stream",
     "text": [
      "PM "
     ]
    },
    {
     "name": "stderr",
     "output_type": "stream",
     "text": [
      "c:\\repositories\\pipeline\\podpac\\podpac\\core\\coordinates\\dependent_coordinates.py:496: UserWarning: transformation of coordinate segment lengths not yet implemented\n",
      "  warnings.warn(\"transformation of coordinate segment lengths not yet implemented\")\n",
      "c:\\repositories\\pipeline\\podpac\\podpac\\core\\coordinates\\dependent_coordinates.py:498: UserWarning: transformation of coordinate segment lengths not yet implemented\n",
      "  warnings.warn(\"transformation of coordinate segment lengths not yet implemented\")\n",
      "c:\\repositories\\pipeline\\podpac\\podpac\\datalib\\smap_egi.py:204: RuntimeWarning: Mean of empty slice\n",
      "  lon = np.nanmean(lons, axis=0)\n",
      "c:\\repositories\\pipeline\\podpac\\podpac\\core\\coordinates\\array_coordinates1d.py:83: RuntimeWarning: invalid value encountered in less_equal\n",
      "  if np.any(deltas <= 0):\n",
      "c:\\repositories\\pipeline\\podpac\\podpac\\core\\coordinates\\dependent_coordinates.py:496: UserWarning: transformation of coordinate segment lengths not yet implemented\n",
      "  warnings.warn(\"transformation of coordinate segment lengths not yet implemented\")\n",
      "c:\\repositories\\pipeline\\podpac\\podpac\\core\\coordinates\\dependent_coordinates.py:498: UserWarning: transformation of coordinate segment lengths not yet implemented\n",
      "  warnings.warn(\"transformation of coordinate segment lengths not yet implemented\")\n"
     ]
    },
    {
     "name": "stdout",
     "output_type": "stream",
     "text": [
      "PM_QF "
     ]
    },
    {
     "name": "stderr",
     "output_type": "stream",
     "text": [
      "c:\\repositories\\pipeline\\podpac\\podpac\\datalib\\smap_egi.py:204: RuntimeWarning: Mean of empty slice\n",
      "  lon = np.nanmean(lons, axis=0)\n",
      "c:\\repositories\\pipeline\\podpac\\podpac\\core\\coordinates\\array_coordinates1d.py:83: RuntimeWarning: invalid value encountered in less_equal\n",
      "  if np.any(deltas <= 0):\n",
      "c:\\repositories\\pipeline\\podpac\\podpac\\core\\coordinates\\dependent_coordinates.py:496: UserWarning: transformation of coordinate segment lengths not yet implemented\n",
      "  warnings.warn(\"transformation of coordinate segment lengths not yet implemented\")\n",
      "c:\\repositories\\pipeline\\podpac\\podpac\\core\\coordinates\\dependent_coordinates.py:498: UserWarning: transformation of coordinate segment lengths not yet implemented\n",
      "  warnings.warn(\"transformation of coordinate segment lengths not yet implemented\")\n"
     ]
    },
    {
     "name": "stdout",
     "output_type": "stream",
     "text": [
      " ... Done.\n",
      "Updating S3 Zarr file for L3 Data.\n",
      "Updating S3 Zarr file for L3 Data.\n",
      "Download L3 Data for: UniformCoordinates1d(time): Bounds[2019-09-14T00:00:00.000000000, 2019-09-15T00:00:00.000000000], N[2], ctype['midpoint'] ...AM "
     ]
    },
    {
     "name": "stderr",
     "output_type": "stream",
     "text": [
      "c:\\repositories\\pipeline\\podpac\\podpac\\core\\coordinates\\dependent_coordinates.py:496: UserWarning: transformation of coordinate segment lengths not yet implemented\n",
      "  warnings.warn(\"transformation of coordinate segment lengths not yet implemented\")\n",
      "c:\\repositories\\pipeline\\podpac\\podpac\\core\\coordinates\\dependent_coordinates.py:498: UserWarning: transformation of coordinate segment lengths not yet implemented\n",
      "  warnings.warn(\"transformation of coordinate segment lengths not yet implemented\")\n",
      "c:\\repositories\\pipeline\\podpac\\podpac\\datalib\\smap_egi.py:204: RuntimeWarning: Mean of empty slice\n",
      "  lon = np.nanmean(lons, axis=0)\n",
      "c:\\repositories\\pipeline\\podpac\\podpac\\core\\coordinates\\array_coordinates1d.py:83: RuntimeWarning: invalid value encountered in less_equal\n",
      "  if np.any(deltas <= 0):\n",
      "c:\\repositories\\pipeline\\podpac\\podpac\\core\\coordinates\\dependent_coordinates.py:496: UserWarning: transformation of coordinate segment lengths not yet implemented\n",
      "  warnings.warn(\"transformation of coordinate segment lengths not yet implemented\")\n",
      "c:\\repositories\\pipeline\\podpac\\podpac\\core\\coordinates\\dependent_coordinates.py:498: UserWarning: transformation of coordinate segment lengths not yet implemented\n",
      "  warnings.warn(\"transformation of coordinate segment lengths not yet implemented\")\n"
     ]
    },
    {
     "name": "stdout",
     "output_type": "stream",
     "text": [
      "AM_QF "
     ]
    },
    {
     "name": "stderr",
     "output_type": "stream",
     "text": [
      "c:\\repositories\\pipeline\\podpac\\podpac\\datalib\\smap_egi.py:204: RuntimeWarning: Mean of empty slice\n",
      "  lon = np.nanmean(lons, axis=0)\n",
      "c:\\repositories\\pipeline\\podpac\\podpac\\core\\coordinates\\array_coordinates1d.py:83: RuntimeWarning: invalid value encountered in less_equal\n",
      "  if np.any(deltas <= 0):\n",
      "c:\\repositories\\pipeline\\podpac\\podpac\\core\\coordinates\\dependent_coordinates.py:496: UserWarning: transformation of coordinate segment lengths not yet implemented\n",
      "  warnings.warn(\"transformation of coordinate segment lengths not yet implemented\")\n",
      "c:\\repositories\\pipeline\\podpac\\podpac\\core\\coordinates\\dependent_coordinates.py:498: UserWarning: transformation of coordinate segment lengths not yet implemented\n",
      "  warnings.warn(\"transformation of coordinate segment lengths not yet implemented\")\n"
     ]
    },
    {
     "name": "stdout",
     "output_type": "stream",
     "text": [
      "PM "
     ]
    },
    {
     "name": "stderr",
     "output_type": "stream",
     "text": [
      "c:\\repositories\\pipeline\\podpac\\podpac\\core\\coordinates\\dependent_coordinates.py:496: UserWarning: transformation of coordinate segment lengths not yet implemented\n",
      "  warnings.warn(\"transformation of coordinate segment lengths not yet implemented\")\n",
      "c:\\repositories\\pipeline\\podpac\\podpac\\core\\coordinates\\dependent_coordinates.py:498: UserWarning: transformation of coordinate segment lengths not yet implemented\n",
      "  warnings.warn(\"transformation of coordinate segment lengths not yet implemented\")\n",
      "c:\\repositories\\pipeline\\podpac\\podpac\\datalib\\smap_egi.py:204: RuntimeWarning: Mean of empty slice\n",
      "  lon = np.nanmean(lons, axis=0)\n",
      "c:\\repositories\\pipeline\\podpac\\podpac\\core\\coordinates\\array_coordinates1d.py:83: RuntimeWarning: invalid value encountered in less_equal\n",
      "  if np.any(deltas <= 0):\n",
      "c:\\repositories\\pipeline\\podpac\\podpac\\core\\coordinates\\dependent_coordinates.py:496: UserWarning: transformation of coordinate segment lengths not yet implemented\n",
      "  warnings.warn(\"transformation of coordinate segment lengths not yet implemented\")\n",
      "c:\\repositories\\pipeline\\podpac\\podpac\\core\\coordinates\\dependent_coordinates.py:498: UserWarning: transformation of coordinate segment lengths not yet implemented\n",
      "  warnings.warn(\"transformation of coordinate segment lengths not yet implemented\")\n"
     ]
    },
    {
     "name": "stdout",
     "output_type": "stream",
     "text": [
      "PM_QF "
     ]
    },
    {
     "name": "stderr",
     "output_type": "stream",
     "text": [
      "c:\\repositories\\pipeline\\podpac\\podpac\\datalib\\smap_egi.py:204: RuntimeWarning: Mean of empty slice\n",
      "  lon = np.nanmean(lons, axis=0)\n",
      "c:\\repositories\\pipeline\\podpac\\podpac\\core\\coordinates\\array_coordinates1d.py:83: RuntimeWarning: invalid value encountered in less_equal\n",
      "  if np.any(deltas <= 0):\n",
      "c:\\repositories\\pipeline\\podpac\\podpac\\core\\coordinates\\dependent_coordinates.py:496: UserWarning: transformation of coordinate segment lengths not yet implemented\n",
      "  warnings.warn(\"transformation of coordinate segment lengths not yet implemented\")\n",
      "c:\\repositories\\pipeline\\podpac\\podpac\\core\\coordinates\\dependent_coordinates.py:498: UserWarning: transformation of coordinate segment lengths not yet implemented\n",
      "  warnings.warn(\"transformation of coordinate segment lengths not yet implemented\")\n"
     ]
    },
    {
     "name": "stdout",
     "output_type": "stream",
     "text": [
      " ... Done.\n",
      "Updating S3 Zarr file for L3 Data.\n",
      "Updating S3 Zarr file for L3 Data.\n",
      "Download L3 Data for: UniformCoordinates1d(time): Bounds[2019-09-16T00:00:00.000000000, 2019-09-17T00:00:00.000000000], N[2], ctype['midpoint'] ...AM "
     ]
    },
    {
     "name": "stderr",
     "output_type": "stream",
     "text": [
      "c:\\repositories\\pipeline\\podpac\\podpac\\core\\coordinates\\dependent_coordinates.py:496: UserWarning: transformation of coordinate segment lengths not yet implemented\n",
      "  warnings.warn(\"transformation of coordinate segment lengths not yet implemented\")\n",
      "c:\\repositories\\pipeline\\podpac\\podpac\\core\\coordinates\\dependent_coordinates.py:498: UserWarning: transformation of coordinate segment lengths not yet implemented\n",
      "  warnings.warn(\"transformation of coordinate segment lengths not yet implemented\")\n",
      "c:\\repositories\\pipeline\\podpac\\podpac\\datalib\\smap_egi.py:204: RuntimeWarning: Mean of empty slice\n",
      "  lon = np.nanmean(lons, axis=0)\n",
      "c:\\repositories\\pipeline\\podpac\\podpac\\core\\coordinates\\array_coordinates1d.py:83: RuntimeWarning: invalid value encountered in less_equal\n",
      "  if np.any(deltas <= 0):\n",
      "c:\\repositories\\pipeline\\podpac\\podpac\\core\\coordinates\\dependent_coordinates.py:496: UserWarning: transformation of coordinate segment lengths not yet implemented\n",
      "  warnings.warn(\"transformation of coordinate segment lengths not yet implemented\")\n",
      "c:\\repositories\\pipeline\\podpac\\podpac\\core\\coordinates\\dependent_coordinates.py:498: UserWarning: transformation of coordinate segment lengths not yet implemented\n",
      "  warnings.warn(\"transformation of coordinate segment lengths not yet implemented\")\n"
     ]
    },
    {
     "name": "stdout",
     "output_type": "stream",
     "text": [
      "AM_QF "
     ]
    },
    {
     "name": "stderr",
     "output_type": "stream",
     "text": [
      "c:\\repositories\\pipeline\\podpac\\podpac\\datalib\\smap_egi.py:204: RuntimeWarning: Mean of empty slice\n",
      "  lon = np.nanmean(lons, axis=0)\n",
      "c:\\repositories\\pipeline\\podpac\\podpac\\core\\coordinates\\array_coordinates1d.py:83: RuntimeWarning: invalid value encountered in less_equal\n",
      "  if np.any(deltas <= 0):\n",
      "c:\\repositories\\pipeline\\podpac\\podpac\\core\\coordinates\\dependent_coordinates.py:496: UserWarning: transformation of coordinate segment lengths not yet implemented\n",
      "  warnings.warn(\"transformation of coordinate segment lengths not yet implemented\")\n",
      "c:\\repositories\\pipeline\\podpac\\podpac\\core\\coordinates\\dependent_coordinates.py:498: UserWarning: transformation of coordinate segment lengths not yet implemented\n",
      "  warnings.warn(\"transformation of coordinate segment lengths not yet implemented\")\n"
     ]
    },
    {
     "name": "stdout",
     "output_type": "stream",
     "text": [
      "PM "
     ]
    },
    {
     "name": "stderr",
     "output_type": "stream",
     "text": [
      "c:\\repositories\\pipeline\\podpac\\podpac\\core\\coordinates\\dependent_coordinates.py:496: UserWarning: transformation of coordinate segment lengths not yet implemented\n",
      "  warnings.warn(\"transformation of coordinate segment lengths not yet implemented\")\n",
      "c:\\repositories\\pipeline\\podpac\\podpac\\core\\coordinates\\dependent_coordinates.py:498: UserWarning: transformation of coordinate segment lengths not yet implemented\n",
      "  warnings.warn(\"transformation of coordinate segment lengths not yet implemented\")\n",
      "c:\\repositories\\pipeline\\podpac\\podpac\\datalib\\smap_egi.py:204: RuntimeWarning: Mean of empty slice\n",
      "  lon = np.nanmean(lons, axis=0)\n",
      "c:\\repositories\\pipeline\\podpac\\podpac\\core\\coordinates\\array_coordinates1d.py:83: RuntimeWarning: invalid value encountered in less_equal\n",
      "  if np.any(deltas <= 0):\n",
      "c:\\repositories\\pipeline\\podpac\\podpac\\core\\coordinates\\dependent_coordinates.py:496: UserWarning: transformation of coordinate segment lengths not yet implemented\n",
      "  warnings.warn(\"transformation of coordinate segment lengths not yet implemented\")\n",
      "c:\\repositories\\pipeline\\podpac\\podpac\\core\\coordinates\\dependent_coordinates.py:498: UserWarning: transformation of coordinate segment lengths not yet implemented\n",
      "  warnings.warn(\"transformation of coordinate segment lengths not yet implemented\")\n"
     ]
    },
    {
     "name": "stdout",
     "output_type": "stream",
     "text": [
      "PM_QF "
     ]
    },
    {
     "name": "stderr",
     "output_type": "stream",
     "text": [
      "c:\\repositories\\pipeline\\podpac\\podpac\\datalib\\smap_egi.py:204: RuntimeWarning: Mean of empty slice\n",
      "  lon = np.nanmean(lons, axis=0)\n",
      "c:\\repositories\\pipeline\\podpac\\podpac\\core\\coordinates\\array_coordinates1d.py:83: RuntimeWarning: invalid value encountered in less_equal\n",
      "  if np.any(deltas <= 0):\n",
      "c:\\repositories\\pipeline\\podpac\\podpac\\core\\coordinates\\dependent_coordinates.py:496: UserWarning: transformation of coordinate segment lengths not yet implemented\n",
      "  warnings.warn(\"transformation of coordinate segment lengths not yet implemented\")\n",
      "c:\\repositories\\pipeline\\podpac\\podpac\\core\\coordinates\\dependent_coordinates.py:498: UserWarning: transformation of coordinate segment lengths not yet implemented\n",
      "  warnings.warn(\"transformation of coordinate segment lengths not yet implemented\")\n"
     ]
    },
    {
     "name": "stdout",
     "output_type": "stream",
     "text": [
      " ... Done.\n",
      "Updating S3 Zarr file for L3 Data.\n",
      "Updating S3 Zarr file for L3 Data.\n",
      "Download L3 Data for: UniformCoordinates1d(time): Bounds[2019-09-18T00:00:00.000000000, 2019-09-19T00:00:00.000000000], N[2], ctype['midpoint'] ...AM "
     ]
    },
    {
     "name": "stderr",
     "output_type": "stream",
     "text": [
      "c:\\repositories\\pipeline\\podpac\\podpac\\core\\coordinates\\dependent_coordinates.py:496: UserWarning: transformation of coordinate segment lengths not yet implemented\n",
      "  warnings.warn(\"transformation of coordinate segment lengths not yet implemented\")\n",
      "c:\\repositories\\pipeline\\podpac\\podpac\\core\\coordinates\\dependent_coordinates.py:498: UserWarning: transformation of coordinate segment lengths not yet implemented\n",
      "  warnings.warn(\"transformation of coordinate segment lengths not yet implemented\")\n",
      "c:\\repositories\\pipeline\\podpac\\podpac\\datalib\\smap_egi.py:204: RuntimeWarning: Mean of empty slice\n",
      "  lon = np.nanmean(lons, axis=0)\n",
      "c:\\repositories\\pipeline\\podpac\\podpac\\core\\coordinates\\array_coordinates1d.py:83: RuntimeWarning: invalid value encountered in less_equal\n",
      "  if np.any(deltas <= 0):\n",
      "c:\\repositories\\pipeline\\podpac\\podpac\\core\\coordinates\\dependent_coordinates.py:496: UserWarning: transformation of coordinate segment lengths not yet implemented\n",
      "  warnings.warn(\"transformation of coordinate segment lengths not yet implemented\")\n",
      "c:\\repositories\\pipeline\\podpac\\podpac\\core\\coordinates\\dependent_coordinates.py:498: UserWarning: transformation of coordinate segment lengths not yet implemented\n",
      "  warnings.warn(\"transformation of coordinate segment lengths not yet implemented\")\n"
     ]
    },
    {
     "name": "stdout",
     "output_type": "stream",
     "text": [
      "AM_QF "
     ]
    },
    {
     "name": "stderr",
     "output_type": "stream",
     "text": [
      "c:\\repositories\\pipeline\\podpac\\podpac\\datalib\\smap_egi.py:204: RuntimeWarning: Mean of empty slice\n",
      "  lon = np.nanmean(lons, axis=0)\n",
      "c:\\repositories\\pipeline\\podpac\\podpac\\core\\coordinates\\array_coordinates1d.py:83: RuntimeWarning: invalid value encountered in less_equal\n",
      "  if np.any(deltas <= 0):\n",
      "c:\\repositories\\pipeline\\podpac\\podpac\\core\\coordinates\\dependent_coordinates.py:496: UserWarning: transformation of coordinate segment lengths not yet implemented\n",
      "  warnings.warn(\"transformation of coordinate segment lengths not yet implemented\")\n",
      "c:\\repositories\\pipeline\\podpac\\podpac\\core\\coordinates\\dependent_coordinates.py:498: UserWarning: transformation of coordinate segment lengths not yet implemented\n",
      "  warnings.warn(\"transformation of coordinate segment lengths not yet implemented\")\n"
     ]
    },
    {
     "name": "stdout",
     "output_type": "stream",
     "text": [
      "PM "
     ]
    },
    {
     "name": "stderr",
     "output_type": "stream",
     "text": [
      "c:\\repositories\\pipeline\\podpac\\podpac\\core\\coordinates\\dependent_coordinates.py:496: UserWarning: transformation of coordinate segment lengths not yet implemented\n",
      "  warnings.warn(\"transformation of coordinate segment lengths not yet implemented\")\n",
      "c:\\repositories\\pipeline\\podpac\\podpac\\core\\coordinates\\dependent_coordinates.py:498: UserWarning: transformation of coordinate segment lengths not yet implemented\n",
      "  warnings.warn(\"transformation of coordinate segment lengths not yet implemented\")\n",
      "c:\\repositories\\pipeline\\podpac\\podpac\\datalib\\smap_egi.py:204: RuntimeWarning: Mean of empty slice\n",
      "  lon = np.nanmean(lons, axis=0)\n",
      "c:\\repositories\\pipeline\\podpac\\podpac\\core\\coordinates\\array_coordinates1d.py:83: RuntimeWarning: invalid value encountered in less_equal\n",
      "  if np.any(deltas <= 0):\n",
      "c:\\repositories\\pipeline\\podpac\\podpac\\core\\coordinates\\dependent_coordinates.py:496: UserWarning: transformation of coordinate segment lengths not yet implemented\n",
      "  warnings.warn(\"transformation of coordinate segment lengths not yet implemented\")\n",
      "c:\\repositories\\pipeline\\podpac\\podpac\\core\\coordinates\\dependent_coordinates.py:498: UserWarning: transformation of coordinate segment lengths not yet implemented\n",
      "  warnings.warn(\"transformation of coordinate segment lengths not yet implemented\")\n"
     ]
    },
    {
     "name": "stdout",
     "output_type": "stream",
     "text": [
      "PM_QF "
     ]
    },
    {
     "name": "stderr",
     "output_type": "stream",
     "text": [
      "c:\\repositories\\pipeline\\podpac\\podpac\\datalib\\smap_egi.py:204: RuntimeWarning: Mean of empty slice\n",
      "  lon = np.nanmean(lons, axis=0)\n",
      "c:\\repositories\\pipeline\\podpac\\podpac\\core\\coordinates\\array_coordinates1d.py:83: RuntimeWarning: invalid value encountered in less_equal\n",
      "  if np.any(deltas <= 0):\n",
      "c:\\repositories\\pipeline\\podpac\\podpac\\core\\coordinates\\dependent_coordinates.py:496: UserWarning: transformation of coordinate segment lengths not yet implemented\n",
      "  warnings.warn(\"transformation of coordinate segment lengths not yet implemented\")\n",
      "c:\\repositories\\pipeline\\podpac\\podpac\\core\\coordinates\\dependent_coordinates.py:498: UserWarning: transformation of coordinate segment lengths not yet implemented\n",
      "  warnings.warn(\"transformation of coordinate segment lengths not yet implemented\")\n"
     ]
    },
    {
     "name": "stdout",
     "output_type": "stream",
     "text": [
      " ... Done.\n",
      "Updating S3 Zarr file for L3 Data.\n",
      "Updating S3 Zarr file for L3 Data.\n",
      "Download L3 Data for: UniformCoordinates1d(time): Bounds[2019-09-20T00:00:00.000000000, 2019-09-21T00:00:00.000000000], N[2], ctype['midpoint'] ...AM "
     ]
    },
    {
     "name": "stderr",
     "output_type": "stream",
     "text": [
      "c:\\repositories\\pipeline\\podpac\\podpac\\core\\coordinates\\dependent_coordinates.py:496: UserWarning: transformation of coordinate segment lengths not yet implemented\n",
      "  warnings.warn(\"transformation of coordinate segment lengths not yet implemented\")\n",
      "c:\\repositories\\pipeline\\podpac\\podpac\\core\\coordinates\\dependent_coordinates.py:498: UserWarning: transformation of coordinate segment lengths not yet implemented\n",
      "  warnings.warn(\"transformation of coordinate segment lengths not yet implemented\")\n",
      "c:\\repositories\\pipeline\\podpac\\podpac\\datalib\\smap_egi.py:204: RuntimeWarning: Mean of empty slice\n",
      "  lon = np.nanmean(lons, axis=0)\n",
      "c:\\repositories\\pipeline\\podpac\\podpac\\core\\coordinates\\array_coordinates1d.py:83: RuntimeWarning: invalid value encountered in less_equal\n",
      "  if np.any(deltas <= 0):\n",
      "c:\\repositories\\pipeline\\podpac\\podpac\\core\\coordinates\\dependent_coordinates.py:496: UserWarning: transformation of coordinate segment lengths not yet implemented\n",
      "  warnings.warn(\"transformation of coordinate segment lengths not yet implemented\")\n",
      "c:\\repositories\\pipeline\\podpac\\podpac\\core\\coordinates\\dependent_coordinates.py:498: UserWarning: transformation of coordinate segment lengths not yet implemented\n",
      "  warnings.warn(\"transformation of coordinate segment lengths not yet implemented\")\n"
     ]
    },
    {
     "name": "stdout",
     "output_type": "stream",
     "text": [
      "AM_QF "
     ]
    },
    {
     "name": "stderr",
     "output_type": "stream",
     "text": [
      "c:\\repositories\\pipeline\\podpac\\podpac\\datalib\\smap_egi.py:204: RuntimeWarning: Mean of empty slice\n",
      "  lon = np.nanmean(lons, axis=0)\n",
      "c:\\repositories\\pipeline\\podpac\\podpac\\core\\coordinates\\array_coordinates1d.py:83: RuntimeWarning: invalid value encountered in less_equal\n",
      "  if np.any(deltas <= 0):\n",
      "c:\\repositories\\pipeline\\podpac\\podpac\\core\\coordinates\\dependent_coordinates.py:496: UserWarning: transformation of coordinate segment lengths not yet implemented\n",
      "  warnings.warn(\"transformation of coordinate segment lengths not yet implemented\")\n",
      "c:\\repositories\\pipeline\\podpac\\podpac\\core\\coordinates\\dependent_coordinates.py:498: UserWarning: transformation of coordinate segment lengths not yet implemented\n",
      "  warnings.warn(\"transformation of coordinate segment lengths not yet implemented\")\n"
     ]
    },
    {
     "name": "stdout",
     "output_type": "stream",
     "text": [
      "PM "
     ]
    },
    {
     "name": "stderr",
     "output_type": "stream",
     "text": [
      "c:\\repositories\\pipeline\\podpac\\podpac\\core\\coordinates\\dependent_coordinates.py:496: UserWarning: transformation of coordinate segment lengths not yet implemented\n",
      "  warnings.warn(\"transformation of coordinate segment lengths not yet implemented\")\n",
      "c:\\repositories\\pipeline\\podpac\\podpac\\core\\coordinates\\dependent_coordinates.py:498: UserWarning: transformation of coordinate segment lengths not yet implemented\n",
      "  warnings.warn(\"transformation of coordinate segment lengths not yet implemented\")\n",
      "c:\\repositories\\pipeline\\podpac\\podpac\\datalib\\smap_egi.py:204: RuntimeWarning: Mean of empty slice\n",
      "  lon = np.nanmean(lons, axis=0)\n",
      "c:\\repositories\\pipeline\\podpac\\podpac\\core\\coordinates\\array_coordinates1d.py:83: RuntimeWarning: invalid value encountered in less_equal\n",
      "  if np.any(deltas <= 0):\n",
      "c:\\repositories\\pipeline\\podpac\\podpac\\core\\coordinates\\dependent_coordinates.py:496: UserWarning: transformation of coordinate segment lengths not yet implemented\n",
      "  warnings.warn(\"transformation of coordinate segment lengths not yet implemented\")\n",
      "c:\\repositories\\pipeline\\podpac\\podpac\\core\\coordinates\\dependent_coordinates.py:498: UserWarning: transformation of coordinate segment lengths not yet implemented\n",
      "  warnings.warn(\"transformation of coordinate segment lengths not yet implemented\")\n"
     ]
    },
    {
     "name": "stdout",
     "output_type": "stream",
     "text": [
      "PM_QF "
     ]
    },
    {
     "name": "stderr",
     "output_type": "stream",
     "text": [
      "c:\\repositories\\pipeline\\podpac\\podpac\\datalib\\smap_egi.py:204: RuntimeWarning: Mean of empty slice\n",
      "  lon = np.nanmean(lons, axis=0)\n",
      "c:\\repositories\\pipeline\\podpac\\podpac\\core\\coordinates\\array_coordinates1d.py:83: RuntimeWarning: invalid value encountered in less_equal\n",
      "  if np.any(deltas <= 0):\n",
      "c:\\repositories\\pipeline\\podpac\\podpac\\core\\coordinates\\dependent_coordinates.py:496: UserWarning: transformation of coordinate segment lengths not yet implemented\n",
      "  warnings.warn(\"transformation of coordinate segment lengths not yet implemented\")\n",
      "c:\\repositories\\pipeline\\podpac\\podpac\\core\\coordinates\\dependent_coordinates.py:498: UserWarning: transformation of coordinate segment lengths not yet implemented\n",
      "  warnings.warn(\"transformation of coordinate segment lengths not yet implemented\")\n"
     ]
    },
    {
     "name": "stdout",
     "output_type": "stream",
     "text": [
      " ... Done.\n",
      "Updating S3 Zarr file for L3 Data.\n",
      "Updating S3 Zarr file for L3 Data.\n",
      "Download L3 Data for: UniformCoordinates1d(time): Bounds[2019-09-22T00:00:00.000000000, 2019-09-23T00:00:00.000000000], N[2], ctype['midpoint'] ...AM "
     ]
    },
    {
     "name": "stderr",
     "output_type": "stream",
     "text": [
      "c:\\repositories\\pipeline\\podpac\\podpac\\core\\coordinates\\dependent_coordinates.py:496: UserWarning: transformation of coordinate segment lengths not yet implemented\n",
      "  warnings.warn(\"transformation of coordinate segment lengths not yet implemented\")\n",
      "c:\\repositories\\pipeline\\podpac\\podpac\\core\\coordinates\\dependent_coordinates.py:498: UserWarning: transformation of coordinate segment lengths not yet implemented\n",
      "  warnings.warn(\"transformation of coordinate segment lengths not yet implemented\")\n",
      "c:\\repositories\\pipeline\\podpac\\podpac\\datalib\\smap_egi.py:204: RuntimeWarning: Mean of empty slice\n",
      "  lon = np.nanmean(lons, axis=0)\n",
      "c:\\repositories\\pipeline\\podpac\\podpac\\core\\coordinates\\array_coordinates1d.py:83: RuntimeWarning: invalid value encountered in less_equal\n",
      "  if np.any(deltas <= 0):\n",
      "c:\\repositories\\pipeline\\podpac\\podpac\\core\\coordinates\\dependent_coordinates.py:496: UserWarning: transformation of coordinate segment lengths not yet implemented\n",
      "  warnings.warn(\"transformation of coordinate segment lengths not yet implemented\")\n",
      "c:\\repositories\\pipeline\\podpac\\podpac\\core\\coordinates\\dependent_coordinates.py:498: UserWarning: transformation of coordinate segment lengths not yet implemented\n",
      "  warnings.warn(\"transformation of coordinate segment lengths not yet implemented\")\n"
     ]
    },
    {
     "name": "stdout",
     "output_type": "stream",
     "text": [
      "AM_QF "
     ]
    },
    {
     "name": "stderr",
     "output_type": "stream",
     "text": [
      "c:\\repositories\\pipeline\\podpac\\podpac\\datalib\\smap_egi.py:204: RuntimeWarning: Mean of empty slice\n",
      "  lon = np.nanmean(lons, axis=0)\n",
      "c:\\repositories\\pipeline\\podpac\\podpac\\core\\coordinates\\array_coordinates1d.py:83: RuntimeWarning: invalid value encountered in less_equal\n",
      "  if np.any(deltas <= 0):\n",
      "c:\\repositories\\pipeline\\podpac\\podpac\\core\\coordinates\\dependent_coordinates.py:496: UserWarning: transformation of coordinate segment lengths not yet implemented\n",
      "  warnings.warn(\"transformation of coordinate segment lengths not yet implemented\")\n",
      "c:\\repositories\\pipeline\\podpac\\podpac\\core\\coordinates\\dependent_coordinates.py:498: UserWarning: transformation of coordinate segment lengths not yet implemented\n",
      "  warnings.warn(\"transformation of coordinate segment lengths not yet implemented\")\n"
     ]
    },
    {
     "name": "stdout",
     "output_type": "stream",
     "text": [
      "PM "
     ]
    },
    {
     "name": "stderr",
     "output_type": "stream",
     "text": [
      "c:\\repositories\\pipeline\\podpac\\podpac\\core\\coordinates\\dependent_coordinates.py:496: UserWarning: transformation of coordinate segment lengths not yet implemented\n",
      "  warnings.warn(\"transformation of coordinate segment lengths not yet implemented\")\n",
      "c:\\repositories\\pipeline\\podpac\\podpac\\core\\coordinates\\dependent_coordinates.py:498: UserWarning: transformation of coordinate segment lengths not yet implemented\n",
      "  warnings.warn(\"transformation of coordinate segment lengths not yet implemented\")\n",
      "c:\\repositories\\pipeline\\podpac\\podpac\\datalib\\smap_egi.py:204: RuntimeWarning: Mean of empty slice\n",
      "  lon = np.nanmean(lons, axis=0)\n",
      "c:\\repositories\\pipeline\\podpac\\podpac\\core\\coordinates\\array_coordinates1d.py:83: RuntimeWarning: invalid value encountered in less_equal\n",
      "  if np.any(deltas <= 0):\n",
      "c:\\repositories\\pipeline\\podpac\\podpac\\core\\coordinates\\dependent_coordinates.py:496: UserWarning: transformation of coordinate segment lengths not yet implemented\n",
      "  warnings.warn(\"transformation of coordinate segment lengths not yet implemented\")\n",
      "c:\\repositories\\pipeline\\podpac\\podpac\\core\\coordinates\\dependent_coordinates.py:498: UserWarning: transformation of coordinate segment lengths not yet implemented\n",
      "  warnings.warn(\"transformation of coordinate segment lengths not yet implemented\")\n"
     ]
    },
    {
     "name": "stdout",
     "output_type": "stream",
     "text": [
      "PM_QF "
     ]
    },
    {
     "name": "stderr",
     "output_type": "stream",
     "text": [
      "c:\\repositories\\pipeline\\podpac\\podpac\\datalib\\smap_egi.py:204: RuntimeWarning: Mean of empty slice\n",
      "  lon = np.nanmean(lons, axis=0)\n",
      "c:\\repositories\\pipeline\\podpac\\podpac\\core\\coordinates\\array_coordinates1d.py:83: RuntimeWarning: invalid value encountered in less_equal\n",
      "  if np.any(deltas <= 0):\n",
      "c:\\repositories\\pipeline\\podpac\\podpac\\core\\coordinates\\dependent_coordinates.py:496: UserWarning: transformation of coordinate segment lengths not yet implemented\n",
      "  warnings.warn(\"transformation of coordinate segment lengths not yet implemented\")\n",
      "c:\\repositories\\pipeline\\podpac\\podpac\\core\\coordinates\\dependent_coordinates.py:498: UserWarning: transformation of coordinate segment lengths not yet implemented\n",
      "  warnings.warn(\"transformation of coordinate segment lengths not yet implemented\")\n"
     ]
    },
    {
     "name": "stdout",
     "output_type": "stream",
     "text": [
      " ... Done.\n",
      "Updating S3 Zarr file for L3 Data.\n",
      "Updating S3 Zarr file for L3 Data.\n",
      "Download L3 Data for: UniformCoordinates1d(time): Bounds[2019-09-24T00:00:00.000000000, 2019-09-25T00:00:00.000000000], N[2], ctype['midpoint'] ...AM "
     ]
    },
    {
     "name": "stderr",
     "output_type": "stream",
     "text": [
      "c:\\repositories\\pipeline\\podpac\\podpac\\core\\coordinates\\dependent_coordinates.py:496: UserWarning: transformation of coordinate segment lengths not yet implemented\n",
      "  warnings.warn(\"transformation of coordinate segment lengths not yet implemented\")\n",
      "c:\\repositories\\pipeline\\podpac\\podpac\\core\\coordinates\\dependent_coordinates.py:498: UserWarning: transformation of coordinate segment lengths not yet implemented\n",
      "  warnings.warn(\"transformation of coordinate segment lengths not yet implemented\")\n",
      "c:\\repositories\\pipeline\\podpac\\podpac\\datalib\\smap_egi.py:204: RuntimeWarning: Mean of empty slice\n",
      "  lon = np.nanmean(lons, axis=0)\n",
      "c:\\repositories\\pipeline\\podpac\\podpac\\core\\coordinates\\array_coordinates1d.py:83: RuntimeWarning: invalid value encountered in less_equal\n",
      "  if np.any(deltas <= 0):\n",
      "c:\\repositories\\pipeline\\podpac\\podpac\\core\\coordinates\\dependent_coordinates.py:496: UserWarning: transformation of coordinate segment lengths not yet implemented\n",
      "  warnings.warn(\"transformation of coordinate segment lengths not yet implemented\")\n",
      "c:\\repositories\\pipeline\\podpac\\podpac\\core\\coordinates\\dependent_coordinates.py:498: UserWarning: transformation of coordinate segment lengths not yet implemented\n",
      "  warnings.warn(\"transformation of coordinate segment lengths not yet implemented\")\n"
     ]
    },
    {
     "name": "stdout",
     "output_type": "stream",
     "text": [
      "AM_QF "
     ]
    },
    {
     "name": "stderr",
     "output_type": "stream",
     "text": [
      "c:\\repositories\\pipeline\\podpac\\podpac\\datalib\\smap_egi.py:204: RuntimeWarning: Mean of empty slice\n",
      "  lon = np.nanmean(lons, axis=0)\n",
      "c:\\repositories\\pipeline\\podpac\\podpac\\core\\coordinates\\array_coordinates1d.py:83: RuntimeWarning: invalid value encountered in less_equal\n",
      "  if np.any(deltas <= 0):\n",
      "c:\\repositories\\pipeline\\podpac\\podpac\\core\\coordinates\\dependent_coordinates.py:496: UserWarning: transformation of coordinate segment lengths not yet implemented\n",
      "  warnings.warn(\"transformation of coordinate segment lengths not yet implemented\")\n",
      "c:\\repositories\\pipeline\\podpac\\podpac\\core\\coordinates\\dependent_coordinates.py:498: UserWarning: transformation of coordinate segment lengths not yet implemented\n",
      "  warnings.warn(\"transformation of coordinate segment lengths not yet implemented\")\n"
     ]
    },
    {
     "name": "stdout",
     "output_type": "stream",
     "text": [
      "PM "
     ]
    },
    {
     "name": "stderr",
     "output_type": "stream",
     "text": [
      "c:\\repositories\\pipeline\\podpac\\podpac\\core\\coordinates\\dependent_coordinates.py:496: UserWarning: transformation of coordinate segment lengths not yet implemented\n",
      "  warnings.warn(\"transformation of coordinate segment lengths not yet implemented\")\n",
      "c:\\repositories\\pipeline\\podpac\\podpac\\core\\coordinates\\dependent_coordinates.py:498: UserWarning: transformation of coordinate segment lengths not yet implemented\n",
      "  warnings.warn(\"transformation of coordinate segment lengths not yet implemented\")\n",
      "c:\\repositories\\pipeline\\podpac\\podpac\\datalib\\smap_egi.py:204: RuntimeWarning: Mean of empty slice\n",
      "  lon = np.nanmean(lons, axis=0)\n",
      "c:\\repositories\\pipeline\\podpac\\podpac\\core\\coordinates\\array_coordinates1d.py:83: RuntimeWarning: invalid value encountered in less_equal\n",
      "  if np.any(deltas <= 0):\n",
      "c:\\repositories\\pipeline\\podpac\\podpac\\core\\coordinates\\dependent_coordinates.py:496: UserWarning: transformation of coordinate segment lengths not yet implemented\n",
      "  warnings.warn(\"transformation of coordinate segment lengths not yet implemented\")\n",
      "c:\\repositories\\pipeline\\podpac\\podpac\\core\\coordinates\\dependent_coordinates.py:498: UserWarning: transformation of coordinate segment lengths not yet implemented\n",
      "  warnings.warn(\"transformation of coordinate segment lengths not yet implemented\")\n"
     ]
    },
    {
     "name": "stdout",
     "output_type": "stream",
     "text": [
      "PM_QF "
     ]
    },
    {
     "name": "stderr",
     "output_type": "stream",
     "text": [
      "c:\\repositories\\pipeline\\podpac\\podpac\\datalib\\smap_egi.py:204: RuntimeWarning: Mean of empty slice\n",
      "  lon = np.nanmean(lons, axis=0)\n",
      "c:\\repositories\\pipeline\\podpac\\podpac\\core\\coordinates\\array_coordinates1d.py:83: RuntimeWarning: invalid value encountered in less_equal\n",
      "  if np.any(deltas <= 0):\n",
      "c:\\repositories\\pipeline\\podpac\\podpac\\core\\coordinates\\dependent_coordinates.py:496: UserWarning: transformation of coordinate segment lengths not yet implemented\n",
      "  warnings.warn(\"transformation of coordinate segment lengths not yet implemented\")\n",
      "c:\\repositories\\pipeline\\podpac\\podpac\\core\\coordinates\\dependent_coordinates.py:498: UserWarning: transformation of coordinate segment lengths not yet implemented\n",
      "  warnings.warn(\"transformation of coordinate segment lengths not yet implemented\")\n"
     ]
    },
    {
     "name": "stdout",
     "output_type": "stream",
     "text": [
      " ... Done.\n",
      "Updating S3 Zarr file for L3 Data.\n",
      "Updating S3 Zarr file for L3 Data.\n",
      "Download L3 Data for: UniformCoordinates1d(time): Bounds[2019-09-26T00:00:00.000000000, 2019-09-27T00:00:00.000000000], N[2], ctype['midpoint'] ...AM "
     ]
    },
    {
     "name": "stderr",
     "output_type": "stream",
     "text": [
      "c:\\repositories\\pipeline\\podpac\\podpac\\core\\coordinates\\dependent_coordinates.py:496: UserWarning: transformation of coordinate segment lengths not yet implemented\n",
      "  warnings.warn(\"transformation of coordinate segment lengths not yet implemented\")\n",
      "c:\\repositories\\pipeline\\podpac\\podpac\\core\\coordinates\\dependent_coordinates.py:498: UserWarning: transformation of coordinate segment lengths not yet implemented\n",
      "  warnings.warn(\"transformation of coordinate segment lengths not yet implemented\")\n",
      "c:\\repositories\\pipeline\\podpac\\podpac\\datalib\\smap_egi.py:204: RuntimeWarning: Mean of empty slice\n",
      "  lon = np.nanmean(lons, axis=0)\n",
      "c:\\repositories\\pipeline\\podpac\\podpac\\core\\coordinates\\array_coordinates1d.py:83: RuntimeWarning: invalid value encountered in less_equal\n",
      "  if np.any(deltas <= 0):\n",
      "c:\\repositories\\pipeline\\podpac\\podpac\\core\\coordinates\\dependent_coordinates.py:496: UserWarning: transformation of coordinate segment lengths not yet implemented\n",
      "  warnings.warn(\"transformation of coordinate segment lengths not yet implemented\")\n",
      "c:\\repositories\\pipeline\\podpac\\podpac\\core\\coordinates\\dependent_coordinates.py:498: UserWarning: transformation of coordinate segment lengths not yet implemented\n",
      "  warnings.warn(\"transformation of coordinate segment lengths not yet implemented\")\n"
     ]
    },
    {
     "name": "stdout",
     "output_type": "stream",
     "text": [
      "AM_QF "
     ]
    },
    {
     "name": "stderr",
     "output_type": "stream",
     "text": [
      "c:\\repositories\\pipeline\\podpac\\podpac\\datalib\\smap_egi.py:204: RuntimeWarning: Mean of empty slice\n",
      "  lon = np.nanmean(lons, axis=0)\n",
      "c:\\repositories\\pipeline\\podpac\\podpac\\core\\coordinates\\array_coordinates1d.py:83: RuntimeWarning: invalid value encountered in less_equal\n",
      "  if np.any(deltas <= 0):\n",
      "c:\\repositories\\pipeline\\podpac\\podpac\\core\\coordinates\\dependent_coordinates.py:496: UserWarning: transformation of coordinate segment lengths not yet implemented\n",
      "  warnings.warn(\"transformation of coordinate segment lengths not yet implemented\")\n",
      "c:\\repositories\\pipeline\\podpac\\podpac\\core\\coordinates\\dependent_coordinates.py:498: UserWarning: transformation of coordinate segment lengths not yet implemented\n",
      "  warnings.warn(\"transformation of coordinate segment lengths not yet implemented\")\n"
     ]
    },
    {
     "name": "stdout",
     "output_type": "stream",
     "text": [
      "PM "
     ]
    },
    {
     "name": "stderr",
     "output_type": "stream",
     "text": [
      "c:\\repositories\\pipeline\\podpac\\podpac\\core\\coordinates\\dependent_coordinates.py:496: UserWarning: transformation of coordinate segment lengths not yet implemented\n",
      "  warnings.warn(\"transformation of coordinate segment lengths not yet implemented\")\n",
      "c:\\repositories\\pipeline\\podpac\\podpac\\core\\coordinates\\dependent_coordinates.py:498: UserWarning: transformation of coordinate segment lengths not yet implemented\n",
      "  warnings.warn(\"transformation of coordinate segment lengths not yet implemented\")\n",
      "c:\\repositories\\pipeline\\podpac\\podpac\\datalib\\smap_egi.py:204: RuntimeWarning: Mean of empty slice\n",
      "  lon = np.nanmean(lons, axis=0)\n",
      "c:\\repositories\\pipeline\\podpac\\podpac\\core\\coordinates\\array_coordinates1d.py:83: RuntimeWarning: invalid value encountered in less_equal\n",
      "  if np.any(deltas <= 0):\n",
      "c:\\repositories\\pipeline\\podpac\\podpac\\core\\coordinates\\dependent_coordinates.py:496: UserWarning: transformation of coordinate segment lengths not yet implemented\n",
      "  warnings.warn(\"transformation of coordinate segment lengths not yet implemented\")\n",
      "c:\\repositories\\pipeline\\podpac\\podpac\\core\\coordinates\\dependent_coordinates.py:498: UserWarning: transformation of coordinate segment lengths not yet implemented\n",
      "  warnings.warn(\"transformation of coordinate segment lengths not yet implemented\")\n"
     ]
    },
    {
     "name": "stdout",
     "output_type": "stream",
     "text": [
      "PM_QF "
     ]
    },
    {
     "name": "stderr",
     "output_type": "stream",
     "text": [
      "c:\\repositories\\pipeline\\podpac\\podpac\\datalib\\smap_egi.py:204: RuntimeWarning: Mean of empty slice\n",
      "  lon = np.nanmean(lons, axis=0)\n",
      "c:\\repositories\\pipeline\\podpac\\podpac\\core\\coordinates\\array_coordinates1d.py:83: RuntimeWarning: invalid value encountered in less_equal\n",
      "  if np.any(deltas <= 0):\n",
      "c:\\repositories\\pipeline\\podpac\\podpac\\core\\coordinates\\dependent_coordinates.py:496: UserWarning: transformation of coordinate segment lengths not yet implemented\n",
      "  warnings.warn(\"transformation of coordinate segment lengths not yet implemented\")\n",
      "c:\\repositories\\pipeline\\podpac\\podpac\\core\\coordinates\\dependent_coordinates.py:498: UserWarning: transformation of coordinate segment lengths not yet implemented\n",
      "  warnings.warn(\"transformation of coordinate segment lengths not yet implemented\")\n"
     ]
    },
    {
     "name": "stdout",
     "output_type": "stream",
     "text": [
      " ... Done.\n",
      "Updating S3 Zarr file for L3 Data.\n",
      "Updating S3 Zarr file for L3 Data.\n",
      "Download L3 Data for: UniformCoordinates1d(time): Bounds[2019-09-28T00:00:00.000000000, 2019-09-29T00:00:00.000000000], N[2], ctype['midpoint'] ...AM "
     ]
    },
    {
     "name": "stderr",
     "output_type": "stream",
     "text": [
      "c:\\repositories\\pipeline\\podpac\\podpac\\core\\coordinates\\dependent_coordinates.py:496: UserWarning: transformation of coordinate segment lengths not yet implemented\n",
      "  warnings.warn(\"transformation of coordinate segment lengths not yet implemented\")\n",
      "c:\\repositories\\pipeline\\podpac\\podpac\\core\\coordinates\\dependent_coordinates.py:498: UserWarning: transformation of coordinate segment lengths not yet implemented\n",
      "  warnings.warn(\"transformation of coordinate segment lengths not yet implemented\")\n",
      "c:\\repositories\\pipeline\\podpac\\podpac\\datalib\\smap_egi.py:204: RuntimeWarning: Mean of empty slice\n",
      "  lon = np.nanmean(lons, axis=0)\n",
      "c:\\repositories\\pipeline\\podpac\\podpac\\core\\coordinates\\array_coordinates1d.py:83: RuntimeWarning: invalid value encountered in less_equal\n",
      "  if np.any(deltas <= 0):\n",
      "c:\\repositories\\pipeline\\podpac\\podpac\\core\\coordinates\\dependent_coordinates.py:496: UserWarning: transformation of coordinate segment lengths not yet implemented\n",
      "  warnings.warn(\"transformation of coordinate segment lengths not yet implemented\")\n",
      "c:\\repositories\\pipeline\\podpac\\podpac\\core\\coordinates\\dependent_coordinates.py:498: UserWarning: transformation of coordinate segment lengths not yet implemented\n",
      "  warnings.warn(\"transformation of coordinate segment lengths not yet implemented\")\n"
     ]
    },
    {
     "name": "stdout",
     "output_type": "stream",
     "text": [
      "AM_QF "
     ]
    },
    {
     "name": "stderr",
     "output_type": "stream",
     "text": [
      "c:\\repositories\\pipeline\\podpac\\podpac\\datalib\\smap_egi.py:204: RuntimeWarning: Mean of empty slice\n",
      "  lon = np.nanmean(lons, axis=0)\n",
      "c:\\repositories\\pipeline\\podpac\\podpac\\core\\coordinates\\array_coordinates1d.py:83: RuntimeWarning: invalid value encountered in less_equal\n",
      "  if np.any(deltas <= 0):\n",
      "c:\\repositories\\pipeline\\podpac\\podpac\\core\\coordinates\\dependent_coordinates.py:496: UserWarning: transformation of coordinate segment lengths not yet implemented\n",
      "  warnings.warn(\"transformation of coordinate segment lengths not yet implemented\")\n",
      "c:\\repositories\\pipeline\\podpac\\podpac\\core\\coordinates\\dependent_coordinates.py:498: UserWarning: transformation of coordinate segment lengths not yet implemented\n",
      "  warnings.warn(\"transformation of coordinate segment lengths not yet implemented\")\n"
     ]
    },
    {
     "name": "stdout",
     "output_type": "stream",
     "text": [
      "PM "
     ]
    },
    {
     "name": "stderr",
     "output_type": "stream",
     "text": [
      "c:\\repositories\\pipeline\\podpac\\podpac\\core\\coordinates\\dependent_coordinates.py:496: UserWarning: transformation of coordinate segment lengths not yet implemented\n",
      "  warnings.warn(\"transformation of coordinate segment lengths not yet implemented\")\n",
      "c:\\repositories\\pipeline\\podpac\\podpac\\core\\coordinates\\dependent_coordinates.py:498: UserWarning: transformation of coordinate segment lengths not yet implemented\n",
      "  warnings.warn(\"transformation of coordinate segment lengths not yet implemented\")\n",
      "c:\\repositories\\pipeline\\podpac\\podpac\\datalib\\smap_egi.py:204: RuntimeWarning: Mean of empty slice\n",
      "  lon = np.nanmean(lons, axis=0)\n",
      "c:\\repositories\\pipeline\\podpac\\podpac\\core\\coordinates\\array_coordinates1d.py:83: RuntimeWarning: invalid value encountered in less_equal\n",
      "  if np.any(deltas <= 0):\n",
      "c:\\repositories\\pipeline\\podpac\\podpac\\core\\coordinates\\dependent_coordinates.py:496: UserWarning: transformation of coordinate segment lengths not yet implemented\n",
      "  warnings.warn(\"transformation of coordinate segment lengths not yet implemented\")\n",
      "c:\\repositories\\pipeline\\podpac\\podpac\\core\\coordinates\\dependent_coordinates.py:498: UserWarning: transformation of coordinate segment lengths not yet implemented\n",
      "  warnings.warn(\"transformation of coordinate segment lengths not yet implemented\")\n"
     ]
    },
    {
     "name": "stdout",
     "output_type": "stream",
     "text": [
      "PM_QF "
     ]
    },
    {
     "name": "stderr",
     "output_type": "stream",
     "text": [
      "c:\\repositories\\pipeline\\podpac\\podpac\\datalib\\smap_egi.py:204: RuntimeWarning: Mean of empty slice\n",
      "  lon = np.nanmean(lons, axis=0)\n",
      "c:\\repositories\\pipeline\\podpac\\podpac\\core\\coordinates\\array_coordinates1d.py:83: RuntimeWarning: invalid value encountered in less_equal\n",
      "  if np.any(deltas <= 0):\n",
      "c:\\repositories\\pipeline\\podpac\\podpac\\core\\coordinates\\dependent_coordinates.py:496: UserWarning: transformation of coordinate segment lengths not yet implemented\n",
      "  warnings.warn(\"transformation of coordinate segment lengths not yet implemented\")\n",
      "c:\\repositories\\pipeline\\podpac\\podpac\\core\\coordinates\\dependent_coordinates.py:498: UserWarning: transformation of coordinate segment lengths not yet implemented\n",
      "  warnings.warn(\"transformation of coordinate segment lengths not yet implemented\")\n"
     ]
    },
    {
     "name": "stdout",
     "output_type": "stream",
     "text": [
      " ... Done.\n",
      "Updating S3 Zarr file for L3 Data.\n",
      "Updating S3 Zarr file for L3 Data.\n",
      "Download L3 Data for: UniformCoordinates1d(time): Bounds[2019-09-30T00:00:00.000000000, 2019-10-01T00:00:00.000000000], N[2], ctype['midpoint'] ...AM "
     ]
    },
    {
     "name": "stderr",
     "output_type": "stream",
     "text": [
      "c:\\repositories\\pipeline\\podpac\\podpac\\core\\coordinates\\dependent_coordinates.py:496: UserWarning: transformation of coordinate segment lengths not yet implemented\n",
      "  warnings.warn(\"transformation of coordinate segment lengths not yet implemented\")\n",
      "c:\\repositories\\pipeline\\podpac\\podpac\\core\\coordinates\\dependent_coordinates.py:498: UserWarning: transformation of coordinate segment lengths not yet implemented\n",
      "  warnings.warn(\"transformation of coordinate segment lengths not yet implemented\")\n",
      "c:\\repositories\\pipeline\\podpac\\podpac\\datalib\\smap_egi.py:204: RuntimeWarning: Mean of empty slice\n",
      "  lon = np.nanmean(lons, axis=0)\n",
      "c:\\repositories\\pipeline\\podpac\\podpac\\core\\coordinates\\array_coordinates1d.py:83: RuntimeWarning: invalid value encountered in less_equal\n",
      "  if np.any(deltas <= 0):\n",
      "c:\\repositories\\pipeline\\podpac\\podpac\\core\\coordinates\\dependent_coordinates.py:496: UserWarning: transformation of coordinate segment lengths not yet implemented\n",
      "  warnings.warn(\"transformation of coordinate segment lengths not yet implemented\")\n",
      "c:\\repositories\\pipeline\\podpac\\podpac\\core\\coordinates\\dependent_coordinates.py:498: UserWarning: transformation of coordinate segment lengths not yet implemented\n",
      "  warnings.warn(\"transformation of coordinate segment lengths not yet implemented\")\n"
     ]
    },
    {
     "name": "stdout",
     "output_type": "stream",
     "text": [
      "AM_QF "
     ]
    },
    {
     "name": "stderr",
     "output_type": "stream",
     "text": [
      "c:\\repositories\\pipeline\\podpac\\podpac\\datalib\\smap_egi.py:204: RuntimeWarning: Mean of empty slice\n",
      "  lon = np.nanmean(lons, axis=0)\n",
      "c:\\repositories\\pipeline\\podpac\\podpac\\core\\coordinates\\array_coordinates1d.py:83: RuntimeWarning: invalid value encountered in less_equal\n",
      "  if np.any(deltas <= 0):\n",
      "c:\\repositories\\pipeline\\podpac\\podpac\\core\\coordinates\\dependent_coordinates.py:496: UserWarning: transformation of coordinate segment lengths not yet implemented\n",
      "  warnings.warn(\"transformation of coordinate segment lengths not yet implemented\")\n",
      "c:\\repositories\\pipeline\\podpac\\podpac\\core\\coordinates\\dependent_coordinates.py:498: UserWarning: transformation of coordinate segment lengths not yet implemented\n",
      "  warnings.warn(\"transformation of coordinate segment lengths not yet implemented\")\n"
     ]
    },
    {
     "name": "stdout",
     "output_type": "stream",
     "text": [
      "PM "
     ]
    },
    {
     "name": "stderr",
     "output_type": "stream",
     "text": [
      "c:\\repositories\\pipeline\\podpac\\podpac\\core\\coordinates\\dependent_coordinates.py:496: UserWarning: transformation of coordinate segment lengths not yet implemented\n",
      "  warnings.warn(\"transformation of coordinate segment lengths not yet implemented\")\n",
      "c:\\repositories\\pipeline\\podpac\\podpac\\core\\coordinates\\dependent_coordinates.py:498: UserWarning: transformation of coordinate segment lengths not yet implemented\n",
      "  warnings.warn(\"transformation of coordinate segment lengths not yet implemented\")\n",
      "c:\\repositories\\pipeline\\podpac\\podpac\\datalib\\smap_egi.py:204: RuntimeWarning: Mean of empty slice\n",
      "  lon = np.nanmean(lons, axis=0)\n",
      "c:\\repositories\\pipeline\\podpac\\podpac\\core\\coordinates\\array_coordinates1d.py:83: RuntimeWarning: invalid value encountered in less_equal\n",
      "  if np.any(deltas <= 0):\n",
      "c:\\repositories\\pipeline\\podpac\\podpac\\core\\coordinates\\dependent_coordinates.py:496: UserWarning: transformation of coordinate segment lengths not yet implemented\n",
      "  warnings.warn(\"transformation of coordinate segment lengths not yet implemented\")\n",
      "c:\\repositories\\pipeline\\podpac\\podpac\\core\\coordinates\\dependent_coordinates.py:498: UserWarning: transformation of coordinate segment lengths not yet implemented\n",
      "  warnings.warn(\"transformation of coordinate segment lengths not yet implemented\")\n"
     ]
    },
    {
     "name": "stdout",
     "output_type": "stream",
     "text": [
      "PM_QF "
     ]
    },
    {
     "name": "stderr",
     "output_type": "stream",
     "text": [
      "c:\\repositories\\pipeline\\podpac\\podpac\\datalib\\smap_egi.py:204: RuntimeWarning: Mean of empty slice\n",
      "  lon = np.nanmean(lons, axis=0)\n",
      "c:\\repositories\\pipeline\\podpac\\podpac\\core\\coordinates\\array_coordinates1d.py:83: RuntimeWarning: invalid value encountered in less_equal\n",
      "  if np.any(deltas <= 0):\n",
      "c:\\repositories\\pipeline\\podpac\\podpac\\core\\coordinates\\dependent_coordinates.py:496: UserWarning: transformation of coordinate segment lengths not yet implemented\n",
      "  warnings.warn(\"transformation of coordinate segment lengths not yet implemented\")\n",
      "c:\\repositories\\pipeline\\podpac\\podpac\\core\\coordinates\\dependent_coordinates.py:498: UserWarning: transformation of coordinate segment lengths not yet implemented\n",
      "  warnings.warn(\"transformation of coordinate segment lengths not yet implemented\")\n"
     ]
    },
    {
     "name": "stdout",
     "output_type": "stream",
     "text": [
      " ... Done.\n",
      "Updating S3 Zarr file for L3 Data.\n",
      "Updating S3 Zarr file for L3 Data.\n",
      "Download L3 Data for: UniformCoordinates1d(time): Bounds[2019-10-02T00:00:00.000000000, 2019-10-03T00:00:00.000000000], N[2], ctype['midpoint'] ...AM "
     ]
    },
    {
     "name": "stderr",
     "output_type": "stream",
     "text": [
      "c:\\repositories\\pipeline\\podpac\\podpac\\core\\coordinates\\dependent_coordinates.py:496: UserWarning: transformation of coordinate segment lengths not yet implemented\n",
      "  warnings.warn(\"transformation of coordinate segment lengths not yet implemented\")\n",
      "c:\\repositories\\pipeline\\podpac\\podpac\\core\\coordinates\\dependent_coordinates.py:498: UserWarning: transformation of coordinate segment lengths not yet implemented\n",
      "  warnings.warn(\"transformation of coordinate segment lengths not yet implemented\")\n",
      "c:\\repositories\\pipeline\\podpac\\podpac\\datalib\\smap_egi.py:204: RuntimeWarning: Mean of empty slice\n",
      "  lon = np.nanmean(lons, axis=0)\n",
      "c:\\repositories\\pipeline\\podpac\\podpac\\core\\coordinates\\array_coordinates1d.py:83: RuntimeWarning: invalid value encountered in less_equal\n",
      "  if np.any(deltas <= 0):\n",
      "c:\\repositories\\pipeline\\podpac\\podpac\\core\\coordinates\\dependent_coordinates.py:496: UserWarning: transformation of coordinate segment lengths not yet implemented\n",
      "  warnings.warn(\"transformation of coordinate segment lengths not yet implemented\")\n",
      "c:\\repositories\\pipeline\\podpac\\podpac\\core\\coordinates\\dependent_coordinates.py:498: UserWarning: transformation of coordinate segment lengths not yet implemented\n",
      "  warnings.warn(\"transformation of coordinate segment lengths not yet implemented\")\n"
     ]
    },
    {
     "name": "stdout",
     "output_type": "stream",
     "text": [
      "AM_QF "
     ]
    },
    {
     "name": "stderr",
     "output_type": "stream",
     "text": [
      "c:\\repositories\\pipeline\\podpac\\podpac\\datalib\\smap_egi.py:204: RuntimeWarning: Mean of empty slice\n",
      "  lon = np.nanmean(lons, axis=0)\n",
      "c:\\repositories\\pipeline\\podpac\\podpac\\core\\coordinates\\array_coordinates1d.py:83: RuntimeWarning: invalid value encountered in less_equal\n",
      "  if np.any(deltas <= 0):\n",
      "c:\\repositories\\pipeline\\podpac\\podpac\\core\\coordinates\\dependent_coordinates.py:496: UserWarning: transformation of coordinate segment lengths not yet implemented\n",
      "  warnings.warn(\"transformation of coordinate segment lengths not yet implemented\")\n",
      "c:\\repositories\\pipeline\\podpac\\podpac\\core\\coordinates\\dependent_coordinates.py:498: UserWarning: transformation of coordinate segment lengths not yet implemented\n",
      "  warnings.warn(\"transformation of coordinate segment lengths not yet implemented\")\n"
     ]
    },
    {
     "name": "stdout",
     "output_type": "stream",
     "text": [
      "PM "
     ]
    },
    {
     "name": "stderr",
     "output_type": "stream",
     "text": [
      "c:\\repositories\\pipeline\\podpac\\podpac\\core\\coordinates\\dependent_coordinates.py:496: UserWarning: transformation of coordinate segment lengths not yet implemented\n",
      "  warnings.warn(\"transformation of coordinate segment lengths not yet implemented\")\n",
      "c:\\repositories\\pipeline\\podpac\\podpac\\core\\coordinates\\dependent_coordinates.py:498: UserWarning: transformation of coordinate segment lengths not yet implemented\n",
      "  warnings.warn(\"transformation of coordinate segment lengths not yet implemented\")\n",
      "c:\\repositories\\pipeline\\podpac\\podpac\\datalib\\smap_egi.py:204: RuntimeWarning: Mean of empty slice\n",
      "  lon = np.nanmean(lons, axis=0)\n",
      "c:\\repositories\\pipeline\\podpac\\podpac\\core\\coordinates\\array_coordinates1d.py:83: RuntimeWarning: invalid value encountered in less_equal\n",
      "  if np.any(deltas <= 0):\n",
      "c:\\repositories\\pipeline\\podpac\\podpac\\core\\coordinates\\dependent_coordinates.py:496: UserWarning: transformation of coordinate segment lengths not yet implemented\n",
      "  warnings.warn(\"transformation of coordinate segment lengths not yet implemented\")\n",
      "c:\\repositories\\pipeline\\podpac\\podpac\\core\\coordinates\\dependent_coordinates.py:498: UserWarning: transformation of coordinate segment lengths not yet implemented\n",
      "  warnings.warn(\"transformation of coordinate segment lengths not yet implemented\")\n"
     ]
    },
    {
     "name": "stdout",
     "output_type": "stream",
     "text": [
      "PM_QF "
     ]
    },
    {
     "name": "stderr",
     "output_type": "stream",
     "text": [
      "c:\\repositories\\pipeline\\podpac\\podpac\\datalib\\smap_egi.py:204: RuntimeWarning: Mean of empty slice\n",
      "  lon = np.nanmean(lons, axis=0)\n",
      "c:\\repositories\\pipeline\\podpac\\podpac\\core\\coordinates\\array_coordinates1d.py:83: RuntimeWarning: invalid value encountered in less_equal\n",
      "  if np.any(deltas <= 0):\n",
      "c:\\repositories\\pipeline\\podpac\\podpac\\core\\coordinates\\dependent_coordinates.py:496: UserWarning: transformation of coordinate segment lengths not yet implemented\n",
      "  warnings.warn(\"transformation of coordinate segment lengths not yet implemented\")\n",
      "c:\\repositories\\pipeline\\podpac\\podpac\\core\\coordinates\\dependent_coordinates.py:498: UserWarning: transformation of coordinate segment lengths not yet implemented\n",
      "  warnings.warn(\"transformation of coordinate segment lengths not yet implemented\")\n"
     ]
    },
    {
     "name": "stdout",
     "output_type": "stream",
     "text": [
      " ... Done.\n",
      "Updating S3 Zarr file for L3 Data.\n",
      "Updating S3 Zarr file for L3 Data.\n",
      "Download L3 Data for: UniformCoordinates1d(time): Bounds[2019-10-04T00:00:00.000000000, 2019-10-05T00:00:00.000000000], N[2], ctype['midpoint'] ...AM "
     ]
    },
    {
     "name": "stderr",
     "output_type": "stream",
     "text": [
      "c:\\repositories\\pipeline\\podpac\\podpac\\core\\coordinates\\dependent_coordinates.py:496: UserWarning: transformation of coordinate segment lengths not yet implemented\n",
      "  warnings.warn(\"transformation of coordinate segment lengths not yet implemented\")\n",
      "c:\\repositories\\pipeline\\podpac\\podpac\\core\\coordinates\\dependent_coordinates.py:498: UserWarning: transformation of coordinate segment lengths not yet implemented\n",
      "  warnings.warn(\"transformation of coordinate segment lengths not yet implemented\")\n",
      "c:\\repositories\\pipeline\\podpac\\podpac\\datalib\\smap_egi.py:204: RuntimeWarning: Mean of empty slice\n",
      "  lon = np.nanmean(lons, axis=0)\n",
      "c:\\repositories\\pipeline\\podpac\\podpac\\core\\coordinates\\array_coordinates1d.py:83: RuntimeWarning: invalid value encountered in less_equal\n",
      "  if np.any(deltas <= 0):\n",
      "c:\\repositories\\pipeline\\podpac\\podpac\\core\\coordinates\\dependent_coordinates.py:496: UserWarning: transformation of coordinate segment lengths not yet implemented\n",
      "  warnings.warn(\"transformation of coordinate segment lengths not yet implemented\")\n",
      "c:\\repositories\\pipeline\\podpac\\podpac\\core\\coordinates\\dependent_coordinates.py:498: UserWarning: transformation of coordinate segment lengths not yet implemented\n",
      "  warnings.warn(\"transformation of coordinate segment lengths not yet implemented\")\n"
     ]
    },
    {
     "name": "stdout",
     "output_type": "stream",
     "text": [
      "AM_QF "
     ]
    },
    {
     "name": "stderr",
     "output_type": "stream",
     "text": [
      "c:\\repositories\\pipeline\\podpac\\podpac\\datalib\\smap_egi.py:204: RuntimeWarning: Mean of empty slice\n",
      "  lon = np.nanmean(lons, axis=0)\n",
      "c:\\repositories\\pipeline\\podpac\\podpac\\core\\coordinates\\array_coordinates1d.py:83: RuntimeWarning: invalid value encountered in less_equal\n",
      "  if np.any(deltas <= 0):\n",
      "c:\\repositories\\pipeline\\podpac\\podpac\\core\\coordinates\\dependent_coordinates.py:496: UserWarning: transformation of coordinate segment lengths not yet implemented\n",
      "  warnings.warn(\"transformation of coordinate segment lengths not yet implemented\")\n",
      "c:\\repositories\\pipeline\\podpac\\podpac\\core\\coordinates\\dependent_coordinates.py:498: UserWarning: transformation of coordinate segment lengths not yet implemented\n",
      "  warnings.warn(\"transformation of coordinate segment lengths not yet implemented\")\n"
     ]
    },
    {
     "name": "stdout",
     "output_type": "stream",
     "text": [
      "PM "
     ]
    },
    {
     "name": "stderr",
     "output_type": "stream",
     "text": [
      "c:\\repositories\\pipeline\\podpac\\podpac\\core\\coordinates\\dependent_coordinates.py:496: UserWarning: transformation of coordinate segment lengths not yet implemented\n",
      "  warnings.warn(\"transformation of coordinate segment lengths not yet implemented\")\n",
      "c:\\repositories\\pipeline\\podpac\\podpac\\core\\coordinates\\dependent_coordinates.py:498: UserWarning: transformation of coordinate segment lengths not yet implemented\n",
      "  warnings.warn(\"transformation of coordinate segment lengths not yet implemented\")\n",
      "c:\\repositories\\pipeline\\podpac\\podpac\\datalib\\smap_egi.py:204: RuntimeWarning: Mean of empty slice\n",
      "  lon = np.nanmean(lons, axis=0)\n",
      "c:\\repositories\\pipeline\\podpac\\podpac\\core\\coordinates\\array_coordinates1d.py:83: RuntimeWarning: invalid value encountered in less_equal\n",
      "  if np.any(deltas <= 0):\n",
      "c:\\repositories\\pipeline\\podpac\\podpac\\core\\coordinates\\dependent_coordinates.py:496: UserWarning: transformation of coordinate segment lengths not yet implemented\n",
      "  warnings.warn(\"transformation of coordinate segment lengths not yet implemented\")\n",
      "c:\\repositories\\pipeline\\podpac\\podpac\\core\\coordinates\\dependent_coordinates.py:498: UserWarning: transformation of coordinate segment lengths not yet implemented\n",
      "  warnings.warn(\"transformation of coordinate segment lengths not yet implemented\")\n"
     ]
    },
    {
     "name": "stdout",
     "output_type": "stream",
     "text": [
      "PM_QF "
     ]
    },
    {
     "name": "stderr",
     "output_type": "stream",
     "text": [
      "c:\\repositories\\pipeline\\podpac\\podpac\\datalib\\smap_egi.py:204: RuntimeWarning: Mean of empty slice\n",
      "  lon = np.nanmean(lons, axis=0)\n",
      "c:\\repositories\\pipeline\\podpac\\podpac\\core\\coordinates\\array_coordinates1d.py:83: RuntimeWarning: invalid value encountered in less_equal\n",
      "  if np.any(deltas <= 0):\n",
      "c:\\repositories\\pipeline\\podpac\\podpac\\core\\coordinates\\dependent_coordinates.py:496: UserWarning: transformation of coordinate segment lengths not yet implemented\n",
      "  warnings.warn(\"transformation of coordinate segment lengths not yet implemented\")\n",
      "c:\\repositories\\pipeline\\podpac\\podpac\\core\\coordinates\\dependent_coordinates.py:498: UserWarning: transformation of coordinate segment lengths not yet implemented\n",
      "  warnings.warn(\"transformation of coordinate segment lengths not yet implemented\")\n"
     ]
    },
    {
     "name": "stdout",
     "output_type": "stream",
     "text": [
      " ... Done.\n",
      "Updating S3 Zarr file for L3 Data.\n",
      "Updating S3 Zarr file for L3 Data.\n",
      "Download L3 Data for: UniformCoordinates1d(time): Bounds[2019-10-06T00:00:00.000000000, 2019-10-07T00:00:00.000000000], N[2], ctype['midpoint'] ...AM "
     ]
    },
    {
     "name": "stderr",
     "output_type": "stream",
     "text": [
      "c:\\repositories\\pipeline\\podpac\\podpac\\core\\coordinates\\dependent_coordinates.py:496: UserWarning: transformation of coordinate segment lengths not yet implemented\n",
      "  warnings.warn(\"transformation of coordinate segment lengths not yet implemented\")\n",
      "c:\\repositories\\pipeline\\podpac\\podpac\\core\\coordinates\\dependent_coordinates.py:498: UserWarning: transformation of coordinate segment lengths not yet implemented\n",
      "  warnings.warn(\"transformation of coordinate segment lengths not yet implemented\")\n",
      "c:\\repositories\\pipeline\\podpac\\podpac\\datalib\\smap_egi.py:204: RuntimeWarning: Mean of empty slice\n",
      "  lon = np.nanmean(lons, axis=0)\n",
      "c:\\repositories\\pipeline\\podpac\\podpac\\core\\coordinates\\array_coordinates1d.py:83: RuntimeWarning: invalid value encountered in less_equal\n",
      "  if np.any(deltas <= 0):\n",
      "c:\\repositories\\pipeline\\podpac\\podpac\\core\\coordinates\\dependent_coordinates.py:496: UserWarning: transformation of coordinate segment lengths not yet implemented\n",
      "  warnings.warn(\"transformation of coordinate segment lengths not yet implemented\")\n",
      "c:\\repositories\\pipeline\\podpac\\podpac\\core\\coordinates\\dependent_coordinates.py:498: UserWarning: transformation of coordinate segment lengths not yet implemented\n",
      "  warnings.warn(\"transformation of coordinate segment lengths not yet implemented\")\n"
     ]
    },
    {
     "name": "stdout",
     "output_type": "stream",
     "text": [
      "AM_QF "
     ]
    },
    {
     "name": "stderr",
     "output_type": "stream",
     "text": [
      "c:\\repositories\\pipeline\\podpac\\podpac\\datalib\\smap_egi.py:204: RuntimeWarning: Mean of empty slice\n",
      "  lon = np.nanmean(lons, axis=0)\n",
      "c:\\repositories\\pipeline\\podpac\\podpac\\core\\coordinates\\array_coordinates1d.py:83: RuntimeWarning: invalid value encountered in less_equal\n",
      "  if np.any(deltas <= 0):\n",
      "c:\\repositories\\pipeline\\podpac\\podpac\\core\\coordinates\\dependent_coordinates.py:496: UserWarning: transformation of coordinate segment lengths not yet implemented\n",
      "  warnings.warn(\"transformation of coordinate segment lengths not yet implemented\")\n",
      "c:\\repositories\\pipeline\\podpac\\podpac\\core\\coordinates\\dependent_coordinates.py:498: UserWarning: transformation of coordinate segment lengths not yet implemented\n",
      "  warnings.warn(\"transformation of coordinate segment lengths not yet implemented\")\n"
     ]
    },
    {
     "name": "stdout",
     "output_type": "stream",
     "text": [
      "PM "
     ]
    },
    {
     "name": "stderr",
     "output_type": "stream",
     "text": [
      "c:\\repositories\\pipeline\\podpac\\podpac\\core\\coordinates\\dependent_coordinates.py:496: UserWarning: transformation of coordinate segment lengths not yet implemented\n",
      "  warnings.warn(\"transformation of coordinate segment lengths not yet implemented\")\n",
      "c:\\repositories\\pipeline\\podpac\\podpac\\core\\coordinates\\dependent_coordinates.py:498: UserWarning: transformation of coordinate segment lengths not yet implemented\n",
      "  warnings.warn(\"transformation of coordinate segment lengths not yet implemented\")\n",
      "c:\\repositories\\pipeline\\podpac\\podpac\\datalib\\smap_egi.py:204: RuntimeWarning: Mean of empty slice\n",
      "  lon = np.nanmean(lons, axis=0)\n",
      "c:\\repositories\\pipeline\\podpac\\podpac\\core\\coordinates\\array_coordinates1d.py:83: RuntimeWarning: invalid value encountered in less_equal\n",
      "  if np.any(deltas <= 0):\n",
      "c:\\repositories\\pipeline\\podpac\\podpac\\core\\coordinates\\dependent_coordinates.py:496: UserWarning: transformation of coordinate segment lengths not yet implemented\n",
      "  warnings.warn(\"transformation of coordinate segment lengths not yet implemented\")\n",
      "c:\\repositories\\pipeline\\podpac\\podpac\\core\\coordinates\\dependent_coordinates.py:498: UserWarning: transformation of coordinate segment lengths not yet implemented\n",
      "  warnings.warn(\"transformation of coordinate segment lengths not yet implemented\")\n"
     ]
    },
    {
     "name": "stdout",
     "output_type": "stream",
     "text": [
      "PM_QF "
     ]
    },
    {
     "name": "stderr",
     "output_type": "stream",
     "text": [
      "c:\\repositories\\pipeline\\podpac\\podpac\\datalib\\smap_egi.py:204: RuntimeWarning: Mean of empty slice\n",
      "  lon = np.nanmean(lons, axis=0)\n",
      "c:\\repositories\\pipeline\\podpac\\podpac\\core\\coordinates\\array_coordinates1d.py:83: RuntimeWarning: invalid value encountered in less_equal\n",
      "  if np.any(deltas <= 0):\n",
      "c:\\repositories\\pipeline\\podpac\\podpac\\core\\coordinates\\dependent_coordinates.py:496: UserWarning: transformation of coordinate segment lengths not yet implemented\n",
      "  warnings.warn(\"transformation of coordinate segment lengths not yet implemented\")\n",
      "c:\\repositories\\pipeline\\podpac\\podpac\\core\\coordinates\\dependent_coordinates.py:498: UserWarning: transformation of coordinate segment lengths not yet implemented\n",
      "  warnings.warn(\"transformation of coordinate segment lengths not yet implemented\")\n"
     ]
    },
    {
     "name": "stdout",
     "output_type": "stream",
     "text": [
      " ... Done.\n",
      "Updating S3 Zarr file for L3 Data.\n",
      "Updating S3 Zarr file for L3 Data.\n",
      "Download L3 Data for: UniformCoordinates1d(time): Bounds[2019-10-08T00:00:00.000000000, 2019-10-09T00:00:00.000000000], N[2], ctype['midpoint'] ...AM "
     ]
    },
    {
     "name": "stderr",
     "output_type": "stream",
     "text": [
      "c:\\repositories\\pipeline\\podpac\\podpac\\core\\coordinates\\dependent_coordinates.py:496: UserWarning: transformation of coordinate segment lengths not yet implemented\n",
      "  warnings.warn(\"transformation of coordinate segment lengths not yet implemented\")\n",
      "c:\\repositories\\pipeline\\podpac\\podpac\\core\\coordinates\\dependent_coordinates.py:498: UserWarning: transformation of coordinate segment lengths not yet implemented\n",
      "  warnings.warn(\"transformation of coordinate segment lengths not yet implemented\")\n",
      "c:\\repositories\\pipeline\\podpac\\podpac\\datalib\\smap_egi.py:204: RuntimeWarning: Mean of empty slice\n",
      "  lon = np.nanmean(lons, axis=0)\n",
      "c:\\repositories\\pipeline\\podpac\\podpac\\core\\coordinates\\array_coordinates1d.py:83: RuntimeWarning: invalid value encountered in less_equal\n",
      "  if np.any(deltas <= 0):\n",
      "c:\\repositories\\pipeline\\podpac\\podpac\\core\\coordinates\\dependent_coordinates.py:496: UserWarning: transformation of coordinate segment lengths not yet implemented\n",
      "  warnings.warn(\"transformation of coordinate segment lengths not yet implemented\")\n",
      "c:\\repositories\\pipeline\\podpac\\podpac\\core\\coordinates\\dependent_coordinates.py:498: UserWarning: transformation of coordinate segment lengths not yet implemented\n",
      "  warnings.warn(\"transformation of coordinate segment lengths not yet implemented\")\n"
     ]
    },
    {
     "name": "stdout",
     "output_type": "stream",
     "text": [
      "AM_QF "
     ]
    },
    {
     "name": "stderr",
     "output_type": "stream",
     "text": [
      "c:\\repositories\\pipeline\\podpac\\podpac\\datalib\\smap_egi.py:204: RuntimeWarning: Mean of empty slice\n",
      "  lon = np.nanmean(lons, axis=0)\n",
      "c:\\repositories\\pipeline\\podpac\\podpac\\core\\coordinates\\array_coordinates1d.py:83: RuntimeWarning: invalid value encountered in less_equal\n",
      "  if np.any(deltas <= 0):\n",
      "c:\\repositories\\pipeline\\podpac\\podpac\\core\\coordinates\\dependent_coordinates.py:496: UserWarning: transformation of coordinate segment lengths not yet implemented\n",
      "  warnings.warn(\"transformation of coordinate segment lengths not yet implemented\")\n",
      "c:\\repositories\\pipeline\\podpac\\podpac\\core\\coordinates\\dependent_coordinates.py:498: UserWarning: transformation of coordinate segment lengths not yet implemented\n",
      "  warnings.warn(\"transformation of coordinate segment lengths not yet implemented\")\n"
     ]
    },
    {
     "name": "stdout",
     "output_type": "stream",
     "text": [
      "PM "
     ]
    },
    {
     "name": "stderr",
     "output_type": "stream",
     "text": [
      "c:\\repositories\\pipeline\\podpac\\podpac\\core\\coordinates\\dependent_coordinates.py:496: UserWarning: transformation of coordinate segment lengths not yet implemented\n",
      "  warnings.warn(\"transformation of coordinate segment lengths not yet implemented\")\n",
      "c:\\repositories\\pipeline\\podpac\\podpac\\core\\coordinates\\dependent_coordinates.py:498: UserWarning: transformation of coordinate segment lengths not yet implemented\n",
      "  warnings.warn(\"transformation of coordinate segment lengths not yet implemented\")\n",
      "c:\\repositories\\pipeline\\podpac\\podpac\\datalib\\smap_egi.py:204: RuntimeWarning: Mean of empty slice\n",
      "  lon = np.nanmean(lons, axis=0)\n",
      "c:\\repositories\\pipeline\\podpac\\podpac\\core\\coordinates\\array_coordinates1d.py:83: RuntimeWarning: invalid value encountered in less_equal\n",
      "  if np.any(deltas <= 0):\n",
      "c:\\repositories\\pipeline\\podpac\\podpac\\core\\coordinates\\dependent_coordinates.py:496: UserWarning: transformation of coordinate segment lengths not yet implemented\n",
      "  warnings.warn(\"transformation of coordinate segment lengths not yet implemented\")\n",
      "c:\\repositories\\pipeline\\podpac\\podpac\\core\\coordinates\\dependent_coordinates.py:498: UserWarning: transformation of coordinate segment lengths not yet implemented\n",
      "  warnings.warn(\"transformation of coordinate segment lengths not yet implemented\")\n"
     ]
    },
    {
     "name": "stdout",
     "output_type": "stream",
     "text": [
      "PM_QF "
     ]
    },
    {
     "name": "stderr",
     "output_type": "stream",
     "text": [
      "c:\\repositories\\pipeline\\podpac\\podpac\\datalib\\smap_egi.py:204: RuntimeWarning: Mean of empty slice\n",
      "  lon = np.nanmean(lons, axis=0)\n",
      "c:\\repositories\\pipeline\\podpac\\podpac\\core\\coordinates\\array_coordinates1d.py:83: RuntimeWarning: invalid value encountered in less_equal\n",
      "  if np.any(deltas <= 0):\n",
      "c:\\repositories\\pipeline\\podpac\\podpac\\core\\coordinates\\dependent_coordinates.py:496: UserWarning: transformation of coordinate segment lengths not yet implemented\n",
      "  warnings.warn(\"transformation of coordinate segment lengths not yet implemented\")\n",
      "c:\\repositories\\pipeline\\podpac\\podpac\\core\\coordinates\\dependent_coordinates.py:498: UserWarning: transformation of coordinate segment lengths not yet implemented\n",
      "  warnings.warn(\"transformation of coordinate segment lengths not yet implemented\")\n"
     ]
    },
    {
     "name": "stdout",
     "output_type": "stream",
     "text": [
      " ... Done.\n",
      "Updating S3 Zarr file for L3 Data.\n",
      "Updating S3 Zarr file for L3 Data.\n",
      "Download L3 Data for: UniformCoordinates1d(time): Bounds[2019-10-10T00:00:00.000000000, 2019-10-11T00:00:00.000000000], N[2], ctype['midpoint'] ...AM "
     ]
    },
    {
     "name": "stderr",
     "output_type": "stream",
     "text": [
      "c:\\repositories\\pipeline\\podpac\\podpac\\core\\coordinates\\dependent_coordinates.py:496: UserWarning: transformation of coordinate segment lengths not yet implemented\n",
      "  warnings.warn(\"transformation of coordinate segment lengths not yet implemented\")\n",
      "c:\\repositories\\pipeline\\podpac\\podpac\\core\\coordinates\\dependent_coordinates.py:498: UserWarning: transformation of coordinate segment lengths not yet implemented\n",
      "  warnings.warn(\"transformation of coordinate segment lengths not yet implemented\")\n",
      "c:\\repositories\\pipeline\\podpac\\podpac\\datalib\\smap_egi.py:204: RuntimeWarning: Mean of empty slice\n",
      "  lon = np.nanmean(lons, axis=0)\n",
      "c:\\repositories\\pipeline\\podpac\\podpac\\core\\coordinates\\array_coordinates1d.py:83: RuntimeWarning: invalid value encountered in less_equal\n",
      "  if np.any(deltas <= 0):\n",
      "c:\\repositories\\pipeline\\podpac\\podpac\\core\\coordinates\\dependent_coordinates.py:496: UserWarning: transformation of coordinate segment lengths not yet implemented\n",
      "  warnings.warn(\"transformation of coordinate segment lengths not yet implemented\")\n",
      "c:\\repositories\\pipeline\\podpac\\podpac\\core\\coordinates\\dependent_coordinates.py:498: UserWarning: transformation of coordinate segment lengths not yet implemented\n",
      "  warnings.warn(\"transformation of coordinate segment lengths not yet implemented\")\n"
     ]
    },
    {
     "name": "stdout",
     "output_type": "stream",
     "text": [
      "AM_QF "
     ]
    },
    {
     "name": "stderr",
     "output_type": "stream",
     "text": [
      "c:\\repositories\\pipeline\\podpac\\podpac\\datalib\\smap_egi.py:204: RuntimeWarning: Mean of empty slice\n",
      "  lon = np.nanmean(lons, axis=0)\n",
      "c:\\repositories\\pipeline\\podpac\\podpac\\core\\coordinates\\array_coordinates1d.py:83: RuntimeWarning: invalid value encountered in less_equal\n",
      "  if np.any(deltas <= 0):\n",
      "c:\\repositories\\pipeline\\podpac\\podpac\\core\\coordinates\\dependent_coordinates.py:496: UserWarning: transformation of coordinate segment lengths not yet implemented\n",
      "  warnings.warn(\"transformation of coordinate segment lengths not yet implemented\")\n",
      "c:\\repositories\\pipeline\\podpac\\podpac\\core\\coordinates\\dependent_coordinates.py:498: UserWarning: transformation of coordinate segment lengths not yet implemented\n",
      "  warnings.warn(\"transformation of coordinate segment lengths not yet implemented\")\n"
     ]
    },
    {
     "name": "stdout",
     "output_type": "stream",
     "text": [
      "PM "
     ]
    },
    {
     "name": "stderr",
     "output_type": "stream",
     "text": [
      "c:\\repositories\\pipeline\\podpac\\podpac\\core\\coordinates\\dependent_coordinates.py:496: UserWarning: transformation of coordinate segment lengths not yet implemented\n",
      "  warnings.warn(\"transformation of coordinate segment lengths not yet implemented\")\n",
      "c:\\repositories\\pipeline\\podpac\\podpac\\core\\coordinates\\dependent_coordinates.py:498: UserWarning: transformation of coordinate segment lengths not yet implemented\n",
      "  warnings.warn(\"transformation of coordinate segment lengths not yet implemented\")\n",
      "c:\\repositories\\pipeline\\podpac\\podpac\\datalib\\smap_egi.py:204: RuntimeWarning: Mean of empty slice\n",
      "  lon = np.nanmean(lons, axis=0)\n",
      "c:\\repositories\\pipeline\\podpac\\podpac\\core\\coordinates\\array_coordinates1d.py:83: RuntimeWarning: invalid value encountered in less_equal\n",
      "  if np.any(deltas <= 0):\n",
      "c:\\repositories\\pipeline\\podpac\\podpac\\core\\coordinates\\dependent_coordinates.py:496: UserWarning: transformation of coordinate segment lengths not yet implemented\n",
      "  warnings.warn(\"transformation of coordinate segment lengths not yet implemented\")\n",
      "c:\\repositories\\pipeline\\podpac\\podpac\\core\\coordinates\\dependent_coordinates.py:498: UserWarning: transformation of coordinate segment lengths not yet implemented\n",
      "  warnings.warn(\"transformation of coordinate segment lengths not yet implemented\")\n"
     ]
    },
    {
     "name": "stdout",
     "output_type": "stream",
     "text": [
      "PM_QF "
     ]
    },
    {
     "name": "stderr",
     "output_type": "stream",
     "text": [
      "c:\\repositories\\pipeline\\podpac\\podpac\\datalib\\smap_egi.py:204: RuntimeWarning: Mean of empty slice\n",
      "  lon = np.nanmean(lons, axis=0)\n",
      "c:\\repositories\\pipeline\\podpac\\podpac\\core\\coordinates\\array_coordinates1d.py:83: RuntimeWarning: invalid value encountered in less_equal\n",
      "  if np.any(deltas <= 0):\n",
      "c:\\repositories\\pipeline\\podpac\\podpac\\core\\coordinates\\dependent_coordinates.py:496: UserWarning: transformation of coordinate segment lengths not yet implemented\n",
      "  warnings.warn(\"transformation of coordinate segment lengths not yet implemented\")\n",
      "c:\\repositories\\pipeline\\podpac\\podpac\\core\\coordinates\\dependent_coordinates.py:498: UserWarning: transformation of coordinate segment lengths not yet implemented\n",
      "  warnings.warn(\"transformation of coordinate segment lengths not yet implemented\")\n"
     ]
    },
    {
     "name": "stdout",
     "output_type": "stream",
     "text": [
      " ... Done.\n",
      "Updating S3 Zarr file for L3 Data.\n",
      "Updating S3 Zarr file for L3 Data.\n",
      "Download L3 Data for: UniformCoordinates1d(time): Bounds[2019-10-12T00:00:00.000000000, 2019-10-13T00:00:00.000000000], N[2], ctype['midpoint'] ...AM "
     ]
    },
    {
     "name": "stderr",
     "output_type": "stream",
     "text": [
      "c:\\repositories\\pipeline\\podpac\\podpac\\core\\coordinates\\dependent_coordinates.py:496: UserWarning: transformation of coordinate segment lengths not yet implemented\n",
      "  warnings.warn(\"transformation of coordinate segment lengths not yet implemented\")\n",
      "c:\\repositories\\pipeline\\podpac\\podpac\\core\\coordinates\\dependent_coordinates.py:498: UserWarning: transformation of coordinate segment lengths not yet implemented\n",
      "  warnings.warn(\"transformation of coordinate segment lengths not yet implemented\")\n",
      "c:\\repositories\\pipeline\\podpac\\podpac\\datalib\\smap_egi.py:204: RuntimeWarning: Mean of empty slice\n",
      "  lon = np.nanmean(lons, axis=0)\n",
      "c:\\repositories\\pipeline\\podpac\\podpac\\core\\coordinates\\array_coordinates1d.py:83: RuntimeWarning: invalid value encountered in less_equal\n",
      "  if np.any(deltas <= 0):\n",
      "c:\\repositories\\pipeline\\podpac\\podpac\\core\\coordinates\\dependent_coordinates.py:496: UserWarning: transformation of coordinate segment lengths not yet implemented\n",
      "  warnings.warn(\"transformation of coordinate segment lengths not yet implemented\")\n",
      "c:\\repositories\\pipeline\\podpac\\podpac\\core\\coordinates\\dependent_coordinates.py:498: UserWarning: transformation of coordinate segment lengths not yet implemented\n",
      "  warnings.warn(\"transformation of coordinate segment lengths not yet implemented\")\n"
     ]
    },
    {
     "name": "stdout",
     "output_type": "stream",
     "text": [
      "AM_QF "
     ]
    },
    {
     "name": "stderr",
     "output_type": "stream",
     "text": [
      "c:\\repositories\\pipeline\\podpac\\podpac\\datalib\\smap_egi.py:204: RuntimeWarning: Mean of empty slice\n",
      "  lon = np.nanmean(lons, axis=0)\n",
      "c:\\repositories\\pipeline\\podpac\\podpac\\core\\coordinates\\array_coordinates1d.py:83: RuntimeWarning: invalid value encountered in less_equal\n",
      "  if np.any(deltas <= 0):\n",
      "c:\\repositories\\pipeline\\podpac\\podpac\\core\\coordinates\\dependent_coordinates.py:496: UserWarning: transformation of coordinate segment lengths not yet implemented\n",
      "  warnings.warn(\"transformation of coordinate segment lengths not yet implemented\")\n",
      "c:\\repositories\\pipeline\\podpac\\podpac\\core\\coordinates\\dependent_coordinates.py:498: UserWarning: transformation of coordinate segment lengths not yet implemented\n",
      "  warnings.warn(\"transformation of coordinate segment lengths not yet implemented\")\n"
     ]
    },
    {
     "name": "stdout",
     "output_type": "stream",
     "text": [
      "PM "
     ]
    },
    {
     "name": "stderr",
     "output_type": "stream",
     "text": [
      "c:\\repositories\\pipeline\\podpac\\podpac\\core\\coordinates\\dependent_coordinates.py:496: UserWarning: transformation of coordinate segment lengths not yet implemented\n",
      "  warnings.warn(\"transformation of coordinate segment lengths not yet implemented\")\n",
      "c:\\repositories\\pipeline\\podpac\\podpac\\core\\coordinates\\dependent_coordinates.py:498: UserWarning: transformation of coordinate segment lengths not yet implemented\n",
      "  warnings.warn(\"transformation of coordinate segment lengths not yet implemented\")\n",
      "c:\\repositories\\pipeline\\podpac\\podpac\\datalib\\smap_egi.py:204: RuntimeWarning: Mean of empty slice\n",
      "  lon = np.nanmean(lons, axis=0)\n",
      "c:\\repositories\\pipeline\\podpac\\podpac\\core\\coordinates\\array_coordinates1d.py:83: RuntimeWarning: invalid value encountered in less_equal\n",
      "  if np.any(deltas <= 0):\n",
      "c:\\repositories\\pipeline\\podpac\\podpac\\core\\coordinates\\dependent_coordinates.py:496: UserWarning: transformation of coordinate segment lengths not yet implemented\n",
      "  warnings.warn(\"transformation of coordinate segment lengths not yet implemented\")\n",
      "c:\\repositories\\pipeline\\podpac\\podpac\\core\\coordinates\\dependent_coordinates.py:498: UserWarning: transformation of coordinate segment lengths not yet implemented\n",
      "  warnings.warn(\"transformation of coordinate segment lengths not yet implemented\")\n"
     ]
    },
    {
     "name": "stdout",
     "output_type": "stream",
     "text": [
      "PM_QF "
     ]
    },
    {
     "name": "stderr",
     "output_type": "stream",
     "text": [
      "c:\\repositories\\pipeline\\podpac\\podpac\\datalib\\smap_egi.py:204: RuntimeWarning: Mean of empty slice\n",
      "  lon = np.nanmean(lons, axis=0)\n",
      "c:\\repositories\\pipeline\\podpac\\podpac\\core\\coordinates\\array_coordinates1d.py:83: RuntimeWarning: invalid value encountered in less_equal\n",
      "  if np.any(deltas <= 0):\n",
      "c:\\repositories\\pipeline\\podpac\\podpac\\core\\coordinates\\dependent_coordinates.py:496: UserWarning: transformation of coordinate segment lengths not yet implemented\n",
      "  warnings.warn(\"transformation of coordinate segment lengths not yet implemented\")\n",
      "c:\\repositories\\pipeline\\podpac\\podpac\\core\\coordinates\\dependent_coordinates.py:498: UserWarning: transformation of coordinate segment lengths not yet implemented\n",
      "  warnings.warn(\"transformation of coordinate segment lengths not yet implemented\")\n"
     ]
    },
    {
     "name": "stdout",
     "output_type": "stream",
     "text": [
      " ... Done.\n",
      "Updating S3 Zarr file for L3 Data.\n",
      "Updating S3 Zarr file for L3 Data.\n",
      "Download L3 Data for: UniformCoordinates1d(time): Bounds[2019-10-14T00:00:00.000000000, 2019-10-15T00:00:00.000000000], N[2], ctype['midpoint'] ...AM "
     ]
    },
    {
     "name": "stderr",
     "output_type": "stream",
     "text": [
      "c:\\repositories\\pipeline\\podpac\\podpac\\core\\coordinates\\dependent_coordinates.py:496: UserWarning: transformation of coordinate segment lengths not yet implemented\n",
      "  warnings.warn(\"transformation of coordinate segment lengths not yet implemented\")\n",
      "c:\\repositories\\pipeline\\podpac\\podpac\\core\\coordinates\\dependent_coordinates.py:498: UserWarning: transformation of coordinate segment lengths not yet implemented\n",
      "  warnings.warn(\"transformation of coordinate segment lengths not yet implemented\")\n",
      "c:\\repositories\\pipeline\\podpac\\podpac\\datalib\\smap_egi.py:204: RuntimeWarning: Mean of empty slice\n",
      "  lon = np.nanmean(lons, axis=0)\n",
      "c:\\repositories\\pipeline\\podpac\\podpac\\core\\coordinates\\array_coordinates1d.py:83: RuntimeWarning: invalid value encountered in less_equal\n",
      "  if np.any(deltas <= 0):\n",
      "c:\\repositories\\pipeline\\podpac\\podpac\\core\\coordinates\\dependent_coordinates.py:496: UserWarning: transformation of coordinate segment lengths not yet implemented\n",
      "  warnings.warn(\"transformation of coordinate segment lengths not yet implemented\")\n",
      "c:\\repositories\\pipeline\\podpac\\podpac\\core\\coordinates\\dependent_coordinates.py:498: UserWarning: transformation of coordinate segment lengths not yet implemented\n",
      "  warnings.warn(\"transformation of coordinate segment lengths not yet implemented\")\n"
     ]
    },
    {
     "name": "stdout",
     "output_type": "stream",
     "text": [
      "AM_QF "
     ]
    },
    {
     "name": "stderr",
     "output_type": "stream",
     "text": [
      "c:\\repositories\\pipeline\\podpac\\podpac\\datalib\\smap_egi.py:204: RuntimeWarning: Mean of empty slice\n",
      "  lon = np.nanmean(lons, axis=0)\n",
      "c:\\repositories\\pipeline\\podpac\\podpac\\core\\coordinates\\array_coordinates1d.py:83: RuntimeWarning: invalid value encountered in less_equal\n",
      "  if np.any(deltas <= 0):\n",
      "c:\\repositories\\pipeline\\podpac\\podpac\\core\\coordinates\\dependent_coordinates.py:496: UserWarning: transformation of coordinate segment lengths not yet implemented\n",
      "  warnings.warn(\"transformation of coordinate segment lengths not yet implemented\")\n",
      "c:\\repositories\\pipeline\\podpac\\podpac\\core\\coordinates\\dependent_coordinates.py:498: UserWarning: transformation of coordinate segment lengths not yet implemented\n",
      "  warnings.warn(\"transformation of coordinate segment lengths not yet implemented\")\n"
     ]
    },
    {
     "name": "stdout",
     "output_type": "stream",
     "text": [
      "PM "
     ]
    },
    {
     "name": "stderr",
     "output_type": "stream",
     "text": [
      "c:\\repositories\\pipeline\\podpac\\podpac\\core\\coordinates\\dependent_coordinates.py:496: UserWarning: transformation of coordinate segment lengths not yet implemented\n",
      "  warnings.warn(\"transformation of coordinate segment lengths not yet implemented\")\n",
      "c:\\repositories\\pipeline\\podpac\\podpac\\core\\coordinates\\dependent_coordinates.py:498: UserWarning: transformation of coordinate segment lengths not yet implemented\n",
      "  warnings.warn(\"transformation of coordinate segment lengths not yet implemented\")\n",
      "c:\\repositories\\pipeline\\podpac\\podpac\\datalib\\smap_egi.py:204: RuntimeWarning: Mean of empty slice\n",
      "  lon = np.nanmean(lons, axis=0)\n",
      "c:\\repositories\\pipeline\\podpac\\podpac\\core\\coordinates\\array_coordinates1d.py:83: RuntimeWarning: invalid value encountered in less_equal\n",
      "  if np.any(deltas <= 0):\n",
      "c:\\repositories\\pipeline\\podpac\\podpac\\core\\coordinates\\dependent_coordinates.py:496: UserWarning: transformation of coordinate segment lengths not yet implemented\n",
      "  warnings.warn(\"transformation of coordinate segment lengths not yet implemented\")\n",
      "c:\\repositories\\pipeline\\podpac\\podpac\\core\\coordinates\\dependent_coordinates.py:498: UserWarning: transformation of coordinate segment lengths not yet implemented\n",
      "  warnings.warn(\"transformation of coordinate segment lengths not yet implemented\")\n"
     ]
    },
    {
     "name": "stdout",
     "output_type": "stream",
     "text": [
      "PM_QF "
     ]
    },
    {
     "name": "stderr",
     "output_type": "stream",
     "text": [
      "c:\\repositories\\pipeline\\podpac\\podpac\\datalib\\smap_egi.py:204: RuntimeWarning: Mean of empty slice\n",
      "  lon = np.nanmean(lons, axis=0)\n",
      "c:\\repositories\\pipeline\\podpac\\podpac\\core\\coordinates\\array_coordinates1d.py:83: RuntimeWarning: invalid value encountered in less_equal\n",
      "  if np.any(deltas <= 0):\n",
      "c:\\repositories\\pipeline\\podpac\\podpac\\core\\coordinates\\dependent_coordinates.py:496: UserWarning: transformation of coordinate segment lengths not yet implemented\n",
      "  warnings.warn(\"transformation of coordinate segment lengths not yet implemented\")\n",
      "c:\\repositories\\pipeline\\podpac\\podpac\\core\\coordinates\\dependent_coordinates.py:498: UserWarning: transformation of coordinate segment lengths not yet implemented\n",
      "  warnings.warn(\"transformation of coordinate segment lengths not yet implemented\")\n"
     ]
    },
    {
     "name": "stdout",
     "output_type": "stream",
     "text": [
      " ... Done.\n",
      "Updating S3 Zarr file for L3 Data.\n",
      "Updating S3 Zarr file for L3 Data.\n",
      "Download L3 Data for: UniformCoordinates1d(time): Bounds[2019-10-16T00:00:00.000000000, 2019-10-17T00:00:00.000000000], N[2], ctype['midpoint'] ...AM "
     ]
    },
    {
     "name": "stderr",
     "output_type": "stream",
     "text": [
      "c:\\repositories\\pipeline\\podpac\\podpac\\core\\coordinates\\dependent_coordinates.py:496: UserWarning: transformation of coordinate segment lengths not yet implemented\n",
      "  warnings.warn(\"transformation of coordinate segment lengths not yet implemented\")\n",
      "c:\\repositories\\pipeline\\podpac\\podpac\\core\\coordinates\\dependent_coordinates.py:498: UserWarning: transformation of coordinate segment lengths not yet implemented\n",
      "  warnings.warn(\"transformation of coordinate segment lengths not yet implemented\")\n",
      "c:\\repositories\\pipeline\\podpac\\podpac\\datalib\\smap_egi.py:204: RuntimeWarning: Mean of empty slice\n",
      "  lon = np.nanmean(lons, axis=0)\n",
      "c:\\repositories\\pipeline\\podpac\\podpac\\core\\coordinates\\array_coordinates1d.py:83: RuntimeWarning: invalid value encountered in less_equal\n",
      "  if np.any(deltas <= 0):\n",
      "c:\\repositories\\pipeline\\podpac\\podpac\\core\\coordinates\\dependent_coordinates.py:496: UserWarning: transformation of coordinate segment lengths not yet implemented\n",
      "  warnings.warn(\"transformation of coordinate segment lengths not yet implemented\")\n",
      "c:\\repositories\\pipeline\\podpac\\podpac\\core\\coordinates\\dependent_coordinates.py:498: UserWarning: transformation of coordinate segment lengths not yet implemented\n",
      "  warnings.warn(\"transformation of coordinate segment lengths not yet implemented\")\n"
     ]
    },
    {
     "name": "stdout",
     "output_type": "stream",
     "text": [
      "AM_QF "
     ]
    },
    {
     "name": "stderr",
     "output_type": "stream",
     "text": [
      "c:\\repositories\\pipeline\\podpac\\podpac\\datalib\\smap_egi.py:204: RuntimeWarning: Mean of empty slice\n",
      "  lon = np.nanmean(lons, axis=0)\n",
      "c:\\repositories\\pipeline\\podpac\\podpac\\core\\coordinates\\array_coordinates1d.py:83: RuntimeWarning: invalid value encountered in less_equal\n",
      "  if np.any(deltas <= 0):\n",
      "c:\\repositories\\pipeline\\podpac\\podpac\\core\\coordinates\\dependent_coordinates.py:496: UserWarning: transformation of coordinate segment lengths not yet implemented\n",
      "  warnings.warn(\"transformation of coordinate segment lengths not yet implemented\")\n",
      "c:\\repositories\\pipeline\\podpac\\podpac\\core\\coordinates\\dependent_coordinates.py:498: UserWarning: transformation of coordinate segment lengths not yet implemented\n",
      "  warnings.warn(\"transformation of coordinate segment lengths not yet implemented\")\n"
     ]
    },
    {
     "name": "stdout",
     "output_type": "stream",
     "text": [
      "PM "
     ]
    },
    {
     "name": "stderr",
     "output_type": "stream",
     "text": [
      "c:\\repositories\\pipeline\\podpac\\podpac\\core\\coordinates\\dependent_coordinates.py:496: UserWarning: transformation of coordinate segment lengths not yet implemented\n",
      "  warnings.warn(\"transformation of coordinate segment lengths not yet implemented\")\n",
      "c:\\repositories\\pipeline\\podpac\\podpac\\core\\coordinates\\dependent_coordinates.py:498: UserWarning: transformation of coordinate segment lengths not yet implemented\n",
      "  warnings.warn(\"transformation of coordinate segment lengths not yet implemented\")\n",
      "c:\\repositories\\pipeline\\podpac\\podpac\\datalib\\smap_egi.py:204: RuntimeWarning: Mean of empty slice\n",
      "  lon = np.nanmean(lons, axis=0)\n",
      "c:\\repositories\\pipeline\\podpac\\podpac\\core\\coordinates\\array_coordinates1d.py:83: RuntimeWarning: invalid value encountered in less_equal\n",
      "  if np.any(deltas <= 0):\n",
      "c:\\repositories\\pipeline\\podpac\\podpac\\core\\coordinates\\dependent_coordinates.py:496: UserWarning: transformation of coordinate segment lengths not yet implemented\n",
      "  warnings.warn(\"transformation of coordinate segment lengths not yet implemented\")\n",
      "c:\\repositories\\pipeline\\podpac\\podpac\\core\\coordinates\\dependent_coordinates.py:498: UserWarning: transformation of coordinate segment lengths not yet implemented\n",
      "  warnings.warn(\"transformation of coordinate segment lengths not yet implemented\")\n"
     ]
    },
    {
     "name": "stdout",
     "output_type": "stream",
     "text": [
      "PM_QF "
     ]
    },
    {
     "name": "stderr",
     "output_type": "stream",
     "text": [
      "c:\\repositories\\pipeline\\podpac\\podpac\\datalib\\smap_egi.py:204: RuntimeWarning: Mean of empty slice\n",
      "  lon = np.nanmean(lons, axis=0)\n",
      "c:\\repositories\\pipeline\\podpac\\podpac\\core\\coordinates\\array_coordinates1d.py:83: RuntimeWarning: invalid value encountered in less_equal\n",
      "  if np.any(deltas <= 0):\n",
      "c:\\repositories\\pipeline\\podpac\\podpac\\core\\coordinates\\dependent_coordinates.py:496: UserWarning: transformation of coordinate segment lengths not yet implemented\n",
      "  warnings.warn(\"transformation of coordinate segment lengths not yet implemented\")\n",
      "c:\\repositories\\pipeline\\podpac\\podpac\\core\\coordinates\\dependent_coordinates.py:498: UserWarning: transformation of coordinate segment lengths not yet implemented\n",
      "  warnings.warn(\"transformation of coordinate segment lengths not yet implemented\")\n"
     ]
    },
    {
     "name": "stdout",
     "output_type": "stream",
     "text": [
      " ... Done.\n",
      "Updating S3 Zarr file for L3 Data.\n",
      "Updating S3 Zarr file for L3 Data.\n",
      "Download L3 Data for: UniformCoordinates1d(time): Bounds[2019-10-18T00:00:00.000000000, 2019-10-19T00:00:00.000000000], N[2], ctype['midpoint'] ...AM "
     ]
    },
    {
     "name": "stderr",
     "output_type": "stream",
     "text": [
      "c:\\repositories\\pipeline\\podpac\\podpac\\core\\coordinates\\dependent_coordinates.py:496: UserWarning: transformation of coordinate segment lengths not yet implemented\n",
      "  warnings.warn(\"transformation of coordinate segment lengths not yet implemented\")\n",
      "c:\\repositories\\pipeline\\podpac\\podpac\\core\\coordinates\\dependent_coordinates.py:498: UserWarning: transformation of coordinate segment lengths not yet implemented\n",
      "  warnings.warn(\"transformation of coordinate segment lengths not yet implemented\")\n",
      "c:\\repositories\\pipeline\\podpac\\podpac\\datalib\\smap_egi.py:204: RuntimeWarning: Mean of empty slice\n",
      "  lon = np.nanmean(lons, axis=0)\n",
      "c:\\repositories\\pipeline\\podpac\\podpac\\core\\coordinates\\array_coordinates1d.py:83: RuntimeWarning: invalid value encountered in less_equal\n",
      "  if np.any(deltas <= 0):\n",
      "c:\\repositories\\pipeline\\podpac\\podpac\\core\\coordinates\\dependent_coordinates.py:496: UserWarning: transformation of coordinate segment lengths not yet implemented\n",
      "  warnings.warn(\"transformation of coordinate segment lengths not yet implemented\")\n",
      "c:\\repositories\\pipeline\\podpac\\podpac\\core\\coordinates\\dependent_coordinates.py:498: UserWarning: transformation of coordinate segment lengths not yet implemented\n",
      "  warnings.warn(\"transformation of coordinate segment lengths not yet implemented\")\n"
     ]
    },
    {
     "name": "stdout",
     "output_type": "stream",
     "text": [
      "AM_QF "
     ]
    },
    {
     "name": "stderr",
     "output_type": "stream",
     "text": [
      "c:\\repositories\\pipeline\\podpac\\podpac\\datalib\\smap_egi.py:204: RuntimeWarning: Mean of empty slice\n",
      "  lon = np.nanmean(lons, axis=0)\n",
      "c:\\repositories\\pipeline\\podpac\\podpac\\core\\coordinates\\array_coordinates1d.py:83: RuntimeWarning: invalid value encountered in less_equal\n",
      "  if np.any(deltas <= 0):\n",
      "c:\\repositories\\pipeline\\podpac\\podpac\\core\\coordinates\\dependent_coordinates.py:496: UserWarning: transformation of coordinate segment lengths not yet implemented\n",
      "  warnings.warn(\"transformation of coordinate segment lengths not yet implemented\")\n",
      "c:\\repositories\\pipeline\\podpac\\podpac\\core\\coordinates\\dependent_coordinates.py:498: UserWarning: transformation of coordinate segment lengths not yet implemented\n",
      "  warnings.warn(\"transformation of coordinate segment lengths not yet implemented\")\n",
      "c:\\repositories\\pipeline\\podpac\\podpac\\core\\cache\\ram_cache_store.py:88: UserWarning: Warning: Process is using more RAM than the specified limit in settings.RAM_CACHE_MAX_BYTES. No longer caching. Consider increasing this limit or try clearing the cache (e.g. podpac.utils.clear_cache(mode='RAM') to clear ALL cached results in RAM)\n",
      "  UserWarning,\n",
      "c:\\repositories\\pipeline\\podpac\\podpac\\core\\coordinates\\dependent_coordinates.py:496: UserWarning: transformation of coordinate segment lengths not yet implemented\n",
      "  warnings.warn(\"transformation of coordinate segment lengths not yet implemented\")\n",
      "c:\\repositories\\pipeline\\podpac\\podpac\\core\\coordinates\\dependent_coordinates.py:498: UserWarning: transformation of coordinate segment lengths not yet implemented\n",
      "  warnings.warn(\"transformation of coordinate segment lengths not yet implemented\")\n"
     ]
    },
    {
     "name": "stdout",
     "output_type": "stream",
     "text": [
      "PM "
     ]
    },
    {
     "name": "stderr",
     "output_type": "stream",
     "text": [
      "c:\\repositories\\pipeline\\podpac\\podpac\\datalib\\smap_egi.py:204: RuntimeWarning: Mean of empty slice\n",
      "  lon = np.nanmean(lons, axis=0)\n",
      "c:\\repositories\\pipeline\\podpac\\podpac\\core\\coordinates\\array_coordinates1d.py:83: RuntimeWarning: invalid value encountered in less_equal\n",
      "  if np.any(deltas <= 0):\n",
      "c:\\repositories\\pipeline\\podpac\\podpac\\core\\coordinates\\dependent_coordinates.py:496: UserWarning: transformation of coordinate segment lengths not yet implemented\n",
      "  warnings.warn(\"transformation of coordinate segment lengths not yet implemented\")\n",
      "c:\\repositories\\pipeline\\podpac\\podpac\\core\\coordinates\\dependent_coordinates.py:498: UserWarning: transformation of coordinate segment lengths not yet implemented\n",
      "  warnings.warn(\"transformation of coordinate segment lengths not yet implemented\")\n",
      "c:\\repositories\\pipeline\\podpac\\podpac\\core\\cache\\ram_cache_store.py:88: UserWarning: Warning: Process is using more RAM than the specified limit in settings.RAM_CACHE_MAX_BYTES. No longer caching. Consider increasing this limit or try clearing the cache (e.g. podpac.utils.clear_cache(mode='RAM') to clear ALL cached results in RAM)\n",
      "  UserWarning,\n"
     ]
    },
    {
     "name": "stdout",
     "output_type": "stream",
     "text": [
      "PM_QF "
     ]
    },
    {
     "name": "stderr",
     "output_type": "stream",
     "text": [
      "c:\\repositories\\pipeline\\podpac\\podpac\\datalib\\smap_egi.py:204: RuntimeWarning: Mean of empty slice\n",
      "  lon = np.nanmean(lons, axis=0)\n",
      "c:\\repositories\\pipeline\\podpac\\podpac\\core\\coordinates\\array_coordinates1d.py:83: RuntimeWarning: invalid value encountered in less_equal\n",
      "  if np.any(deltas <= 0):\n",
      "c:\\repositories\\pipeline\\podpac\\podpac\\core\\coordinates\\dependent_coordinates.py:496: UserWarning: transformation of coordinate segment lengths not yet implemented\n",
      "  warnings.warn(\"transformation of coordinate segment lengths not yet implemented\")\n",
      "c:\\repositories\\pipeline\\podpac\\podpac\\core\\coordinates\\dependent_coordinates.py:498: UserWarning: transformation of coordinate segment lengths not yet implemented\n",
      "  warnings.warn(\"transformation of coordinate segment lengths not yet implemented\")\n",
      "c:\\repositories\\pipeline\\podpac\\podpac\\core\\cache\\ram_cache_store.py:88: UserWarning: Warning: Process is using more RAM than the specified limit in settings.RAM_CACHE_MAX_BYTES. No longer caching. Consider increasing this limit or try clearing the cache (e.g. podpac.utils.clear_cache(mode='RAM') to clear ALL cached results in RAM)\n",
      "  UserWarning,\n"
     ]
    },
    {
     "name": "stdout",
     "output_type": "stream",
     "text": [
      " ... Done.\n",
      "Updating S3 Zarr file for L3 Data.\n",
      "Updating S3 Zarr file for L3 Data.\n",
      "Download L3 Data for: UniformCoordinates1d(time): Bounds[2019-10-20T00:00:00.000000000, 2019-10-21T00:00:00.000000000], N[2], ctype['midpoint'] ...AM "
     ]
    },
    {
     "name": "stderr",
     "output_type": "stream",
     "text": [
      "c:\\repositories\\pipeline\\podpac\\podpac\\core\\coordinates\\dependent_coordinates.py:496: UserWarning: transformation of coordinate segment lengths not yet implemented\n",
      "  warnings.warn(\"transformation of coordinate segment lengths not yet implemented\")\n",
      "c:\\repositories\\pipeline\\podpac\\podpac\\core\\coordinates\\dependent_coordinates.py:498: UserWarning: transformation of coordinate segment lengths not yet implemented\n",
      "  warnings.warn(\"transformation of coordinate segment lengths not yet implemented\")\n",
      "c:\\repositories\\pipeline\\podpac\\podpac\\datalib\\smap_egi.py:204: RuntimeWarning: Mean of empty slice\n",
      "  lon = np.nanmean(lons, axis=0)\n",
      "c:\\repositories\\pipeline\\podpac\\podpac\\core\\coordinates\\array_coordinates1d.py:83: RuntimeWarning: invalid value encountered in less_equal\n",
      "  if np.any(deltas <= 0):\n",
      "c:\\repositories\\pipeline\\podpac\\podpac\\core\\coordinates\\dependent_coordinates.py:496: UserWarning: transformation of coordinate segment lengths not yet implemented\n",
      "  warnings.warn(\"transformation of coordinate segment lengths not yet implemented\")\n",
      "c:\\repositories\\pipeline\\podpac\\podpac\\core\\coordinates\\dependent_coordinates.py:498: UserWarning: transformation of coordinate segment lengths not yet implemented\n",
      "  warnings.warn(\"transformation of coordinate segment lengths not yet implemented\")\n",
      "c:\\repositories\\pipeline\\podpac\\podpac\\core\\cache\\ram_cache_store.py:88: UserWarning: Warning: Process is using more RAM than the specified limit in settings.RAM_CACHE_MAX_BYTES. No longer caching. Consider increasing this limit or try clearing the cache (e.g. podpac.utils.clear_cache(mode='RAM') to clear ALL cached results in RAM)\n",
      "  UserWarning,\n"
     ]
    },
    {
     "name": "stdout",
     "output_type": "stream",
     "text": [
      "AM_QF "
     ]
    },
    {
     "name": "stderr",
     "output_type": "stream",
     "text": [
      "c:\\repositories\\pipeline\\podpac\\podpac\\datalib\\smap_egi.py:204: RuntimeWarning: Mean of empty slice\n",
      "  lon = np.nanmean(lons, axis=0)\n",
      "c:\\repositories\\pipeline\\podpac\\podpac\\core\\coordinates\\array_coordinates1d.py:83: RuntimeWarning: invalid value encountered in less_equal\n",
      "  if np.any(deltas <= 0):\n",
      "c:\\repositories\\pipeline\\podpac\\podpac\\core\\coordinates\\dependent_coordinates.py:496: UserWarning: transformation of coordinate segment lengths not yet implemented\n",
      "  warnings.warn(\"transformation of coordinate segment lengths not yet implemented\")\n",
      "c:\\repositories\\pipeline\\podpac\\podpac\\core\\coordinates\\dependent_coordinates.py:498: UserWarning: transformation of coordinate segment lengths not yet implemented\n",
      "  warnings.warn(\"transformation of coordinate segment lengths not yet implemented\")\n",
      "c:\\repositories\\pipeline\\podpac\\podpac\\core\\cache\\ram_cache_store.py:88: UserWarning: Warning: Process is using more RAM than the specified limit in settings.RAM_CACHE_MAX_BYTES. No longer caching. Consider increasing this limit or try clearing the cache (e.g. podpac.utils.clear_cache(mode='RAM') to clear ALL cached results in RAM)\n",
      "  UserWarning,\n",
      "c:\\repositories\\pipeline\\podpac\\podpac\\core\\coordinates\\dependent_coordinates.py:496: UserWarning: transformation of coordinate segment lengths not yet implemented\n",
      "  warnings.warn(\"transformation of coordinate segment lengths not yet implemented\")\n",
      "c:\\repositories\\pipeline\\podpac\\podpac\\core\\coordinates\\dependent_coordinates.py:498: UserWarning: transformation of coordinate segment lengths not yet implemented\n",
      "  warnings.warn(\"transformation of coordinate segment lengths not yet implemented\")\n"
     ]
    },
    {
     "name": "stdout",
     "output_type": "stream",
     "text": [
      "PM "
     ]
    },
    {
     "name": "stderr",
     "output_type": "stream",
     "text": [
      "c:\\repositories\\pipeline\\podpac\\podpac\\datalib\\smap_egi.py:204: RuntimeWarning: Mean of empty slice\n",
      "  lon = np.nanmean(lons, axis=0)\n",
      "c:\\repositories\\pipeline\\podpac\\podpac\\core\\coordinates\\array_coordinates1d.py:83: RuntimeWarning: invalid value encountered in less_equal\n",
      "  if np.any(deltas <= 0):\n",
      "c:\\repositories\\pipeline\\podpac\\podpac\\core\\coordinates\\dependent_coordinates.py:496: UserWarning: transformation of coordinate segment lengths not yet implemented\n",
      "  warnings.warn(\"transformation of coordinate segment lengths not yet implemented\")\n",
      "c:\\repositories\\pipeline\\podpac\\podpac\\core\\coordinates\\dependent_coordinates.py:498: UserWarning: transformation of coordinate segment lengths not yet implemented\n",
      "  warnings.warn(\"transformation of coordinate segment lengths not yet implemented\")\n",
      "c:\\repositories\\pipeline\\podpac\\podpac\\core\\cache\\ram_cache_store.py:88: UserWarning: Warning: Process is using more RAM than the specified limit in settings.RAM_CACHE_MAX_BYTES. No longer caching. Consider increasing this limit or try clearing the cache (e.g. podpac.utils.clear_cache(mode='RAM') to clear ALL cached results in RAM)\n",
      "  UserWarning,\n"
     ]
    },
    {
     "name": "stdout",
     "output_type": "stream",
     "text": [
      "PM_QF "
     ]
    },
    {
     "name": "stderr",
     "output_type": "stream",
     "text": [
      "c:\\repositories\\pipeline\\podpac\\podpac\\datalib\\smap_egi.py:204: RuntimeWarning: Mean of empty slice\n",
      "  lon = np.nanmean(lons, axis=0)\n",
      "c:\\repositories\\pipeline\\podpac\\podpac\\core\\coordinates\\array_coordinates1d.py:83: RuntimeWarning: invalid value encountered in less_equal\n",
      "  if np.any(deltas <= 0):\n",
      "c:\\repositories\\pipeline\\podpac\\podpac\\core\\coordinates\\dependent_coordinates.py:496: UserWarning: transformation of coordinate segment lengths not yet implemented\n",
      "  warnings.warn(\"transformation of coordinate segment lengths not yet implemented\")\n",
      "c:\\repositories\\pipeline\\podpac\\podpac\\core\\coordinates\\dependent_coordinates.py:498: UserWarning: transformation of coordinate segment lengths not yet implemented\n",
      "  warnings.warn(\"transformation of coordinate segment lengths not yet implemented\")\n",
      "c:\\repositories\\pipeline\\podpac\\podpac\\core\\cache\\ram_cache_store.py:88: UserWarning: Warning: Process is using more RAM than the specified limit in settings.RAM_CACHE_MAX_BYTES. No longer caching. Consider increasing this limit or try clearing the cache (e.g. podpac.utils.clear_cache(mode='RAM') to clear ALL cached results in RAM)\n",
      "  UserWarning,\n"
     ]
    },
    {
     "name": "stdout",
     "output_type": "stream",
     "text": [
      " ... Done.\n",
      "Updating S3 Zarr file for L3 Data.\n",
      "Updating S3 Zarr file for L3 Data.\n",
      "Download L3 Data for: UniformCoordinates1d(time): Bounds[2019-10-22T00:00:00.000000000, 2019-10-23T00:00:00.000000000], N[2], ctype['midpoint'] ...AM "
     ]
    },
    {
     "name": "stderr",
     "output_type": "stream",
     "text": [
      "c:\\repositories\\pipeline\\podpac\\podpac\\core\\coordinates\\dependent_coordinates.py:496: UserWarning: transformation of coordinate segment lengths not yet implemented\n",
      "  warnings.warn(\"transformation of coordinate segment lengths not yet implemented\")\n",
      "c:\\repositories\\pipeline\\podpac\\podpac\\core\\coordinates\\dependent_coordinates.py:498: UserWarning: transformation of coordinate segment lengths not yet implemented\n",
      "  warnings.warn(\"transformation of coordinate segment lengths not yet implemented\")\n",
      "c:\\repositories\\pipeline\\podpac\\podpac\\datalib\\smap_egi.py:204: RuntimeWarning: Mean of empty slice\n",
      "  lon = np.nanmean(lons, axis=0)\n",
      "c:\\repositories\\pipeline\\podpac\\podpac\\core\\coordinates\\array_coordinates1d.py:83: RuntimeWarning: invalid value encountered in less_equal\n",
      "  if np.any(deltas <= 0):\n",
      "c:\\repositories\\pipeline\\podpac\\podpac\\core\\coordinates\\dependent_coordinates.py:496: UserWarning: transformation of coordinate segment lengths not yet implemented\n",
      "  warnings.warn(\"transformation of coordinate segment lengths not yet implemented\")\n",
      "c:\\repositories\\pipeline\\podpac\\podpac\\core\\coordinates\\dependent_coordinates.py:498: UserWarning: transformation of coordinate segment lengths not yet implemented\n",
      "  warnings.warn(\"transformation of coordinate segment lengths not yet implemented\")\n",
      "c:\\repositories\\pipeline\\podpac\\podpac\\core\\cache\\ram_cache_store.py:88: UserWarning: Warning: Process is using more RAM than the specified limit in settings.RAM_CACHE_MAX_BYTES. No longer caching. Consider increasing this limit or try clearing the cache (e.g. podpac.utils.clear_cache(mode='RAM') to clear ALL cached results in RAM)\n",
      "  UserWarning,\n"
     ]
    },
    {
     "name": "stdout",
     "output_type": "stream",
     "text": [
      "AM_QF "
     ]
    },
    {
     "name": "stderr",
     "output_type": "stream",
     "text": [
      "c:\\repositories\\pipeline\\podpac\\podpac\\datalib\\smap_egi.py:204: RuntimeWarning: Mean of empty slice\n",
      "  lon = np.nanmean(lons, axis=0)\n",
      "c:\\repositories\\pipeline\\podpac\\podpac\\core\\coordinates\\array_coordinates1d.py:83: RuntimeWarning: invalid value encountered in less_equal\n",
      "  if np.any(deltas <= 0):\n",
      "c:\\repositories\\pipeline\\podpac\\podpac\\core\\coordinates\\dependent_coordinates.py:496: UserWarning: transformation of coordinate segment lengths not yet implemented\n",
      "  warnings.warn(\"transformation of coordinate segment lengths not yet implemented\")\n",
      "c:\\repositories\\pipeline\\podpac\\podpac\\core\\coordinates\\dependent_coordinates.py:498: UserWarning: transformation of coordinate segment lengths not yet implemented\n",
      "  warnings.warn(\"transformation of coordinate segment lengths not yet implemented\")\n",
      "c:\\repositories\\pipeline\\podpac\\podpac\\core\\cache\\ram_cache_store.py:88: UserWarning: Warning: Process is using more RAM than the specified limit in settings.RAM_CACHE_MAX_BYTES. No longer caching. Consider increasing this limit or try clearing the cache (e.g. podpac.utils.clear_cache(mode='RAM') to clear ALL cached results in RAM)\n",
      "  UserWarning,\n",
      "c:\\repositories\\pipeline\\podpac\\podpac\\core\\coordinates\\dependent_coordinates.py:496: UserWarning: transformation of coordinate segment lengths not yet implemented\n",
      "  warnings.warn(\"transformation of coordinate segment lengths not yet implemented\")\n",
      "c:\\repositories\\pipeline\\podpac\\podpac\\core\\coordinates\\dependent_coordinates.py:498: UserWarning: transformation of coordinate segment lengths not yet implemented\n",
      "  warnings.warn(\"transformation of coordinate segment lengths not yet implemented\")\n"
     ]
    },
    {
     "name": "stdout",
     "output_type": "stream",
     "text": [
      "PM "
     ]
    },
    {
     "name": "stderr",
     "output_type": "stream",
     "text": [
      "c:\\repositories\\pipeline\\podpac\\podpac\\datalib\\smap_egi.py:204: RuntimeWarning: Mean of empty slice\n",
      "  lon = np.nanmean(lons, axis=0)\n",
      "c:\\repositories\\pipeline\\podpac\\podpac\\core\\coordinates\\array_coordinates1d.py:83: RuntimeWarning: invalid value encountered in less_equal\n",
      "  if np.any(deltas <= 0):\n",
      "c:\\repositories\\pipeline\\podpac\\podpac\\core\\coordinates\\dependent_coordinates.py:496: UserWarning: transformation of coordinate segment lengths not yet implemented\n",
      "  warnings.warn(\"transformation of coordinate segment lengths not yet implemented\")\n",
      "c:\\repositories\\pipeline\\podpac\\podpac\\core\\coordinates\\dependent_coordinates.py:498: UserWarning: transformation of coordinate segment lengths not yet implemented\n",
      "  warnings.warn(\"transformation of coordinate segment lengths not yet implemented\")\n",
      "c:\\repositories\\pipeline\\podpac\\podpac\\core\\cache\\ram_cache_store.py:88: UserWarning: Warning: Process is using more RAM than the specified limit in settings.RAM_CACHE_MAX_BYTES. No longer caching. Consider increasing this limit or try clearing the cache (e.g. podpac.utils.clear_cache(mode='RAM') to clear ALL cached results in RAM)\n",
      "  UserWarning,\n"
     ]
    },
    {
     "name": "stdout",
     "output_type": "stream",
     "text": [
      "PM_QF "
     ]
    },
    {
     "name": "stderr",
     "output_type": "stream",
     "text": [
      "c:\\repositories\\pipeline\\podpac\\podpac\\datalib\\smap_egi.py:204: RuntimeWarning: Mean of empty slice\n",
      "  lon = np.nanmean(lons, axis=0)\n",
      "c:\\repositories\\pipeline\\podpac\\podpac\\core\\coordinates\\array_coordinates1d.py:83: RuntimeWarning: invalid value encountered in less_equal\n",
      "  if np.any(deltas <= 0):\n",
      "c:\\repositories\\pipeline\\podpac\\podpac\\core\\coordinates\\dependent_coordinates.py:496: UserWarning: transformation of coordinate segment lengths not yet implemented\n",
      "  warnings.warn(\"transformation of coordinate segment lengths not yet implemented\")\n",
      "c:\\repositories\\pipeline\\podpac\\podpac\\core\\coordinates\\dependent_coordinates.py:498: UserWarning: transformation of coordinate segment lengths not yet implemented\n",
      "  warnings.warn(\"transformation of coordinate segment lengths not yet implemented\")\n",
      "c:\\repositories\\pipeline\\podpac\\podpac\\core\\cache\\ram_cache_store.py:88: UserWarning: Warning: Process is using more RAM than the specified limit in settings.RAM_CACHE_MAX_BYTES. No longer caching. Consider increasing this limit or try clearing the cache (e.g. podpac.utils.clear_cache(mode='RAM') to clear ALL cached results in RAM)\n",
      "  UserWarning,\n"
     ]
    },
    {
     "name": "stdout",
     "output_type": "stream",
     "text": [
      " ... Done.\n",
      "Updating S3 Zarr file for L3 Data.\n",
      "Updating S3 Zarr file for L3 Data.\n",
      "Download L3 Data for: UniformCoordinates1d(time): Bounds[2019-10-24T00:00:00.000000000, 2019-10-25T00:00:00.000000000], N[2], ctype['midpoint'] ...AM "
     ]
    },
    {
     "name": "stderr",
     "output_type": "stream",
     "text": [
      "c:\\repositories\\pipeline\\podpac\\podpac\\core\\coordinates\\dependent_coordinates.py:496: UserWarning: transformation of coordinate segment lengths not yet implemented\n",
      "  warnings.warn(\"transformation of coordinate segment lengths not yet implemented\")\n",
      "c:\\repositories\\pipeline\\podpac\\podpac\\core\\coordinates\\dependent_coordinates.py:498: UserWarning: transformation of coordinate segment lengths not yet implemented\n",
      "  warnings.warn(\"transformation of coordinate segment lengths not yet implemented\")\n",
      "c:\\repositories\\pipeline\\podpac\\podpac\\datalib\\smap_egi.py:204: RuntimeWarning: Mean of empty slice\n",
      "  lon = np.nanmean(lons, axis=0)\n",
      "c:\\repositories\\pipeline\\podpac\\podpac\\core\\coordinates\\array_coordinates1d.py:83: RuntimeWarning: invalid value encountered in less_equal\n",
      "  if np.any(deltas <= 0):\n",
      "c:\\repositories\\pipeline\\podpac\\podpac\\core\\coordinates\\dependent_coordinates.py:496: UserWarning: transformation of coordinate segment lengths not yet implemented\n",
      "  warnings.warn(\"transformation of coordinate segment lengths not yet implemented\")\n",
      "c:\\repositories\\pipeline\\podpac\\podpac\\core\\coordinates\\dependent_coordinates.py:498: UserWarning: transformation of coordinate segment lengths not yet implemented\n",
      "  warnings.warn(\"transformation of coordinate segment lengths not yet implemented\")\n",
      "c:\\repositories\\pipeline\\podpac\\podpac\\core\\cache\\ram_cache_store.py:88: UserWarning: Warning: Process is using more RAM than the specified limit in settings.RAM_CACHE_MAX_BYTES. No longer caching. Consider increasing this limit or try clearing the cache (e.g. podpac.utils.clear_cache(mode='RAM') to clear ALL cached results in RAM)\n",
      "  UserWarning,\n"
     ]
    },
    {
     "name": "stdout",
     "output_type": "stream",
     "text": [
      "AM_QF "
     ]
    },
    {
     "name": "stderr",
     "output_type": "stream",
     "text": [
      "c:\\repositories\\pipeline\\podpac\\podpac\\datalib\\smap_egi.py:204: RuntimeWarning: Mean of empty slice\n",
      "  lon = np.nanmean(lons, axis=0)\n",
      "c:\\repositories\\pipeline\\podpac\\podpac\\core\\coordinates\\array_coordinates1d.py:83: RuntimeWarning: invalid value encountered in less_equal\n",
      "  if np.any(deltas <= 0):\n",
      "c:\\repositories\\pipeline\\podpac\\podpac\\core\\coordinates\\dependent_coordinates.py:496: UserWarning: transformation of coordinate segment lengths not yet implemented\n",
      "  warnings.warn(\"transformation of coordinate segment lengths not yet implemented\")\n",
      "c:\\repositories\\pipeline\\podpac\\podpac\\core\\coordinates\\dependent_coordinates.py:498: UserWarning: transformation of coordinate segment lengths not yet implemented\n",
      "  warnings.warn(\"transformation of coordinate segment lengths not yet implemented\")\n",
      "c:\\repositories\\pipeline\\podpac\\podpac\\core\\cache\\ram_cache_store.py:88: UserWarning: Warning: Process is using more RAM than the specified limit in settings.RAM_CACHE_MAX_BYTES. No longer caching. Consider increasing this limit or try clearing the cache (e.g. podpac.utils.clear_cache(mode='RAM') to clear ALL cached results in RAM)\n",
      "  UserWarning,\n",
      "c:\\repositories\\pipeline\\podpac\\podpac\\core\\coordinates\\dependent_coordinates.py:496: UserWarning: transformation of coordinate segment lengths not yet implemented\n",
      "  warnings.warn(\"transformation of coordinate segment lengths not yet implemented\")\n",
      "c:\\repositories\\pipeline\\podpac\\podpac\\core\\coordinates\\dependent_coordinates.py:498: UserWarning: transformation of coordinate segment lengths not yet implemented\n",
      "  warnings.warn(\"transformation of coordinate segment lengths not yet implemented\")\n"
     ]
    },
    {
     "name": "stdout",
     "output_type": "stream",
     "text": [
      "PM "
     ]
    },
    {
     "name": "stderr",
     "output_type": "stream",
     "text": [
      "c:\\repositories\\pipeline\\podpac\\podpac\\datalib\\smap_egi.py:204: RuntimeWarning: Mean of empty slice\n",
      "  lon = np.nanmean(lons, axis=0)\n",
      "c:\\repositories\\pipeline\\podpac\\podpac\\core\\coordinates\\array_coordinates1d.py:83: RuntimeWarning: invalid value encountered in less_equal\n",
      "  if np.any(deltas <= 0):\n",
      "c:\\repositories\\pipeline\\podpac\\podpac\\core\\coordinates\\dependent_coordinates.py:496: UserWarning: transformation of coordinate segment lengths not yet implemented\n",
      "  warnings.warn(\"transformation of coordinate segment lengths not yet implemented\")\n",
      "c:\\repositories\\pipeline\\podpac\\podpac\\core\\coordinates\\dependent_coordinates.py:498: UserWarning: transformation of coordinate segment lengths not yet implemented\n",
      "  warnings.warn(\"transformation of coordinate segment lengths not yet implemented\")\n",
      "c:\\repositories\\pipeline\\podpac\\podpac\\core\\cache\\ram_cache_store.py:88: UserWarning: Warning: Process is using more RAM than the specified limit in settings.RAM_CACHE_MAX_BYTES. No longer caching. Consider increasing this limit or try clearing the cache (e.g. podpac.utils.clear_cache(mode='RAM') to clear ALL cached results in RAM)\n",
      "  UserWarning,\n"
     ]
    },
    {
     "name": "stdout",
     "output_type": "stream",
     "text": [
      "PM_QF "
     ]
    },
    {
     "name": "stderr",
     "output_type": "stream",
     "text": [
      "c:\\repositories\\pipeline\\podpac\\podpac\\datalib\\smap_egi.py:204: RuntimeWarning: Mean of empty slice\n",
      "  lon = np.nanmean(lons, axis=0)\n",
      "c:\\repositories\\pipeline\\podpac\\podpac\\core\\coordinates\\array_coordinates1d.py:83: RuntimeWarning: invalid value encountered in less_equal\n",
      "  if np.any(deltas <= 0):\n",
      "c:\\repositories\\pipeline\\podpac\\podpac\\core\\coordinates\\dependent_coordinates.py:496: UserWarning: transformation of coordinate segment lengths not yet implemented\n",
      "  warnings.warn(\"transformation of coordinate segment lengths not yet implemented\")\n",
      "c:\\repositories\\pipeline\\podpac\\podpac\\core\\coordinates\\dependent_coordinates.py:498: UserWarning: transformation of coordinate segment lengths not yet implemented\n",
      "  warnings.warn(\"transformation of coordinate segment lengths not yet implemented\")\n",
      "c:\\repositories\\pipeline\\podpac\\podpac\\core\\cache\\ram_cache_store.py:88: UserWarning: Warning: Process is using more RAM than the specified limit in settings.RAM_CACHE_MAX_BYTES. No longer caching. Consider increasing this limit or try clearing the cache (e.g. podpac.utils.clear_cache(mode='RAM') to clear ALL cached results in RAM)\n",
      "  UserWarning,\n"
     ]
    },
    {
     "name": "stdout",
     "output_type": "stream",
     "text": [
      " ... Done.\n",
      "Updating S3 Zarr file for L3 Data.\n",
      "Updating S3 Zarr file for L3 Data.\n",
      "Download L3 Data for: UniformCoordinates1d(time): Bounds[2019-10-26T00:00:00.000000000, 2019-10-27T00:00:00.000000000], N[2], ctype['midpoint'] ...AM "
     ]
    },
    {
     "name": "stderr",
     "output_type": "stream",
     "text": [
      "c:\\repositories\\pipeline\\podpac\\podpac\\core\\coordinates\\dependent_coordinates.py:496: UserWarning: transformation of coordinate segment lengths not yet implemented\n",
      "  warnings.warn(\"transformation of coordinate segment lengths not yet implemented\")\n",
      "c:\\repositories\\pipeline\\podpac\\podpac\\core\\coordinates\\dependent_coordinates.py:498: UserWarning: transformation of coordinate segment lengths not yet implemented\n",
      "  warnings.warn(\"transformation of coordinate segment lengths not yet implemented\")\n",
      "c:\\repositories\\pipeline\\podpac\\podpac\\datalib\\smap_egi.py:204: RuntimeWarning: Mean of empty slice\n",
      "  lon = np.nanmean(lons, axis=0)\n",
      "c:\\repositories\\pipeline\\podpac\\podpac\\core\\coordinates\\array_coordinates1d.py:83: RuntimeWarning: invalid value encountered in less_equal\n",
      "  if np.any(deltas <= 0):\n",
      "c:\\repositories\\pipeline\\podpac\\podpac\\core\\coordinates\\dependent_coordinates.py:496: UserWarning: transformation of coordinate segment lengths not yet implemented\n",
      "  warnings.warn(\"transformation of coordinate segment lengths not yet implemented\")\n",
      "c:\\repositories\\pipeline\\podpac\\podpac\\core\\coordinates\\dependent_coordinates.py:498: UserWarning: transformation of coordinate segment lengths not yet implemented\n",
      "  warnings.warn(\"transformation of coordinate segment lengths not yet implemented\")\n",
      "c:\\repositories\\pipeline\\podpac\\podpac\\core\\cache\\ram_cache_store.py:88: UserWarning: Warning: Process is using more RAM than the specified limit in settings.RAM_CACHE_MAX_BYTES. No longer caching. Consider increasing this limit or try clearing the cache (e.g. podpac.utils.clear_cache(mode='RAM') to clear ALL cached results in RAM)\n",
      "  UserWarning,\n"
     ]
    },
    {
     "name": "stdout",
     "output_type": "stream",
     "text": [
      "AM_QF "
     ]
    },
    {
     "name": "stderr",
     "output_type": "stream",
     "text": [
      "c:\\repositories\\pipeline\\podpac\\podpac\\datalib\\smap_egi.py:204: RuntimeWarning: Mean of empty slice\n",
      "  lon = np.nanmean(lons, axis=0)\n",
      "c:\\repositories\\pipeline\\podpac\\podpac\\core\\coordinates\\array_coordinates1d.py:83: RuntimeWarning: invalid value encountered in less_equal\n",
      "  if np.any(deltas <= 0):\n",
      "c:\\repositories\\pipeline\\podpac\\podpac\\core\\coordinates\\dependent_coordinates.py:496: UserWarning: transformation of coordinate segment lengths not yet implemented\n",
      "  warnings.warn(\"transformation of coordinate segment lengths not yet implemented\")\n",
      "c:\\repositories\\pipeline\\podpac\\podpac\\core\\coordinates\\dependent_coordinates.py:498: UserWarning: transformation of coordinate segment lengths not yet implemented\n",
      "  warnings.warn(\"transformation of coordinate segment lengths not yet implemented\")\n",
      "c:\\repositories\\pipeline\\podpac\\podpac\\core\\cache\\ram_cache_store.py:88: UserWarning: Warning: Process is using more RAM than the specified limit in settings.RAM_CACHE_MAX_BYTES. No longer caching. Consider increasing this limit or try clearing the cache (e.g. podpac.utils.clear_cache(mode='RAM') to clear ALL cached results in RAM)\n",
      "  UserWarning,\n",
      "c:\\repositories\\pipeline\\podpac\\podpac\\core\\coordinates\\dependent_coordinates.py:496: UserWarning: transformation of coordinate segment lengths not yet implemented\n",
      "  warnings.warn(\"transformation of coordinate segment lengths not yet implemented\")\n",
      "c:\\repositories\\pipeline\\podpac\\podpac\\core\\coordinates\\dependent_coordinates.py:498: UserWarning: transformation of coordinate segment lengths not yet implemented\n",
      "  warnings.warn(\"transformation of coordinate segment lengths not yet implemented\")\n"
     ]
    },
    {
     "name": "stdout",
     "output_type": "stream",
     "text": [
      "PM "
     ]
    },
    {
     "name": "stderr",
     "output_type": "stream",
     "text": [
      "c:\\repositories\\pipeline\\podpac\\podpac\\datalib\\smap_egi.py:204: RuntimeWarning: Mean of empty slice\n",
      "  lon = np.nanmean(lons, axis=0)\n",
      "c:\\repositories\\pipeline\\podpac\\podpac\\core\\coordinates\\array_coordinates1d.py:83: RuntimeWarning: invalid value encountered in less_equal\n",
      "  if np.any(deltas <= 0):\n",
      "c:\\repositories\\pipeline\\podpac\\podpac\\core\\coordinates\\dependent_coordinates.py:496: UserWarning: transformation of coordinate segment lengths not yet implemented\n",
      "  warnings.warn(\"transformation of coordinate segment lengths not yet implemented\")\n",
      "c:\\repositories\\pipeline\\podpac\\podpac\\core\\coordinates\\dependent_coordinates.py:498: UserWarning: transformation of coordinate segment lengths not yet implemented\n",
      "  warnings.warn(\"transformation of coordinate segment lengths not yet implemented\")\n",
      "c:\\repositories\\pipeline\\podpac\\podpac\\core\\cache\\ram_cache_store.py:88: UserWarning: Warning: Process is using more RAM than the specified limit in settings.RAM_CACHE_MAX_BYTES. No longer caching. Consider increasing this limit or try clearing the cache (e.g. podpac.utils.clear_cache(mode='RAM') to clear ALL cached results in RAM)\n",
      "  UserWarning,\n"
     ]
    },
    {
     "name": "stdout",
     "output_type": "stream",
     "text": [
      "PM_QF "
     ]
    },
    {
     "name": "stderr",
     "output_type": "stream",
     "text": [
      "c:\\repositories\\pipeline\\podpac\\podpac\\datalib\\smap_egi.py:204: RuntimeWarning: Mean of empty slice\n",
      "  lon = np.nanmean(lons, axis=0)\n",
      "c:\\repositories\\pipeline\\podpac\\podpac\\core\\coordinates\\array_coordinates1d.py:83: RuntimeWarning: invalid value encountered in less_equal\n",
      "  if np.any(deltas <= 0):\n",
      "c:\\repositories\\pipeline\\podpac\\podpac\\core\\coordinates\\dependent_coordinates.py:496: UserWarning: transformation of coordinate segment lengths not yet implemented\n",
      "  warnings.warn(\"transformation of coordinate segment lengths not yet implemented\")\n",
      "c:\\repositories\\pipeline\\podpac\\podpac\\core\\coordinates\\dependent_coordinates.py:498: UserWarning: transformation of coordinate segment lengths not yet implemented\n",
      "  warnings.warn(\"transformation of coordinate segment lengths not yet implemented\")\n",
      "c:\\repositories\\pipeline\\podpac\\podpac\\core\\cache\\ram_cache_store.py:88: UserWarning: Warning: Process is using more RAM than the specified limit in settings.RAM_CACHE_MAX_BYTES. No longer caching. Consider increasing this limit or try clearing the cache (e.g. podpac.utils.clear_cache(mode='RAM') to clear ALL cached results in RAM)\n",
      "  UserWarning,\n"
     ]
    },
    {
     "name": "stdout",
     "output_type": "stream",
     "text": [
      " ... Done.\n",
      "Updating S3 Zarr file for L3 Data.\n",
      "Updating S3 Zarr file for L3 Data.\n",
      "Download L3 Data for: UniformCoordinates1d(time): Bounds[2019-10-28T00:00:00.000000000, 2019-10-29T00:00:00.000000000], N[2], ctype['midpoint'] ...AM "
     ]
    },
    {
     "name": "stderr",
     "output_type": "stream",
     "text": [
      "c:\\repositories\\pipeline\\podpac\\podpac\\core\\coordinates\\dependent_coordinates.py:496: UserWarning: transformation of coordinate segment lengths not yet implemented\n",
      "  warnings.warn(\"transformation of coordinate segment lengths not yet implemented\")\n",
      "c:\\repositories\\pipeline\\podpac\\podpac\\core\\coordinates\\dependent_coordinates.py:498: UserWarning: transformation of coordinate segment lengths not yet implemented\n",
      "  warnings.warn(\"transformation of coordinate segment lengths not yet implemented\")\n",
      "c:\\repositories\\pipeline\\podpac\\podpac\\datalib\\smap_egi.py:204: RuntimeWarning: Mean of empty slice\n",
      "  lon = np.nanmean(lons, axis=0)\n",
      "c:\\repositories\\pipeline\\podpac\\podpac\\core\\coordinates\\array_coordinates1d.py:83: RuntimeWarning: invalid value encountered in less_equal\n",
      "  if np.any(deltas <= 0):\n",
      "c:\\repositories\\pipeline\\podpac\\podpac\\core\\coordinates\\dependent_coordinates.py:496: UserWarning: transformation of coordinate segment lengths not yet implemented\n",
      "  warnings.warn(\"transformation of coordinate segment lengths not yet implemented\")\n",
      "c:\\repositories\\pipeline\\podpac\\podpac\\core\\coordinates\\dependent_coordinates.py:498: UserWarning: transformation of coordinate segment lengths not yet implemented\n",
      "  warnings.warn(\"transformation of coordinate segment lengths not yet implemented\")\n",
      "c:\\repositories\\pipeline\\podpac\\podpac\\core\\cache\\ram_cache_store.py:88: UserWarning: Warning: Process is using more RAM than the specified limit in settings.RAM_CACHE_MAX_BYTES. No longer caching. Consider increasing this limit or try clearing the cache (e.g. podpac.utils.clear_cache(mode='RAM') to clear ALL cached results in RAM)\n",
      "  UserWarning,\n"
     ]
    },
    {
     "name": "stdout",
     "output_type": "stream",
     "text": [
      "AM_QF "
     ]
    },
    {
     "name": "stderr",
     "output_type": "stream",
     "text": [
      "c:\\repositories\\pipeline\\podpac\\podpac\\datalib\\smap_egi.py:204: RuntimeWarning: Mean of empty slice\n",
      "  lon = np.nanmean(lons, axis=0)\n",
      "c:\\repositories\\pipeline\\podpac\\podpac\\core\\coordinates\\array_coordinates1d.py:83: RuntimeWarning: invalid value encountered in less_equal\n",
      "  if np.any(deltas <= 0):\n",
      "c:\\repositories\\pipeline\\podpac\\podpac\\core\\coordinates\\dependent_coordinates.py:496: UserWarning: transformation of coordinate segment lengths not yet implemented\n",
      "  warnings.warn(\"transformation of coordinate segment lengths not yet implemented\")\n",
      "c:\\repositories\\pipeline\\podpac\\podpac\\core\\coordinates\\dependent_coordinates.py:498: UserWarning: transformation of coordinate segment lengths not yet implemented\n",
      "  warnings.warn(\"transformation of coordinate segment lengths not yet implemented\")\n",
      "c:\\repositories\\pipeline\\podpac\\podpac\\core\\cache\\ram_cache_store.py:88: UserWarning: Warning: Process is using more RAM than the specified limit in settings.RAM_CACHE_MAX_BYTES. No longer caching. Consider increasing this limit or try clearing the cache (e.g. podpac.utils.clear_cache(mode='RAM') to clear ALL cached results in RAM)\n",
      "  UserWarning,\n",
      "c:\\repositories\\pipeline\\podpac\\podpac\\core\\coordinates\\dependent_coordinates.py:496: UserWarning: transformation of coordinate segment lengths not yet implemented\n",
      "  warnings.warn(\"transformation of coordinate segment lengths not yet implemented\")\n"
     ]
    },
    {
     "name": "stdout",
     "output_type": "stream",
     "text": [
      "PM "
     ]
    },
    {
     "name": "stderr",
     "output_type": "stream",
     "text": [
      "c:\\repositories\\pipeline\\podpac\\podpac\\core\\coordinates\\dependent_coordinates.py:498: UserWarning: transformation of coordinate segment lengths not yet implemented\n",
      "  warnings.warn(\"transformation of coordinate segment lengths not yet implemented\")\n",
      "c:\\repositories\\pipeline\\podpac\\podpac\\datalib\\smap_egi.py:204: RuntimeWarning: Mean of empty slice\n",
      "  lon = np.nanmean(lons, axis=0)\n",
      "c:\\repositories\\pipeline\\podpac\\podpac\\core\\coordinates\\array_coordinates1d.py:83: RuntimeWarning: invalid value encountered in less_equal\n",
      "  if np.any(deltas <= 0):\n",
      "c:\\repositories\\pipeline\\podpac\\podpac\\core\\coordinates\\dependent_coordinates.py:496: UserWarning: transformation of coordinate segment lengths not yet implemented\n",
      "  warnings.warn(\"transformation of coordinate segment lengths not yet implemented\")\n",
      "c:\\repositories\\pipeline\\podpac\\podpac\\core\\coordinates\\dependent_coordinates.py:498: UserWarning: transformation of coordinate segment lengths not yet implemented\n",
      "  warnings.warn(\"transformation of coordinate segment lengths not yet implemented\")\n",
      "c:\\repositories\\pipeline\\podpac\\podpac\\core\\cache\\ram_cache_store.py:88: UserWarning: Warning: Process is using more RAM than the specified limit in settings.RAM_CACHE_MAX_BYTES. No longer caching. Consider increasing this limit or try clearing the cache (e.g. podpac.utils.clear_cache(mode='RAM') to clear ALL cached results in RAM)\n",
      "  UserWarning,\n"
     ]
    },
    {
     "name": "stdout",
     "output_type": "stream",
     "text": [
      "PM_QF "
     ]
    },
    {
     "name": "stderr",
     "output_type": "stream",
     "text": [
      "c:\\repositories\\pipeline\\podpac\\podpac\\datalib\\smap_egi.py:204: RuntimeWarning: Mean of empty slice\n",
      "  lon = np.nanmean(lons, axis=0)\n",
      "c:\\repositories\\pipeline\\podpac\\podpac\\core\\coordinates\\array_coordinates1d.py:83: RuntimeWarning: invalid value encountered in less_equal\n",
      "  if np.any(deltas <= 0):\n",
      "c:\\repositories\\pipeline\\podpac\\podpac\\core\\coordinates\\dependent_coordinates.py:496: UserWarning: transformation of coordinate segment lengths not yet implemented\n",
      "  warnings.warn(\"transformation of coordinate segment lengths not yet implemented\")\n",
      "c:\\repositories\\pipeline\\podpac\\podpac\\core\\coordinates\\dependent_coordinates.py:498: UserWarning: transformation of coordinate segment lengths not yet implemented\n",
      "  warnings.warn(\"transformation of coordinate segment lengths not yet implemented\")\n",
      "c:\\repositories\\pipeline\\podpac\\podpac\\core\\cache\\ram_cache_store.py:88: UserWarning: Warning: Process is using more RAM than the specified limit in settings.RAM_CACHE_MAX_BYTES. No longer caching. Consider increasing this limit or try clearing the cache (e.g. podpac.utils.clear_cache(mode='RAM') to clear ALL cached results in RAM)\n",
      "  UserWarning,\n"
     ]
    },
    {
     "name": "stdout",
     "output_type": "stream",
     "text": [
      " ... Done.\n",
      "Updating S3 Zarr file for L3 Data.\n",
      "Updating S3 Zarr file for L3 Data.\n",
      "Download L3 Data for: UniformCoordinates1d(time): Bounds[2019-10-30T00:00:00.000000000, 2019-10-31T00:00:00.000000000], N[2], ctype['midpoint'] ...AM "
     ]
    },
    {
     "name": "stderr",
     "output_type": "stream",
     "text": [
      "c:\\repositories\\pipeline\\podpac\\podpac\\core\\coordinates\\dependent_coordinates.py:496: UserWarning: transformation of coordinate segment lengths not yet implemented\n",
      "  warnings.warn(\"transformation of coordinate segment lengths not yet implemented\")\n",
      "c:\\repositories\\pipeline\\podpac\\podpac\\core\\coordinates\\dependent_coordinates.py:498: UserWarning: transformation of coordinate segment lengths not yet implemented\n",
      "  warnings.warn(\"transformation of coordinate segment lengths not yet implemented\")\n",
      "c:\\repositories\\pipeline\\podpac\\podpac\\datalib\\smap_egi.py:204: RuntimeWarning: Mean of empty slice\n",
      "  lon = np.nanmean(lons, axis=0)\n",
      "c:\\repositories\\pipeline\\podpac\\podpac\\core\\coordinates\\array_coordinates1d.py:83: RuntimeWarning: invalid value encountered in less_equal\n",
      "  if np.any(deltas <= 0):\n",
      "c:\\repositories\\pipeline\\podpac\\podpac\\core\\coordinates\\dependent_coordinates.py:496: UserWarning: transformation of coordinate segment lengths not yet implemented\n",
      "  warnings.warn(\"transformation of coordinate segment lengths not yet implemented\")\n",
      "c:\\repositories\\pipeline\\podpac\\podpac\\core\\coordinates\\dependent_coordinates.py:498: UserWarning: transformation of coordinate segment lengths not yet implemented\n",
      "  warnings.warn(\"transformation of coordinate segment lengths not yet implemented\")\n",
      "c:\\repositories\\pipeline\\podpac\\podpac\\core\\cache\\ram_cache_store.py:88: UserWarning: Warning: Process is using more RAM than the specified limit in settings.RAM_CACHE_MAX_BYTES. No longer caching. Consider increasing this limit or try clearing the cache (e.g. podpac.utils.clear_cache(mode='RAM') to clear ALL cached results in RAM)\n",
      "  UserWarning,\n"
     ]
    },
    {
     "name": "stdout",
     "output_type": "stream",
     "text": [
      "AM_QF "
     ]
    },
    {
     "name": "stderr",
     "output_type": "stream",
     "text": [
      "c:\\repositories\\pipeline\\podpac\\podpac\\datalib\\smap_egi.py:204: RuntimeWarning: Mean of empty slice\n",
      "  lon = np.nanmean(lons, axis=0)\n",
      "c:\\repositories\\pipeline\\podpac\\podpac\\core\\coordinates\\array_coordinates1d.py:83: RuntimeWarning: invalid value encountered in less_equal\n",
      "  if np.any(deltas <= 0):\n",
      "c:\\repositories\\pipeline\\podpac\\podpac\\core\\coordinates\\dependent_coordinates.py:496: UserWarning: transformation of coordinate segment lengths not yet implemented\n",
      "  warnings.warn(\"transformation of coordinate segment lengths not yet implemented\")\n",
      "c:\\repositories\\pipeline\\podpac\\podpac\\core\\coordinates\\dependent_coordinates.py:498: UserWarning: transformation of coordinate segment lengths not yet implemented\n",
      "  warnings.warn(\"transformation of coordinate segment lengths not yet implemented\")\n",
      "c:\\repositories\\pipeline\\podpac\\podpac\\core\\cache\\ram_cache_store.py:88: UserWarning: Warning: Process is using more RAM than the specified limit in settings.RAM_CACHE_MAX_BYTES. No longer caching. Consider increasing this limit or try clearing the cache (e.g. podpac.utils.clear_cache(mode='RAM') to clear ALL cached results in RAM)\n",
      "  UserWarning,\n",
      "c:\\repositories\\pipeline\\podpac\\podpac\\core\\coordinates\\dependent_coordinates.py:496: UserWarning: transformation of coordinate segment lengths not yet implemented\n",
      "  warnings.warn(\"transformation of coordinate segment lengths not yet implemented\")\n",
      "c:\\repositories\\pipeline\\podpac\\podpac\\core\\coordinates\\dependent_coordinates.py:498: UserWarning: transformation of coordinate segment lengths not yet implemented\n",
      "  warnings.warn(\"transformation of coordinate segment lengths not yet implemented\")\n"
     ]
    },
    {
     "name": "stdout",
     "output_type": "stream",
     "text": [
      "PM "
     ]
    },
    {
     "name": "stderr",
     "output_type": "stream",
     "text": [
      "c:\\repositories\\pipeline\\podpac\\podpac\\datalib\\smap_egi.py:204: RuntimeWarning: Mean of empty slice\n",
      "  lon = np.nanmean(lons, axis=0)\n",
      "c:\\repositories\\pipeline\\podpac\\podpac\\core\\coordinates\\array_coordinates1d.py:83: RuntimeWarning: invalid value encountered in less_equal\n",
      "  if np.any(deltas <= 0):\n",
      "c:\\repositories\\pipeline\\podpac\\podpac\\core\\coordinates\\dependent_coordinates.py:496: UserWarning: transformation of coordinate segment lengths not yet implemented\n",
      "  warnings.warn(\"transformation of coordinate segment lengths not yet implemented\")\n",
      "c:\\repositories\\pipeline\\podpac\\podpac\\core\\coordinates\\dependent_coordinates.py:498: UserWarning: transformation of coordinate segment lengths not yet implemented\n",
      "  warnings.warn(\"transformation of coordinate segment lengths not yet implemented\")\n",
      "c:\\repositories\\pipeline\\podpac\\podpac\\core\\cache\\ram_cache_store.py:88: UserWarning: Warning: Process is using more RAM than the specified limit in settings.RAM_CACHE_MAX_BYTES. No longer caching. Consider increasing this limit or try clearing the cache (e.g. podpac.utils.clear_cache(mode='RAM') to clear ALL cached results in RAM)\n",
      "  UserWarning,\n"
     ]
    },
    {
     "name": "stdout",
     "output_type": "stream",
     "text": [
      "PM_QF "
     ]
    },
    {
     "name": "stderr",
     "output_type": "stream",
     "text": [
      "c:\\repositories\\pipeline\\podpac\\podpac\\datalib\\smap_egi.py:204: RuntimeWarning: Mean of empty slice\n",
      "  lon = np.nanmean(lons, axis=0)\n",
      "c:\\repositories\\pipeline\\podpac\\podpac\\core\\coordinates\\array_coordinates1d.py:83: RuntimeWarning: invalid value encountered in less_equal\n",
      "  if np.any(deltas <= 0):\n",
      "c:\\repositories\\pipeline\\podpac\\podpac\\core\\coordinates\\dependent_coordinates.py:496: UserWarning: transformation of coordinate segment lengths not yet implemented\n",
      "  warnings.warn(\"transformation of coordinate segment lengths not yet implemented\")\n",
      "c:\\repositories\\pipeline\\podpac\\podpac\\core\\coordinates\\dependent_coordinates.py:498: UserWarning: transformation of coordinate segment lengths not yet implemented\n",
      "  warnings.warn(\"transformation of coordinate segment lengths not yet implemented\")\n",
      "c:\\repositories\\pipeline\\podpac\\podpac\\core\\cache\\ram_cache_store.py:88: UserWarning: Warning: Process is using more RAM than the specified limit in settings.RAM_CACHE_MAX_BYTES. No longer caching. Consider increasing this limit or try clearing the cache (e.g. podpac.utils.clear_cache(mode='RAM') to clear ALL cached results in RAM)\n",
      "  UserWarning,\n"
     ]
    },
    {
     "name": "stdout",
     "output_type": "stream",
     "text": [
      " ... Done.\n",
      "Updating S3 Zarr file for L3 Data.\n",
      "Updating S3 Zarr file for L3 Data.\n",
      "Download L3 Data for: UniformCoordinates1d(time): Bounds[2019-11-01T00:00:00.000000000, 2019-11-02T00:00:00.000000000], N[2], ctype['midpoint'] ...AM "
     ]
    },
    {
     "name": "stderr",
     "output_type": "stream",
     "text": [
      "c:\\repositories\\pipeline\\podpac\\podpac\\core\\coordinates\\dependent_coordinates.py:496: UserWarning: transformation of coordinate segment lengths not yet implemented\n",
      "  warnings.warn(\"transformation of coordinate segment lengths not yet implemented\")\n",
      "c:\\repositories\\pipeline\\podpac\\podpac\\core\\coordinates\\dependent_coordinates.py:498: UserWarning: transformation of coordinate segment lengths not yet implemented\n",
      "  warnings.warn(\"transformation of coordinate segment lengths not yet implemented\")\n",
      "c:\\repositories\\pipeline\\podpac\\podpac\\datalib\\smap_egi.py:204: RuntimeWarning: Mean of empty slice\n",
      "  lon = np.nanmean(lons, axis=0)\n",
      "c:\\repositories\\pipeline\\podpac\\podpac\\core\\coordinates\\array_coordinates1d.py:83: RuntimeWarning: invalid value encountered in less_equal\n",
      "  if np.any(deltas <= 0):\n",
      "c:\\repositories\\pipeline\\podpac\\podpac\\core\\coordinates\\dependent_coordinates.py:496: UserWarning: transformation of coordinate segment lengths not yet implemented\n",
      "  warnings.warn(\"transformation of coordinate segment lengths not yet implemented\")\n",
      "c:\\repositories\\pipeline\\podpac\\podpac\\core\\coordinates\\dependent_coordinates.py:498: UserWarning: transformation of coordinate segment lengths not yet implemented\n",
      "  warnings.warn(\"transformation of coordinate segment lengths not yet implemented\")\n",
      "c:\\repositories\\pipeline\\podpac\\podpac\\core\\cache\\ram_cache_store.py:88: UserWarning: Warning: Process is using more RAM than the specified limit in settings.RAM_CACHE_MAX_BYTES. No longer caching. Consider increasing this limit or try clearing the cache (e.g. podpac.utils.clear_cache(mode='RAM') to clear ALL cached results in RAM)\n",
      "  UserWarning,\n"
     ]
    },
    {
     "name": "stdout",
     "output_type": "stream",
     "text": [
      "AM_QF "
     ]
    },
    {
     "name": "stderr",
     "output_type": "stream",
     "text": [
      "c:\\repositories\\pipeline\\podpac\\podpac\\datalib\\smap_egi.py:204: RuntimeWarning: Mean of empty slice\n",
      "  lon = np.nanmean(lons, axis=0)\n",
      "c:\\repositories\\pipeline\\podpac\\podpac\\core\\coordinates\\array_coordinates1d.py:83: RuntimeWarning: invalid value encountered in less_equal\n",
      "  if np.any(deltas <= 0):\n",
      "c:\\repositories\\pipeline\\podpac\\podpac\\core\\coordinates\\dependent_coordinates.py:496: UserWarning: transformation of coordinate segment lengths not yet implemented\n",
      "  warnings.warn(\"transformation of coordinate segment lengths not yet implemented\")\n",
      "c:\\repositories\\pipeline\\podpac\\podpac\\core\\coordinates\\dependent_coordinates.py:498: UserWarning: transformation of coordinate segment lengths not yet implemented\n",
      "  warnings.warn(\"transformation of coordinate segment lengths not yet implemented\")\n",
      "c:\\repositories\\pipeline\\podpac\\podpac\\core\\cache\\ram_cache_store.py:88: UserWarning: Warning: Process is using more RAM than the specified limit in settings.RAM_CACHE_MAX_BYTES. No longer caching. Consider increasing this limit or try clearing the cache (e.g. podpac.utils.clear_cache(mode='RAM') to clear ALL cached results in RAM)\n",
      "  UserWarning,\n",
      "c:\\repositories\\pipeline\\podpac\\podpac\\core\\coordinates\\dependent_coordinates.py:496: UserWarning: transformation of coordinate segment lengths not yet implemented\n",
      "  warnings.warn(\"transformation of coordinate segment lengths not yet implemented\")\n",
      "c:\\repositories\\pipeline\\podpac\\podpac\\core\\coordinates\\dependent_coordinates.py:498: UserWarning: transformation of coordinate segment lengths not yet implemented\n",
      "  warnings.warn(\"transformation of coordinate segment lengths not yet implemented\")\n"
     ]
    },
    {
     "name": "stdout",
     "output_type": "stream",
     "text": [
      "PM "
     ]
    },
    {
     "name": "stderr",
     "output_type": "stream",
     "text": [
      "c:\\repositories\\pipeline\\podpac\\podpac\\datalib\\smap_egi.py:204: RuntimeWarning: Mean of empty slice\n",
      "  lon = np.nanmean(lons, axis=0)\n",
      "c:\\repositories\\pipeline\\podpac\\podpac\\core\\coordinates\\array_coordinates1d.py:83: RuntimeWarning: invalid value encountered in less_equal\n",
      "  if np.any(deltas <= 0):\n",
      "c:\\repositories\\pipeline\\podpac\\podpac\\core\\coordinates\\dependent_coordinates.py:496: UserWarning: transformation of coordinate segment lengths not yet implemented\n",
      "  warnings.warn(\"transformation of coordinate segment lengths not yet implemented\")\n",
      "c:\\repositories\\pipeline\\podpac\\podpac\\core\\coordinates\\dependent_coordinates.py:498: UserWarning: transformation of coordinate segment lengths not yet implemented\n",
      "  warnings.warn(\"transformation of coordinate segment lengths not yet implemented\")\n",
      "c:\\repositories\\pipeline\\podpac\\podpac\\core\\cache\\ram_cache_store.py:88: UserWarning: Warning: Process is using more RAM than the specified limit in settings.RAM_CACHE_MAX_BYTES. No longer caching. Consider increasing this limit or try clearing the cache (e.g. podpac.utils.clear_cache(mode='RAM') to clear ALL cached results in RAM)\n",
      "  UserWarning,\n"
     ]
    },
    {
     "name": "stdout",
     "output_type": "stream",
     "text": [
      "PM_QF "
     ]
    },
    {
     "name": "stderr",
     "output_type": "stream",
     "text": [
      "c:\\repositories\\pipeline\\podpac\\podpac\\datalib\\smap_egi.py:204: RuntimeWarning: Mean of empty slice\n",
      "  lon = np.nanmean(lons, axis=0)\n",
      "c:\\repositories\\pipeline\\podpac\\podpac\\core\\coordinates\\array_coordinates1d.py:83: RuntimeWarning: invalid value encountered in less_equal\n",
      "  if np.any(deltas <= 0):\n",
      "c:\\repositories\\pipeline\\podpac\\podpac\\core\\coordinates\\dependent_coordinates.py:496: UserWarning: transformation of coordinate segment lengths not yet implemented\n",
      "  warnings.warn(\"transformation of coordinate segment lengths not yet implemented\")\n",
      "c:\\repositories\\pipeline\\podpac\\podpac\\core\\coordinates\\dependent_coordinates.py:498: UserWarning: transformation of coordinate segment lengths not yet implemented\n",
      "  warnings.warn(\"transformation of coordinate segment lengths not yet implemented\")\n",
      "c:\\repositories\\pipeline\\podpac\\podpac\\core\\cache\\ram_cache_store.py:88: UserWarning: Warning: Process is using more RAM than the specified limit in settings.RAM_CACHE_MAX_BYTES. No longer caching. Consider increasing this limit or try clearing the cache (e.g. podpac.utils.clear_cache(mode='RAM') to clear ALL cached results in RAM)\n",
      "  UserWarning,\n"
     ]
    },
    {
     "name": "stdout",
     "output_type": "stream",
     "text": [
      " ... Done.\n",
      "Updating S3 Zarr file for L3 Data.\n",
      "Updating S3 Zarr file for L3 Data.\n",
      "Download L3 Data for: UniformCoordinates1d(time): Bounds[2019-11-03T00:00:00.000000000, 2019-11-04T00:00:00.000000000], N[2], ctype['midpoint'] ...AM "
     ]
    },
    {
     "name": "stderr",
     "output_type": "stream",
     "text": [
      "c:\\repositories\\pipeline\\podpac\\podpac\\core\\coordinates\\dependent_coordinates.py:496: UserWarning: transformation of coordinate segment lengths not yet implemented\n",
      "  warnings.warn(\"transformation of coordinate segment lengths not yet implemented\")\n",
      "c:\\repositories\\pipeline\\podpac\\podpac\\core\\coordinates\\dependent_coordinates.py:498: UserWarning: transformation of coordinate segment lengths not yet implemented\n",
      "  warnings.warn(\"transformation of coordinate segment lengths not yet implemented\")\n",
      "c:\\repositories\\pipeline\\podpac\\podpac\\datalib\\smap_egi.py:204: RuntimeWarning: Mean of empty slice\n",
      "  lon = np.nanmean(lons, axis=0)\n",
      "c:\\repositories\\pipeline\\podpac\\podpac\\core\\coordinates\\array_coordinates1d.py:83: RuntimeWarning: invalid value encountered in less_equal\n",
      "  if np.any(deltas <= 0):\n",
      "c:\\repositories\\pipeline\\podpac\\podpac\\core\\coordinates\\dependent_coordinates.py:496: UserWarning: transformation of coordinate segment lengths not yet implemented\n",
      "  warnings.warn(\"transformation of coordinate segment lengths not yet implemented\")\n",
      "c:\\repositories\\pipeline\\podpac\\podpac\\core\\coordinates\\dependent_coordinates.py:498: UserWarning: transformation of coordinate segment lengths not yet implemented\n",
      "  warnings.warn(\"transformation of coordinate segment lengths not yet implemented\")\n",
      "c:\\repositories\\pipeline\\podpac\\podpac\\core\\cache\\ram_cache_store.py:88: UserWarning: Warning: Process is using more RAM than the specified limit in settings.RAM_CACHE_MAX_BYTES. No longer caching. Consider increasing this limit or try clearing the cache (e.g. podpac.utils.clear_cache(mode='RAM') to clear ALL cached results in RAM)\n",
      "  UserWarning,\n"
     ]
    },
    {
     "name": "stdout",
     "output_type": "stream",
     "text": [
      "AM_QF "
     ]
    },
    {
     "name": "stderr",
     "output_type": "stream",
     "text": [
      "c:\\repositories\\pipeline\\podpac\\podpac\\datalib\\smap_egi.py:204: RuntimeWarning: Mean of empty slice\n",
      "  lon = np.nanmean(lons, axis=0)\n",
      "c:\\repositories\\pipeline\\podpac\\podpac\\core\\coordinates\\array_coordinates1d.py:83: RuntimeWarning: invalid value encountered in less_equal\n",
      "  if np.any(deltas <= 0):\n",
      "c:\\repositories\\pipeline\\podpac\\podpac\\core\\coordinates\\dependent_coordinates.py:496: UserWarning: transformation of coordinate segment lengths not yet implemented\n",
      "  warnings.warn(\"transformation of coordinate segment lengths not yet implemented\")\n",
      "c:\\repositories\\pipeline\\podpac\\podpac\\core\\coordinates\\dependent_coordinates.py:498: UserWarning: transformation of coordinate segment lengths not yet implemented\n",
      "  warnings.warn(\"transformation of coordinate segment lengths not yet implemented\")\n",
      "c:\\repositories\\pipeline\\podpac\\podpac\\core\\cache\\ram_cache_store.py:88: UserWarning: Warning: Process is using more RAM than the specified limit in settings.RAM_CACHE_MAX_BYTES. No longer caching. Consider increasing this limit or try clearing the cache (e.g. podpac.utils.clear_cache(mode='RAM') to clear ALL cached results in RAM)\n",
      "  UserWarning,\n",
      "c:\\repositories\\pipeline\\podpac\\podpac\\core\\coordinates\\dependent_coordinates.py:496: UserWarning: transformation of coordinate segment lengths not yet implemented\n",
      "  warnings.warn(\"transformation of coordinate segment lengths not yet implemented\")\n",
      "c:\\repositories\\pipeline\\podpac\\podpac\\core\\coordinates\\dependent_coordinates.py:498: UserWarning: transformation of coordinate segment lengths not yet implemented\n",
      "  warnings.warn(\"transformation of coordinate segment lengths not yet implemented\")\n"
     ]
    },
    {
     "name": "stdout",
     "output_type": "stream",
     "text": [
      "PM "
     ]
    },
    {
     "name": "stderr",
     "output_type": "stream",
     "text": [
      "c:\\repositories\\pipeline\\podpac\\podpac\\datalib\\smap_egi.py:204: RuntimeWarning: Mean of empty slice\n",
      "  lon = np.nanmean(lons, axis=0)\n",
      "c:\\repositories\\pipeline\\podpac\\podpac\\core\\coordinates\\array_coordinates1d.py:83: RuntimeWarning: invalid value encountered in less_equal\n",
      "  if np.any(deltas <= 0):\n",
      "c:\\repositories\\pipeline\\podpac\\podpac\\core\\coordinates\\dependent_coordinates.py:496: UserWarning: transformation of coordinate segment lengths not yet implemented\n",
      "  warnings.warn(\"transformation of coordinate segment lengths not yet implemented\")\n",
      "c:\\repositories\\pipeline\\podpac\\podpac\\core\\coordinates\\dependent_coordinates.py:498: UserWarning: transformation of coordinate segment lengths not yet implemented\n",
      "  warnings.warn(\"transformation of coordinate segment lengths not yet implemented\")\n",
      "c:\\repositories\\pipeline\\podpac\\podpac\\core\\cache\\ram_cache_store.py:88: UserWarning: Warning: Process is using more RAM than the specified limit in settings.RAM_CACHE_MAX_BYTES. No longer caching. Consider increasing this limit or try clearing the cache (e.g. podpac.utils.clear_cache(mode='RAM') to clear ALL cached results in RAM)\n",
      "  UserWarning,\n"
     ]
    },
    {
     "name": "stdout",
     "output_type": "stream",
     "text": [
      "PM_QF "
     ]
    },
    {
     "name": "stderr",
     "output_type": "stream",
     "text": [
      "c:\\repositories\\pipeline\\podpac\\podpac\\datalib\\smap_egi.py:204: RuntimeWarning: Mean of empty slice\n",
      "  lon = np.nanmean(lons, axis=0)\n",
      "c:\\repositories\\pipeline\\podpac\\podpac\\core\\coordinates\\array_coordinates1d.py:83: RuntimeWarning: invalid value encountered in less_equal\n",
      "  if np.any(deltas <= 0):\n",
      "c:\\repositories\\pipeline\\podpac\\podpac\\core\\coordinates\\dependent_coordinates.py:496: UserWarning: transformation of coordinate segment lengths not yet implemented\n",
      "  warnings.warn(\"transformation of coordinate segment lengths not yet implemented\")\n",
      "c:\\repositories\\pipeline\\podpac\\podpac\\core\\coordinates\\dependent_coordinates.py:498: UserWarning: transformation of coordinate segment lengths not yet implemented\n",
      "  warnings.warn(\"transformation of coordinate segment lengths not yet implemented\")\n",
      "c:\\repositories\\pipeline\\podpac\\podpac\\core\\cache\\ram_cache_store.py:88: UserWarning: Warning: Process is using more RAM than the specified limit in settings.RAM_CACHE_MAX_BYTES. No longer caching. Consider increasing this limit or try clearing the cache (e.g. podpac.utils.clear_cache(mode='RAM') to clear ALL cached results in RAM)\n",
      "  UserWarning,\n"
     ]
    },
    {
     "name": "stdout",
     "output_type": "stream",
     "text": [
      " ... Done.\n",
      "Updating S3 Zarr file for L3 Data.\n",
      "Updating S3 Zarr file for L3 Data.\n",
      "Download L3 Data for: UniformCoordinates1d(time): Bounds[2019-11-05T00:00:00.000000000, 2019-11-06T00:00:00.000000000], N[2], ctype['midpoint'] ...AM "
     ]
    },
    {
     "name": "stderr",
     "output_type": "stream",
     "text": [
      "c:\\repositories\\pipeline\\podpac\\podpac\\core\\coordinates\\dependent_coordinates.py:496: UserWarning: transformation of coordinate segment lengths not yet implemented\n",
      "  warnings.warn(\"transformation of coordinate segment lengths not yet implemented\")\n",
      "c:\\repositories\\pipeline\\podpac\\podpac\\core\\coordinates\\dependent_coordinates.py:498: UserWarning: transformation of coordinate segment lengths not yet implemented\n",
      "  warnings.warn(\"transformation of coordinate segment lengths not yet implemented\")\n",
      "c:\\repositories\\pipeline\\podpac\\podpac\\datalib\\smap_egi.py:204: RuntimeWarning: Mean of empty slice\n",
      "  lon = np.nanmean(lons, axis=0)\n",
      "c:\\repositories\\pipeline\\podpac\\podpac\\core\\coordinates\\array_coordinates1d.py:83: RuntimeWarning: invalid value encountered in less_equal\n",
      "  if np.any(deltas <= 0):\n",
      "c:\\repositories\\pipeline\\podpac\\podpac\\core\\coordinates\\dependent_coordinates.py:496: UserWarning: transformation of coordinate segment lengths not yet implemented\n",
      "  warnings.warn(\"transformation of coordinate segment lengths not yet implemented\")\n",
      "c:\\repositories\\pipeline\\podpac\\podpac\\core\\coordinates\\dependent_coordinates.py:498: UserWarning: transformation of coordinate segment lengths not yet implemented\n",
      "  warnings.warn(\"transformation of coordinate segment lengths not yet implemented\")\n",
      "c:\\repositories\\pipeline\\podpac\\podpac\\core\\cache\\ram_cache_store.py:88: UserWarning: Warning: Process is using more RAM than the specified limit in settings.RAM_CACHE_MAX_BYTES. No longer caching. Consider increasing this limit or try clearing the cache (e.g. podpac.utils.clear_cache(mode='RAM') to clear ALL cached results in RAM)\n",
      "  UserWarning,\n"
     ]
    },
    {
     "name": "stdout",
     "output_type": "stream",
     "text": [
      "AM_QF "
     ]
    },
    {
     "name": "stderr",
     "output_type": "stream",
     "text": [
      "c:\\repositories\\pipeline\\podpac\\podpac\\datalib\\smap_egi.py:204: RuntimeWarning: Mean of empty slice\n",
      "  lon = np.nanmean(lons, axis=0)\n",
      "c:\\repositories\\pipeline\\podpac\\podpac\\core\\coordinates\\array_coordinates1d.py:83: RuntimeWarning: invalid value encountered in less_equal\n",
      "  if np.any(deltas <= 0):\n",
      "c:\\repositories\\pipeline\\podpac\\podpac\\core\\coordinates\\dependent_coordinates.py:496: UserWarning: transformation of coordinate segment lengths not yet implemented\n",
      "  warnings.warn(\"transformation of coordinate segment lengths not yet implemented\")\n",
      "c:\\repositories\\pipeline\\podpac\\podpac\\core\\coordinates\\dependent_coordinates.py:498: UserWarning: transformation of coordinate segment lengths not yet implemented\n",
      "  warnings.warn(\"transformation of coordinate segment lengths not yet implemented\")\n",
      "c:\\repositories\\pipeline\\podpac\\podpac\\core\\cache\\ram_cache_store.py:88: UserWarning: Warning: Process is using more RAM than the specified limit in settings.RAM_CACHE_MAX_BYTES. No longer caching. Consider increasing this limit or try clearing the cache (e.g. podpac.utils.clear_cache(mode='RAM') to clear ALL cached results in RAM)\n",
      "  UserWarning,\n",
      "c:\\repositories\\pipeline\\podpac\\podpac\\core\\coordinates\\dependent_coordinates.py:496: UserWarning: transformation of coordinate segment lengths not yet implemented\n",
      "  warnings.warn(\"transformation of coordinate segment lengths not yet implemented\")\n",
      "c:\\repositories\\pipeline\\podpac\\podpac\\core\\coordinates\\dependent_coordinates.py:498: UserWarning: transformation of coordinate segment lengths not yet implemented\n",
      "  warnings.warn(\"transformation of coordinate segment lengths not yet implemented\")\n"
     ]
    },
    {
     "name": "stdout",
     "output_type": "stream",
     "text": [
      "PM "
     ]
    },
    {
     "name": "stderr",
     "output_type": "stream",
     "text": [
      "c:\\repositories\\pipeline\\podpac\\podpac\\datalib\\smap_egi.py:204: RuntimeWarning: Mean of empty slice\n",
      "  lon = np.nanmean(lons, axis=0)\n",
      "c:\\repositories\\pipeline\\podpac\\podpac\\core\\coordinates\\array_coordinates1d.py:83: RuntimeWarning: invalid value encountered in less_equal\n",
      "  if np.any(deltas <= 0):\n",
      "c:\\repositories\\pipeline\\podpac\\podpac\\core\\coordinates\\dependent_coordinates.py:496: UserWarning: transformation of coordinate segment lengths not yet implemented\n",
      "  warnings.warn(\"transformation of coordinate segment lengths not yet implemented\")\n",
      "c:\\repositories\\pipeline\\podpac\\podpac\\core\\coordinates\\dependent_coordinates.py:498: UserWarning: transformation of coordinate segment lengths not yet implemented\n",
      "  warnings.warn(\"transformation of coordinate segment lengths not yet implemented\")\n",
      "c:\\repositories\\pipeline\\podpac\\podpac\\core\\cache\\ram_cache_store.py:88: UserWarning: Warning: Process is using more RAM than the specified limit in settings.RAM_CACHE_MAX_BYTES. No longer caching. Consider increasing this limit or try clearing the cache (e.g. podpac.utils.clear_cache(mode='RAM') to clear ALL cached results in RAM)\n",
      "  UserWarning,\n"
     ]
    },
    {
     "name": "stdout",
     "output_type": "stream",
     "text": [
      "PM_QF "
     ]
    },
    {
     "name": "stderr",
     "output_type": "stream",
     "text": [
      "c:\\repositories\\pipeline\\podpac\\podpac\\datalib\\smap_egi.py:204: RuntimeWarning: Mean of empty slice\n",
      "  lon = np.nanmean(lons, axis=0)\n",
      "c:\\repositories\\pipeline\\podpac\\podpac\\core\\coordinates\\array_coordinates1d.py:83: RuntimeWarning: invalid value encountered in less_equal\n",
      "  if np.any(deltas <= 0):\n",
      "c:\\repositories\\pipeline\\podpac\\podpac\\core\\coordinates\\dependent_coordinates.py:496: UserWarning: transformation of coordinate segment lengths not yet implemented\n",
      "  warnings.warn(\"transformation of coordinate segment lengths not yet implemented\")\n",
      "c:\\repositories\\pipeline\\podpac\\podpac\\core\\coordinates\\dependent_coordinates.py:498: UserWarning: transformation of coordinate segment lengths not yet implemented\n",
      "  warnings.warn(\"transformation of coordinate segment lengths not yet implemented\")\n",
      "c:\\repositories\\pipeline\\podpac\\podpac\\core\\cache\\ram_cache_store.py:88: UserWarning: Warning: Process is using more RAM than the specified limit in settings.RAM_CACHE_MAX_BYTES. No longer caching. Consider increasing this limit or try clearing the cache (e.g. podpac.utils.clear_cache(mode='RAM') to clear ALL cached results in RAM)\n",
      "  UserWarning,\n"
     ]
    },
    {
     "name": "stdout",
     "output_type": "stream",
     "text": [
      " ... Done.\n",
      "Updating S3 Zarr file for L3 Data.\n",
      "Updating S3 Zarr file for L3 Data.\n",
      "Download L3 Data for: UniformCoordinates1d(time): Bounds[2019-11-07T00:00:00.000000000, 2019-11-08T00:00:00.000000000], N[2], ctype['midpoint'] ...AM "
     ]
    },
    {
     "name": "stderr",
     "output_type": "stream",
     "text": [
      "c:\\repositories\\pipeline\\podpac\\podpac\\core\\coordinates\\dependent_coordinates.py:496: UserWarning: transformation of coordinate segment lengths not yet implemented\n",
      "  warnings.warn(\"transformation of coordinate segment lengths not yet implemented\")\n",
      "c:\\repositories\\pipeline\\podpac\\podpac\\core\\coordinates\\dependent_coordinates.py:498: UserWarning: transformation of coordinate segment lengths not yet implemented\n",
      "  warnings.warn(\"transformation of coordinate segment lengths not yet implemented\")\n",
      "c:\\repositories\\pipeline\\podpac\\podpac\\datalib\\smap_egi.py:204: RuntimeWarning: Mean of empty slice\n",
      "  lon = np.nanmean(lons, axis=0)\n",
      "c:\\repositories\\pipeline\\podpac\\podpac\\core\\coordinates\\array_coordinates1d.py:83: RuntimeWarning: invalid value encountered in less_equal\n",
      "  if np.any(deltas <= 0):\n",
      "c:\\repositories\\pipeline\\podpac\\podpac\\core\\coordinates\\dependent_coordinates.py:496: UserWarning: transformation of coordinate segment lengths not yet implemented\n",
      "  warnings.warn(\"transformation of coordinate segment lengths not yet implemented\")\n",
      "c:\\repositories\\pipeline\\podpac\\podpac\\core\\coordinates\\dependent_coordinates.py:498: UserWarning: transformation of coordinate segment lengths not yet implemented\n",
      "  warnings.warn(\"transformation of coordinate segment lengths not yet implemented\")\n",
      "c:\\repositories\\pipeline\\podpac\\podpac\\core\\cache\\ram_cache_store.py:88: UserWarning: Warning: Process is using more RAM than the specified limit in settings.RAM_CACHE_MAX_BYTES. No longer caching. Consider increasing this limit or try clearing the cache (e.g. podpac.utils.clear_cache(mode='RAM') to clear ALL cached results in RAM)\n",
      "  UserWarning,\n"
     ]
    },
    {
     "name": "stdout",
     "output_type": "stream",
     "text": [
      "AM_QF "
     ]
    },
    {
     "name": "stderr",
     "output_type": "stream",
     "text": [
      "c:\\repositories\\pipeline\\podpac\\podpac\\datalib\\smap_egi.py:204: RuntimeWarning: Mean of empty slice\n",
      "  lon = np.nanmean(lons, axis=0)\n",
      "c:\\repositories\\pipeline\\podpac\\podpac\\core\\coordinates\\array_coordinates1d.py:83: RuntimeWarning: invalid value encountered in less_equal\n",
      "  if np.any(deltas <= 0):\n",
      "c:\\repositories\\pipeline\\podpac\\podpac\\core\\coordinates\\dependent_coordinates.py:496: UserWarning: transformation of coordinate segment lengths not yet implemented\n",
      "  warnings.warn(\"transformation of coordinate segment lengths not yet implemented\")\n",
      "c:\\repositories\\pipeline\\podpac\\podpac\\core\\coordinates\\dependent_coordinates.py:498: UserWarning: transformation of coordinate segment lengths not yet implemented\n",
      "  warnings.warn(\"transformation of coordinate segment lengths not yet implemented\")\n",
      "c:\\repositories\\pipeline\\podpac\\podpac\\core\\cache\\ram_cache_store.py:88: UserWarning: Warning: Process is using more RAM than the specified limit in settings.RAM_CACHE_MAX_BYTES. No longer caching. Consider increasing this limit or try clearing the cache (e.g. podpac.utils.clear_cache(mode='RAM') to clear ALL cached results in RAM)\n",
      "  UserWarning,\n",
      "c:\\repositories\\pipeline\\podpac\\podpac\\core\\coordinates\\dependent_coordinates.py:496: UserWarning: transformation of coordinate segment lengths not yet implemented\n",
      "  warnings.warn(\"transformation of coordinate segment lengths not yet implemented\")\n"
     ]
    },
    {
     "name": "stdout",
     "output_type": "stream",
     "text": [
      "PM "
     ]
    },
    {
     "name": "stderr",
     "output_type": "stream",
     "text": [
      "c:\\repositories\\pipeline\\podpac\\podpac\\core\\coordinates\\dependent_coordinates.py:498: UserWarning: transformation of coordinate segment lengths not yet implemented\n",
      "  warnings.warn(\"transformation of coordinate segment lengths not yet implemented\")\n",
      "c:\\repositories\\pipeline\\podpac\\podpac\\datalib\\smap_egi.py:204: RuntimeWarning: Mean of empty slice\n",
      "  lon = np.nanmean(lons, axis=0)\n",
      "c:\\repositories\\pipeline\\podpac\\podpac\\core\\coordinates\\array_coordinates1d.py:83: RuntimeWarning: invalid value encountered in less_equal\n",
      "  if np.any(deltas <= 0):\n",
      "c:\\repositories\\pipeline\\podpac\\podpac\\core\\coordinates\\dependent_coordinates.py:496: UserWarning: transformation of coordinate segment lengths not yet implemented\n",
      "  warnings.warn(\"transformation of coordinate segment lengths not yet implemented\")\n",
      "c:\\repositories\\pipeline\\podpac\\podpac\\core\\coordinates\\dependent_coordinates.py:498: UserWarning: transformation of coordinate segment lengths not yet implemented\n",
      "  warnings.warn(\"transformation of coordinate segment lengths not yet implemented\")\n",
      "c:\\repositories\\pipeline\\podpac\\podpac\\core\\cache\\ram_cache_store.py:88: UserWarning: Warning: Process is using more RAM than the specified limit in settings.RAM_CACHE_MAX_BYTES. No longer caching. Consider increasing this limit or try clearing the cache (e.g. podpac.utils.clear_cache(mode='RAM') to clear ALL cached results in RAM)\n",
      "  UserWarning,\n"
     ]
    },
    {
     "name": "stdout",
     "output_type": "stream",
     "text": [
      "PM_QF "
     ]
    },
    {
     "name": "stderr",
     "output_type": "stream",
     "text": [
      "c:\\repositories\\pipeline\\podpac\\podpac\\datalib\\smap_egi.py:204: RuntimeWarning: Mean of empty slice\n",
      "  lon = np.nanmean(lons, axis=0)\n",
      "c:\\repositories\\pipeline\\podpac\\podpac\\core\\coordinates\\array_coordinates1d.py:83: RuntimeWarning: invalid value encountered in less_equal\n",
      "  if np.any(deltas <= 0):\n",
      "c:\\repositories\\pipeline\\podpac\\podpac\\core\\coordinates\\dependent_coordinates.py:496: UserWarning: transformation of coordinate segment lengths not yet implemented\n",
      "  warnings.warn(\"transformation of coordinate segment lengths not yet implemented\")\n",
      "c:\\repositories\\pipeline\\podpac\\podpac\\core\\coordinates\\dependent_coordinates.py:498: UserWarning: transformation of coordinate segment lengths not yet implemented\n",
      "  warnings.warn(\"transformation of coordinate segment lengths not yet implemented\")\n",
      "c:\\repositories\\pipeline\\podpac\\podpac\\core\\cache\\ram_cache_store.py:88: UserWarning: Warning: Process is using more RAM than the specified limit in settings.RAM_CACHE_MAX_BYTES. No longer caching. Consider increasing this limit or try clearing the cache (e.g. podpac.utils.clear_cache(mode='RAM') to clear ALL cached results in RAM)\n",
      "  UserWarning,\n"
     ]
    },
    {
     "name": "stdout",
     "output_type": "stream",
     "text": [
      " ... Done.\n",
      "Updating S3 Zarr file for L3 Data.\n",
      "Updating S3 Zarr file for L3 Data.\n",
      "Download L3 Data for: UniformCoordinates1d(time): Bounds[2019-11-09T00:00:00.000000000, 2019-11-10T00:00:00.000000000], N[2], ctype['midpoint'] ...AM "
     ]
    },
    {
     "name": "stderr",
     "output_type": "stream",
     "text": [
      "c:\\repositories\\pipeline\\podpac\\podpac\\core\\coordinates\\dependent_coordinates.py:496: UserWarning: transformation of coordinate segment lengths not yet implemented\n",
      "  warnings.warn(\"transformation of coordinate segment lengths not yet implemented\")\n",
      "c:\\repositories\\pipeline\\podpac\\podpac\\core\\coordinates\\dependent_coordinates.py:498: UserWarning: transformation of coordinate segment lengths not yet implemented\n",
      "  warnings.warn(\"transformation of coordinate segment lengths not yet implemented\")\n",
      "c:\\repositories\\pipeline\\podpac\\podpac\\datalib\\smap_egi.py:204: RuntimeWarning: Mean of empty slice\n",
      "  lon = np.nanmean(lons, axis=0)\n",
      "c:\\repositories\\pipeline\\podpac\\podpac\\core\\coordinates\\array_coordinates1d.py:83: RuntimeWarning: invalid value encountered in less_equal\n",
      "  if np.any(deltas <= 0):\n",
      "c:\\repositories\\pipeline\\podpac\\podpac\\core\\coordinates\\dependent_coordinates.py:496: UserWarning: transformation of coordinate segment lengths not yet implemented\n",
      "  warnings.warn(\"transformation of coordinate segment lengths not yet implemented\")\n",
      "c:\\repositories\\pipeline\\podpac\\podpac\\core\\coordinates\\dependent_coordinates.py:498: UserWarning: transformation of coordinate segment lengths not yet implemented\n",
      "  warnings.warn(\"transformation of coordinate segment lengths not yet implemented\")\n",
      "c:\\repositories\\pipeline\\podpac\\podpac\\core\\cache\\ram_cache_store.py:88: UserWarning: Warning: Process is using more RAM than the specified limit in settings.RAM_CACHE_MAX_BYTES. No longer caching. Consider increasing this limit or try clearing the cache (e.g. podpac.utils.clear_cache(mode='RAM') to clear ALL cached results in RAM)\n",
      "  UserWarning,\n"
     ]
    },
    {
     "name": "stdout",
     "output_type": "stream",
     "text": [
      "AM_QF "
     ]
    },
    {
     "name": "stderr",
     "output_type": "stream",
     "text": [
      "c:\\repositories\\pipeline\\podpac\\podpac\\datalib\\smap_egi.py:204: RuntimeWarning: Mean of empty slice\n",
      "  lon = np.nanmean(lons, axis=0)\n",
      "c:\\repositories\\pipeline\\podpac\\podpac\\core\\coordinates\\array_coordinates1d.py:83: RuntimeWarning: invalid value encountered in less_equal\n",
      "  if np.any(deltas <= 0):\n",
      "c:\\repositories\\pipeline\\podpac\\podpac\\core\\coordinates\\dependent_coordinates.py:496: UserWarning: transformation of coordinate segment lengths not yet implemented\n",
      "  warnings.warn(\"transformation of coordinate segment lengths not yet implemented\")\n",
      "c:\\repositories\\pipeline\\podpac\\podpac\\core\\coordinates\\dependent_coordinates.py:498: UserWarning: transformation of coordinate segment lengths not yet implemented\n",
      "  warnings.warn(\"transformation of coordinate segment lengths not yet implemented\")\n",
      "c:\\repositories\\pipeline\\podpac\\podpac\\core\\cache\\ram_cache_store.py:88: UserWarning: Warning: Process is using more RAM than the specified limit in settings.RAM_CACHE_MAX_BYTES. No longer caching. Consider increasing this limit or try clearing the cache (e.g. podpac.utils.clear_cache(mode='RAM') to clear ALL cached results in RAM)\n",
      "  UserWarning,\n",
      "c:\\repositories\\pipeline\\podpac\\podpac\\core\\coordinates\\dependent_coordinates.py:496: UserWarning: transformation of coordinate segment lengths not yet implemented\n",
      "  warnings.warn(\"transformation of coordinate segment lengths not yet implemented\")\n",
      "c:\\repositories\\pipeline\\podpac\\podpac\\core\\coordinates\\dependent_coordinates.py:498: UserWarning: transformation of coordinate segment lengths not yet implemented\n",
      "  warnings.warn(\"transformation of coordinate segment lengths not yet implemented\")\n"
     ]
    },
    {
     "name": "stdout",
     "output_type": "stream",
     "text": [
      "PM "
     ]
    },
    {
     "name": "stderr",
     "output_type": "stream",
     "text": [
      "c:\\repositories\\pipeline\\podpac\\podpac\\datalib\\smap_egi.py:204: RuntimeWarning: Mean of empty slice\n",
      "  lon = np.nanmean(lons, axis=0)\n",
      "c:\\repositories\\pipeline\\podpac\\podpac\\core\\coordinates\\array_coordinates1d.py:83: RuntimeWarning: invalid value encountered in less_equal\n",
      "  if np.any(deltas <= 0):\n",
      "c:\\repositories\\pipeline\\podpac\\podpac\\core\\coordinates\\dependent_coordinates.py:496: UserWarning: transformation of coordinate segment lengths not yet implemented\n",
      "  warnings.warn(\"transformation of coordinate segment lengths not yet implemented\")\n",
      "c:\\repositories\\pipeline\\podpac\\podpac\\core\\coordinates\\dependent_coordinates.py:498: UserWarning: transformation of coordinate segment lengths not yet implemented\n",
      "  warnings.warn(\"transformation of coordinate segment lengths not yet implemented\")\n",
      "c:\\repositories\\pipeline\\podpac\\podpac\\core\\cache\\ram_cache_store.py:88: UserWarning: Warning: Process is using more RAM than the specified limit in settings.RAM_CACHE_MAX_BYTES. No longer caching. Consider increasing this limit or try clearing the cache (e.g. podpac.utils.clear_cache(mode='RAM') to clear ALL cached results in RAM)\n",
      "  UserWarning,\n"
     ]
    },
    {
     "name": "stdout",
     "output_type": "stream",
     "text": [
      "PM_QF "
     ]
    },
    {
     "name": "stderr",
     "output_type": "stream",
     "text": [
      "c:\\repositories\\pipeline\\podpac\\podpac\\datalib\\smap_egi.py:204: RuntimeWarning: Mean of empty slice\n",
      "  lon = np.nanmean(lons, axis=0)\n",
      "c:\\repositories\\pipeline\\podpac\\podpac\\core\\coordinates\\array_coordinates1d.py:83: RuntimeWarning: invalid value encountered in less_equal\n",
      "  if np.any(deltas <= 0):\n",
      "c:\\repositories\\pipeline\\podpac\\podpac\\core\\coordinates\\dependent_coordinates.py:496: UserWarning: transformation of coordinate segment lengths not yet implemented\n",
      "  warnings.warn(\"transformation of coordinate segment lengths not yet implemented\")\n",
      "c:\\repositories\\pipeline\\podpac\\podpac\\core\\coordinates\\dependent_coordinates.py:498: UserWarning: transformation of coordinate segment lengths not yet implemented\n",
      "  warnings.warn(\"transformation of coordinate segment lengths not yet implemented\")\n",
      "c:\\repositories\\pipeline\\podpac\\podpac\\core\\cache\\ram_cache_store.py:88: UserWarning: Warning: Process is using more RAM than the specified limit in settings.RAM_CACHE_MAX_BYTES. No longer caching. Consider increasing this limit or try clearing the cache (e.g. podpac.utils.clear_cache(mode='RAM') to clear ALL cached results in RAM)\n",
      "  UserWarning,\n"
     ]
    },
    {
     "name": "stdout",
     "output_type": "stream",
     "text": [
      " ... Done.\n",
      "Updating S3 Zarr file for L3 Data.\n",
      "Updating S3 Zarr file for L3 Data.\n",
      "Download L3 Data for: UniformCoordinates1d(time): Bounds[2019-11-11T00:00:00.000000000, 2019-11-12T00:00:00.000000000], N[2], ctype['midpoint'] ...AM "
     ]
    },
    {
     "name": "stderr",
     "output_type": "stream",
     "text": [
      "c:\\repositories\\pipeline\\podpac\\podpac\\core\\coordinates\\dependent_coordinates.py:496: UserWarning: transformation of coordinate segment lengths not yet implemented\n",
      "  warnings.warn(\"transformation of coordinate segment lengths not yet implemented\")\n",
      "c:\\repositories\\pipeline\\podpac\\podpac\\core\\coordinates\\dependent_coordinates.py:498: UserWarning: transformation of coordinate segment lengths not yet implemented\n",
      "  warnings.warn(\"transformation of coordinate segment lengths not yet implemented\")\n",
      "c:\\repositories\\pipeline\\podpac\\podpac\\datalib\\smap_egi.py:204: RuntimeWarning: Mean of empty slice\n",
      "  lon = np.nanmean(lons, axis=0)\n",
      "c:\\repositories\\pipeline\\podpac\\podpac\\core\\coordinates\\array_coordinates1d.py:83: RuntimeWarning: invalid value encountered in less_equal\n",
      "  if np.any(deltas <= 0):\n",
      "c:\\repositories\\pipeline\\podpac\\podpac\\core\\coordinates\\dependent_coordinates.py:496: UserWarning: transformation of coordinate segment lengths not yet implemented\n",
      "  warnings.warn(\"transformation of coordinate segment lengths not yet implemented\")\n",
      "c:\\repositories\\pipeline\\podpac\\podpac\\core\\coordinates\\dependent_coordinates.py:498: UserWarning: transformation of coordinate segment lengths not yet implemented\n",
      "  warnings.warn(\"transformation of coordinate segment lengths not yet implemented\")\n",
      "c:\\repositories\\pipeline\\podpac\\podpac\\core\\cache\\ram_cache_store.py:88: UserWarning: Warning: Process is using more RAM than the specified limit in settings.RAM_CACHE_MAX_BYTES. No longer caching. Consider increasing this limit or try clearing the cache (e.g. podpac.utils.clear_cache(mode='RAM') to clear ALL cached results in RAM)\n",
      "  UserWarning,\n"
     ]
    },
    {
     "name": "stdout",
     "output_type": "stream",
     "text": [
      "AM_QF "
     ]
    },
    {
     "name": "stderr",
     "output_type": "stream",
     "text": [
      "c:\\repositories\\pipeline\\podpac\\podpac\\datalib\\smap_egi.py:204: RuntimeWarning: Mean of empty slice\n",
      "  lon = np.nanmean(lons, axis=0)\n",
      "c:\\repositories\\pipeline\\podpac\\podpac\\core\\coordinates\\array_coordinates1d.py:83: RuntimeWarning: invalid value encountered in less_equal\n",
      "  if np.any(deltas <= 0):\n",
      "c:\\repositories\\pipeline\\podpac\\podpac\\core\\coordinates\\dependent_coordinates.py:496: UserWarning: transformation of coordinate segment lengths not yet implemented\n",
      "  warnings.warn(\"transformation of coordinate segment lengths not yet implemented\")\n",
      "c:\\repositories\\pipeline\\podpac\\podpac\\core\\coordinates\\dependent_coordinates.py:498: UserWarning: transformation of coordinate segment lengths not yet implemented\n",
      "  warnings.warn(\"transformation of coordinate segment lengths not yet implemented\")\n",
      "c:\\repositories\\pipeline\\podpac\\podpac\\core\\cache\\ram_cache_store.py:88: UserWarning: Warning: Process is using more RAM than the specified limit in settings.RAM_CACHE_MAX_BYTES. No longer caching. Consider increasing this limit or try clearing the cache (e.g. podpac.utils.clear_cache(mode='RAM') to clear ALL cached results in RAM)\n",
      "  UserWarning,\n",
      "c:\\repositories\\pipeline\\podpac\\podpac\\core\\coordinates\\dependent_coordinates.py:496: UserWarning: transformation of coordinate segment lengths not yet implemented\n",
      "  warnings.warn(\"transformation of coordinate segment lengths not yet implemented\")\n",
      "c:\\repositories\\pipeline\\podpac\\podpac\\core\\coordinates\\dependent_coordinates.py:498: UserWarning: transformation of coordinate segment lengths not yet implemented\n",
      "  warnings.warn(\"transformation of coordinate segment lengths not yet implemented\")\n"
     ]
    },
    {
     "name": "stdout",
     "output_type": "stream",
     "text": [
      "PM "
     ]
    },
    {
     "name": "stderr",
     "output_type": "stream",
     "text": [
      "c:\\repositories\\pipeline\\podpac\\podpac\\datalib\\smap_egi.py:204: RuntimeWarning: Mean of empty slice\n",
      "  lon = np.nanmean(lons, axis=0)\n",
      "c:\\repositories\\pipeline\\podpac\\podpac\\core\\coordinates\\array_coordinates1d.py:83: RuntimeWarning: invalid value encountered in less_equal\n",
      "  if np.any(deltas <= 0):\n",
      "c:\\repositories\\pipeline\\podpac\\podpac\\core\\coordinates\\dependent_coordinates.py:496: UserWarning: transformation of coordinate segment lengths not yet implemented\n",
      "  warnings.warn(\"transformation of coordinate segment lengths not yet implemented\")\n",
      "c:\\repositories\\pipeline\\podpac\\podpac\\core\\coordinates\\dependent_coordinates.py:498: UserWarning: transformation of coordinate segment lengths not yet implemented\n",
      "  warnings.warn(\"transformation of coordinate segment lengths not yet implemented\")\n",
      "c:\\repositories\\pipeline\\podpac\\podpac\\core\\cache\\ram_cache_store.py:88: UserWarning: Warning: Process is using more RAM than the specified limit in settings.RAM_CACHE_MAX_BYTES. No longer caching. Consider increasing this limit or try clearing the cache (e.g. podpac.utils.clear_cache(mode='RAM') to clear ALL cached results in RAM)\n",
      "  UserWarning,\n"
     ]
    },
    {
     "name": "stdout",
     "output_type": "stream",
     "text": [
      "PM_QF "
     ]
    },
    {
     "name": "stderr",
     "output_type": "stream",
     "text": [
      "c:\\repositories\\pipeline\\podpac\\podpac\\datalib\\smap_egi.py:204: RuntimeWarning: Mean of empty slice\n",
      "  lon = np.nanmean(lons, axis=0)\n",
      "c:\\repositories\\pipeline\\podpac\\podpac\\core\\coordinates\\array_coordinates1d.py:83: RuntimeWarning: invalid value encountered in less_equal\n",
      "  if np.any(deltas <= 0):\n",
      "c:\\repositories\\pipeline\\podpac\\podpac\\core\\coordinates\\dependent_coordinates.py:496: UserWarning: transformation of coordinate segment lengths not yet implemented\n",
      "  warnings.warn(\"transformation of coordinate segment lengths not yet implemented\")\n",
      "c:\\repositories\\pipeline\\podpac\\podpac\\core\\coordinates\\dependent_coordinates.py:498: UserWarning: transformation of coordinate segment lengths not yet implemented\n",
      "  warnings.warn(\"transformation of coordinate segment lengths not yet implemented\")\n",
      "c:\\repositories\\pipeline\\podpac\\podpac\\core\\cache\\ram_cache_store.py:88: UserWarning: Warning: Process is using more RAM than the specified limit in settings.RAM_CACHE_MAX_BYTES. No longer caching. Consider increasing this limit or try clearing the cache (e.g. podpac.utils.clear_cache(mode='RAM') to clear ALL cached results in RAM)\n",
      "  UserWarning,\n"
     ]
    },
    {
     "name": "stdout",
     "output_type": "stream",
     "text": [
      " ... Done.\n",
      "Updating S3 Zarr file for L3 Data.\n",
      "Updating S3 Zarr file for L3 Data.\n",
      "Download L3 Data for: UniformCoordinates1d(time): Bounds[2019-11-13T00:00:00.000000000, 2019-11-14T00:00:00.000000000], N[2], ctype['midpoint'] ...AM "
     ]
    },
    {
     "name": "stderr",
     "output_type": "stream",
     "text": [
      "c:\\repositories\\pipeline\\podpac\\podpac\\core\\coordinates\\dependent_coordinates.py:496: UserWarning: transformation of coordinate segment lengths not yet implemented\n",
      "  warnings.warn(\"transformation of coordinate segment lengths not yet implemented\")\n",
      "c:\\repositories\\pipeline\\podpac\\podpac\\core\\coordinates\\dependent_coordinates.py:498: UserWarning: transformation of coordinate segment lengths not yet implemented\n",
      "  warnings.warn(\"transformation of coordinate segment lengths not yet implemented\")\n",
      "c:\\repositories\\pipeline\\podpac\\podpac\\datalib\\smap_egi.py:204: RuntimeWarning: Mean of empty slice\n",
      "  lon = np.nanmean(lons, axis=0)\n",
      "c:\\repositories\\pipeline\\podpac\\podpac\\core\\coordinates\\array_coordinates1d.py:83: RuntimeWarning: invalid value encountered in less_equal\n",
      "  if np.any(deltas <= 0):\n",
      "c:\\repositories\\pipeline\\podpac\\podpac\\core\\coordinates\\dependent_coordinates.py:496: UserWarning: transformation of coordinate segment lengths not yet implemented\n",
      "  warnings.warn(\"transformation of coordinate segment lengths not yet implemented\")\n",
      "c:\\repositories\\pipeline\\podpac\\podpac\\core\\coordinates\\dependent_coordinates.py:498: UserWarning: transformation of coordinate segment lengths not yet implemented\n",
      "  warnings.warn(\"transformation of coordinate segment lengths not yet implemented\")\n",
      "c:\\repositories\\pipeline\\podpac\\podpac\\core\\cache\\ram_cache_store.py:88: UserWarning: Warning: Process is using more RAM than the specified limit in settings.RAM_CACHE_MAX_BYTES. No longer caching. Consider increasing this limit or try clearing the cache (e.g. podpac.utils.clear_cache(mode='RAM') to clear ALL cached results in RAM)\n",
      "  UserWarning,\n"
     ]
    },
    {
     "name": "stdout",
     "output_type": "stream",
     "text": [
      "AM_QF "
     ]
    },
    {
     "name": "stderr",
     "output_type": "stream",
     "text": [
      "c:\\repositories\\pipeline\\podpac\\podpac\\datalib\\smap_egi.py:204: RuntimeWarning: Mean of empty slice\n",
      "  lon = np.nanmean(lons, axis=0)\n",
      "c:\\repositories\\pipeline\\podpac\\podpac\\core\\coordinates\\array_coordinates1d.py:83: RuntimeWarning: invalid value encountered in less_equal\n",
      "  if np.any(deltas <= 0):\n",
      "c:\\repositories\\pipeline\\podpac\\podpac\\core\\coordinates\\dependent_coordinates.py:496: UserWarning: transformation of coordinate segment lengths not yet implemented\n",
      "  warnings.warn(\"transformation of coordinate segment lengths not yet implemented\")\n",
      "c:\\repositories\\pipeline\\podpac\\podpac\\core\\coordinates\\dependent_coordinates.py:498: UserWarning: transformation of coordinate segment lengths not yet implemented\n",
      "  warnings.warn(\"transformation of coordinate segment lengths not yet implemented\")\n",
      "c:\\repositories\\pipeline\\podpac\\podpac\\core\\cache\\ram_cache_store.py:88: UserWarning: Warning: Process is using more RAM than the specified limit in settings.RAM_CACHE_MAX_BYTES. No longer caching. Consider increasing this limit or try clearing the cache (e.g. podpac.utils.clear_cache(mode='RAM') to clear ALL cached results in RAM)\n",
      "  UserWarning,\n",
      "c:\\repositories\\pipeline\\podpac\\podpac\\core\\coordinates\\dependent_coordinates.py:496: UserWarning: transformation of coordinate segment lengths not yet implemented\n",
      "  warnings.warn(\"transformation of coordinate segment lengths not yet implemented\")\n",
      "c:\\repositories\\pipeline\\podpac\\podpac\\core\\coordinates\\dependent_coordinates.py:498: UserWarning: transformation of coordinate segment lengths not yet implemented\n",
      "  warnings.warn(\"transformation of coordinate segment lengths not yet implemented\")\n"
     ]
    },
    {
     "name": "stdout",
     "output_type": "stream",
     "text": [
      "PM "
     ]
    },
    {
     "name": "stderr",
     "output_type": "stream",
     "text": [
      "c:\\repositories\\pipeline\\podpac\\podpac\\datalib\\smap_egi.py:204: RuntimeWarning: Mean of empty slice\n",
      "  lon = np.nanmean(lons, axis=0)\n",
      "c:\\repositories\\pipeline\\podpac\\podpac\\core\\coordinates\\array_coordinates1d.py:83: RuntimeWarning: invalid value encountered in less_equal\n",
      "  if np.any(deltas <= 0):\n",
      "c:\\repositories\\pipeline\\podpac\\podpac\\core\\coordinates\\dependent_coordinates.py:496: UserWarning: transformation of coordinate segment lengths not yet implemented\n",
      "  warnings.warn(\"transformation of coordinate segment lengths not yet implemented\")\n",
      "c:\\repositories\\pipeline\\podpac\\podpac\\core\\coordinates\\dependent_coordinates.py:498: UserWarning: transformation of coordinate segment lengths not yet implemented\n",
      "  warnings.warn(\"transformation of coordinate segment lengths not yet implemented\")\n",
      "c:\\repositories\\pipeline\\podpac\\podpac\\core\\cache\\ram_cache_store.py:88: UserWarning: Warning: Process is using more RAM than the specified limit in settings.RAM_CACHE_MAX_BYTES. No longer caching. Consider increasing this limit or try clearing the cache (e.g. podpac.utils.clear_cache(mode='RAM') to clear ALL cached results in RAM)\n",
      "  UserWarning,\n"
     ]
    },
    {
     "name": "stdout",
     "output_type": "stream",
     "text": [
      "PM_QF "
     ]
    },
    {
     "name": "stderr",
     "output_type": "stream",
     "text": [
      "c:\\repositories\\pipeline\\podpac\\podpac\\datalib\\smap_egi.py:204: RuntimeWarning: Mean of empty slice\n",
      "  lon = np.nanmean(lons, axis=0)\n",
      "c:\\repositories\\pipeline\\podpac\\podpac\\core\\coordinates\\array_coordinates1d.py:83: RuntimeWarning: invalid value encountered in less_equal\n",
      "  if np.any(deltas <= 0):\n",
      "c:\\repositories\\pipeline\\podpac\\podpac\\core\\coordinates\\dependent_coordinates.py:496: UserWarning: transformation of coordinate segment lengths not yet implemented\n",
      "  warnings.warn(\"transformation of coordinate segment lengths not yet implemented\")\n",
      "c:\\repositories\\pipeline\\podpac\\podpac\\core\\coordinates\\dependent_coordinates.py:498: UserWarning: transformation of coordinate segment lengths not yet implemented\n",
      "  warnings.warn(\"transformation of coordinate segment lengths not yet implemented\")\n",
      "c:\\repositories\\pipeline\\podpac\\podpac\\core\\cache\\ram_cache_store.py:88: UserWarning: Warning: Process is using more RAM than the specified limit in settings.RAM_CACHE_MAX_BYTES. No longer caching. Consider increasing this limit or try clearing the cache (e.g. podpac.utils.clear_cache(mode='RAM') to clear ALL cached results in RAM)\n",
      "  UserWarning,\n"
     ]
    },
    {
     "name": "stdout",
     "output_type": "stream",
     "text": [
      " ... Done.\n",
      "Updating S3 Zarr file for L3 Data.\n",
      "Updating S3 Zarr file for L3 Data.\n",
      "Download L3 Data for: UniformCoordinates1d(time): Bounds[2019-11-15T00:00:00.000000000, 2019-11-16T00:00:00.000000000], N[2], ctype['midpoint'] ...AM "
     ]
    },
    {
     "name": "stderr",
     "output_type": "stream",
     "text": [
      "c:\\repositories\\pipeline\\podpac\\podpac\\core\\coordinates\\dependent_coordinates.py:496: UserWarning: transformation of coordinate segment lengths not yet implemented\n",
      "  warnings.warn(\"transformation of coordinate segment lengths not yet implemented\")\n",
      "c:\\repositories\\pipeline\\podpac\\podpac\\core\\coordinates\\dependent_coordinates.py:498: UserWarning: transformation of coordinate segment lengths not yet implemented\n",
      "  warnings.warn(\"transformation of coordinate segment lengths not yet implemented\")\n",
      "c:\\repositories\\pipeline\\podpac\\podpac\\datalib\\smap_egi.py:204: RuntimeWarning: Mean of empty slice\n",
      "  lon = np.nanmean(lons, axis=0)\n",
      "c:\\repositories\\pipeline\\podpac\\podpac\\core\\coordinates\\array_coordinates1d.py:83: RuntimeWarning: invalid value encountered in less_equal\n",
      "  if np.any(deltas <= 0):\n",
      "c:\\repositories\\pipeline\\podpac\\podpac\\core\\coordinates\\dependent_coordinates.py:496: UserWarning: transformation of coordinate segment lengths not yet implemented\n",
      "  warnings.warn(\"transformation of coordinate segment lengths not yet implemented\")\n",
      "c:\\repositories\\pipeline\\podpac\\podpac\\core\\coordinates\\dependent_coordinates.py:498: UserWarning: transformation of coordinate segment lengths not yet implemented\n",
      "  warnings.warn(\"transformation of coordinate segment lengths not yet implemented\")\n",
      "c:\\repositories\\pipeline\\podpac\\podpac\\core\\cache\\ram_cache_store.py:88: UserWarning: Warning: Process is using more RAM than the specified limit in settings.RAM_CACHE_MAX_BYTES. No longer caching. Consider increasing this limit or try clearing the cache (e.g. podpac.utils.clear_cache(mode='RAM') to clear ALL cached results in RAM)\n",
      "  UserWarning,\n"
     ]
    },
    {
     "name": "stdout",
     "output_type": "stream",
     "text": [
      "AM_QF "
     ]
    },
    {
     "name": "stderr",
     "output_type": "stream",
     "text": [
      "c:\\repositories\\pipeline\\podpac\\podpac\\datalib\\smap_egi.py:204: RuntimeWarning: Mean of empty slice\n",
      "  lon = np.nanmean(lons, axis=0)\n",
      "c:\\repositories\\pipeline\\podpac\\podpac\\core\\coordinates\\array_coordinates1d.py:83: RuntimeWarning: invalid value encountered in less_equal\n",
      "  if np.any(deltas <= 0):\n",
      "c:\\repositories\\pipeline\\podpac\\podpac\\core\\coordinates\\dependent_coordinates.py:496: UserWarning: transformation of coordinate segment lengths not yet implemented\n",
      "  warnings.warn(\"transformation of coordinate segment lengths not yet implemented\")\n",
      "c:\\repositories\\pipeline\\podpac\\podpac\\core\\coordinates\\dependent_coordinates.py:498: UserWarning: transformation of coordinate segment lengths not yet implemented\n",
      "  warnings.warn(\"transformation of coordinate segment lengths not yet implemented\")\n",
      "c:\\repositories\\pipeline\\podpac\\podpac\\core\\cache\\ram_cache_store.py:88: UserWarning: Warning: Process is using more RAM than the specified limit in settings.RAM_CACHE_MAX_BYTES. No longer caching. Consider increasing this limit or try clearing the cache (e.g. podpac.utils.clear_cache(mode='RAM') to clear ALL cached results in RAM)\n",
      "  UserWarning,\n",
      "c:\\repositories\\pipeline\\podpac\\podpac\\core\\coordinates\\dependent_coordinates.py:496: UserWarning: transformation of coordinate segment lengths not yet implemented\n",
      "  warnings.warn(\"transformation of coordinate segment lengths not yet implemented\")\n",
      "c:\\repositories\\pipeline\\podpac\\podpac\\core\\coordinates\\dependent_coordinates.py:498: UserWarning: transformation of coordinate segment lengths not yet implemented\n",
      "  warnings.warn(\"transformation of coordinate segment lengths not yet implemented\")\n"
     ]
    },
    {
     "name": "stdout",
     "output_type": "stream",
     "text": [
      "PM "
     ]
    },
    {
     "name": "stderr",
     "output_type": "stream",
     "text": [
      "c:\\repositories\\pipeline\\podpac\\podpac\\datalib\\smap_egi.py:204: RuntimeWarning: Mean of empty slice\n",
      "  lon = np.nanmean(lons, axis=0)\n",
      "c:\\repositories\\pipeline\\podpac\\podpac\\core\\coordinates\\array_coordinates1d.py:83: RuntimeWarning: invalid value encountered in less_equal\n",
      "  if np.any(deltas <= 0):\n",
      "c:\\repositories\\pipeline\\podpac\\podpac\\core\\coordinates\\dependent_coordinates.py:496: UserWarning: transformation of coordinate segment lengths not yet implemented\n",
      "  warnings.warn(\"transformation of coordinate segment lengths not yet implemented\")\n",
      "c:\\repositories\\pipeline\\podpac\\podpac\\core\\coordinates\\dependent_coordinates.py:498: UserWarning: transformation of coordinate segment lengths not yet implemented\n",
      "  warnings.warn(\"transformation of coordinate segment lengths not yet implemented\")\n",
      "c:\\repositories\\pipeline\\podpac\\podpac\\core\\cache\\ram_cache_store.py:88: UserWarning: Warning: Process is using more RAM than the specified limit in settings.RAM_CACHE_MAX_BYTES. No longer caching. Consider increasing this limit or try clearing the cache (e.g. podpac.utils.clear_cache(mode='RAM') to clear ALL cached results in RAM)\n",
      "  UserWarning,\n"
     ]
    },
    {
     "name": "stdout",
     "output_type": "stream",
     "text": [
      "PM_QF "
     ]
    },
    {
     "name": "stderr",
     "output_type": "stream",
     "text": [
      "c:\\repositories\\pipeline\\podpac\\podpac\\datalib\\smap_egi.py:204: RuntimeWarning: Mean of empty slice\n",
      "  lon = np.nanmean(lons, axis=0)\n",
      "c:\\repositories\\pipeline\\podpac\\podpac\\core\\coordinates\\array_coordinates1d.py:83: RuntimeWarning: invalid value encountered in less_equal\n",
      "  if np.any(deltas <= 0):\n",
      "c:\\repositories\\pipeline\\podpac\\podpac\\core\\coordinates\\dependent_coordinates.py:496: UserWarning: transformation of coordinate segment lengths not yet implemented\n",
      "  warnings.warn(\"transformation of coordinate segment lengths not yet implemented\")\n",
      "c:\\repositories\\pipeline\\podpac\\podpac\\core\\coordinates\\dependent_coordinates.py:498: UserWarning: transformation of coordinate segment lengths not yet implemented\n",
      "  warnings.warn(\"transformation of coordinate segment lengths not yet implemented\")\n",
      "c:\\repositories\\pipeline\\podpac\\podpac\\core\\cache\\ram_cache_store.py:88: UserWarning: Warning: Process is using more RAM than the specified limit in settings.RAM_CACHE_MAX_BYTES. No longer caching. Consider increasing this limit or try clearing the cache (e.g. podpac.utils.clear_cache(mode='RAM') to clear ALL cached results in RAM)\n",
      "  UserWarning,\n"
     ]
    },
    {
     "name": "stdout",
     "output_type": "stream",
     "text": [
      " ... Done.\n",
      "Updating S3 Zarr file for L3 Data.\n",
      "Updating S3 Zarr file for L3 Data.\n",
      "Download L3 Data for: UniformCoordinates1d(time): Bounds[2019-11-17T00:00:00.000000000, 2019-11-18T00:00:00.000000000], N[2], ctype['midpoint'] ...AM "
     ]
    },
    {
     "name": "stderr",
     "output_type": "stream",
     "text": [
      "c:\\repositories\\pipeline\\podpac\\podpac\\core\\coordinates\\dependent_coordinates.py:496: UserWarning: transformation of coordinate segment lengths not yet implemented\n",
      "  warnings.warn(\"transformation of coordinate segment lengths not yet implemented\")\n",
      "c:\\repositories\\pipeline\\podpac\\podpac\\core\\coordinates\\dependent_coordinates.py:498: UserWarning: transformation of coordinate segment lengths not yet implemented\n",
      "  warnings.warn(\"transformation of coordinate segment lengths not yet implemented\")\n",
      "c:\\repositories\\pipeline\\podpac\\podpac\\datalib\\smap_egi.py:204: RuntimeWarning: Mean of empty slice\n",
      "  lon = np.nanmean(lons, axis=0)\n",
      "c:\\repositories\\pipeline\\podpac\\podpac\\core\\coordinates\\array_coordinates1d.py:83: RuntimeWarning: invalid value encountered in less_equal\n",
      "  if np.any(deltas <= 0):\n",
      "c:\\repositories\\pipeline\\podpac\\podpac\\core\\coordinates\\dependent_coordinates.py:496: UserWarning: transformation of coordinate segment lengths not yet implemented\n",
      "  warnings.warn(\"transformation of coordinate segment lengths not yet implemented\")\n",
      "c:\\repositories\\pipeline\\podpac\\podpac\\core\\coordinates\\dependent_coordinates.py:498: UserWarning: transformation of coordinate segment lengths not yet implemented\n",
      "  warnings.warn(\"transformation of coordinate segment lengths not yet implemented\")\n",
      "c:\\repositories\\pipeline\\podpac\\podpac\\core\\cache\\ram_cache_store.py:88: UserWarning: Warning: Process is using more RAM than the specified limit in settings.RAM_CACHE_MAX_BYTES. No longer caching. Consider increasing this limit or try clearing the cache (e.g. podpac.utils.clear_cache(mode='RAM') to clear ALL cached results in RAM)\n",
      "  UserWarning,\n"
     ]
    },
    {
     "name": "stdout",
     "output_type": "stream",
     "text": [
      "AM_QF "
     ]
    },
    {
     "name": "stderr",
     "output_type": "stream",
     "text": [
      "c:\\repositories\\pipeline\\podpac\\podpac\\datalib\\smap_egi.py:204: RuntimeWarning: Mean of empty slice\n",
      "  lon = np.nanmean(lons, axis=0)\n",
      "c:\\repositories\\pipeline\\podpac\\podpac\\core\\coordinates\\array_coordinates1d.py:83: RuntimeWarning: invalid value encountered in less_equal\n",
      "  if np.any(deltas <= 0):\n",
      "c:\\repositories\\pipeline\\podpac\\podpac\\core\\coordinates\\dependent_coordinates.py:496: UserWarning: transformation of coordinate segment lengths not yet implemented\n",
      "  warnings.warn(\"transformation of coordinate segment lengths not yet implemented\")\n",
      "c:\\repositories\\pipeline\\podpac\\podpac\\core\\coordinates\\dependent_coordinates.py:498: UserWarning: transformation of coordinate segment lengths not yet implemented\n",
      "  warnings.warn(\"transformation of coordinate segment lengths not yet implemented\")\n",
      "c:\\repositories\\pipeline\\podpac\\podpac\\core\\cache\\ram_cache_store.py:88: UserWarning: Warning: Process is using more RAM than the specified limit in settings.RAM_CACHE_MAX_BYTES. No longer caching. Consider increasing this limit or try clearing the cache (e.g. podpac.utils.clear_cache(mode='RAM') to clear ALL cached results in RAM)\n",
      "  UserWarning,\n"
     ]
    },
    {
     "name": "stdout",
     "output_type": "stream",
     "text": [
      "PM "
     ]
    },
    {
     "name": "stderr",
     "output_type": "stream",
     "text": [
      "c:\\repositories\\pipeline\\podpac\\podpac\\core\\coordinates\\dependent_coordinates.py:496: UserWarning: transformation of coordinate segment lengths not yet implemented\n",
      "  warnings.warn(\"transformation of coordinate segment lengths not yet implemented\")\n",
      "c:\\repositories\\pipeline\\podpac\\podpac\\core\\coordinates\\dependent_coordinates.py:498: UserWarning: transformation of coordinate segment lengths not yet implemented\n",
      "  warnings.warn(\"transformation of coordinate segment lengths not yet implemented\")\n",
      "c:\\repositories\\pipeline\\podpac\\podpac\\datalib\\smap_egi.py:204: RuntimeWarning: Mean of empty slice\n",
      "  lon = np.nanmean(lons, axis=0)\n",
      "c:\\repositories\\pipeline\\podpac\\podpac\\core\\coordinates\\array_coordinates1d.py:83: RuntimeWarning: invalid value encountered in less_equal\n",
      "  if np.any(deltas <= 0):\n",
      "c:\\repositories\\pipeline\\podpac\\podpac\\core\\coordinates\\dependent_coordinates.py:496: UserWarning: transformation of coordinate segment lengths not yet implemented\n",
      "  warnings.warn(\"transformation of coordinate segment lengths not yet implemented\")\n",
      "c:\\repositories\\pipeline\\podpac\\podpac\\core\\coordinates\\dependent_coordinates.py:498: UserWarning: transformation of coordinate segment lengths not yet implemented\n",
      "  warnings.warn(\"transformation of coordinate segment lengths not yet implemented\")\n",
      "c:\\repositories\\pipeline\\podpac\\podpac\\core\\cache\\ram_cache_store.py:88: UserWarning: Warning: Process is using more RAM than the specified limit in settings.RAM_CACHE_MAX_BYTES. No longer caching. Consider increasing this limit or try clearing the cache (e.g. podpac.utils.clear_cache(mode='RAM') to clear ALL cached results in RAM)\n",
      "  UserWarning,\n"
     ]
    },
    {
     "name": "stdout",
     "output_type": "stream",
     "text": [
      "PM_QF "
     ]
    },
    {
     "name": "stderr",
     "output_type": "stream",
     "text": [
      "c:\\repositories\\pipeline\\podpac\\podpac\\datalib\\smap_egi.py:204: RuntimeWarning: Mean of empty slice\n",
      "  lon = np.nanmean(lons, axis=0)\n",
      "c:\\repositories\\pipeline\\podpac\\podpac\\core\\coordinates\\array_coordinates1d.py:83: RuntimeWarning: invalid value encountered in less_equal\n",
      "  if np.any(deltas <= 0):\n",
      "c:\\repositories\\pipeline\\podpac\\podpac\\core\\coordinates\\dependent_coordinates.py:496: UserWarning: transformation of coordinate segment lengths not yet implemented\n",
      "  warnings.warn(\"transformation of coordinate segment lengths not yet implemented\")\n",
      "c:\\repositories\\pipeline\\podpac\\podpac\\core\\coordinates\\dependent_coordinates.py:498: UserWarning: transformation of coordinate segment lengths not yet implemented\n",
      "  warnings.warn(\"transformation of coordinate segment lengths not yet implemented\")\n",
      "c:\\repositories\\pipeline\\podpac\\podpac\\core\\cache\\ram_cache_store.py:88: UserWarning: Warning: Process is using more RAM than the specified limit in settings.RAM_CACHE_MAX_BYTES. No longer caching. Consider increasing this limit or try clearing the cache (e.g. podpac.utils.clear_cache(mode='RAM') to clear ALL cached results in RAM)\n",
      "  UserWarning,\n"
     ]
    },
    {
     "name": "stdout",
     "output_type": "stream",
     "text": [
      " ... Done.\n",
      "Updating S3 Zarr file for L3 Data.\n",
      "Updating S3 Zarr file for L3 Data.\n",
      "Download L3 Data for: UniformCoordinates1d(time): Bounds[2019-11-19T00:00:00.000000000, 2019-11-20T00:00:00.000000000], N[2], ctype['midpoint'] ...AM "
     ]
    },
    {
     "name": "stderr",
     "output_type": "stream",
     "text": [
      "c:\\repositories\\pipeline\\podpac\\podpac\\core\\coordinates\\dependent_coordinates.py:496: UserWarning: transformation of coordinate segment lengths not yet implemented\n",
      "  warnings.warn(\"transformation of coordinate segment lengths not yet implemented\")\n",
      "c:\\repositories\\pipeline\\podpac\\podpac\\core\\coordinates\\dependent_coordinates.py:498: UserWarning: transformation of coordinate segment lengths not yet implemented\n",
      "  warnings.warn(\"transformation of coordinate segment lengths not yet implemented\")\n",
      "c:\\repositories\\pipeline\\podpac\\podpac\\datalib\\smap_egi.py:204: RuntimeWarning: Mean of empty slice\n",
      "  lon = np.nanmean(lons, axis=0)\n",
      "c:\\repositories\\pipeline\\podpac\\podpac\\core\\coordinates\\array_coordinates1d.py:83: RuntimeWarning: invalid value encountered in less_equal\n",
      "  if np.any(deltas <= 0):\n",
      "c:\\repositories\\pipeline\\podpac\\podpac\\core\\coordinates\\dependent_coordinates.py:496: UserWarning: transformation of coordinate segment lengths not yet implemented\n",
      "  warnings.warn(\"transformation of coordinate segment lengths not yet implemented\")\n",
      "c:\\repositories\\pipeline\\podpac\\podpac\\core\\coordinates\\dependent_coordinates.py:498: UserWarning: transformation of coordinate segment lengths not yet implemented\n",
      "  warnings.warn(\"transformation of coordinate segment lengths not yet implemented\")\n",
      "c:\\repositories\\pipeline\\podpac\\podpac\\core\\cache\\ram_cache_store.py:88: UserWarning: Warning: Process is using more RAM than the specified limit in settings.RAM_CACHE_MAX_BYTES. No longer caching. Consider increasing this limit or try clearing the cache (e.g. podpac.utils.clear_cache(mode='RAM') to clear ALL cached results in RAM)\n",
      "  UserWarning,\n"
     ]
    },
    {
     "name": "stdout",
     "output_type": "stream",
     "text": [
      "AM_QF "
     ]
    },
    {
     "name": "stderr",
     "output_type": "stream",
     "text": [
      "c:\\repositories\\pipeline\\podpac\\podpac\\datalib\\smap_egi.py:204: RuntimeWarning: Mean of empty slice\n",
      "  lon = np.nanmean(lons, axis=0)\n",
      "c:\\repositories\\pipeline\\podpac\\podpac\\core\\coordinates\\array_coordinates1d.py:83: RuntimeWarning: invalid value encountered in less_equal\n",
      "  if np.any(deltas <= 0):\n",
      "c:\\repositories\\pipeline\\podpac\\podpac\\core\\coordinates\\dependent_coordinates.py:496: UserWarning: transformation of coordinate segment lengths not yet implemented\n",
      "  warnings.warn(\"transformation of coordinate segment lengths not yet implemented\")\n",
      "c:\\repositories\\pipeline\\podpac\\podpac\\core\\coordinates\\dependent_coordinates.py:498: UserWarning: transformation of coordinate segment lengths not yet implemented\n",
      "  warnings.warn(\"transformation of coordinate segment lengths not yet implemented\")\n",
      "c:\\repositories\\pipeline\\podpac\\podpac\\core\\cache\\ram_cache_store.py:88: UserWarning: Warning: Process is using more RAM than the specified limit in settings.RAM_CACHE_MAX_BYTES. No longer caching. Consider increasing this limit or try clearing the cache (e.g. podpac.utils.clear_cache(mode='RAM') to clear ALL cached results in RAM)\n",
      "  UserWarning,\n",
      "c:\\repositories\\pipeline\\podpac\\podpac\\core\\coordinates\\dependent_coordinates.py:496: UserWarning: transformation of coordinate segment lengths not yet implemented\n",
      "  warnings.warn(\"transformation of coordinate segment lengths not yet implemented\")\n",
      "c:\\repositories\\pipeline\\podpac\\podpac\\core\\coordinates\\dependent_coordinates.py:498: UserWarning: transformation of coordinate segment lengths not yet implemented\n",
      "  warnings.warn(\"transformation of coordinate segment lengths not yet implemented\")\n"
     ]
    },
    {
     "name": "stdout",
     "output_type": "stream",
     "text": [
      "PM "
     ]
    },
    {
     "name": "stderr",
     "output_type": "stream",
     "text": [
      "c:\\repositories\\pipeline\\podpac\\podpac\\datalib\\smap_egi.py:204: RuntimeWarning: Mean of empty slice\n",
      "  lon = np.nanmean(lons, axis=0)\n",
      "c:\\repositories\\pipeline\\podpac\\podpac\\core\\coordinates\\array_coordinates1d.py:83: RuntimeWarning: invalid value encountered in less_equal\n",
      "  if np.any(deltas <= 0):\n",
      "c:\\repositories\\pipeline\\podpac\\podpac\\core\\coordinates\\dependent_coordinates.py:496: UserWarning: transformation of coordinate segment lengths not yet implemented\n",
      "  warnings.warn(\"transformation of coordinate segment lengths not yet implemented\")\n",
      "c:\\repositories\\pipeline\\podpac\\podpac\\core\\coordinates\\dependent_coordinates.py:498: UserWarning: transformation of coordinate segment lengths not yet implemented\n",
      "  warnings.warn(\"transformation of coordinate segment lengths not yet implemented\")\n",
      "c:\\repositories\\pipeline\\podpac\\podpac\\core\\cache\\ram_cache_store.py:88: UserWarning: Warning: Process is using more RAM than the specified limit in settings.RAM_CACHE_MAX_BYTES. No longer caching. Consider increasing this limit or try clearing the cache (e.g. podpac.utils.clear_cache(mode='RAM') to clear ALL cached results in RAM)\n",
      "  UserWarning,\n"
     ]
    },
    {
     "name": "stdout",
     "output_type": "stream",
     "text": [
      "PM_QF "
     ]
    },
    {
     "name": "stderr",
     "output_type": "stream",
     "text": [
      "c:\\repositories\\pipeline\\podpac\\podpac\\datalib\\smap_egi.py:204: RuntimeWarning: Mean of empty slice\n",
      "  lon = np.nanmean(lons, axis=0)\n",
      "c:\\repositories\\pipeline\\podpac\\podpac\\core\\coordinates\\array_coordinates1d.py:83: RuntimeWarning: invalid value encountered in less_equal\n",
      "  if np.any(deltas <= 0):\n",
      "c:\\repositories\\pipeline\\podpac\\podpac\\core\\coordinates\\dependent_coordinates.py:496: UserWarning: transformation of coordinate segment lengths not yet implemented\n",
      "  warnings.warn(\"transformation of coordinate segment lengths not yet implemented\")\n",
      "c:\\repositories\\pipeline\\podpac\\podpac\\core\\coordinates\\dependent_coordinates.py:498: UserWarning: transformation of coordinate segment lengths not yet implemented\n",
      "  warnings.warn(\"transformation of coordinate segment lengths not yet implemented\")\n",
      "c:\\repositories\\pipeline\\podpac\\podpac\\core\\cache\\ram_cache_store.py:88: UserWarning: Warning: Process is using more RAM than the specified limit in settings.RAM_CACHE_MAX_BYTES. No longer caching. Consider increasing this limit or try clearing the cache (e.g. podpac.utils.clear_cache(mode='RAM') to clear ALL cached results in RAM)\n",
      "  UserWarning,\n"
     ]
    },
    {
     "name": "stdout",
     "output_type": "stream",
     "text": [
      " ... Done.\n",
      "Updating S3 Zarr file for L3 Data.\n",
      "Updating S3 Zarr file for L3 Data.\n",
      "Download L3 Data for: UniformCoordinates1d(time): Bounds[2019-11-21T00:00:00.000000000, 2019-11-22T00:00:00.000000000], N[2], ctype['midpoint'] ...AM "
     ]
    },
    {
     "name": "stderr",
     "output_type": "stream",
     "text": [
      "c:\\repositories\\pipeline\\podpac\\podpac\\core\\coordinates\\dependent_coordinates.py:496: UserWarning: transformation of coordinate segment lengths not yet implemented\n",
      "  warnings.warn(\"transformation of coordinate segment lengths not yet implemented\")\n",
      "c:\\repositories\\pipeline\\podpac\\podpac\\core\\coordinates\\dependent_coordinates.py:498: UserWarning: transformation of coordinate segment lengths not yet implemented\n",
      "  warnings.warn(\"transformation of coordinate segment lengths not yet implemented\")\n",
      "c:\\repositories\\pipeline\\podpac\\podpac\\datalib\\smap_egi.py:204: RuntimeWarning: Mean of empty slice\n",
      "  lon = np.nanmean(lons, axis=0)\n",
      "c:\\repositories\\pipeline\\podpac\\podpac\\core\\coordinates\\array_coordinates1d.py:83: RuntimeWarning: invalid value encountered in less_equal\n",
      "  if np.any(deltas <= 0):\n",
      "c:\\repositories\\pipeline\\podpac\\podpac\\core\\coordinates\\dependent_coordinates.py:496: UserWarning: transformation of coordinate segment lengths not yet implemented\n",
      "  warnings.warn(\"transformation of coordinate segment lengths not yet implemented\")\n",
      "c:\\repositories\\pipeline\\podpac\\podpac\\core\\coordinates\\dependent_coordinates.py:498: UserWarning: transformation of coordinate segment lengths not yet implemented\n",
      "  warnings.warn(\"transformation of coordinate segment lengths not yet implemented\")\n",
      "c:\\repositories\\pipeline\\podpac\\podpac\\core\\cache\\ram_cache_store.py:88: UserWarning: Warning: Process is using more RAM than the specified limit in settings.RAM_CACHE_MAX_BYTES. No longer caching. Consider increasing this limit or try clearing the cache (e.g. podpac.utils.clear_cache(mode='RAM') to clear ALL cached results in RAM)\n",
      "  UserWarning,\n"
     ]
    },
    {
     "name": "stdout",
     "output_type": "stream",
     "text": [
      "AM_QF "
     ]
    },
    {
     "name": "stderr",
     "output_type": "stream",
     "text": [
      "c:\\repositories\\pipeline\\podpac\\podpac\\datalib\\smap_egi.py:204: RuntimeWarning: Mean of empty slice\n",
      "  lon = np.nanmean(lons, axis=0)\n",
      "c:\\repositories\\pipeline\\podpac\\podpac\\core\\coordinates\\array_coordinates1d.py:83: RuntimeWarning: invalid value encountered in less_equal\n",
      "  if np.any(deltas <= 0):\n",
      "c:\\repositories\\pipeline\\podpac\\podpac\\core\\coordinates\\dependent_coordinates.py:496: UserWarning: transformation of coordinate segment lengths not yet implemented\n",
      "  warnings.warn(\"transformation of coordinate segment lengths not yet implemented\")\n",
      "c:\\repositories\\pipeline\\podpac\\podpac\\core\\coordinates\\dependent_coordinates.py:498: UserWarning: transformation of coordinate segment lengths not yet implemented\n",
      "  warnings.warn(\"transformation of coordinate segment lengths not yet implemented\")\n",
      "c:\\repositories\\pipeline\\podpac\\podpac\\core\\cache\\ram_cache_store.py:88: UserWarning: Warning: Process is using more RAM than the specified limit in settings.RAM_CACHE_MAX_BYTES. No longer caching. Consider increasing this limit or try clearing the cache (e.g. podpac.utils.clear_cache(mode='RAM') to clear ALL cached results in RAM)\n",
      "  UserWarning,\n",
      "c:\\repositories\\pipeline\\podpac\\podpac\\core\\coordinates\\dependent_coordinates.py:496: UserWarning: transformation of coordinate segment lengths not yet implemented\n",
      "  warnings.warn(\"transformation of coordinate segment lengths not yet implemented\")\n",
      "c:\\repositories\\pipeline\\podpac\\podpac\\core\\coordinates\\dependent_coordinates.py:498: UserWarning: transformation of coordinate segment lengths not yet implemented\n",
      "  warnings.warn(\"transformation of coordinate segment lengths not yet implemented\")\n"
     ]
    },
    {
     "name": "stdout",
     "output_type": "stream",
     "text": [
      "PM "
     ]
    },
    {
     "name": "stderr",
     "output_type": "stream",
     "text": [
      "c:\\repositories\\pipeline\\podpac\\podpac\\datalib\\smap_egi.py:204: RuntimeWarning: Mean of empty slice\n",
      "  lon = np.nanmean(lons, axis=0)\n",
      "c:\\repositories\\pipeline\\podpac\\podpac\\core\\coordinates\\array_coordinates1d.py:83: RuntimeWarning: invalid value encountered in less_equal\n",
      "  if np.any(deltas <= 0):\n",
      "c:\\repositories\\pipeline\\podpac\\podpac\\core\\coordinates\\dependent_coordinates.py:496: UserWarning: transformation of coordinate segment lengths not yet implemented\n",
      "  warnings.warn(\"transformation of coordinate segment lengths not yet implemented\")\n",
      "c:\\repositories\\pipeline\\podpac\\podpac\\core\\coordinates\\dependent_coordinates.py:498: UserWarning: transformation of coordinate segment lengths not yet implemented\n",
      "  warnings.warn(\"transformation of coordinate segment lengths not yet implemented\")\n",
      "c:\\repositories\\pipeline\\podpac\\podpac\\core\\cache\\ram_cache_store.py:88: UserWarning: Warning: Process is using more RAM than the specified limit in settings.RAM_CACHE_MAX_BYTES. No longer caching. Consider increasing this limit or try clearing the cache (e.g. podpac.utils.clear_cache(mode='RAM') to clear ALL cached results in RAM)\n",
      "  UserWarning,\n"
     ]
    },
    {
     "name": "stdout",
     "output_type": "stream",
     "text": [
      "PM_QF "
     ]
    },
    {
     "name": "stderr",
     "output_type": "stream",
     "text": [
      "c:\\repositories\\pipeline\\podpac\\podpac\\datalib\\smap_egi.py:204: RuntimeWarning: Mean of empty slice\n",
      "  lon = np.nanmean(lons, axis=0)\n",
      "c:\\repositories\\pipeline\\podpac\\podpac\\core\\coordinates\\array_coordinates1d.py:83: RuntimeWarning: invalid value encountered in less_equal\n",
      "  if np.any(deltas <= 0):\n",
      "c:\\repositories\\pipeline\\podpac\\podpac\\core\\coordinates\\dependent_coordinates.py:496: UserWarning: transformation of coordinate segment lengths not yet implemented\n",
      "  warnings.warn(\"transformation of coordinate segment lengths not yet implemented\")\n",
      "c:\\repositories\\pipeline\\podpac\\podpac\\core\\coordinates\\dependent_coordinates.py:498: UserWarning: transformation of coordinate segment lengths not yet implemented\n",
      "  warnings.warn(\"transformation of coordinate segment lengths not yet implemented\")\n",
      "c:\\repositories\\pipeline\\podpac\\podpac\\core\\cache\\ram_cache_store.py:88: UserWarning: Warning: Process is using more RAM than the specified limit in settings.RAM_CACHE_MAX_BYTES. No longer caching. Consider increasing this limit or try clearing the cache (e.g. podpac.utils.clear_cache(mode='RAM') to clear ALL cached results in RAM)\n",
      "  UserWarning,\n"
     ]
    },
    {
     "name": "stdout",
     "output_type": "stream",
     "text": [
      " ... Done.\n",
      "Updating S3 Zarr file for L3 Data.\n",
      "Updating S3 Zarr file for L3 Data.\n",
      "Download L3 Data for: UniformCoordinates1d(time): Bounds[2019-11-23T00:00:00.000000000, 2019-11-24T00:00:00.000000000], N[2], ctype['midpoint'] ...AM "
     ]
    },
    {
     "name": "stderr",
     "output_type": "stream",
     "text": [
      "c:\\repositories\\pipeline\\podpac\\podpac\\core\\coordinates\\dependent_coordinates.py:496: UserWarning: transformation of coordinate segment lengths not yet implemented\n",
      "  warnings.warn(\"transformation of coordinate segment lengths not yet implemented\")\n",
      "c:\\repositories\\pipeline\\podpac\\podpac\\core\\coordinates\\dependent_coordinates.py:498: UserWarning: transformation of coordinate segment lengths not yet implemented\n",
      "  warnings.warn(\"transformation of coordinate segment lengths not yet implemented\")\n",
      "c:\\repositories\\pipeline\\podpac\\podpac\\datalib\\smap_egi.py:204: RuntimeWarning: Mean of empty slice\n",
      "  lon = np.nanmean(lons, axis=0)\n",
      "c:\\repositories\\pipeline\\podpac\\podpac\\core\\coordinates\\array_coordinates1d.py:83: RuntimeWarning: invalid value encountered in less_equal\n",
      "  if np.any(deltas <= 0):\n",
      "c:\\repositories\\pipeline\\podpac\\podpac\\core\\coordinates\\dependent_coordinates.py:496: UserWarning: transformation of coordinate segment lengths not yet implemented\n",
      "  warnings.warn(\"transformation of coordinate segment lengths not yet implemented\")\n",
      "c:\\repositories\\pipeline\\podpac\\podpac\\core\\coordinates\\dependent_coordinates.py:498: UserWarning: transformation of coordinate segment lengths not yet implemented\n",
      "  warnings.warn(\"transformation of coordinate segment lengths not yet implemented\")\n",
      "c:\\repositories\\pipeline\\podpac\\podpac\\core\\cache\\ram_cache_store.py:88: UserWarning: Warning: Process is using more RAM than the specified limit in settings.RAM_CACHE_MAX_BYTES. No longer caching. Consider increasing this limit or try clearing the cache (e.g. podpac.utils.clear_cache(mode='RAM') to clear ALL cached results in RAM)\n",
      "  UserWarning,\n"
     ]
    },
    {
     "name": "stdout",
     "output_type": "stream",
     "text": [
      "AM_QF "
     ]
    },
    {
     "name": "stderr",
     "output_type": "stream",
     "text": [
      "c:\\repositories\\pipeline\\podpac\\podpac\\datalib\\smap_egi.py:204: RuntimeWarning: Mean of empty slice\n",
      "  lon = np.nanmean(lons, axis=0)\n",
      "c:\\repositories\\pipeline\\podpac\\podpac\\core\\coordinates\\array_coordinates1d.py:83: RuntimeWarning: invalid value encountered in less_equal\n",
      "  if np.any(deltas <= 0):\n",
      "c:\\repositories\\pipeline\\podpac\\podpac\\core\\coordinates\\dependent_coordinates.py:496: UserWarning: transformation of coordinate segment lengths not yet implemented\n",
      "  warnings.warn(\"transformation of coordinate segment lengths not yet implemented\")\n",
      "c:\\repositories\\pipeline\\podpac\\podpac\\core\\coordinates\\dependent_coordinates.py:498: UserWarning: transformation of coordinate segment lengths not yet implemented\n",
      "  warnings.warn(\"transformation of coordinate segment lengths not yet implemented\")\n",
      "c:\\repositories\\pipeline\\podpac\\podpac\\core\\cache\\ram_cache_store.py:88: UserWarning: Warning: Process is using more RAM than the specified limit in settings.RAM_CACHE_MAX_BYTES. No longer caching. Consider increasing this limit or try clearing the cache (e.g. podpac.utils.clear_cache(mode='RAM') to clear ALL cached results in RAM)\n",
      "  UserWarning,\n",
      "c:\\repositories\\pipeline\\podpac\\podpac\\core\\coordinates\\dependent_coordinates.py:496: UserWarning: transformation of coordinate segment lengths not yet implemented\n",
      "  warnings.warn(\"transformation of coordinate segment lengths not yet implemented\")\n"
     ]
    },
    {
     "name": "stdout",
     "output_type": "stream",
     "text": [
      "PM "
     ]
    },
    {
     "name": "stderr",
     "output_type": "stream",
     "text": [
      "c:\\repositories\\pipeline\\podpac\\podpac\\core\\coordinates\\dependent_coordinates.py:498: UserWarning: transformation of coordinate segment lengths not yet implemented\n",
      "  warnings.warn(\"transformation of coordinate segment lengths not yet implemented\")\n",
      "c:\\repositories\\pipeline\\podpac\\podpac\\datalib\\smap_egi.py:204: RuntimeWarning: Mean of empty slice\n",
      "  lon = np.nanmean(lons, axis=0)\n",
      "c:\\repositories\\pipeline\\podpac\\podpac\\core\\coordinates\\array_coordinates1d.py:83: RuntimeWarning: invalid value encountered in less_equal\n",
      "  if np.any(deltas <= 0):\n",
      "c:\\repositories\\pipeline\\podpac\\podpac\\core\\coordinates\\dependent_coordinates.py:496: UserWarning: transformation of coordinate segment lengths not yet implemented\n",
      "  warnings.warn(\"transformation of coordinate segment lengths not yet implemented\")\n",
      "c:\\repositories\\pipeline\\podpac\\podpac\\core\\coordinates\\dependent_coordinates.py:498: UserWarning: transformation of coordinate segment lengths not yet implemented\n",
      "  warnings.warn(\"transformation of coordinate segment lengths not yet implemented\")\n",
      "c:\\repositories\\pipeline\\podpac\\podpac\\core\\cache\\ram_cache_store.py:88: UserWarning: Warning: Process is using more RAM than the specified limit in settings.RAM_CACHE_MAX_BYTES. No longer caching. Consider increasing this limit or try clearing the cache (e.g. podpac.utils.clear_cache(mode='RAM') to clear ALL cached results in RAM)\n",
      "  UserWarning,\n"
     ]
    },
    {
     "name": "stdout",
     "output_type": "stream",
     "text": [
      "PM_QF "
     ]
    },
    {
     "name": "stderr",
     "output_type": "stream",
     "text": [
      "c:\\repositories\\pipeline\\podpac\\podpac\\datalib\\smap_egi.py:204: RuntimeWarning: Mean of empty slice\n",
      "  lon = np.nanmean(lons, axis=0)\n",
      "c:\\repositories\\pipeline\\podpac\\podpac\\core\\coordinates\\array_coordinates1d.py:83: RuntimeWarning: invalid value encountered in less_equal\n",
      "  if np.any(deltas <= 0):\n",
      "c:\\repositories\\pipeline\\podpac\\podpac\\core\\coordinates\\dependent_coordinates.py:496: UserWarning: transformation of coordinate segment lengths not yet implemented\n",
      "  warnings.warn(\"transformation of coordinate segment lengths not yet implemented\")\n",
      "c:\\repositories\\pipeline\\podpac\\podpac\\core\\coordinates\\dependent_coordinates.py:498: UserWarning: transformation of coordinate segment lengths not yet implemented\n",
      "  warnings.warn(\"transformation of coordinate segment lengths not yet implemented\")\n",
      "c:\\repositories\\pipeline\\podpac\\podpac\\core\\cache\\ram_cache_store.py:88: UserWarning: Warning: Process is using more RAM than the specified limit in settings.RAM_CACHE_MAX_BYTES. No longer caching. Consider increasing this limit or try clearing the cache (e.g. podpac.utils.clear_cache(mode='RAM') to clear ALL cached results in RAM)\n",
      "  UserWarning,\n"
     ]
    },
    {
     "name": "stdout",
     "output_type": "stream",
     "text": [
      " ... Done.\n",
      "Updating S3 Zarr file for L3 Data.\n",
      "Updating S3 Zarr file for L3 Data.\n",
      "Download L3 Data for: UniformCoordinates1d(time): Bounds[2019-11-25T00:00:00.000000000, 2019-11-25T00:00:00.000000000], N[1], ctype['midpoint'] ...AM "
     ]
    },
    {
     "name": "stderr",
     "output_type": "stream",
     "text": [
      "c:\\repositories\\pipeline\\podpac\\podpac\\core\\coordinates\\dependent_coordinates.py:496: UserWarning: transformation of coordinate segment lengths not yet implemented\n",
      "  warnings.warn(\"transformation of coordinate segment lengths not yet implemented\")\n",
      "c:\\repositories\\pipeline\\podpac\\podpac\\core\\coordinates\\dependent_coordinates.py:498: UserWarning: transformation of coordinate segment lengths not yet implemented\n",
      "  warnings.warn(\"transformation of coordinate segment lengths not yet implemented\")\n"
     ]
    },
    {
     "name": "stdout",
     "output_type": "stream",
     "text": [
      "No Granules available: Failed to download data from EGI Interface. EGI Reponse: <?xml version=\"1.0\" encoding=\"UTF-8\" standalone=\"yes\"?>\n",
      "<eesi:Exception xsi:schemaLocation=\"http://eosdis.nasa.gov/esi/rsp/e https://newsroom.gsfc.nasa.gov/esi/8.1/schemas/ESIAgentResponseExternal.xsd\" xmlns=\"\" xmlns:iesi=\"http://eosdis.nasa.gov/esi/rsp/i\" xmlns:ssw=\"http://newsroom.gsfc.nasa.gov/esi/rsp/ssw\" xmlns:eesi=\"http://eosdis.nasa.gov/esi/rsp/e\" xmlns:esi=\"http://eosdis.nasa.gov/esi/rsp\" xmlns:xsi=\"http://www.w3.org/2001/XMLSchema-instance\">\n",
      "    <Code>InternalError</Code>\n",
      "    <Message>No granules returned by CMR: https://cmr.earthdata.nasa.gov/search/granules?provider=NSIDC_ECS&amp;page_num=1&amp;short_name=SPL3SMP_E&amp;version=003&amp;temporal=2019-11-25T00:00:00,2019-11-25T00:00:00&amp;token=C068ED4B-9C70-B9FA-9CF7-64E4A35346B0&amp;page_size=20</Message>\n",
      "</eesi:Exception>\n",
      "\n"
     ]
    }
   ],
   "source": [
    "for c in coords.iterchunks((2, ) + coords.shape[1:]): \n",
    "    print(\"Download L3 Data for:\", str(c['time']), '...', end='')\n",
    "    try: \n",
    "        # AM Data\n",
    "        print(\"AM\", end=' ')\n",
    "        smap = smap_egi.SMAP(product='SPL3SMP_E_AM', check_quality_flags=False)\n",
    "        l3_am = smap.eval(c)\n",
    "        smap.set_trait('data_key', smap.quality_flag_key)\n",
    "        print(\"AM_QF\", end=' ')\n",
    "        l3_am_qf = smap.eval(c)\n",
    "\n",
    "        # PM Data\n",
    "        print(\"PM\", end=' ')\n",
    "        smap = smap_egi.SMAP(product='SPL3SMP_E_PM', check_quality_flags=False)\n",
    "        l3_pm = smap.eval(c)\n",
    "        smap.set_trait('data_key', smap.quality_flag_key)\n",
    "        print(\"PM_QF\", end=' ')\n",
    "        l3_pm_qf = smap.eval(c)\n",
    "    except ValueError as e:\n",
    "        print(\"No Granules available:\", e)\n",
    "        continue\n",
    "    l3_am.set(-9999, np.isnan(l3_am))\n",
    "    l3_am_qf.set(-9999, np.isnan(l3_am_qf))\n",
    "    l3_pm.set(-9999, np.isnan(l3_pm))\n",
    "    l3_pm_qf.set(-9999, np.isnan(l3_pm_qf))    \n",
    "    \n",
    "    print(\" ... Done.\")\n",
    "    new_times = (c.coords['time'].data - time_base).astype('timedelta64[D]')\n",
    "    for i, nt in enumerate(new_times):\n",
    "        if np.any((smap_ds['time'][:] - nt).astype(int) >= 0) or np.all(np.isnan(l3_am)) or np.all(np.isnan(l3_pm)):\n",
    "            print('Time already exists, or is all nan -- skipping.')\n",
    "            continue\n",
    "\n",
    "        print(\"Updating S3 Zarr file for L3 Data.\")\n",
    "        old_time_shape = smap_ds['time'].shape\n",
    "        old_data_shape = smap_ds['Soil_Moisture_Retrieval_Data_AM_soil_moisture'].shape\n",
    "\n",
    "#         breaka\n",
    "\n",
    "        try:\n",
    "            # Update the zarr file\n",
    "            ## IMPORTANT ONLY EXECUTE THIS CELL ONCE!!!! ANY ERRORS? DO NOT EXECUTE THE SAME APPEND AGAIN!\n",
    "            smap_ds['time'].append(np.atleast_1d(nt))\n",
    "            smap_ds['Soil_Moisture_Retrieval_Data_AM_soil_moisture'].append(l3_am[i:i+1], axis=0)\n",
    "            smap_ds['Soil_Moisture_Retrieval_Data_AM_retrieval_qual_flag'].append(l3_am_qf[i:i+1], axis=0)\n",
    "            smap_ds['Soil_Moisture_Retrieval_Data_PM_soil_moisture_pm'].append(l3_pm[i:i+1], axis=0)\n",
    "            smap_ds['Soil_Moisture_Retrieval_Data_PM_retrieval_qual_flag_pm'].append(l3_pm_qf[i:i+1], axis=0)\n",
    "        except Exception as e:\n",
    "            print ('Updating L3 data failed:', e)\n",
    "            smap_ds['time'].resize(*old_time_shape)\n",
    "            smap_ds['Soil_Moisture_Retrieval_Data_AM_soil_moisture'].resize(*old_data_shape)\n",
    "            smap_ds['Soil_Moisture_Retrieval_Data_AM_retrieval_qual_flag'].resize(*old_data_shape)\n",
    "            smap_ds['Soil_Moisture_Retrieval_Data_PM_soil_moisture_pm'].resize(*old_data_shape)\n",
    "            smap_ds['Soil_Moisture_Retrieval_Data_PM_retrieval_qual_flag_pm'].resize(*old_data_shape)\n",
    "    \n",
    "    \n",
    "    "
   ]
  }
 ],
 "metadata": {
  "kernelspec": {
   "display_name": "Python [conda env:podpac] *",
   "language": "python",
   "name": "conda-env-podpac-py"
  },
  "language_info": {
   "codemirror_mode": {
    "name": "ipython",
    "version": 3
   },
   "file_extension": ".py",
   "mimetype": "text/x-python",
   "name": "python",
   "nbconvert_exporter": "python",
   "pygments_lexer": "ipython3",
   "version": "3.7.3"
  }
 },
 "nbformat": 4,
 "nbformat_minor": 4
}
