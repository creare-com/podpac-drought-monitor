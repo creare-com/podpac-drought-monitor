{
 "cells": [
  {
   "cell_type": "code",
   "execution_count": 1,
   "metadata": {},
   "outputs": [
    {
     "name": "stderr",
     "output_type": "stream",
     "text": [
      "C:\\Anaconda3\\envs\\podpac\\lib\\site-packages\\xarray\\core\\merge.py:17: FutureWarning: The Panel class is removed from pandas. Accessing it from the top-level namespace will also be removed in the next version\n",
      "  PANDAS_TYPES = (pd.Series, pd.DataFrame, pd.Panel)\n"
     ]
    }
   ],
   "source": [
    "import datetime\n",
    "import podpac\n",
    "from podpac.datalib import smap_egi\n",
    "import xarray as xr\n",
    "import zarr"
   ]
  },
  {
   "cell_type": "code",
   "execution_count": 2,
   "metadata": {},
   "outputs": [],
   "source": [
    "bucket = \"podpac-internal-test\"\n",
    "source = 's3://%s/%s' % (bucket, 'SPL3SMP_E.002_9km_aid0001.zarr')\n",
    "source2 = 's3://%s/%s' % (bucket, 'SPL4SMGP.004_9km_aid0001.zarr')\n",
    "\n",
    "kwargs = {'dims': ['time', 'lat', 'lon'], 'latkey': 'fakedim0', 'lonkey': 'fakedim1',\n",
    "          'cf_time': True, 'cf_calendar': 'proleptic_gregorian', 'cf_units': 'days since 2000-01-01',\n",
    "         'crs': 'epsg:6933', 'nan_vals': [-9999]}\n",
    "smap_zarr = podpac.data.Zarr(source=source, datakey='Soil_Moisture_Retrieval_Data_AM_soil_moisture', file_mode='a', **kwargs)\n",
    "smap_ds = smap_zarr.dataset\n",
    "\n",
    "smap_zarr_L4 = podpac.data.Zarr(source=source2, datakey='Geophysical_Data_sm_surface', file_mode='a', **kwargs)\n",
    "smap_ds_L4 = smap_zarr_L4.dataset"
   ]
  },
  {
   "cell_type": "code",
   "execution_count": 4,
   "metadata": {},
   "outputs": [
    {
     "data": {
      "text/plain": [
       "Coordinates (epsg:6933)\n",
       "\ttime: UniformCoordinates1d(time): Bounds[2019-06-20T00:00:00.000000000, 2019-11-22T00:00:00.000000000], N[156], ctype['midpoint']\n",
       "\tlat: ArrayCoordinates1d(lat): Bounds[2878072.923230057, 5589497.541484003], N[302], ctype['midpoint']\n",
       "\tlon: ArrayCoordinates1d(lon): Bounds[-12174386.616512204, -6436255.447649201], N[638], ctype['midpoint']"
      ]
     },
     "execution_count": 4,
     "metadata": {},
     "output_type": "execute_result"
    }
   ],
   "source": [
    "coords = smap_zarr.native_coordinates.drop('time')\n",
    "time = podpac.crange(smap_zarr.native_coordinates['time'].bounds[-1], str(datetime.date.today()), '1,D', 'time')\n",
    "coords = podpac.coordinates.merge_dims([podpac.Coordinates([time], crs=coords.crs), coords])\n",
    "coords"
   ]
  },
  {
   "cell_type": "code",
   "execution_count": 5,
   "metadata": {},
   "outputs": [
    {
     "data": {
      "text/plain": [
       "Coordinates (epsg:6933)\n",
       "\ttime: UniformCoordinates1d(time): Bounds[2019-07-10T00:00:00.000000000, 2019-11-22T00:00:00.000000000], N[136], ctype['midpoint']\n",
       "\tlat: ArrayCoordinates1d(lat): Bounds[2878072.923230057, 5589497.541484003], N[302], ctype['midpoint']\n",
       "\tlon: ArrayCoordinates1d(lon): Bounds[-12174386.616512204, -6436255.447649201], N[638], ctype['midpoint']"
      ]
     },
     "execution_count": 5,
     "metadata": {},
     "output_type": "execute_result"
    }
   ],
   "source": [
    "coords_l4 = smap_zarr_L4.native_coordinates.drop('time')\n",
    "time = podpac.crange(smap_zarr_L4.native_coordinates['time'].bounds[-1], str(datetime.date.today()), '1,D', 'time')\n",
    "coords_l4 = podpac.coordinates.merge_dims([podpac.Coordinates([time],  crs=coords_l4.crs), coords_l4])\n",
    "coords_l4"
   ]
  },
  {
   "cell_type": "code",
   "execution_count": null,
   "metadata": {},
   "outputs": [
    {
     "name": "stderr",
     "output_type": "stream",
     "text": [
      "c:\\repositories\\pipeline\\podpac\\podpac\\core\\coordinates\\dependent_coordinates.py:496: UserWarning: transformation of coordinate segment lengths not yet implemented\n",
      "  warnings.warn(\"transformation of coordinate segment lengths not yet implemented\")\n",
      "c:\\repositories\\pipeline\\podpac\\podpac\\core\\coordinates\\dependent_coordinates.py:498: UserWarning: transformation of coordinate segment lengths not yet implemented\n",
      "  warnings.warn(\"transformation of coordinate segment lengths not yet implemented\")\n"
     ]
    }
   ],
   "source": [
    "# Get all the new data\n",
    "# L4 data\n",
    "smap = smap_egi.SMAP(product='SPL4SMAU')\n",
    "l4 = smap.eval(coords_l4)\n",
    "\n",
    "# AM Data\n",
    "smap = smap_egi.SMAP(product='SPL3SMP_E_AM', check_quality_flags=False)\n",
    "l3_am = smap.eval(coords)\n",
    "smap.set_trait('data_key', smap.quality_flag_key)\n",
    "l3_am_qf = smap.eval(coords)\n",
    "\n",
    "# PM Data\n",
    "smap = smap_egi.SMAP(product='SPL3SMP_E_PM', check_quality_flags=False)\n",
    "l3_pm = smap.eval(coords)\n",
    "smap.set_trait('data_key', smap.quality_flag_key)\n",
    "l3_pm_qf = smap.eval(coords)\n",
    "\n"
   ]
  },
  {
   "cell_type": "code",
   "execution_count": null,
   "metadata": {},
   "outputs": [],
   "source": [
    "# replace_nans\n",
    "l4.set(-9999, np.isnan(l4))\n",
    "l3_am.set(-9999, np.isnan(l3_am))\n",
    "l3_am_qf.set(-9999, np.isnan(l3_am_qf))\n",
    "l3_pm.set(-9999, np.isnan(l3_pm))\n",
    "l3_pm_qf.set(-9999, np.isnan(l3_pm_qf))\n"
   ]
  },
  {
   "cell_type": "code",
   "execution_count": 18,
   "metadata": {},
   "outputs": [
    {
     "data": {
      "text/plain": [
       "array([7111], dtype='timedelta64[D]')"
      ]
     },
     "execution_count": 18,
     "metadata": {},
     "output_type": "execute_result"
    }
   ],
   "source": [
    "time_base = xr.coding.times.decode_cf_datetime(0, smap_ds['time'].attrs['units'])\n",
    "new_times = (coords.coords['time'].data - time_base).astype('timedelta64[D]')[1:]\n",
    "new_times"
   ]
  },
  {
   "cell_type": "code",
   "execution_count": 69,
   "metadata": {},
   "outputs": [
    {
     "data": {
      "text/plain": [
       "(112, 302, 638)"
      ]
     },
     "execution_count": 69,
     "metadata": {},
     "output_type": "execute_result"
    }
   ],
   "source": [
    "# Update the zarr file\n",
    "## IMPORTANT ONLY EXECUTE THIS CELL ONCE!!!! ANY ERRORS? DO NOT EXECUTE THE SAME APPEND AGAIN!\n",
    "smap_ds['time'].append(new_times)\n",
    "smap_ds['Soil_Moisture_Retrieval_Data_AM_soil_moisture'].append(l3_am[1:], axis=0)\n",
    "smap_ds['Soil_Moisture_Retrieval_Data_AM_retrieval_qual_flag'].append(l3_am_qf[1:], axis=0)\n",
    "smap_ds['Soil_Moisture_Retrieval_Data_PM_soil_moisture_pm'].append(l3_pm[1:], axis=0)\n",
    "smap_ds['Soil_Moisture_Retrieval_Data_PM_retrieval_qual_flag_pm'].append(l3_pm_qf[1:], axis=0)"
   ]
  },
  {
   "cell_type": "code",
   "execution_count": 23,
   "metadata": {},
   "outputs": [
    {
     "data": {
      "text/plain": [
       "array([7129, 7130], dtype='timedelta64[D]')"
      ]
     },
     "execution_count": 23,
     "metadata": {},
     "output_type": "execute_result"
    }
   ],
   "source": [
    "time_base = xr.coding.times.decode_cf_datetime(0, smap_ds_L4['time'].attrs['units'])\n",
    "new_times = (coords_l4.coords['time'].data - time_base).astype('timedelta64[D]')\n",
    "new_times"
   ]
  },
  {
   "cell_type": "code",
   "execution_count": 31,
   "metadata": {},
   "outputs": [
    {
     "data": {
      "text/plain": [
       "(127, 302, 638)"
      ]
     },
     "execution_count": 31,
     "metadata": {},
     "output_type": "execute_result"
    }
   ],
   "source": [
    "# Update the zarr file\n",
    "## IMPORTANT ONLY EXECUTE THIS CELL ONCE!!!! ANY ERRORS? DO NOT EXECUTE THE SAME APPEND AGAIN!\n",
    "smap_ds_L4['time'].append(new_times[1:])\n",
    "smap_ds_L4['Geophysical_Data_sm_surface'].append(l4[1:], axis=0"
   ]
  }
 ],
 "metadata": {
  "kernelspec": {
   "display_name": "Python [conda env:podpac] *",
   "language": "python",
   "name": "conda-env-podpac-py"
  },
  "language_info": {
   "codemirror_mode": {
    "name": "ipython",
    "version": 3
   },
   "file_extension": ".py",
   "mimetype": "text/x-python",
   "name": "python",
   "nbconvert_exporter": "python",
   "pygments_lexer": "ipython3",
   "version": "3.7.3"
  }
 },
 "nbformat": 4,
 "nbformat_minor": 4
}
