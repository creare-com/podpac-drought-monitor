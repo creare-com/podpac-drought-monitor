{
 "cells": [
  {
   "cell_type": "code",
   "execution_count": 1,
   "metadata": {},
   "outputs": [
    {
     "name": "stdout",
     "output_type": "stream",
     "text": [
      "Using matplotlib backend: Qt5Agg\n",
      "Populating the interactive namespace from numpy and matplotlib\n"
     ]
    }
   ],
   "source": [
    "%pylab"
   ]
  },
  {
   "cell_type": "code",
   "execution_count": 2,
   "metadata": {},
   "outputs": [
    {
     "name": "stderr",
     "output_type": "stream",
     "text": [
      "C:\\Anaconda3\\envs\\podpac\\lib\\site-packages\\xarray\\core\\merge.py:17: FutureWarning: The Panel class is removed from pandas. Accessing it from the top-level namespace will also be removed in the next version\n",
      "  PANDAS_TYPES = (pd.Series, pd.DataFrame, pd.Panel)\n"
     ]
    }
   ],
   "source": [
    "import podpac"
   ]
  },
  {
   "cell_type": "code",
   "execution_count": 3,
   "metadata": {},
   "outputs": [],
   "source": [
    "import h5py\n",
    "import xarray as xr\n",
    "import zarr as zr"
   ]
  },
  {
   "cell_type": "code",
   "execution_count": 35,
   "metadata": {},
   "outputs": [],
   "source": [
    "path = r\"\\\\Olympus\\Projects\\1010115-PIPELINE-II\\Technical Work\\FromMIT\\beta_params_moving.mat\"\n",
    "outpath = path.replace('.mat', '.zarr')"
   ]
  },
  {
   "cell_type": "code",
   "execution_count": 5,
   "metadata": {},
   "outputs": [],
   "source": [
    "categories = h5py.File(path)"
   ]
  },
  {
   "cell_type": "code",
   "execution_count": 6,
   "metadata": {},
   "outputs": [
    {
     "data": {
      "text/plain": [
       "<KeysViewHDF5 ['D', 'a', 'b', 'lat_region', 'lon_region']>"
      ]
     },
     "execution_count": 6,
     "metadata": {},
     "output_type": "execute_result"
    }
   ],
   "source": [
    "categories.keys()"
   ]
  },
  {
   "cell_type": "code",
   "execution_count": 7,
   "metadata": {},
   "outputs": [
    {
     "data": {
      "text/plain": [
       "(5, 365, 626, 276)"
      ]
     },
     "execution_count": 7,
     "metadata": {},
     "output_type": "execute_result"
    }
   ],
   "source": [
    "categories['D'].shape"
   ]
  },
  {
   "cell_type": "code",
   "execution_count": 8,
   "metadata": {},
   "outputs": [],
   "source": [
    "lat = categories['lat_region'][:]\n",
    "lon = categories['lon_region'][:]"
   ]
  },
  {
   "cell_type": "code",
   "execution_count": 9,
   "metadata": {},
   "outputs": [
    {
     "data": {
      "text/plain": [
       "<matplotlib.legend.Legend at 0x1e75f096860>"
      ]
     },
     "execution_count": 9,
     "metadata": {},
     "output_type": "execute_result"
    },
    {
     "data": {
      "image/png": "[encoded data removed]",
      "text/plain": [
       "<Figure size 432x288 with 1 Axes>"
      ]
     },
     "metadata": {
      "needs_background": "light"
     },
     "output_type": "display_data"
    }
   ],
   "source": [
    "plot(lat[0, :])\n",
    "plot(lon[:, 0])\n",
    "legend(['lat', 'lon'])"
   ]
  },
  {
   "cell_type": "code",
   "execution_count": 10,
   "metadata": {},
   "outputs": [
    {
     "data": {
      "text/plain": [
       "(365, 626, 276, 5)"
      ]
     },
     "execution_count": 10,
     "metadata": {},
     "output_type": "execute_result"
    }
   ],
   "source": [
    "D = np.moveaxis(categories['D'][:], 0, -1)\n",
    "D.shape"
   ]
  },
  {
   "cell_type": "code",
   "execution_count": 22,
   "metadata": {},
   "outputs": [
    {
     "data": {
      "text/plain": [
       "Coordinates (EPSG:4326)\n",
       "\ttime: UniformCoordinates1d(time): Bounds[2018-01-01, 2018-12-31], N[365], ctype['midpoint']\n",
       "\tlon: ArrayCoordinates1d(lon): Bounds[-126.3641128540039, -68.01348876953125], N[626], ctype['midpoint']\n",
       "\tlat: ArrayCoordinates1d(lat): Bounds[24.557823181152344, 48.84467697143555], N[276], ctype['midpoint']"
      ]
     },
     "execution_count": 22,
     "metadata": {},
     "output_type": "execute_result"
    }
   ],
   "source": [
    "native_coords = podpac.Coordinates([\n",
    "    podpac.crange('2018-01-01', '2018-12-31', '1,D'),\n",
    "    lon[:, 0], lat[0, :]],\n",
    "    ['time', 'lon', 'lat'])\n",
    "native_coords"
   ]
  },
  {
   "cell_type": "code",
   "execution_count": 23,
   "metadata": {},
   "outputs": [],
   "source": [
    "n = podpac.Node(outputs=['d0', 'd1', 'd2', 'd3', 'd4'])"
   ]
  },
  {
   "cell_type": "code",
   "execution_count": 24,
   "metadata": {},
   "outputs": [
    {
     "data": {
      "text/plain": [
       "<xarray.UnitsDataArray (time: 365, lon: 626, lat: 276, output: 5)>\n",
       "array([[[[nan, ..., nan],\n",
       "         ...,\n",
       "         [nan, ..., nan]],\n",
       "\n",
       "        ...,\n",
       "\n",
       "        [[nan, ..., nan],\n",
       "         ...,\n",
       "         [nan, ..., nan]]],\n",
       "\n",
       "\n",
       "       ...,\n",
       "\n",
       "\n",
       "       [[[nan, ..., nan],\n",
       "         ...,\n",
       "         [nan, ..., nan]],\n",
       "\n",
       "        ...,\n",
       "\n",
       "        [[nan, ..., nan],\n",
       "         ...,\n",
       "         [nan, ..., nan]]]])\n",
       "Coordinates:\n",
       "  * time     (time) datetime64[ns] 2018-01-01 2018-01-02 ... 2018-12-31\n",
       "  * lon      (lon) float64 -126.4 -126.3 -126.2 -126.1 ... -68.2 -68.11 -68.01\n",
       "  * lat      (lat) float64 48.84 48.74 48.63 48.53 ... 24.79 24.71 24.64 24.56\n",
       "  * output   (output) <U2 'd0' 'd1' 'd2' 'd3' 'd4'\n",
       "Attributes:\n",
       "    layer_style:  <podpac.core.style.Style object at 0x000001E80B079400>\n",
       "    crs:          EPSG:4326"
      ]
     },
     "execution_count": 24,
     "metadata": {},
     "output_type": "execute_result"
    }
   ],
   "source": [
    "o = n.create_output_array(native_coords, D)\n",
    "o"
   ]
  },
  {
   "cell_type": "code",
   "execution_count": 45,
   "metadata": {},
   "outputs": [],
   "source": [
    "oc = o.chunk((94, 64, 64))\n",
    "oc.serialize()"
   ]
  },
  {
   "cell_type": "code",
   "execution_count": 46,
   "metadata": {},
   "outputs": [
    {
     "data": {
      "text/plain": [
       "<xarray.Dataset>\n",
       "Dimensions:  (lat: 276, lon: 626, time: 365)\n",
       "Coordinates:\n",
       "  * time     (time) datetime64[ns] 2018-01-01 2018-01-02 ... 2018-12-31\n",
       "  * lon      (lon) float64 -126.4 -126.3 -126.2 -126.1 ... -68.2 -68.11 -68.01\n",
       "  * lat      (lat) float64 48.84 48.74 48.63 48.53 ... 24.79 24.71 24.64 24.56\n",
       "Data variables:\n",
       "    d0       (time, lon, lat) float64 dask.array<shape=(365, 626, 276), chunksize=(94, 64, 64)>\n",
       "    d1       (time, lon, lat) float64 dask.array<shape=(365, 626, 276), chunksize=(94, 64, 64)>\n",
       "    d2       (time, lon, lat) float64 dask.array<shape=(365, 626, 276), chunksize=(94, 64, 64)>\n",
       "    d3       (time, lon, lat) float64 dask.array<shape=(365, 626, 276), chunksize=(94, 64, 64)>\n",
       "    d4       (time, lon, lat) float64 dask.array<shape=(365, 626, 276), chunksize=(94, 64, 64)>\n",
       "Attributes:\n",
       "    layer_style:  {}\n",
       "    crs:          EPSG:4326"
      ]
     },
     "execution_count": 46,
     "metadata": {},
     "output_type": "execute_result"
    }
   ],
   "source": [
    "ds = oc.to_dataset(dim='output')\n",
    "ds"
   ]
  },
  {
   "cell_type": "code",
   "execution_count": 47,
   "metadata": {},
   "outputs": [
    {
     "data": {
      "text/plain": [
       "Frozen(SortedKeysDict({'time': (94, 94, 94, 83), 'lon': (64, 64, 64, 64, 64, 64, 64, 64, 64, 50), 'lat': (64, 64, 64, 64, 20)}))"
      ]
     },
     "execution_count": 47,
     "metadata": {},
     "output_type": "execute_result"
    }
   ],
   "source": [
    "ds.chunks"
   ]
  },
  {
   "cell_type": "code",
   "execution_count": 48,
   "metadata": {},
   "outputs": [
    {
     "name": "stderr",
     "output_type": "stream",
     "text": [
      "C:\\Anaconda3\\envs\\podpac\\lib\\site-packages\\xarray\\coding\\times.py:244: FutureWarning: the 'box' keyword is deprecated and will be removed in a future version. Please take steps to stop the use of 'box'\n",
      "  dates = pd.to_datetime(dates, box=False)\n"
     ]
    },
    {
     "data": {
      "text/plain": [
       "<xarray.backends.zarr.ZarrStore at 0x1e937fd6e48>"
      ]
     },
     "execution_count": 48,
     "metadata": {},
     "output_type": "execute_result"
    }
   ],
   "source": [
    "ds.to_zarr(outpath)"
   ]
  }
 ],
 "metadata": {
  "kernelspec": {
   "display_name": "Python [conda env:podpac] *",
   "language": "python",
   "name": "conda-env-podpac-py"
  },
  "language_info": {
   "codemirror_mode": {
    "name": "ipython",
    "version": 3
   },
   "file_extension": ".py",
   "mimetype": "text/x-python",
   "name": "python",
   "nbconvert_exporter": "python",
   "pygments_lexer": "ipython3",
   "version": "3.7.3"
  }
 },
 "nbformat": 4,
 "nbformat_minor": 4
}
