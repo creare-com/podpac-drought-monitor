{
 "cells": [
  {
   "cell_type": "code",
   "execution_count": 1,
   "metadata": {},
   "outputs": [],
   "source": [
    "import podpac\n",
    "import xarray as xr"
   ]
  },
  {
   "cell_type": "code",
   "execution_count": 2,
   "metadata": {},
   "outputs": [
    {
     "data": {
      "text/plain": [
       "<xarray.Dataset>\n",
       "Dimensions:                                                 (fakedim0: 302, fakedim1: 638, time: 111)\n",
       "Coordinates:\n",
       "  * time                                                    (time) object 2019-03-01 00:00:00 ... 2019-06-19 00:00:00\n",
       "  * fakedim0                                                (fakedim0) float64 5.589e+06 ... 2.878e+06\n",
       "  * fakedim1                                                (fakedim1) float64 -1.217e+07 ... -6.436e+06\n",
       "Data variables:\n",
       "    crs                                                     int8 ...\n",
       "    Soil_Moisture_Retrieval_Data_AM_retrieval_qual_flag     (time, fakedim0, fakedim1) float64 ...\n",
       "    Soil_Moisture_Retrieval_Data_AM_soil_moisture           (time, fakedim0, fakedim1) float32 ...\n",
       "    Soil_Moisture_Retrieval_Data_PM_retrieval_qual_flag_pm  (time, fakedim0, fakedim1) float64 ...\n",
       "    Soil_Moisture_Retrieval_Data_PM_soil_moisture_pm        (time, fakedim0, fakedim1) float32 ...\n",
       "Attributes:\n",
       "    title:        SPL3SMP_E.002 for aid0001\n",
       "    Conventions:  CF-1.6\n",
       "    institution:  Land Processes Distributed Active Archive Center (LP DAAC)\n",
       "    source:       AppEEARS v2.24\n",
       "    references:   See README.txt\n",
       "    history:      See README.txt"
      ]
     },
     "execution_count": 2,
     "metadata": {},
     "output_type": "execute_result"
    }
   ],
   "source": [
    "ds = xr.open_dataset('SPL3SMP_E.002_9km_aid0001.nc')\n",
    "ds"
   ]
  },
  {
   "cell_type": "code",
   "execution_count": 5,
   "metadata": {},
   "outputs": [],
   "source": [
    "a = ds.Soil_Moisture_Retrieval_Data_AM_soil_moisture"
   ]
  },
  {
   "cell_type": "code",
   "execution_count": 6,
   "metadata": {},
   "outputs": [
    {
     "data": {
      "text/plain": [
       "\u001b[1;31mSignature:\u001b[0m \u001b[0ma\u001b[0m\u001b[1;33m.\u001b[0m\u001b[0mchunk\u001b[0m\u001b[1;33m(\u001b[0m\u001b[0mchunks\u001b[0m\u001b[1;33m=\u001b[0m\u001b[1;32mNone\u001b[0m\u001b[1;33m,\u001b[0m \u001b[0mname_prefix\u001b[0m\u001b[1;33m=\u001b[0m\u001b[1;34m'xarray-'\u001b[0m\u001b[1;33m,\u001b[0m \u001b[0mtoken\u001b[0m\u001b[1;33m=\u001b[0m\u001b[1;32mNone\u001b[0m\u001b[1;33m,\u001b[0m \u001b[0mlock\u001b[0m\u001b[1;33m=\u001b[0m\u001b[1;32mFalse\u001b[0m\u001b[1;33m)\u001b[0m\u001b[1;33m\u001b[0m\u001b[1;33m\u001b[0m\u001b[0m\n",
       "\u001b[1;31mDocstring:\u001b[0m\n",
       "Coerce this array's data into a dask arrays with the given chunks.\n",
       "\n",
       "If this variable is a non-dask array, it will be converted to dask\n",
       "array. If it's a dask array, it will be rechunked to the given chunk\n",
       "sizes.\n",
       "\n",
       "If neither chunks is not provided for one or more dimensions, chunk\n",
       "sizes along that dimension will not be updated; non-dask arrays will be\n",
       "converted into dask arrays with a single block.\n",
       "\n",
       "Parameters\n",
       "----------\n",
       "chunks : int, tuple or dict, optional\n",
       "    Chunk sizes along each dimension, e.g., ``5``, ``(5, 5)`` or\n",
       "    ``{'x': 5, 'y': 5}``.\n",
       "name_prefix : str, optional\n",
       "    Prefix for the name of the new dask array.\n",
       "token : str, optional\n",
       "    Token uniquely identifying this array.\n",
       "lock : optional\n",
       "    Passed on to :py:func:`dask.array.from_array`, if the array is not\n",
       "    already as dask array.\n",
       "\n",
       "Returns\n",
       "-------\n",
       "chunked : xarray.DataArray\n",
       "\u001b[1;31mFile:\u001b[0m      c:\\creare_data\\podpac-1.0.0\\miniconda\\envs\\podpac\\lib\\site-packages\\xarray\\core\\dataarray.py\n",
       "\u001b[1;31mType:\u001b[0m      method\n"
      ]
     },
     "metadata": {},
     "output_type": "display_data"
    }
   ],
   "source": [
    "a.chunk?"
   ]
  },
  {
   "cell_type": "code",
   "execution_count": 21,
   "metadata": {},
   "outputs": [
    {
     "data": {
      "text/plain": [
       "<xarray.backends.zarr.ZarrStore at 0x1bec5a96e10>"
      ]
     },
     "execution_count": 21,
     "metadata": {},
     "output_type": "execute_result"
    }
   ],
   "source": [
    "ds.to_zarr('SPL3SMP_E.002_9km_aid0001.zarr')"
   ]
  },
  {
   "cell_type": "code",
   "execution_count": 2,
   "metadata": {},
   "outputs": [],
   "source": [
    "ds2 = xr.open_dataset(\"SPL4SMGP.004_9km_aid0001.nc\")\n",
    "# ds2.to_zarr(\"SPL4SMGP.004_9km_aid0001.zarr\")"
   ]
  },
  {
   "cell_type": "code",
   "execution_count": 124,
   "metadata": {},
   "outputs": [
    {
     "data": {
      "text/plain": [
       "<xarray.backends.zarr.ZarrStore at 0x1e059fd5e48>"
      ]
     },
     "execution_count": 124,
     "metadata": {},
     "output_type": "execute_result"
    }
   ],
   "source": [
    "ds2.to_zarr('SPL4SMGP.004_9km_aid0001.zarr')"
   ]
  },
  {
   "cell_type": "code",
   "execution_count": 5,
   "metadata": {},
   "outputs": [
    {
     "data": {
      "text/plain": [
       "<xarray.DataArray 'Geophysical_Data_sm_surface' (time: 126, fakedim0: 302, fakedim1: 638, day_period: 8)>\n",
       "[194217408 values with dtype=float32]\n",
       "Coordinates:\n",
       "  * time        (time) object 2019-03-01 00:00:00 ... 2019-07-09 00:00:00\n",
       "  * fakedim0    (fakedim0) float64 5.589e+06 5.58e+06 ... 2.887e+06 2.878e+06\n",
       "  * fakedim1    (fakedim1) float64 -1.217e+07 -1.217e+07 ... -6.436e+06\n",
       "  * day_period  (day_period) int32 0 1 2 3 4 5 6 7\n",
       "Attributes:\n",
       "    grid_mapping:      crs\n",
       "    valid_min:         0.0\n",
       "    valid_max:         0.9\n",
       "    long_name:         Top layer soil moisture (0-5 cm)\n",
       "    fmissing_value:    -9999.0\n",
       "    DIMENSION_LABELS:  y\\nx\n",
       "    units:             m3 m-3\n",
       "    origname:          sm_surface\n",
       "    fullnamepath:      /Geophysical_Data/sm_surface"
      ]
     },
     "execution_count": 5,
     "metadata": {},
     "output_type": "execute_result"
    }
   ],
   "source": [
    "a =ds2['Geophysical_Data_sm_surface']\n",
    "a"
   ]
  },
  {
   "cell_type": "code",
   "execution_count": 11,
   "metadata": {},
   "outputs": [],
   "source": [
    "b = a.sortby('time.day')"
   ]
  },
  {
   "cell_type": "code",
   "execution_count": 14,
   "metadata": {},
   "outputs": [],
   "source": [
    "r = b.rolling(time=4)"
   ]
  },
  {
   "cell_type": "code",
   "execution_count": 23,
   "metadata": {},
   "outputs": [],
   "source": [
    "for rr, rl in r:\n",
    "    pass"
   ]
  },
  {
   "cell_type": "code",
   "execution_count": 26,
   "metadata": {},
   "outputs": [
    {
     "data": {
      "text/plain": [
       "<xarray.DataArray 'time' (time: 4)>\n",
       "array([cftime.DatetimeJulian(2019, 5, 30, 0, 0, 0, 0, 2, 150),\n",
       "       cftime.DatetimeJulian(2019, 6, 30, 0, 0, 0, 0, 5, 181),\n",
       "       cftime.DatetimeJulian(2019, 3, 31, 0, 0, 0, 0, 5, 90),\n",
       "       cftime.DatetimeJulian(2019, 5, 31, 0, 0, 0, 0, 3, 151)], dtype=object)\n",
       "Coordinates:\n",
       "  * time     (time) object 2019-05-30 00:00:00 ... 2019-05-31 00:00:00\n",
       "Attributes:\n",
       "    standard_name:  time\n",
       "    axis:           T"
      ]
     },
     "execution_count": 26,
     "metadata": {},
     "output_type": "execute_result"
    }
   ],
   "source": [
    "rl.time"
   ]
  },
  {
   "cell_type": "code",
   "execution_count": null,
   "metadata": {},
   "outputs": [],
   "source": []
  }
 ],
 "metadata": {
  "kernelspec": {
   "display_name": "Python 3",
   "language": "python",
   "name": "python3"
  },
  "language_info": {
   "codemirror_mode": {
    "name": "ipython",
    "version": 3
   },
   "file_extension": ".py",
   "mimetype": "text/x-python",
   "name": "python",
   "nbconvert_exporter": "python",
   "pygments_lexer": "ipython3",
   "version": "3.7.3"
  }
 },
 "nbformat": 4,
 "nbformat_minor": 2
}
